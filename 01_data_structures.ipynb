{
 "cells": [
  {
   "attachments": {},
   "cell_type": "markdown",
   "metadata": {},
   "source": [
    "### list\n",
    "\n",
    "A `list` is the most versatile and popular data structure in Python which can be written as a list of comma-separated values (items) between square brackets.  \n",
    "\n",
    "A list is an ordered mutable collection of objects. Important thing about a list is that items in a list need not be of the same type. The internal structure of a list is an array (more precisely, a vector) of pointers, i.e. the list is a dynamic array."
   ]
  },
  {
   "cell_type": "code",
   "execution_count": null,
   "metadata": {},
   "outputs": [],
   "source": []
  },
  {
   "cell_type": "code",
   "execution_count": 150,
   "metadata": {},
   "outputs": [
    {
     "name": "stdout",
     "output_type": "stream",
     "text": [
      "List a: [10, 20, 50]\n",
      "List b: [30, 60, 40]\n",
      "Add: [10, 20, 50, 30, 60, 40]\n",
      "Reversed a: [40, 60, 30, 50, 20, 10]\n",
      "Reversed b: [10, 20, 50, 30, 60, 40]\n",
      "Sorted a: [10, 20, 30, 40, 50, 60]\n",
      "Sorted b: [10, 20, 30, 40, 50, 60]\n",
      "['T', 'h', 'i', 's', ' ', 'i', 's', ' ', 'a', ' ', 's', 't', 'r', 'i', 'n', 'g']\n",
      "['This', 'is', 'a', 'string']\n",
      "2\n",
      "['T', 'h', 's', ' ', 'i', 's', ' ', 'a', ' ', 't', 'r', 'i', 'n', 'g']\n",
      "s\n"
     ]
    }
   ],
   "source": [
    "a = [] # Create an empty list\n",
    "\n",
    "a: list[int] = [10, 20]\n",
    "b: list[int] = [30, 40]\n",
    "a.append(50) # Add a value at the end of the list\n",
    "b.insert(1, 60) # Insert value at specific index\n",
    "print(\"List a:\", a)\n",
    "print(\"List b:\", b)\n",
    "\n",
    "a += b\n",
    "print(f\"Add: {a}\")\n",
    "\n",
    "a.reverse()\n",
    "b = list(reversed(a))  # reversed() returns an iterator, not a list\n",
    "print(\"Reversed a:\", a)\n",
    "print(\"Reversed b:\", b)\n",
    "\n",
    "b = sorted(a) # Returns a new sorted list\n",
    "a.sort() # Modifies the original list and returns nothing\n",
    "print(\"Sorted a:\", a)\n",
    "print(\"Sorted b:\", b)\n",
    "\n",
    "s: str = \"This is a string\"\n",
    "list_of_chars: list = list(s)\n",
    "print(list_of_chars)\n",
    "list_of_words: list = s.split()\n",
    "print(list_of_words)\n",
    "\n",
    "i: int = list_of_chars.index(\"i\") # Returns the index of the first occurrence of the item searched for or throws a ValueError exception\n",
    "print(i)\n",
    "list_of_chars.remove(\"i\") # Removes the first occurrence of the searched element or throws a ValueError exception\n",
    "e = list_of_chars.pop(9) # Removes and returns the value located at the index. pop() (with no argument) will remove and return the last item in the list\n",
    "print(list_of_chars)\n",
    "print(e)\n",
    "a.clear() # Clear list"
   ]
  },
  {
   "attachments": {},
   "cell_type": "markdown",
   "metadata": {},
   "source": [
    "### tuple\n",
    "\n",
    "A `tuple` is also a list, only immutable and hashable. A tuple containing the same data as a list takes less space:"
   ]
  },
  {
   "cell_type": "code",
   "execution_count": 151,
   "metadata": {},
   "outputs": [
    {
     "name": "stdout",
     "output_type": "stream",
     "text": [
      "List: 88 bytes\n",
      "Tuple: 64 bytes\n"
     ]
    }
   ],
   "source": [
    "a = [2, 3, \"Some\", \"String\", 1.56e-22]\n",
    "b = (2, 3, \"Some\", \"String\", 1.56e-22)\n",
    "\n",
    "print(f\"List: {a.__sizeof__()} bytes\")\n",
    "print(f\"Tuple: {b.__sizeof__()} bytes\")"
   ]
  },
  {
   "attachments": {},
   "cell_type": "markdown",
   "metadata": {},
   "source": [
    "#### namedtuple\n",
    "\n",
    "According to the name, `namedtuple` has named fields."
   ]
  },
  {
   "cell_type": "code",
   "execution_count": 152,
   "metadata": {},
   "outputs": [
    {
     "name": "stdout",
     "output_type": "stream",
     "text": [
      "r: rectangle(length=1, width=2)\n",
      "r.lengt: 1\n",
      "r.width: 2\n",
      "r._fields: ('length', 'width')\n"
     ]
    }
   ],
   "source": [
    "from collections import namedtuple\n",
    "\n",
    "rectangle = namedtuple('rectangle', 'length width')\n",
    "r = rectangle(length = 1, width = 2)\n",
    "\n",
    "print(\"r:\", r)\n",
    "print(\"r.lengt:\", r.length)\n",
    "print(\"r.width:\", r.width)\n",
    "print(\"r._fields:\", r._fields)"
   ]
  },
  {
   "attachments": {},
   "cell_type": "markdown",
   "metadata": {},
   "source": [
    "### dict\n",
    "\n",
    "_Dictionary_ is the second most commonly used data structure in Python. The `dict` is an implementation of a hash table, so we cannot take a non-hashable object as a key, such as a list (this is where tuple comes in handy). The key of the dictionary can be any immutable object: number, string, datetime or even function. Such objects have a method `__hash__()`, which uniquely associates the object to a number. With this number the dictionary looks for the value of the key.\n",
    "\n",
    "Lists, dictionaries and sets (which we will consider below) are mutable and have no hash method; an attempt to substitute them into the dictionary will result in an error."
   ]
  }
 ],
 "metadata": {
  "kernelspec": {
   "display_name": "Python 3",
   "language": "python",
   "name": "python3"
  },
  "language_info": {
   "codemirror_mode": {
    "name": "ipython",
    "version": 3
   },
   "file_extension": ".py",
   "mimetype": "text/x-python",
   "name": "python",
   "nbconvert_exporter": "python",
   "pygments_lexer": "ipython3",
   "version": "3.11.1"
  },
  "orig_nbformat": 4
 },
 "nbformat": 4,
 "nbformat_minor": 2
}
