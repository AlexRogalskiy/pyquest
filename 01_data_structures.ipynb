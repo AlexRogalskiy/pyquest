{
 "cells": [
  {
   "attachments": {},
   "cell_type": "markdown",
   "metadata": {},
   "source": [
    "## Part I. Data Structures <a id=\"1-ds\"></a>"
   ]
  },
  {
   "cell_type": "markdown",
   "metadata": {},
   "source": [
    "### list\n",
    "\n",
    "A `list` is the most versatile and popular data structure in Python which can be written as a list of comma-separated values (items) between square brackets.  \n",
    "\n",
    "A list is an ordered mutable collection of objects. Important thing about a list is that items in a list need not be of the same type. The internal structure of a list is an array (more precisely, a vector) of pointers, i.e. the list is a dynamic array."
   ]
  },
  {
   "cell_type": "code",
   "execution_count": 333,
   "metadata": {},
   "outputs": [
    {
     "name": "stdout",
     "output_type": "stream",
     "text": [
      "List a: [10, 20, 50]\n",
      "List b: [30, 60, 40]\n",
      "Add: [10, 20, 50, 30, 60, 40]\n",
      "Reversed a: [40, 60, 30, 50, 20, 10]\n",
      "Reversed b: [10, 20, 50, 30, 60, 40]\n",
      "Sorted a: [10, 20, 30, 40, 50, 60]\n",
      "Sorted b: [10, 20, 30, 40, 50, 60]\n",
      "['T', 'h', 'i', 's', ' ', 'i', 's', ' ', 'a', ' ', 's', 't', 'r', 'i', 'n', 'g']\n",
      "['This', 'is', 'a', 'string']\n",
      "2\n",
      "['T', 'h', 's', ' ', 'i', 's', ' ', 'a', ' ', 't', 'r', 'i', 'n', 'g']\n",
      "s\n"
     ]
    }
   ],
   "source": [
    "a = [] # Create an empty list\n",
    "\n",
    "a: list[int] = [10, 20]\n",
    "b: list[int] = [30, 40]\n",
    "a.append(50) # Add a value at the end of the list\n",
    "b.insert(1, 60) # Insert value at specific index\n",
    "print(\"List a:\", a)\n",
    "print(\"List b:\", b)\n",
    "\n",
    "a += b\n",
    "print(f\"Add: {a}\")\n",
    "\n",
    "a.reverse()\n",
    "b = list(reversed(a))  # reversed() returns an iterator, not a list\n",
    "print(\"Reversed a:\", a)\n",
    "print(\"Reversed b:\", b)\n",
    "\n",
    "b = sorted(a) # Returns a new sorted list\n",
    "a.sort() # Modifies the original list and returns nothing\n",
    "print(\"Sorted a:\", a)\n",
    "print(\"Sorted b:\", b)\n",
    "\n",
    "s: str = \"This is a string\"\n",
    "list_of_chars: list = list(s)\n",
    "print(list_of_chars)\n",
    "list_of_words: list = s.split()\n",
    "print(list_of_words)\n",
    "\n",
    "i: int = list_of_chars.index(\"i\") # Returns the index of the first occurrence of the item searched for or throws a ValueError exception\n",
    "print(i)\n",
    "list_of_chars.remove(\"i\") # Removes the first occurrence of the searched element or throws a ValueError exception\n",
    "e = list_of_chars.pop(9) # Removes and returns the value located at the index. pop() (with no argument) will remove and return the last item in the list\n",
    "print(list_of_chars)\n",
    "print(e)\n",
    "a.clear() # Clear list"
   ]
  },
  {
   "cell_type": "markdown",
   "metadata": {},
   "source": [
    "### tuple\n",
    "\n",
    "A `tuple` is also a list, only immutable and hashable. A tuple containing the same data as a list takes less space:"
   ]
  },
  {
   "cell_type": "code",
   "execution_count": 334,
   "metadata": {},
   "outputs": [
    {
     "name": "stdout",
     "output_type": "stream",
     "text": [
      "List: 88 bytes\n",
      "Tuple: 64 bytes\n"
     ]
    }
   ],
   "source": [
    "a = [2, 3, \"Some\", \"String\", 1.56e-22]\n",
    "b = (2, 3, \"Some\", \"String\", 1.56e-22)\n",
    "\n",
    "print(f\"List: {a.__sizeof__()} bytes\")\n",
    "print(f\"Tuple: {b.__sizeof__()} bytes\")"
   ]
  },
  {
   "cell_type": "markdown",
   "metadata": {},
   "source": [
    "#### namedtuple\n",
    "\n",
    "According to the name, `namedtuple` has named fields."
   ]
  },
  {
   "cell_type": "code",
   "execution_count": 335,
   "metadata": {},
   "outputs": [
    {
     "name": "stdout",
     "output_type": "stream",
     "text": [
      "r: rectangle(length=1, width=2)\n",
      "r.lengt: 1\n",
      "r.width: 2\n",
      "r._fields: ('length', 'width')\n"
     ]
    }
   ],
   "source": [
    "from collections import namedtuple\n",
    "\n",
    "rectangle = namedtuple('rectangle', 'length width')\n",
    "r = rectangle(length = 1, width = 2)\n",
    "\n",
    "print(\"r:\", r)\n",
    "print(\"r.lengt:\", r.length)\n",
    "print(\"r.width:\", r.width)\n",
    "print(\"r._fields:\", r._fields)"
   ]
  },
  {
   "cell_type": "markdown",
   "metadata": {},
   "source": [
    "### dict\n",
    "\n",
    "_Dictionary_ is the second most commonly used data structure in Python. The `dict` is an implementation of a hash table, so we cannot take a non-hashable object as a key, such as a list (this is where tuple comes in handy). The key of the dictionary can be any immutable object: number, string, datetime or even function. Such objects have a method `__hash__()`, which uniquely associates the object to a number. With this number the dictionary looks for the value of the key.\n",
    "\n",
    "Lists, dictionaries and sets (which we will consider below) are mutable and have no hash method; an attempt to substitute them into the dictionary will result in an error."
   ]
  },
  {
   "cell_type": "code",
   "execution_count": 336,
   "metadata": {},
   "outputs": [
    {
     "name": "stdout",
     "output_type": "stream",
     "text": [
      "d: {'France': 'Croissant', 'Mexico': 'Taco', 'India': 'Naan'}\n",
      "d.keys(): dict_keys(['France', 'Mexico', 'India'])\n",
      "d.values(): dict_values(['Croissant', 'Taco', 'Naan'])\n",
      "d.items(): dict_items([('France', 'Croissant'), ('Mexico', 'Taco'), ('India', 'Naan')])\n",
      "Mapping: Croissant\n",
      "Replace item: {'France': 'Croissant', 'Mexico': 'Taco', 'India': 'Samosa'}\n",
      "Read item: Samosa\n",
      "Dictionary key doesn't exist\n",
      "dict comprehension: {'Mexico': 'Taco'}\n",
      "dict comprehension: {'France': 'Croissant', 'Mexico': 'Taco', 'India': 'Samosa'}\n"
     ]
    }
   ],
   "source": [
    "d = {} # Create an empty dictionary\n",
    "\n",
    "d: dict[str, str] = {\"France\": \"Croissant\", \"Mexico\": \"Taco\", \"India\": \"Naan\"} # Direct dictionary creation\n",
    "\n",
    "k = [\"France\", \"Mexico\", \"India\"]\n",
    "v = [\"Croissant\", \"Taco\", \"Naan\"]\n",
    "d = dict(zip(k, v))  # create a dictionary from two collections using zip()\n",
    "\n",
    "k = d.keys() # Key collection. Reflects changes in the main dictionary\n",
    "v = d.values() # Value collection. Also reflects changes in main dictionary\n",
    "k_v = d.items() # Key-value tuples, which also reflect changes in the main dictionary\n",
    "\n",
    "print(\"d:\", d)\n",
    "print(\"d.keys():\", k)\n",
    "print(\"d.values():\", v)\n",
    "print(\"d.items():\", k_v)\n",
    "\n",
    "print(f\"Mapping: {k.mapping['France']}\")\n",
    "\n",
    "d.update({\"India\": \"Samosa\"}) # Adding a value. If the key matches, the old value will be overwritten\n",
    "print(f\"Replace item: {d}\")\n",
    "\n",
    "c = d[\"India\"] # Read value\n",
    "print(f\"Read item: {c}\")\n",
    "\n",
    "try:\n",
    "    v = d.pop(\"Brazil\") # Delete value or raise KeyError exception\n",
    "except KeyError:\n",
    "    print(\"Dictionary key doesn't exist\")\n",
    "\n",
    "# Examples of dict comprehension (more on comprehension below)\n",
    "b = {k: v for k, v in d.items() if \"o\" in k}  # Will return a new dictionary, filtered by key value\n",
    "print(\"dict comprehension:\", b)\n",
    "\n",
    "c = {k: v for k, v in d.items() if len(v) >= 4} # Returns a new dictionary, filtered by value length\n",
    "print(\"dict comprehension:\", c)\n",
    "\n",
    "d.clear() # Clearing dictionary"
   ]
  },
  {
   "cell_type": "markdown",
   "metadata": {},
   "source": [
    "#### defaultdict\n",
    "\n",
    "If you try to read from the normal dictionary a value of a key that is not there, a KeyError exception will be thrown (exceptions will be discussed below). `defaultdict` allows you not to write an exception handler, but simply treats reading a non-existent key as a command to write to that key and return the default value; for example, `defaultdict(int)` will return `0`."
   ]
  },
  {
   "cell_type": "code",
   "execution_count": 337,
   "metadata": {},
   "outputs": [
    {
     "name": "stdout",
     "output_type": "stream",
     "text": [
      "dd[10]: 0\n",
      "dd[5]: five\n"
     ]
    }
   ],
   "source": [
    "from collections import defaultdict\n",
    "\n",
    "dd = defaultdict(int)\n",
    "print(\"dd[10]:\", dd[10]) # Print int, the default value: zero will be printed\n",
    "dd[5] = \"five\"\n",
    "print(\"dd[5]:\", dd[5])\n",
    "\n",
    "dd = {} # \"Regular\" empty dictionary\n",
    "# print(dd[10]) # will throw a KeyError exception"
   ]
  },
  {
   "cell_type": "markdown",
   "metadata": {},
   "source": [
    "#### OrderedDict\n",
    "\n",
    "Python includes a specialized dict subclass that remembers the insertion order of keys added to it: `OrderedDict`."
   ]
  },
  {
   "cell_type": "code",
   "execution_count": 338,
   "metadata": {},
   "outputs": [
    {
     "name": "stdout",
     "output_type": "stream",
     "text": [
      "od: OrderedDict([('one', 1), ('two', 2), ('three', 3)])\n",
      "one 1\n",
      "two 2\n",
      "three 3\n"
     ]
    }
   ],
   "source": [
    "from collections import OrderedDict\n",
    "\n",
    "od = OrderedDict(one=1, two=2, three=3)\n",
    "print(\"od:\", od)\n",
    "\n",
    "for k, v in od.items():\n",
    "    print(k, v)"
   ]
  },
  {
   "cell_type": "markdown",
   "metadata": {},
   "source": [
    "#### Counter\n",
    "\n",
    "The `Counter` counts the objects passed to it. Sometimes it is very convenient to just feed some list into the counter and immediately get the data structure with the counted elements."
   ]
  },
  {
   "cell_type": "code",
   "execution_count": 339,
   "metadata": {},
   "outputs": [
    {
     "name": "stdout",
     "output_type": "stream",
     "text": [
      "c: Counter({'38': 2, '40': 2, '36': 1, '39': 1, '42': 1})\n",
      "After shopping: Counter({'38': 2, '40': 2, '42': 2, '36': 1, '39': 1})\n"
     ]
    }
   ],
   "source": [
    "from collections import Counter\n",
    "\n",
    "shoes_sizes = [\"36\", \"38\", \"39\", \"38\", \"40\", \"40\", \"42\"]\n",
    "c = Counter(shoes_sizes)\n",
    "print(\"c:\", c)\n",
    "\n",
    "c[\"42\"] += 1\n",
    "print(f\"After shopping: {c}\")"
   ]
  },
  {
   "cell_type": "markdown",
   "metadata": {},
   "source": [
    "Explaining how `Counter()` works with `defaultdict()`:"
   ]
  },
  {
   "cell_type": "code",
   "execution_count": 340,
   "metadata": {},
   "outputs": [
    {
     "name": "stdout",
     "output_type": "stream",
     "text": [
      "d: defaultdict(<class 'int'>, {'red': 1, 'white': 3, 'blue': 1, 'black': 2})\n"
     ]
    }
   ],
   "source": [
    "from collections import defaultdict\n",
    "\n",
    "shirts_colors = [\"red\", \"white\", \"blue\", \"white\", \"white\", \"black\", \"black\"]\n",
    "\n",
    "d = defaultdict(int)\n",
    "for shirt in shirts_colors:\n",
    "    d[shirt] += 1\n",
    "\n",
    "print(\"d:\", d)"
   ]
  },
  {
   "cell_type": "markdown",
   "metadata": {},
   "source": [
    "#### Hash calculation problem\n",
    "\n",
    "Any hash table, including a Python dictionary, must be able to solve the hash calculation problem. For this purpose the **open addressing** or **chaining** techniques are used. Python [uses](https://stackoverflow.com/questions/9010222/why-can-a-python-dict-have-multiple-keys-with-the-same-hash) open addressing.\n",
    "\n",
    "The new dictionary is initialized with 8 empty slots.\n",
    "The interpreter first tries to add the new entry at an address that depends on the hash of the key.\n",
    "\n",
    "```python\n",
    "addr = hash(key) & mask,\n",
    "```\n",
    "where\n",
    "```python\n",
    "mask = PyDictMINSIZE - 1\n",
    "```\n",
    "\n",
    "If this address is busy, the interpreter checks (with `==`) the hash and the key. If both match, then the record already exists. Then it starts probing for free slots, which is done in pseudo-random order (the order depends on the key value). A new record will be added to the first free address.\n",
    "\n",
    "Reading from the dictionary is done similarly, the interpreter starts searching from `addr` position and follows the same pseudo-random path until it reads the desired record."
   ]
  },
  {
   "cell_type": "markdown",
   "metadata": {},
   "source": [
    "### set\n",
    "\n",
    "The third most common Python data structure. Sets were formerly somewhat reduced dictionaries, but over time their implementations began to diverge. However, a `set` is still a hash table with appropriate performance on different types of operations."
   ]
  },
  {
   "cell_type": "code",
   "execution_count": 341,
   "metadata": {},
   "outputs": [
    {
     "name": "stdout",
     "output_type": "stream",
     "text": [
      "big_cities: {'Berlin', 'Barcelona', 'Tokyo', 'Paris'}\n",
      "european_cities: {'Lisbon', 'Madrid', 'Paris', 'Rome', 'Berlin'}\n",
      "union_cities: {'Madrid', 'Paris', 'Berlin', 'Barcelona', 'Lisbon', 'Tokyo', 'Rome'}\n",
      "intersected_cities: {'Berlin', 'Paris'}\n",
      "dif_cities: {'Barcelona', 'Tokyo'}\n",
      "symdif_cities: {'Lisbon', 'Tokyo', 'Madrid', 'Rome', 'Barcelona'}\n",
      "issub: True\n",
      "issuper: False\n"
     ]
    }
   ],
   "source": [
    "big_cities: set[\"str\"] = {\"Paris\", \"Berlin\", \"Tokyo\"}\n",
    "european_cities: set[\"str\"] = {\"Paris\", \"Berlin\", \"Madrid\"}\n",
    "\n",
    "big_cities |= {\"Barcelona\"} # add value (or add())\n",
    "european_cities |= {\"Lisbon\", \"Rome\"} # Add sets (or update())\n",
    "\n",
    "print(\"big_cities:\", big_cities)\n",
    "print(\"european_cities:\", european_cities)\n",
    "\n",
    "union_cities: set[\"str\"] = big_cities | european_cities # Or union()\n",
    "intersected_cities: set[\"str\"] = big_cities & european_cities # Or intersection()\n",
    "dif_cities: set[\"str\"] = big_cities - european_cities # Or difference()\n",
    "symdif_cities: set[\"str\"] = big_cities ^ european_cities # Or symmetric_difference()\n",
    "\n",
    "issub: bool = big_cities <= union_cities # Or issubset()\n",
    "issuper: bool = european_cities >= dif_cities # Or issuperset()\n",
    "\n",
    "print(\"union_cities:\", union_cities)\n",
    "print(\"intersected_cities:\", intersected_cities)\n",
    "print(\"dif_cities:\", dif_cities)\n",
    "print(\"symdif_cities:\", symdif_cities)\n",
    "\n",
    "print(\"issub:\", issub)\n",
    "print(\"issuper:\", issuper)\n",
    "\n",
    "big_cities.add(\"Moscow\")\n",
    "\n",
    "big_cities.remove(\"Paris\") # Deletes value if present or throws KeyError\n",
    "big_cities.discard(\"Berlin\") # Deletes value without throwing KeyError\n",
    "big_cities.pop() # Returns and deletes a random value (order in set undefined) or discards KeyError\n",
    "big_cities.clear() # Clears the set"
   ]
  },
  {
   "cell_type": "markdown",
   "metadata": {},
   "source": [
    "#### frozenset\n",
    "\n",
    "`frozenset` is the same set, only immutable and hashable. Reminds of the difference between a list and a tuple."
   ]
  },
  {
   "cell_type": "code",
   "execution_count": 342,
   "metadata": {},
   "outputs": [
    {
     "name": "stdout",
     "output_type": "stream",
     "text": [
      "a: frozenset({'Los Angeles', 'Ottawa', 'New-York'})\n"
     ]
    }
   ],
   "source": [
    "a = frozenset({\"New-York\", \"Los Angeles\", \"Ottawa\"})\n",
    "print(\"a:\", a)"
   ]
  },
  {
   "cell_type": "markdown",
   "metadata": {},
   "source": [
    "### array\n",
    "\n",
    "An `array` in Python is not the default data structure of choice and is only used when structure size and processing speed become crucial. But, on the other hand, if you are looking at `NumPy` and `Pandas` (a bit below), arrays are your go to.\n",
    "\n",
    "An array stores variables of a certain type, so unlike a list, it doesn't require you to create a new object for each new variable and wins over a list in size and access speed. You could say it's a thin wrapper over C arrays.\n",
    "\n",
    "You should distinguish between an `array` (\"simple\" array), `bytes` (an immutable array containing only bytes, the legacy str of Python 2), and `bytearray` (a mutable byte array)."
   ]
  },
  {
   "cell_type": "code",
   "execution_count": 343,
   "metadata": {},
   "outputs": [
    {
     "name": "stdout",
     "output_type": "stream",
     "text": [
      "a1: array('l', [1, 2, 3, -4])\n",
      "a2[0]: 49\n",
      "b: b'1234567890'\n",
      "a1.index(-4): 3\n"
     ]
    }
   ],
   "source": [
    "from array import array\n",
    "\n",
    "a1 = array(\"l\", [1, 2, 3, -4])\n",
    "a2 = array(\"b\", b\"1234567890\")\n",
    "b = bytes(a2)\n",
    "\n",
    "print(\"a1:\", a1)\n",
    "print(\"a2[0]:\", a2[0])\n",
    "print(\"b:\", b)\n",
    "\n",
    "print(\"a1.index(-4):\", a1.index(-4)) # Returns the index of the elements or throws a ValueError"
   ]
  },
  {
   "cell_type": "markdown",
   "metadata": {},
   "source": [
    "#### bytes"
   ]
  },
  {
   "cell_type": "code",
   "execution_count": 344,
   "metadata": {},
   "outputs": [
    {
     "name": "stdout",
     "output_type": "stream",
     "text": [
      "b1: b'\\x05\\n\\x0f\\x14'\n",
      "b2: b'The Bytes'\n",
      "b3: b'\\x00\\xf0\\xff\\xff'\n",
      "b4: b'\\xde\\xad\\xbe\\xef'\n",
      "b5: b'\\n\\r\\x10\\x13\\x16\\x19\\x1c\\x1f\"%'\n",
      "c: [1, 2, 3, 4, 5, 6]\n",
      "s: The Bytes\n",
      "b: 252\n",
      "s2: fc 00 00 00 00 01\n",
      "b6: b'\\x05\\n\\x0f\\x14'\n"
     ]
    }
   ],
   "source": [
    "# Creation\n",
    "b1 = bytes([5, 10, 15, 20]) # Integers must be between 0 and 255\n",
    "b2 = \"The Bytes\".encode('utf-8')\n",
    "b3 = (-4096).to_bytes(4, byteorder='little', signed=True) # byteorder = \"big\"/\"little\"/\"sys.byteorder\", signed = False/True\n",
    "b4 = bytes.fromhex('DEADBEEF') # Hex values can be separated by spaces for readability\n",
    "b5 = bytes(range(10,40,3))\n",
    "\n",
    "print(\"b1:\", b1)\n",
    "print(\"b2:\", b2)\n",
    "print(\"b3:\", b3)\n",
    "print(\"b4:\", b4)\n",
    "print(\"b5:\", b5)\n",
    "\n",
    "# Transformation\n",
    "c: list = list(b\"\\x01\\x02\\x03\\x04\\x05\\x06\")\n",
    "s: str = b'The Bytes'.decode(\"utf-8\")\n",
    "b: int = int.from_bytes(b\"\\xfc\\x00\", byteorder='little', signed=False) # byteorder = \"big\"/\"little\"/\"sys.byteorder\", signed = False/True\n",
    "s2: str = b\"\\xfc\\x00\\x00\\x00\\x00\\x01\".hex(\" \")\n",
    "\n",
    "print(\"c:\", c)\n",
    "print(\"s:\", s)\n",
    "print(\"b:\", b)\n",
    "print(\"s2:\", s2)\n",
    "\n",
    "with open(\"bytes.bin\", \"wb\") as file: # Write byte to file\n",
    "     file.write(b1)\n",
    "\n",
    "with open(\"bytes.bin\", \"rb\") as file: # Read from file\n",
    "     b6 = file.read()\n",
    "\n",
    "print(\"b6:\", b6)\n"
   ]
  },
  {
   "cell_type": "markdown",
   "metadata": {},
   "source": [
    "#### bytearray"
   ]
  },
  {
   "cell_type": "code",
   "execution_count": 345,
   "metadata": {},
   "outputs": [
    {
     "name": "stdout",
     "output_type": "stream",
     "text": [
      "ba1: bytearray(b'\\x01\\x02\\x03\\x04')\n",
      "ba2: bytearray(b'The Bytes')\n",
      "ba1: bytearray(b'\\x05\\x02\\x03\\x04')\n",
      "ba2: bytearray(b'The Bytes!\\x05\\n\\x0f\\x14')\n",
      "ba3: bytearray(b'\\n\\r\\x10\\x13\\x16\\x19\\x1c\\x1f\"%')\n",
      "b7: b'\\n\\r\\x10\\x13\\x16\\x19\\x1c\\x1f\"%'\n"
     ]
    }
   ],
   "source": [
    "# Creation\n",
    "ba1 = bytearray([1, 2, 3, 4])  # Create a bytearray from a list of integers\n",
    "b2 = \"The Bytes\".encode('utf-8')\n",
    "ba2 = bytearray(b2)  # Create a bytearray from a bytes object\n",
    "\n",
    "print(\"ba1:\", ba1)\n",
    "print(\"ba2:\", ba2)\n",
    "\n",
    "# Modification\n",
    "ba1[0] = 5  # Modify an element in the bytearray\n",
    "ba2.append(33)  # Append an integer to the bytearray\n",
    "ba2.extend(b1)  # Extend the bytearray with another bytes object\n",
    "\n",
    "print(\"ba1:\", ba1)\n",
    "print(\"ba2:\", ba2)\n",
    "\n",
    "# Transformation\n",
    "ba3 = bytearray(b5)  # Create a bytearray from a bytes object (b5)\n",
    "b7 = bytes(ba3)  # Convert the bytearray back to a bytes object\n",
    "\n",
    "print(\"ba3:\", ba3)\n",
    "print(\"b7:\", b7)"
   ]
  },
  {
   "cell_type": "markdown",
   "metadata": {},
   "source": [
    "### deque\n",
    "\n",
    "The `deque` class implements a double-ended queue that supports adding and removing elements from either end in _O_(1) time (non-amortized). Because deques support adding and removing elements from either end equally well, they can serve both as queues and as stacks.\n",
    "\n",
    "Python’s `deque` objects are implemented as doubly-linked lists. This gives them excellent and consistent performance for inserting and deleting elements, but poor _O_(_n_) performance for randomly accessing elements in the middle of the stack."
   ]
  },
  {
   "cell_type": "code",
   "execution_count": 346,
   "metadata": {},
   "outputs": [
    {
     "name": "stdout",
     "output_type": "stream",
     "text": [
      "d: deque([-2, -1, 0, 1, 2, 3, 4, 5, 6, 7], maxlen=1000)\n",
      "a: 7\n",
      "b: -2\n",
      "d: deque([-1, 0, 1, 2, 3, 4, 5, 6], maxlen=1000)\n"
     ]
    }
   ],
   "source": [
    "from collections import deque\n",
    "d = deque([1, 2, 3, 4], maxlen=1000)\n",
    "\n",
    "d.append(5)  # Add element to the right side of the deque\n",
    "d.appendleft(0)  # Add element to the left side of the deque by appending elements from iterable\n",
    "\n",
    "d.extend([6, 7])  # Extend the right side of the deque\n",
    "d.extendleft([-1, -2])  # Extend the left side of the deque\n",
    "print(\"d:\", d)\n",
    "\n",
    "a = d.pop()  # Remove and return an element from the right side of the deque. Can raise an IndexError\n",
    "b = d.popleft()  # Remove and return an element from the left side of the deque. Can raise an IndexError\n",
    "print(\"a:\", a)\n",
    "print(\"b:\", b)\n",
    "print(\"d:\", d)"
   ]
  },
  {
   "cell_type": "markdown",
   "metadata": {},
   "source": [
    "### Queue\n",
    "\n",
    "`Queue` implements FIFO with multiple data providers and multiple consumers. It can be particularly useful for multithreading, allowing information to be exchanged correctly between threads. \n",
    "There is also `LifoQueueue` to implement LIFO and `PriorityQueueue` to implement priority queue."
   ]
  },
  {
   "cell_type": "code",
   "execution_count": 347,
   "metadata": {},
   "outputs": [
    {
     "name": "stdout",
     "output_type": "stream",
     "text": [
      "q.queue: deque(['eat', 'sleep', 'code', 'repeat'])\n",
      "a: eat\n",
      "b: sleep\n",
      "c: code\n",
      "q.queue: deque(['repeat'])\n"
     ]
    }
   ],
   "source": [
    "from queue import Queue\n",
    "\n",
    "q = Queue(maxsize=1000)\n",
    "\n",
    "q.put(\"eat\", block=True, timeout=10)\n",
    "q.put(\"sleep\") # By default block=True, timeout=None\n",
    "q.put(\"code\")\n",
    "q.put_nowait(\"repeat\") # Equivalent to put(\"repeat\", block=False). If a free slot is not immediately available, a queue.Full exception will be thrown\n",
    "print(\"q.queue:\", q.queue)\n",
    "\n",
    "a = q.get(block=True, timeout=10) # Remove and return element from FIFO\n",
    "b = q.get() # By default block=True, timeout=None\n",
    "c = q.get_nowait() # Equivalent to get(False)\n",
    "print(\"a:\", a)\n",
    "print(\"b:\", b)\n",
    "print(\"c:\", c)\n",
    "print(\"q.queue:\", q.queue)"
   ]
  },
  {
   "attachments": {},
   "cell_type": "markdown",
   "metadata": {},
   "source": [
    "#### LifoQueue\n",
    "\n",
    "`LifoQueue` stores and retrieves elements in a last-in, first-out (LIFO) order. This means that the last element added to the queue will be the first one retrieved from it. LifoQueue is also sometimes called a \"stack\" because it behaves like a stack data structure."
   ]
  },
  {
   "cell_type": "code",
   "execution_count": 348,
   "metadata": {},
   "outputs": [
    {
     "name": "stdout",
     "output_type": "stream",
     "text": [
      "3\n",
      "2\n",
      "1\n"
     ]
    }
   ],
   "source": [
    "from queue import LifoQueue\n",
    "\n",
    "q = LifoQueue()\n",
    "\n",
    "q.put(1)  # add an item to the top of the stack\n",
    "q.put(2)  # add another item to the top of the stack\n",
    "q.put(3)  # add yet another item to the top of the stack\n",
    "\n",
    "print(q.get())  # get the last item that was added to the stack (3)\n",
    "print(q.get())  # get the next-to-last item that was added to the stack (2)\n",
    "print(q.get())  # get the first item that was added to the stack (1)"
   ]
  },
  {
   "attachments": {},
   "cell_type": "markdown",
   "metadata": {},
   "source": [
    "#### PriorityQueue\n",
    "\n",
    "`PriorityQueue` allows elements to be retrieved in order of priority. When you add an element to a PriorityQueue, you assign it a priority value. The PriorityQueue uses this priority value to determine the order in which elements are retrieved. The element with the highest priority will be the first one retrieved from the queue. PriorityQueue is also sometimes called a \"heap\" because it is implemented using a heap data structure."
   ]
  },
  {
   "cell_type": "code",
   "execution_count": 349,
   "metadata": {},
   "outputs": [
    {
     "name": "stdout",
     "output_type": "stream",
     "text": [
      "Low Priority\n",
      "Medium Priority\n",
      "High Priority\n"
     ]
    }
   ],
   "source": [
    "from queue import PriorityQueue\n",
    "\n",
    "q = PriorityQueue()\n",
    "\n",
    "q.put((3, \"High Priority\"))  # add an item with priority 3\n",
    "q.put((1, \"Low Priority\"))  # add an item with priority 1\n",
    "q.put((2, \"Medium Priority\"))  # add an item with priority 2\n",
    "\n",
    "print(q.get()[1])  # get the item with lowest priority (priority 1)\n",
    "print(q.get()[1])  # get the next item with the second lowest priority (priority 2)\n",
    "print(q.get()[1])  # get the item with highest priority (priority 3)"
   ]
  },
  {
   "attachments": {},
   "cell_type": "markdown",
   "metadata": {},
   "source": [
    "### heap\n",
    "\n",
    "In Python, a heap is a binary tree data structure that is commonly used to implement a PriorityQueue. A heap is a complete binary tree where the parent node is always greater (or less) than its children, and the tree has the minimum or maximum element at the root node.\n",
    "\n",
    "Python's `heapq` module provides the min heap (the smallest value always lies at the root) functions for working with heaps in a list. The heapq module can be used to create a heap, add elements to it, remove elements from it, and so on. \n",
    "If you need a max heap, with the maximum value at the root, you can use the advice from [Stackoverflow](https://stackoverflow.com/questions/2501457/what-do-i-use-for-a-max-heap-implementation-in-python)."
   ]
  },
  {
   "cell_type": "code",
   "execution_count": 350,
   "metadata": {},
   "outputs": [
    {
     "name": "stdout",
     "output_type": "stream",
     "text": [
      "h: [-10, 0, 5, 1, 12, 211, 43, 79]\n",
      "h: [-10, 0, 5, 1, 12, 211, 43, 79, 2, 150]\n",
      "h: [0, 1, 5, 2, 12, 211, 43, 79, 150]\n",
      "h: -10\n"
     ]
    }
   ],
   "source": [
    "import heapq\n",
    "\n",
    "h = [211, 1, 43, 79, 12, 5, -10, 0]\n",
    "heapq.heapify(h) # Turn the list into a heap\n",
    "print(\"h:\", h)\n",
    "\n",
    "heapq.heappush(h, 2) # Add item\n",
    "heapq.heappush(h, 150)\n",
    "print(\"h:\", h)\n",
    "\n",
    "m = heapq.heappop(h) # Retrieve the minimum item\n",
    "print(\"h:\", h)\n",
    "print(\"h:\", m)"
   ]
  }
 ],
 "metadata": {
  "kernelspec": {
   "display_name": "Python 3",
   "language": "python",
   "name": "python3"
  },
  "language_info": {
   "codemirror_mode": {
    "name": "ipython",
    "version": 3
   },
   "file_extension": ".py",
   "mimetype": "text/x-python",
   "name": "python",
   "nbconvert_exporter": "python",
   "pygments_lexer": "ipython3",
   "version": "3.11.1"
  },
  "orig_nbformat": 4
 },
 "nbformat": 4,
 "nbformat_minor": 2
}
