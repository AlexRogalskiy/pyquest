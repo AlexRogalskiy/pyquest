{
 "cells": [
  {
   "attachments": {},
   "cell_type": "markdown",
   "metadata": {},
   "source": [
    "# Part II. Data Manipulation and Processing <a id=\"2-dm-and-processing\">"
   ]
  },
  {
   "cell_type": "markdown",
   "metadata": {},
   "source": [
    "## 1. Basic Data Manipulation <a id=\"basic-dm\"></a>"
   ]
  },
  {
   "cell_type": "markdown",
   "metadata": {},
   "source": [
    "### Slice <a id=\"slice\"></a>\n",
    "\n",
    "In Python, a `slice` is a way to extract a portion of a sequence, such as a `string`, `list`, or `tuple`. \n",
    "\n",
    "`Slices` are defined using the colon (:) operator, with the syntax `start:stop:step`. The `start` parameter is the index of the first element to include in the slice, the `stop` parameter is the index of the first element to exclude from the slice, and the `step` parameter is the number of elements to skip between each included element."
   ]
  },
  {
   "cell_type": "code",
   "execution_count": 2,
   "metadata": {},
   "outputs": [
    {
     "name": "stdout",
     "output_type": "stream",
     "text": [
      "Hello\n",
      "world!\n",
      "Hello\n",
      "Hlo ol!\n",
      "[2, 3]\n",
      "[1, 3, 5]\n"
     ]
    }
   ],
   "source": [
    "# Slicing a string\n",
    "s = \"Hello, world!\"\n",
    "\n",
    "print(s[0:5])\n",
    "print(s[7:])\n",
    "print(s[:5])\n",
    "print(s[::2])\n",
    "\n",
    "# Slicing a list\n",
    "lst = [1, 2, 3, 4, 5]\n",
    "\n",
    "print(lst[1:3])\n",
    "print(lst[::2])"
   ]
  },
  {
   "cell_type": "markdown",
   "metadata": {},
   "source": [
    "The values of `start` and `stop` can be negative, which means that it is counting from the end of the structure. You can also use a negative `step` value."
   ]
  },
  {
   "cell_type": "code",
   "execution_count": 5,
   "metadata": {},
   "outputs": [
    {
     "name": "stdout",
     "output_type": "stream",
     "text": [
      "world!\n",
      "Hello, w\n",
      "!dlrow ,olleH\n"
     ]
    }
   ],
   "source": [
    "s = \"Hello, world!\"\n",
    "\n",
    "print(s[-6:])\n",
    "print(s[:-5])\n",
    "print(s[::-1])"
   ]
  }
 ],
 "metadata": {
  "kernelspec": {
   "display_name": "Python 3",
   "language": "python",
   "name": "python3"
  },
  "language_info": {
   "codemirror_mode": {
    "name": "ipython",
    "version": 3
   },
   "file_extension": ".py",
   "mimetype": "text/x-python",
   "name": "python",
   "nbconvert_exporter": "python",
   "pygments_lexer": "ipython3",
   "version": "3.11.4"
  },
  "orig_nbformat": 4
 },
 "nbformat": 4,
 "nbformat_minor": 2
}
