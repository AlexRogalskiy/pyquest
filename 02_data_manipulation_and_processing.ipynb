{
 "cells": [
  {
   "attachments": {},
   "cell_type": "markdown",
   "metadata": {},
   "source": [
    "# Part II. Data Manipulation and Processing <a id=\"2-dm-and-processing\">"
   ]
  },
  {
   "cell_type": "markdown",
   "metadata": {},
   "source": [
    "## 1. Basic Data Manipulation <a id=\"basic-dm\"></a>"
   ]
  },
  {
   "cell_type": "markdown",
   "metadata": {},
   "source": [
    "### Slice <a id=\"slice\"></a>\n",
    "\n",
    "In Python, a `slice` is a way to extract a portion of a sequence, such as a `string`, `list`, or `tuple`. \n",
    "\n",
    "`Slices` are defined using the colon (:) operator, with the syntax `start:stop:step`. The `start` parameter is the index of the first element to include in the slice, the `stop` parameter is the index of the first element to exclude from the slice, and the `step` parameter is the number of elements to skip between each included element."
   ]
  },
  {
   "cell_type": "code",
   "execution_count": 2,
   "metadata": {},
   "outputs": [
    {
     "name": "stdout",
     "output_type": "stream",
     "text": [
      "s1: Hello\n",
      "s2: world!\n",
      "s3: Hello\n",
      "s4: Hlo ol!\n",
      "lst1: [2, 3]\n",
      "lst2: [1, 3, 5]\n"
     ]
    }
   ],
   "source": [
    "# Slicing a string\n",
    "s = \"Hello, world!\"\n",
    "\n",
    "s1 = s[0:5]\n",
    "s2 = s[7:]\n",
    "s3 = s[:5]\n",
    "s4 = s[::2]\n",
    "\n",
    "print(\"s1:\", s1)\n",
    "print(\"s2:\", s2)\n",
    "print(\"s3:\", s3)\n",
    "print(\"s4:\", s4)\n",
    "\n",
    "# Slicing a list\n",
    "lst = [1, 2, 3, 4, 5]\n",
    "\n",
    "lst1 = lst[1:3]\n",
    "lst2 = lst[::2]\n",
    "\n",
    "print(\"lst1:\", lst1)\n",
    "print(\"lst2:\", lst2)"
   ]
  },
  {
   "cell_type": "markdown",
   "metadata": {},
   "source": [
    "The values of `start` and `stop` can be negative, which means that it is counting from the end of the structure. You can also use a negative `step` value."
   ]
  },
  {
   "cell_type": "code",
   "execution_count": 3,
   "metadata": {},
   "outputs": [
    {
     "name": "stdout",
     "output_type": "stream",
     "text": [
      "s1: world!\n",
      "s2: Hello, w\n",
      "s3: !dlrow ,olleH\n"
     ]
    }
   ],
   "source": [
    "s = \"Hello, world!\"\n",
    "\n",
    "s1 = s[-6:]\n",
    "s2 = s[:-5]\n",
    "s3 = s[::-1]\n",
    "\n",
    "print(\"s1:\", s1)\n",
    "print(\"s2:\", s2)\n",
    "print(\"s3:\", s3)"
   ]
  },
  {
   "cell_type": "markdown",
   "metadata": {},
   "source": [
    "### Sorting <a id=\"sorting\"></a>\n",
    "\n",
    "In Python, sorting is the process of arranging elements in a specific order. Python provides two built-in functions for sorting: `sort()` and `sorted()`. \n",
    "\n",
    "The `sort()` method sorts the list in-place, meaning it modifies the original list. It does not return a new list. The `sorted()` function, on the other hand, returns a new sorted list and leaves the original list unchanged."
   ]
  },
  {
   "cell_type": "code",
   "execution_count": 4,
   "metadata": {},
   "outputs": [
    {
     "name": "stdout",
     "output_type": "stream",
     "text": [
      "lst: [1, 1, 2, 3, 3, 4, 5, 5, 5, 6, 9]\n",
      "new_lst: [1, 1, 2, 3, 3, 4, 5, 5, 5, 6, 9]\n",
      "lst: [3, 1, 4, 1, 5, 9, 2, 6, 5, 3, 5]\n"
     ]
    }
   ],
   "source": [
    "# Using sort()\n",
    "lst = [3, 1, 4, 1, 5, 9, 2, 6, 5, 3, 5]\n",
    "lst.sort()\n",
    "print(\"lst:\", lst)\n",
    "\n",
    "# Using sorted()\n",
    "lst = [3, 1, 4, 1, 5, 9, 2, 6, 5, 3, 5]\n",
    "new_lst = sorted(lst)\n",
    "print(\"new_lst:\", new_lst)\n",
    "print(\"lst:\", lst)"
   ]
  },
  {
   "cell_type": "markdown",
   "metadata": {},
   "source": [
    "Both `sort()` and `sorted()` can take a `reverse` parameter to sort the list in descending order."
   ]
  },
  {
   "cell_type": "code",
   "execution_count": 5,
   "metadata": {},
   "outputs": [
    {
     "name": "stdout",
     "output_type": "stream",
     "text": [
      "lst: [9, 6, 5, 5, 5, 4, 3, 3, 2, 1, 1]\n",
      "new_lst: [9, 6, 5, 5, 5, 4, 3, 3, 2, 1, 1]\n"
     ]
    }
   ],
   "source": [
    "# Sorting in descending order\n",
    "lst = [3, 1, 4, 1, 5, 9, 2, 6, 5, 3, 5]\n",
    "lst.sort(reverse=True)\n",
    "print(\"lst:\", lst)\n",
    "\n",
    "new_lst = sorted(lst, reverse=True)\n",
    "print(\"new_lst:\", new_lst)"
   ]
  },
  {
   "cell_type": "markdown",
   "metadata": {},
   "source": [
    "Both `sort()` and `sorted()` can also take a `key` parameter, which is a function that takes an element as input and returns a value to use for sorting."
   ]
  },
  {
   "cell_type": "code",
   "execution_count": 6,
   "metadata": {},
   "outputs": [
    {
     "name": "stdout",
     "output_type": "stream",
     "text": [
      "lst: ['date', 'apple', 'banana', 'cherry', 'elderberry']\n",
      "new_lst: ['elderberry', 'banana', 'cherry', 'apple', 'date']\n"
     ]
    }
   ],
   "source": [
    "# Sorting by length of strings\n",
    "lst = [\"apple\", \"banana\", \"cherry\", \"date\", \"elderberry\"]\n",
    "lst.sort(key=len)\n",
    "print(\"lst:\", lst)\n",
    "\n",
    "new_lst = sorted(lst, key=len, reverse=True)\n",
    "print(\"new_lst:\", new_lst)"
   ]
  },
  {
   "cell_type": "markdown",
   "metadata": {},
   "source": [
    "Complex data structures can be sorted by `key=lambda el: el[1]` or even, for example, by `key=lambda el: (el[1], el[0])`."
   ]
  }
 ],
 "metadata": {
  "kernelspec": {
   "display_name": "Python 3",
   "language": "python",
   "name": "python3"
  },
  "language_info": {
   "codemirror_mode": {
    "name": "ipython",
    "version": 3
   },
   "file_extension": ".py",
   "mimetype": "text/x-python",
   "name": "python",
   "nbconvert_exporter": "python",
   "pygments_lexer": "ipython3",
   "version": "3.11.4"
  },
  "orig_nbformat": 4
 },
 "nbformat": 4,
 "nbformat_minor": 2
}
