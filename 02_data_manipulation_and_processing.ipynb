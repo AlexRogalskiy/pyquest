{
 "cells": [
  {
   "attachments": {},
   "cell_type": "markdown",
   "metadata": {},
   "source": [
    "# Part II. Data Manipulation and Processing <a id=\"2-dm-and-processing\">"
   ]
  },
  {
   "cell_type": "markdown",
   "metadata": {},
   "source": [
    "## 1. Basic Data Manipulation <a id=\"basic-dm\"></a>"
   ]
  },
  {
   "cell_type": "markdown",
   "metadata": {},
   "source": [
    "### Slice <a id=\"slice\"></a>\n",
    "\n",
    "In Python, a `slice` is a way to extract a portion of a sequence, such as a `string`, `list`, or `tuple`. \n",
    "\n",
    "`Slices` are defined using the colon (:) operator, with the syntax `start:stop:step`. The `start` parameter is the index of the first element to include in the slice, the `stop` parameter is the index of the first element to exclude from the slice, and the `step` parameter is the number of elements to skip between each included element."
   ]
  },
  {
   "cell_type": "code",
   "execution_count": 182,
   "metadata": {},
   "outputs": [
    {
     "name": "stdout",
     "output_type": "stream",
     "text": [
      "s1: Hello\n",
      "s2: world!\n",
      "s3: Hello\n",
      "s4: Hlo ol!\n",
      "lst1: [2, 3]\n",
      "lst2: [1, 3, 5]\n"
     ]
    }
   ],
   "source": [
    "# Slicing a string\n",
    "s = \"Hello, world!\"\n",
    "\n",
    "s1 = s[0:5]\n",
    "s2 = s[7:]\n",
    "s3 = s[:5]\n",
    "s4 = s[::2]\n",
    "\n",
    "print(\"s1:\", s1)\n",
    "print(\"s2:\", s2)\n",
    "print(\"s3:\", s3)\n",
    "print(\"s4:\", s4)\n",
    "\n",
    "# Slicing a list\n",
    "lst = [1, 2, 3, 4, 5]\n",
    "\n",
    "lst1 = lst[1:3]\n",
    "lst2 = lst[::2]\n",
    "\n",
    "print(\"lst1:\", lst1)\n",
    "print(\"lst2:\", lst2)"
   ]
  },
  {
   "cell_type": "markdown",
   "metadata": {},
   "source": [
    "The values of `start` and `stop` can be negative, which means that it is counting from the end of the structure. You can also use a negative `step` value."
   ]
  },
  {
   "cell_type": "code",
   "execution_count": 183,
   "metadata": {},
   "outputs": [
    {
     "name": "stdout",
     "output_type": "stream",
     "text": [
      "s1: world!\n",
      "s2: Hello, w\n",
      "s3: !dlrow ,olleH\n"
     ]
    }
   ],
   "source": [
    "s = \"Hello, world!\"\n",
    "\n",
    "s1 = s[-6:]\n",
    "s2 = s[:-5]\n",
    "s3 = s[::-1]\n",
    "\n",
    "print(\"s1:\", s1)\n",
    "print(\"s2:\", s2)\n",
    "print(\"s3:\", s3)"
   ]
  },
  {
   "cell_type": "markdown",
   "metadata": {},
   "source": [
    "### Sorting <a id=\"sorting\"></a>\n",
    "\n",
    "In Python, sorting is the process of arranging elements in a specific order. Python provides two built-in functions for sorting: `sort()` and `sorted()`. \n",
    "\n",
    "The `sort()` method sorts the list in-place, meaning it modifies the original list. It does not return a new list. The `sorted()` function, on the other hand, returns a new sorted list and leaves the original list unchanged."
   ]
  },
  {
   "cell_type": "code",
   "execution_count": 184,
   "metadata": {},
   "outputs": [
    {
     "name": "stdout",
     "output_type": "stream",
     "text": [
      "lst: [1, 1, 2, 3, 3, 4, 5, 5, 5, 6, 9]\n",
      "new_lst: [1, 1, 2, 3, 3, 4, 5, 5, 5, 6, 9]\n",
      "lst: [3, 1, 4, 1, 5, 9, 2, 6, 5, 3, 5]\n"
     ]
    }
   ],
   "source": [
    "# Using sort()\n",
    "lst = [3, 1, 4, 1, 5, 9, 2, 6, 5, 3, 5]\n",
    "lst.sort()\n",
    "print(\"lst:\", lst)\n",
    "\n",
    "# Using sorted()\n",
    "lst = [3, 1, 4, 1, 5, 9, 2, 6, 5, 3, 5]\n",
    "new_lst = sorted(lst)\n",
    "print(\"new_lst:\", new_lst)\n",
    "print(\"lst:\", lst)"
   ]
  },
  {
   "cell_type": "markdown",
   "metadata": {},
   "source": [
    "Both `sort()` and `sorted()` can take a `reverse` parameter to sort the list in descending order."
   ]
  },
  {
   "cell_type": "code",
   "execution_count": 185,
   "metadata": {},
   "outputs": [
    {
     "name": "stdout",
     "output_type": "stream",
     "text": [
      "lst: [9, 6, 5, 5, 5, 4, 3, 3, 2, 1, 1]\n",
      "new_lst: [9, 6, 5, 5, 5, 4, 3, 3, 2, 1, 1]\n"
     ]
    }
   ],
   "source": [
    "# Sorting in descending order\n",
    "lst = [3, 1, 4, 1, 5, 9, 2, 6, 5, 3, 5]\n",
    "lst.sort(reverse=True)\n",
    "print(\"lst:\", lst)\n",
    "\n",
    "new_lst = sorted(lst, reverse=True)\n",
    "print(\"new_lst:\", new_lst)"
   ]
  },
  {
   "cell_type": "markdown",
   "metadata": {},
   "source": [
    "Both `sort()` and `sorted()` can also take a `key` parameter, which is a function that takes an element as input and returns a value to use for sorting."
   ]
  },
  {
   "cell_type": "code",
   "execution_count": 186,
   "metadata": {},
   "outputs": [
    {
     "name": "stdout",
     "output_type": "stream",
     "text": [
      "lst: ['date', 'apple', 'banana', 'cherry', 'elderberry']\n",
      "new_lst: ['elderberry', 'banana', 'cherry', 'apple', 'date']\n"
     ]
    }
   ],
   "source": [
    "# Sorting by length of strings\n",
    "lst = [\"apple\", \"banana\", \"cherry\", \"date\", \"elderberry\"]\n",
    "lst.sort(key=len)\n",
    "print(\"lst:\", lst)\n",
    "\n",
    "new_lst = sorted(lst, key=len, reverse=True)\n",
    "print(\"new_lst:\", new_lst)"
   ]
  },
  {
   "cell_type": "markdown",
   "metadata": {},
   "source": [
    "Complex data structures can be sorted by `key=lambda el: el[1]` or even, for example, by `key=lambda el: (el[1], el[0])`."
   ]
  },
  {
   "cell_type": "markdown",
   "metadata": {},
   "source": [
    "### any()/all() <a id=\"anyall\"></a>\n",
    "\n",
    "`all()` and `any()` are built-in functions that operate on iterable objects, such as lists, tuples, and sets.\n",
    "\n",
    "The `all()` function returns `True` if all elements in the iterable are `True`, and `False` otherwise. The `any()` function returns `True` if at least one element in the iterable is `True`, and `False` otherwise."
   ]
  },
  {
   "cell_type": "code",
   "execution_count": 187,
   "metadata": {},
   "outputs": [
    {
     "name": "stdout",
     "output_type": "stream",
     "text": [
      "all(lst1): True\n",
      "all(lst2): False\n",
      "all(lst3): False\n",
      "any(lst1): True\n",
      "any(lst4): True\n",
      "any(lst5): False\n"
     ]
    }
   ],
   "source": [
    "# Using all()\n",
    "lst1 = [True, True, True]\n",
    "lst2 = [True, False, True]\n",
    "lst3 = [False, False, False]\n",
    "\n",
    "print(\"all(lst1):\", all(lst1))\n",
    "print(\"all(lst2):\", all(lst2))\n",
    "print(\"all(lst3):\", all(lst3))\n",
    "\n",
    "# Using any()\n",
    "lst4 = [False, False, True]\n",
    "lst5 = [False, False, False]\n",
    "\n",
    "print(\"any(lst1):\", any(lst1))\n",
    "print(\"any(lst4):\", any(lst4))\n",
    "print(\"any(lst5):\", any(lst5))"
   ]
  },
  {
   "cell_type": "markdown",
   "metadata": {},
   "source": [
    "`all()` and `any()` can also be used with generator expressions, which are similar to list comprehensions but do not create a list in memory."
   ]
  },
  {
   "cell_type": "code",
   "execution_count": 188,
   "metadata": {},
   "outputs": [
    {
     "name": "stdout",
     "output_type": "stream",
     "text": [
      "al: True\n",
      "an: True\n"
     ]
    }
   ],
   "source": [
    "# Using all() with a generator expression\n",
    "lst = [1, 2, 3, 4, 5]\n",
    "al = all(x > 0 for x in lst)\n",
    "print(\"al:\", al)\n",
    "\n",
    "# Using any() with a generator expression\n",
    "lst = [0, 0, 0, 1, 0]\n",
    "an = any(x > 0 for x in lst)\n",
    "print(\"an:\", an)"
   ]
  },
  {
   "cell_type": "markdown",
   "metadata": {},
   "source": [
    "Note that `all()` and `any()` short-circuit, meaning they stop iterating through the iterable as soon as the result is determined. For example, if `all()` encounters a `False` element, it immediately returns `False` without checking the remaining elements."
   ]
  },
  {
   "cell_type": "markdown",
   "metadata": {},
   "source": [
    "### Basic Math operations <a id=\"basicmathoperations\"></a>"
   ]
  },
  {
   "cell_type": "markdown",
   "metadata": {},
   "source": [
    "#### sum(), count(), min(), max() <a id=\"sumcountminmax\"></a>\n",
    "\n",
    "In Python, `sum()`, `count()`, `min()`, and `max()` are built-in functions that operate on iterable objects, such as lists, tuples, and sets.\n",
    "\n",
    "The `sum()` function returns the sum of all elements in the iterable. It can also take an optional `start` parameter, which is added to the sum of the iterable."
   ]
  },
  {
   "cell_type": "code",
   "execution_count": 189,
   "metadata": {},
   "outputs": [
    {
     "name": "stdout",
     "output_type": "stream",
     "text": [
      "s1: 15\n",
      "s2: 8.5\n"
     ]
    }
   ],
   "source": [
    "lst = [1, 2, 3, 4, 5]\n",
    "s1 = sum(lst)\n",
    "print(\"s1:\", s1)\n",
    "\n",
    "tpl = (1.5, 2.5, 3.5)\n",
    "s2 = sum(tpl, 1)\n",
    "print(\"s2:\", s2)"
   ]
  },
  {
   "cell_type": "markdown",
   "metadata": {},
   "source": [
    "The `count()` function returns the number of times a specified element appears in the iterable."
   ]
  },
  {
   "cell_type": "code",
   "execution_count": 190,
   "metadata": {},
   "outputs": [
    {
     "name": "stdout",
     "output_type": "stream",
     "text": [
      "c1: 2\n",
      "c2: 2\n"
     ]
    }
   ],
   "source": [
    "lst = [1, 2, 3, 4, 5, 2]\n",
    "c1 = lst.count(2)\n",
    "print(\"c1:\", c1)\n",
    "\n",
    "tpl = (\"apple\", \"banana\", \"cherry\", \"banana\")\n",
    "c2 = tpl.count(\"banana\")\n",
    "print(\"c2:\", c2)"
   ]
  },
  {
   "cell_type": "markdown",
   "metadata": {},
   "source": [
    "The `min()` function returns the smallest element in the iterable. It can also take multiple arguments, in which case it returns the smallest argument."
   ]
  },
  {
   "cell_type": "code",
   "execution_count": 191,
   "metadata": {},
   "outputs": [
    {
     "name": "stdout",
     "output_type": "stream",
     "text": [
      "m1: 1\n",
      "m2: apple\n",
      "m3: 1\n"
     ]
    }
   ],
   "source": [
    "lst = [3, 1, 4, 1, 5, 9, 2, 6, 5, 3, 5]\n",
    "m1 = min(lst)\n",
    "print(\"m1:\", m1)\n",
    "\n",
    "tpl = (\"apple\", \"banana\", \"cherry\")\n",
    "m2 = min(tpl)\n",
    "print(\"m2:\", m2)\n",
    "\n",
    "print(\"m3:\", min(3, 1, 4, 1, 5, 9, 2, 6, 5, 3, 5))"
   ]
  },
  {
   "cell_type": "markdown",
   "metadata": {},
   "source": [
    "The `max()` function returns the largest element in the iterable. It can also take multiple arguments, in which case it returns the largest argument."
   ]
  },
  {
   "cell_type": "code",
   "execution_count": 192,
   "metadata": {},
   "outputs": [
    {
     "name": "stdout",
     "output_type": "stream",
     "text": [
      "m1: 9\n",
      "m2: cherry\n",
      "m3: 9\n"
     ]
    }
   ],
   "source": [
    "lst = [3, 1, 4, 1, 5, 9, 2, 6, 5, 3, 5]\n",
    "m1 = max(lst)\n",
    "print(\"m1:\", m1)\n",
    "\n",
    "tpl = (\"apple\", \"banana\", \"cherry\")\n",
    "m2 = max(tpl)\n",
    "print(\"m2:\", m2)\n",
    "\n",
    "print(\"m3:\", max(3, 1, 4, 1, 5, 9, 2, 6, 5, 3, 5))"
   ]
  },
  {
   "cell_type": "markdown",
   "metadata": {},
   "source": [
    "#### Basic math <a id=\"basicmath\"></a>\n",
    "\n",
    "In Python, basic math operations include addition (`+`), subtraction (`-`), multiplication (`*`), division (`/`), and exponentiation (`**`). These operators work on numeric data types, such as integers and floating-point numbers."
   ]
  },
  {
   "cell_type": "code",
   "execution_count": 193,
   "metadata": {},
   "outputs": [
    {
     "name": "stdout",
     "output_type": "stream",
     "text": [
      "c1: 8\n",
      "c2: 2\n",
      "c3: 15\n",
      "c4: 1.6666666666666667\n",
      "c5: 125\n"
     ]
    }
   ],
   "source": [
    "a = 5\n",
    "b = 3\n",
    "\n",
    "# Addition\n",
    "c1 = a + b\n",
    "print(\"c1:\", c1)\n",
    "\n",
    "# Subtraction\n",
    "c2 = a - b\n",
    "print(\"c2:\", c2)\n",
    "\n",
    "# Multiplication\n",
    "c3 = a * b\n",
    "print(\"c3:\", c3)\n",
    "\n",
    "# Division\n",
    "c4 = a / b\n",
    "print(\"c4:\", c4)\n",
    "\n",
    "# Exponentiation\n",
    "c5 = a ** b\n",
    "print(\"c5:\", c5)"
   ]
  },
  {
   "cell_type": "markdown",
   "metadata": {},
   "source": [
    "Note that division (`/`) always returns a floating-point number, even if both operands are integers. If you want to perform integer division, use the `//` operator instead."
   ]
  },
  {
   "cell_type": "code",
   "execution_count": 194,
   "metadata": {},
   "outputs": [
    {
     "name": "stdout",
     "output_type": "stream",
     "text": [
      "c: 1\n"
     ]
    }
   ],
   "source": [
    "a = 5\n",
    "b = 3\n",
    "c = a // b\n",
    "print(\"c:\", c)"
   ]
  },
  {
   "cell_type": "markdown",
   "metadata": {},
   "source": [
    "#### Bit operations <a id=\"bitoperations\"></a>\n",
    "\n",
    "Bit operations are used to manipulate individual bits in binary numbers. Bitwise operators work on integers at the binary level, and are used to perform operations such as shifting bits left or right, setting or clearing individual bits, and performing logical operations on bits.\n",
    "\n",
    "Here are the bitwise operators in Python:\n",
    "\n",
    "- `&` (AND): Sets each bit to 1 if both bits are 1.\n",
    "- `|` (OR): Sets each bit to 1 if one of the bits is 1.\n",
    "- `^` (XOR): Sets each bit to 1 if only one of the bits is 1.\n",
    "- `~` (NOT): Inverts all the bits.\n",
    "- `<<` (left shift): Shifts the bits left by a specified number of positions.\n",
    "- `>>` (right shift): Shifts the bits right by a specified number of positions."
   ]
  },
  {
   "cell_type": "code",
   "execution_count": 195,
   "metadata": {},
   "outputs": [
    {
     "name": "stdout",
     "output_type": "stream",
     "text": [
      "c1: 0b1000\n",
      "c2: 0b1110\n",
      "c3: 0b110\n",
      "c4: -0b1011\n",
      "c5: 0b101000\n",
      "c6: 0b10\n"
     ]
    }
   ],
   "source": [
    "a = 0b1010\n",
    "b = 0b1100\n",
    "\n",
    "# AND\n",
    "c1 = bin(a & b)\n",
    "print(\"c1:\", c1)\n",
    "\n",
    "# OR\n",
    "c2 = bin(a | b)\n",
    "print(\"c2:\", c2)\n",
    "\n",
    "# XOR\n",
    "c3 = bin(a ^ b)\n",
    "print(\"c3:\", c3)\n",
    "\n",
    "# NOT\n",
    "c4 = bin(~a)\n",
    "print(\"c4:\", c4)\n",
    "\n",
    "# Left shift\n",
    "c5 = bin(a << 2)\n",
    "print(\"c5:\", c5)\n",
    "\n",
    "# Right shift\n",
    "c6 = bin(a >> 2)\n",
    "print(\"c6:\", c6)"
   ]
  },
  {
   "cell_type": "markdown",
   "metadata": {},
   "source": [
    "#### Bit count <a id=\"bitcount\"></a>\n",
    "\n",
    "Bit count refers to the number of set bits (bits with a value of 1) in a binary representation of an integer. One way to count the number of set bits in Python is to use the `bin()` function to convert the integer to a binary string, and then use the `count()` method to count the number of '1' characters in the string."
   ]
  },
  {
   "cell_type": "code",
   "execution_count": 196,
   "metadata": {},
   "outputs": [
    {
     "name": "stdout",
     "output_type": "stream",
     "text": [
      "count: 2\n"
     ]
    }
   ],
   "source": [
    "num = 10\n",
    "binary = bin(num)[2:]  # remove the '0b' prefix\n",
    "count = binary.count('1')\n",
    "print(\"count:\", count)"
   ]
  },
  {
   "cell_type": "markdown",
   "metadata": {},
   "source": [
    "#### Fraction <a id=\"fraction\"></a>\n",
    "\n",
    "Fractions can be represented using the `fractions` module. The `Fraction` class in this module represents a rational number as a numerator and a denominator. The `Fraction` class can be initialized with a numerator and denominator, or with a string representation of a fraction."
   ]
  },
  {
   "cell_type": "code",
   "execution_count": 197,
   "metadata": {},
   "outputs": [
    {
     "name": "stdout",
     "output_type": "stream",
     "text": [
      "frac: 3/4\n"
     ]
    }
   ],
   "source": [
    "from fractions import Fraction\n",
    "\n",
    "frac = Fraction(3, 4)\n",
    "print(\"frac:\", frac)"
   ]
  },
  {
   "cell_type": "markdown",
   "metadata": {},
   "source": [
    "The `Fraction` class also provides various methods for performing arithmetic operations on fractions, such as addition, subtraction, multiplication, and division.\n",
    "\n",
    "Note that the `Fraction` class automatically simplifies fractions to their lowest terms, so the fraction `5/4` in the example above is automatically simplified to `1 1/4`."
   ]
  },
  {
   "cell_type": "code",
   "execution_count": 198,
   "metadata": {},
   "outputs": [
    {
     "name": "stdout",
     "output_type": "stream",
     "text": [
      "sum_frac: 5/4\n",
      "diff_frac: 1/4\n",
      "prod_frac: 3/8\n",
      "quot_frac: 3/2\n"
     ]
    }
   ],
   "source": [
    "from fractions import Fraction\n",
    "\n",
    "frac1 = Fraction(3, 4)\n",
    "frac2 = Fraction(1, 2)\n",
    "\n",
    "sum_frac = frac1 + frac2\n",
    "print(\"sum_frac:\", sum_frac)\n",
    "\n",
    "diff_frac = frac1 - frac2\n",
    "print(\"diff_frac:\", diff_frac)\n",
    "\n",
    "prod_frac = frac1 * frac2\n",
    "print(\"prod_frac:\", prod_frac)\n",
    "\n",
    "quot_frac = frac1 / frac2\n",
    "print(\"quot_frac:\", quot_frac)"
   ]
  },
  {
   "cell_type": "markdown",
   "metadata": {},
   "source": [
    "#### Euclidean distance <a id=\"euclideandistance\"></a>\n",
    "\n",
    "The Euclidean distance between two points in n-dimensional space can be calculated using the `distance` function from the `scipy.spatial` module.\n",
    "\n",
    "The `distance` function can also be used to calculate other types of distances, such as Manhattan distance and Chebyshev distance, by passing different parameters to the function."
   ]
  },
  {
   "cell_type": "code",
   "execution_count": 199,
   "metadata": {},
   "outputs": [
    {
     "name": "stdout",
     "output_type": "stream",
     "text": [
      "euclidean_dist: 5.196152422706632\n"
     ]
    }
   ],
   "source": [
    "from scipy.spatial import distance\n",
    "\n",
    "point1 = (1, 2, 3)\n",
    "point2 = (4, 5, 6)\n",
    "\n",
    "euclidean_dist = distance.euclidean(point1, point2)\n",
    "print(\"euclidean_dist:\", euclidean_dist)"
   ]
  },
  {
   "cell_type": "markdown",
   "metadata": {},
   "source": [
    "## 2. String Operations <a id=\"string-operations\"></a>"
   ]
  },
  {
   "cell_type": "markdown",
   "metadata": {},
   "source": [
    "### lower(), upper(), capitalize(), title() <a id=\"loweruppercapitalizetitle\"></a>\n",
    "\n",
    "GitHub Copilot: In Python, strings have several built-in methods for modifying their case and capitalization.\n",
    "\n",
    "- `lower()`: This method returns a new string with all the characters in lowercase.\n",
    "- `upper()`: This method returns a new string with all the characters in uppercase.\n",
    "- `capitalize()`: This method returns a new string with the first character in uppercase and the rest in lowercase.\n",
    "- `title()`: This method returns a new string with the first character of each word in uppercase and the rest in lowercase."
   ]
  },
  {
   "cell_type": "code",
   "execution_count": 200,
   "metadata": {},
   "outputs": [
    {
     "name": "stdout",
     "output_type": "stream",
     "text": [
      "lower_string: hello, world!\n",
      "upper_string: HELLO, WORLD!\n",
      "cap_string: Hello, world!\n",
      "title_string: Hello, World!\n"
     ]
    }
   ],
   "source": [
    "string = \"Hello, World!\"\n",
    "\n",
    "lower_string = string.lower()\n",
    "print(\"lower_string:\", lower_string)\n",
    "\n",
    "upper_string = string.upper()\n",
    "print(\"upper_string:\", upper_string)\n",
    "\n",
    "string = \"hello, world!\"\n",
    "\n",
    "cap_string = string.capitalize()\n",
    "print(\"cap_string:\", cap_string)\n",
    "\n",
    "title_string = string.title()\n",
    "print(\"title_string:\", title_string)"
   ]
  },
  {
   "cell_type": "markdown",
   "metadata": {},
   "source": [
    "### strip() <a id=\"strip\"></a>\n",
    "\n",
    "`strip()` method is used to remove leading and trailing whitespace characters (spaces, tabs, and newlines) from a string.\n",
    "\n",
    "The `strip()` method can also be used to remove specific characters from the beginning and end of a string by passing a string argument to the method. This argument specifies the characters to be removed. Note that the order of the characters in the argument does not matter."
   ]
  },
  {
   "cell_type": "code",
   "execution_count": 201,
   "metadata": {},
   "outputs": [
    {
     "name": "stdout",
     "output_type": "stream",
     "text": [
      "stripped_string_1: hello, world!\n",
      "stripped_string_2: hello, world!\n"
     ]
    }
   ],
   "source": [
    "string = \"   hello, world!   \\n\"\n",
    "stripped_string_1 = string.strip()\n",
    "print(\"stripped_string_1:\", stripped_string_1)\n",
    "\n",
    "string = \"+++hello, world!---\"\n",
    "stripped_string_2 = string.strip('+-')\n",
    "print(\"stripped_string_2:\", stripped_string_2)"
   ]
  },
  {
   "cell_type": "markdown",
   "metadata": {},
   "source": [
    "### split() <a id=\"split\"></a>\n",
    "\n",
    "The `split()` method is used to split a string into a list of substrings based on a specified delimiter. By default, the delimiter is whitespace characters (spaces, tabs, and newlines), but a different delimiter can be specified as an argument to the method. \n",
    "\n",
    "The `split()` method can also be used to split a string into a list of substrings based on a specified maximum number of splits. This is done by passing a second argument to the method, which specifies the maximum number of splits to perform."
   ]
  },
  {
   "cell_type": "code",
   "execution_count": 202,
   "metadata": {},
   "outputs": [
    {
     "name": "stdout",
     "output_type": "stream",
     "text": [
      "split_string_1: ['hello', 'world!']\n",
      "split_string_2: ['hello', 'world!']\n",
      "split_string_3: ['hello', 'world', 'how,are,you?']\n"
     ]
    }
   ],
   "source": [
    "string = \"hello world!\"\n",
    "split_string_1 = string.split()\n",
    "print(\"split_string_1:\", split_string_1)\n",
    "\n",
    "string = \"hello,world!\"\n",
    "split_string_2 = string.split(',')\n",
    "print(\"split_string_2:\", split_string_2)\n",
    "\n",
    "string = \"hello,world,how,are,you?\"\n",
    "split_string_3 = string.split(',', 2)\n",
    "print(\"split_string_3:\", split_string_3)"
   ]
  },
  {
   "cell_type": "markdown",
   "metadata": {},
   "source": [
    "### ord(), chr() <a id=\"ordchr\"></a>\n",
    "\n",
    "GitHub Copilot: In Python, the `ord()` and `chr()` functions are used to convert between characters and their corresponding ASCII codes. \n",
    "\n",
    "- The `ord()` function takes a single character as an argument and returns its corresponding ASCII code as an integer.\n",
    "- The `chr()` function takes an integer ASCII code as an argument and returns the corresponding character as a string.\n",
    "\n",
    "Note that the `ord()` and `chr()` functions only work with ASCII characters and codes. For Unicode characters and codes, the `ord()` and `chr()` functions may not work as expected."
   ]
  },
  {
   "cell_type": "code",
   "execution_count": 203,
   "metadata": {},
   "outputs": [
    {
     "name": "stdout",
     "output_type": "stream",
     "text": [
      "ascii_code: 65\n",
      "char: B\n"
     ]
    }
   ],
   "source": [
    "char = 'A'\n",
    "\n",
    "ascii_code = ord(char)\n",
    "print(\"ascii_code:\", ascii_code)\n",
    "\n",
    "char = chr(ascii_code + 1)\n",
    "print(\"char:\", char)"
   ]
  },
  {
   "cell_type": "markdown",
   "metadata": {},
   "source": [
    "## 3. Regular Expressions <a id=\"regular-expressions\"></a>"
   ]
  },
  {
   "cell_type": "markdown",
   "metadata": {},
   "source": [
    "### RegEx <a id=\"regex\"></a>\n",
    "\n",
    "Regular expressions (often abbreviated as \"`RegEx`\") are sequences of characters that define a search pattern. This pattern can be used to match strings or parts of strings. Python's `re` module provides functions to work with regular expressions.\n",
    "\n",
    "1. Basic Patterns:\n",
    "\n",
    "- `.`: Matches any character except a newline.\n",
    "- `^`: Matches the start of the string.\n",
    "- `$`: Matches the end of the string.\n",
    "- `*`: Matches 0 or more repetitions of the preceding character or group.\n",
    "- `+`: Matches 1 or more repetitions of the preceding character or group.\n",
    "- `?`: Matches 0 or 1 repetition of the preceding character or group.\n",
    "- `\\d`: Matches any decimal digit; equivalent to [0-9].\n",
    "- `\\D`: Matches any non-digit character.\n",
    "- `\\w`: Matches any alphanumeric character or underscore; equivalent to [a-zA-Z0-9_].\n",
    "- `\\W`: Matches any non-alphanumeric character.\n",
    "- `\\s`: Matches any whitespace character.\n",
    "- `\\S`: Matches any non-whitespace character.\n",
    "\n",
    "2. Functions in the re module:\n",
    "\n",
    "- `search()`: Searches for a match to the pattern anywhere in the string. Returns a match object if found, otherwise returns None.\n",
    "- `findall()`: Returns all non-overlapping matches of the pattern in the string as a list of strings.\n",
    "- `finditer()`: Returns an iterator yielding match objects for all non-overlapping matches of the pattern in the string.\n",
    "- `sub()`: Replaces one or many matches with a string.\n",
    "- `split()`: Splits the source string by the occurrences of the pattern."
   ]
  },
  {
   "cell_type": "code",
   "execution_count": 204,
   "metadata": {},
   "outputs": [
    {
     "name": "stdout",
     "output_type": "stream",
     "text": [
      "Match found at index 9 to 15.\n",
      "findall: ['contact@mywebsite.com', 'support@mywebsite.com']\n",
      "Found word: The at position 0-3.\n",
      "Found word: cat at position 4-7.\n",
      "Found word: and at position 8-11.\n",
      "Found word: the at position 12-15.\n",
      "Found word: hat at position 16-19.\n",
      "Found word: sat at position 20-23.\n",
      "Found word: the at position 27-30.\n",
      "Found word: mat at position 31-34.\n",
      "sub: I have two fruits and three fruits.\n",
      "split: ['', 'a', 'b', 'c']\n"
     ]
    }
   ],
   "source": [
    "import re\n",
    "\n",
    "# Search for the word \"Python\" in the given string\n",
    "result = re.search(r'Python', 'Learning Python is fun!')\n",
    "if result:\n",
    "    print(f\"Match found at index {result.start()} to {result.end()}.\")\n",
    "else:\n",
    "    print(\"Match not found!\")\n",
    "\n",
    "# Extract all email addresses from the given string\n",
    "text = \"Contact us at contact@mywebsite.com or at support@mywebsite.com\"\n",
    "pattern = r'[\\w\\.-]+@[\\w\\.-]+'\n",
    "print(\"findall:\", re.findall(pattern, text))\n",
    "\n",
    "# Find all words that are exactly 3 characters long\n",
    "text = \"The cat and the hat sat on the mat.\"\n",
    "pattern = r'\\b\\w{3}\\b'\n",
    "for match in re.finditer(pattern, text):\n",
    "    print(f\"Found word: {match.group()} at position {match.start()}-{match.end()}.\")\n",
    "\n",
    "# Replace all occurrences of \"apple\" or \"orange\" with \"fruit\"\n",
    "text = \"I have two apples and three oranges.\"\n",
    "pattern = r'apple|orange'\n",
    "print(\"sub:\", re.sub(pattern, 'fruit', text))\n",
    "\n",
    "# Split a string by any number (e.g., \"3a5b2c\" -> ['a', 'b', 'c'])\n",
    "text = \"3a5b2c\"\n",
    "pattern = r'\\d'\n",
    "print(\"split:\", re.split(pattern, text))"
   ]
  },
  {
   "cell_type": "markdown",
   "metadata": {},
   "source": [
    "### match() <a id=\"match\"></a>\n",
    "\n",
    "The `match()` function is used to match a regular expression pattern at the beginning of a string. The `match()` function returns a `Match` object if the pattern matches the beginning of the string, or `None` if there is no match.\n",
    "\n",
    "Note that the `match()` function only matches patterns at the beginning of the string. If you want to match a pattern anywhere in the string, you should use the `search()` function instead."
   ]
  },
  {
   "cell_type": "code",
   "execution_count": 205,
   "metadata": {},
   "outputs": [
    {
     "name": "stdout",
     "output_type": "stream",
     "text": [
      "group: The quick\n",
      "group(1): The\n",
      "groups: ('The', 'quick')\n",
      "start: 0\n",
      "end: 9\n",
      "tuple: (0, 9)\n"
     ]
    }
   ],
   "source": [
    "import re\n",
    "\n",
    "string = \"The quick brown fox jumps over the lazy dog.\"\n",
    "pattern = r\"(\\w+) (\\w+)\"\n",
    "\n",
    "match = re.match(pattern, string)\n",
    "\n",
    "group = match.group()  # Returns the entire match\n",
    "print(\"group:\", group)\n",
    "\n",
    "group_1 = match.group(1)  # Returns the first parenthesized subgroup\n",
    "print(\"group(1):\", group_1)\n",
    "\n",
    "groups = match.groups()  # Returns a tuple containing all the subgroups\n",
    "print(\"groups:\", groups)\n",
    "\n",
    "start = match.start()  # Returns the start position of the match\n",
    "print(\"start:\", start)\n",
    "\n",
    "end = match.end()  # Returns the end position of the match\n",
    "print(\"end:\", end)\n",
    "\n",
    "tuple = match.span()  # Returns a tuple containing the (start, end) positions of the match\n",
    "print(\"tuple:\", tuple)"
   ]
  }
 ],
 "metadata": {
  "kernelspec": {
   "display_name": "Python 3",
   "language": "python",
   "name": "python3"
  },
  "language_info": {
   "codemirror_mode": {
    "name": "ipython",
    "version": 3
   },
   "file_extension": ".py",
   "mimetype": "text/x-python",
   "name": "python",
   "nbconvert_exporter": "python",
   "pygments_lexer": "ipython3",
   "version": "3.11.4"
  },
  "orig_nbformat": 4
 },
 "nbformat": 4,
 "nbformat_minor": 2
}
