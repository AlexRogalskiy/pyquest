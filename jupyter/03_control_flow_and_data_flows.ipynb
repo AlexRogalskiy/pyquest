{
 "cells": [
  {
   "cell_type": "markdown",
   "metadata": {},
   "source": [
    "## Part III. Control Flow and Data Flows <a id=\"3-cf-and-df\">"
   ]
  },
  {
   "cell_type": "markdown",
   "metadata": {},
   "source": [
    "### 1. Conditional Statements <a id=\"conditional-statements\"></a>"
   ]
  },
  {
   "cell_type": "markdown",
   "metadata": {},
   "source": [
    "#### if, else, elif <a id=\"if-else-elif\"></a>\n",
    "\n",
    "In Python, `if`, `else`, and `elif` are used to create conditional statements that allow a program to execute different code depending on whether a condition is true or false. The `elif` is short for \"else if\". You can have multiple `elif` statements in a conditional statement to check for multiple conditions. The `else` statement is optional and is executed if none of the previous conditions are true."
   ]
  },
  {
   "cell_type": "code",
   "execution_count": 1,
   "metadata": {},
   "outputs": [
    {
     "name": "stdout",
     "output_type": "stream",
     "text": [
      "x is less than or equal to 5\n"
     ]
    }
   ],
   "source": [
    "x = 5\n",
    "\n",
    "if x > 10:\n",
    "    print(\"x is greater than 10\")\n",
    "elif x > 5:\n",
    "    print(\"x is greater than 5 but less than or equal to 10\")\n",
    "else:\n",
    "    print(\"x is less than or equal to 5\")"
   ]
  },
  {
   "cell_type": "markdown",
   "metadata": {},
   "source": [
    "#### Nested conditions <a id=\"nested-conditions\"></a>\n",
    "\n",
    "Nested conditions are conditional statements that are placed inside other conditional statements. Nested conditions allow you to check for multiple conditions and execute different code depending on the outcome of those conditions.\n",
    "\n",
    "You can have multiple levels of nested conditions to check for multiple conditions and execute different code depending on the outcome of those conditions. However, it's important to keep your code organized and easy to read, so you should avoid nesting too many conditions if possible."
   ]
  },
  {
   "cell_type": "code",
   "execution_count": 2,
   "metadata": {},
   "outputs": [
    {
     "name": "stdout",
     "output_type": "stream",
     "text": [
      "Both x and y are positive.\n"
     ]
    }
   ],
   "source": [
    "x = 5\n",
    "y = 10\n",
    "\n",
    "if x > 0:\n",
    "    if y > 0:\n",
    "        print(\"Both x and y are positive.\")\n",
    "    else:\n",
    "        print(\"x is positive but y is not.\")\n",
    "else:\n",
    "    print(\"x is not positive.\")"
   ]
  },
  {
   "cell_type": "markdown",
   "metadata": {},
   "source": [
    "### 2. Loops <a id=\"loops\"></a>"
   ]
  },
  {
   "cell_type": "markdown",
   "metadata": {},
   "source": [
    "#### for loop <a id=\"for-loop\"></a>\n",
    "\n",
    "The `for` loop is used for iterating over a sequence (that can be a list, tuple, dictionary, set, or string) or other iterable objects. The `for` loop runs a block of code for each item in the sequence. `for` loops can be used to iterate over any sequence of elements, and can be combined with conditional statements and other control flow statements to create complex programs."
   ]
  },
  {
   "cell_type": "code",
   "execution_count": 3,
   "metadata": {},
   "outputs": [
    {
     "name": "stdout",
     "output_type": "stream",
     "text": [
      "apple\n",
      "banana\n",
      "cherry\n",
      "------\n",
      "a\n",
      "p\n",
      "p\n",
      "l\n",
      "e\n",
      "------\n",
      "red\n",
      "green\n",
      "blue\n",
      "------\n",
      "name : John\n",
      "age : 30\n",
      "city : New York\n",
      "------\n",
      "John\n",
      "30\n",
      "New York\n",
      "------\n",
      "name : John\n",
      "age : 30\n",
      "city : New York\n",
      "------\n",
      "1\n",
      "2\n",
      "3\n",
      "4\n",
      "------\n"
     ]
    }
   ],
   "source": [
    "# 1. Iterating through a list\n",
    "fruits = [\"apple\", \"banana\", \"cherry\"]\n",
    "for fruit in fruits:\n",
    "    print(fruit)\n",
    "\n",
    "print(\"------\")\n",
    "\n",
    "# 2. Iterating through a string\n",
    "for char in \"apple\":\n",
    "    print(char)\n",
    "\n",
    "print(\"------\")\n",
    "\n",
    "# 3. Iterating through a tuple\n",
    "colors = (\"red\", \"green\", \"blue\")\n",
    "for color in colors:\n",
    "    print(color)\n",
    "\n",
    "print(\"------\")\n",
    "\n",
    "# 4. Iterating through a dictionary\n",
    "person = {\"name\": \"John\", \"age\": 30, \"city\": \"New York\"}\n",
    "\n",
    "# By keys\n",
    "for key in person:\n",
    "    print(key, \":\", person[key])\n",
    "\n",
    "print(\"------\")\n",
    "\n",
    "# By values\n",
    "for value in person.values():\n",
    "    print(value)\n",
    "\n",
    "print(\"------\")\n",
    "\n",
    "# By both keys and values\n",
    "for key, value in person.items():\n",
    "    print(key, \":\", value)\n",
    "\n",
    "print(\"------\")\n",
    "\n",
    "# 5. Iterating through a set\n",
    "unique_numbers = {1, 2, 3, 3, 4}\n",
    "for num in unique_numbers:\n",
    "    print(num)\n",
    "\n",
    "print(\"------\")"
   ]
  },
  {
   "cell_type": "markdown",
   "metadata": {},
   "source": [
    "#### range() <a id=\"range()\"></a>\n",
    "\n",
    "The `range()` function is used to generate a sequence of numbers. The `range()` function can take one, two, or three parameters. \n",
    "- If you pass one parameter to the `range()` function, it will return a sequence of numbers starting at 0 and ending at the number before the parameter.\n",
    "\n",
    "- If you pass two parameters to the `range()` function, it will return a sequence of numbers starting at the first parameter and ending at the number before the second parameter.\n",
    "\n",
    "- If you pass three parameters to the `range()` function, it will return a sequence of numbers starting at the first parameter and ending at the number before the second parameter, with each number increasing by the third parameter."
   ]
  },
  {
   "cell_type": "code",
   "execution_count": 4,
   "metadata": {},
   "outputs": [
    {
     "name": "stdout",
     "output_type": "stream",
     "text": [
      "0\n",
      "1\n",
      "2\n",
      "3\n",
      "4\n",
      "------\n",
      "1\n",
      "2\n",
      "3\n",
      "4\n",
      "------\n",
      "1\n",
      "3\n"
     ]
    }
   ],
   "source": [
    "for i in range(5):  # Will iterate over numbers from 0 to 4\n",
    "    print(i)\n",
    "\n",
    "print(\"------\")\n",
    "\n",
    "for i in range(1, 5):  # Will iterate over numbers from 1 to 4\n",
    "    print(i)\n",
    "\n",
    "print(\"------\")\n",
    "\n",
    "for i in range(1, 5, 2):  # Will iterate over numbers from 1 to 4 with a step of 2\n",
    "    print(i)"
   ]
  },
  {
   "cell_type": "markdown",
   "metadata": {},
   "source": [
    "#### while loop <a id=\"while-loop\"></a>\n",
    "\n",
    "The `while` loop is used to execute a block of code repeatedly as long as a condition is true. The `while` loop is useful when you don't know how many times you need to execute a block of code, or when you need to execute a block of code until a certain condition is met.\n",
    "\n",
    "`while` loops can be used to iterate over any sequence of elements, and can be combined with conditional statements and other control flow statements to create complex programs.\n",
    "\n",
    "Note that it's important to make sure that the condition in a `while` loop will eventually become false, otherwise the loop will continue to execute indefinitely, resulting in an infinite loop. You can use a `break` statement to exit a `while` loop prematurely if necessary."
   ]
  },
  {
   "cell_type": "code",
   "execution_count": 5,
   "metadata": {},
   "outputs": [
    {
     "name": "stdout",
     "output_type": "stream",
     "text": [
      "0\n",
      "1\n",
      "2\n",
      "3\n",
      "4\n"
     ]
    }
   ],
   "source": [
    "i = 0\n",
    "\n",
    "while i < 5:\n",
    "    print(i)\n",
    "    i += 1"
   ]
  },
  {
   "cell_type": "markdown",
   "metadata": {},
   "source": [
    "#### Nested loops <a id=\"nested-loops\"></a>\n",
    "\n",
    "Nested loops are loops that are placed inside other loops. Nested loops allow you to iterate over multiple sequences of elements at the same time. You can have multiple levels of nested loops to iterate over multiple sequences of elements at the same time. However, it's important to keep your code organized and easy to read, so you should avoid nesting too many loops if possible."
   ]
  },
  {
   "cell_type": "code",
   "execution_count": 6,
   "metadata": {},
   "outputs": [
    {
     "name": "stdout",
     "output_type": "stream",
     "text": [
      "0 0\n",
      "0 1\n",
      "1 0\n",
      "1 1\n",
      "2 0\n",
      "2 1\n"
     ]
    }
   ],
   "source": [
    "for i in range(3):\n",
    "    for j in range(2):\n",
    "        print(i, j)"
   ]
  },
  {
   "cell_type": "markdown",
   "metadata": {},
   "source": [
    "### 3. Loop Control Statements <a id=\"loop-control-statements\"></a>"
   ]
  },
  {
   "cell_type": "markdown",
   "metadata": {},
   "source": [
    "#### break <a id=\"break\"></a>\n",
    "\n",
    "The `break` statement is used to exit a loop prematurely. The `break` statement can be used to exit a `for` loop or a `while` loop. The `break` statement is useful when you need to exit a loop based on a certain condition.\n",
    "\n",
    "When a `break` statement is encountered inside a loop, the loop is immediately terminated and the program continues executing from the next statement after the loop."
   ]
  },
  {
   "cell_type": "code",
   "execution_count": 7,
   "metadata": {},
   "outputs": [
    {
     "name": "stdout",
     "output_type": "stream",
     "text": [
      "0\n",
      "1\n",
      "2\n",
      "3\n",
      "4\n",
      "------\n"
     ]
    }
   ],
   "source": [
    "i = 0\n",
    "\n",
    "while i < 10:\n",
    "    print(i)\n",
    "    i += 1\n",
    "    if i == 5:\n",
    "        break\n",
    "print(\"------\")"
   ]
  },
  {
   "cell_type": "markdown",
   "metadata": {},
   "source": [
    "#### continue <a id=\"continue\"></a>\n",
    "\n",
    "The `continue` is a control flow statement that allows you to skip the current iteration of a loop and move on to the next iteration. When a `continue` statement is encountered inside a loop, the loop skips the remaining statements in the current iteration and moves on to the next iteration. \n",
    "\n",
    "The `continue` statement is useful when you need to skip certain iterations of a loop based on a certain condition."
   ]
  },
  {
   "cell_type": "code",
   "execution_count": 8,
   "metadata": {},
   "outputs": [
    {
     "name": "stdout",
     "output_type": "stream",
     "text": [
      "1\n",
      "3\n",
      "5\n",
      "7\n",
      "9\n"
     ]
    }
   ],
   "source": [
    "i = 0\n",
    "\n",
    "while i < 10:\n",
    "    i += 1\n",
    "    if i % 2 == 0:\n",
    "        continue\n",
    "    print(i)"
   ]
  },
  {
   "cell_type": "markdown",
   "metadata": {},
   "source": [
    "#### pass <a id=\"pass\"></a>\n",
    "\n",
    "In Python, `pass` is a null statement that does nothing. It is used as a placeholder when you need to include a statement in your code that does nothing, but you don't want to leave an empty block of code. The `pass` statement can be used inside loops, conditional statements, and other control flow statements as a placeholder for code that you haven't written yet."
   ]
  },
  {
   "cell_type": "code",
   "execution_count": 9,
   "metadata": {},
   "outputs": [
    {
     "name": "stdout",
     "output_type": "stream",
     "text": [
      "1\n",
      "3\n",
      "5\n",
      "7\n",
      "9\n"
     ]
    }
   ],
   "source": [
    "def my_function():\n",
    "    pass\n",
    "\n",
    "\n",
    "for i in range(10):\n",
    "    if i % 2 == 0:\n",
    "        pass\n",
    "    else:\n",
    "        print(i)"
   ]
  },
  {
   "cell_type": "markdown",
   "metadata": {},
   "source": [
    "### 4. Functions <a id=\"functions\"></a>\n",
    "\n",
    "Functions are a way to organize your code into reusable blocks of code. Functions allow you to break your code into smaller, more manageable pieces, and can be used to perform a specific task or calculation. Functions can take parameters as input, and can return a value as output."
   ]
  },
  {
   "cell_type": "code",
   "execution_count": 10,
   "metadata": {},
   "outputs": [
    {
     "name": "stdout",
     "output_type": "stream",
     "text": [
      "8\n"
     ]
    }
   ],
   "source": [
    "# Define the function\n",
    "def add_numbers(a, b):\n",
    "    return a + b\n",
    "\n",
    "\n",
    "# Call the function\n",
    "result = add_numbers(5, 3)\n",
    "print(result)  # 8"
   ]
  },
  {
   "cell_type": "markdown",
   "metadata": {},
   "source": [
    "#### *args and **kwargs <a id=\"args-kwargs\"></a>\n",
    "\n",
    "In Python, `*args` and `**kwargs` are used to pass a variable number of arguments to a function.\n",
    "\n",
    "- `*args` is used to pass a non-keyworded, variable-length argument list. The syntax is to use the asterisk (`*`) before the parameter name. The function receives the arguments as a tuple.\n",
    "- `**kwargs` allows you to pass keyworded, variable-length arguments. The double asterisk (`**`) is used before the parameter name, and the function receives the arguments as a dictionary."
   ]
  },
  {
   "cell_type": "code",
   "execution_count": 11,
   "metadata": {},
   "outputs": [
    {
     "name": "stdout",
     "output_type": "stream",
     "text": [
      "Hello\n",
      "world\n",
      "Python\n",
      "3.7\n",
      "------\n",
      "name: John\n",
      "age: 30\n",
      "language: Python\n"
     ]
    }
   ],
   "source": [
    "# Using *args to capture variable number of arguments\n",
    "def print_args(*args):\n",
    "    for arg in args:\n",
    "        print(arg)\n",
    "\n",
    "\n",
    "print_args(\"Hello\", \"world\", \"Python\", 3.7)\n",
    "\n",
    "print(\"------\")\n",
    "\n",
    "\n",
    "# Using **kwargs to capture variable number of keyword arguments\n",
    "def print_kwargs(**kwargs):\n",
    "    for key, value in kwargs.items():\n",
    "        print(f\"{key}: {value}\")\n",
    "\n",
    "\n",
    "print_kwargs(name=\"John\", age=30, language=\"Python\")"
   ]
  },
  {
   "cell_type": "markdown",
   "metadata": {},
   "source": [
    "#### Closures <a id=\"closures\"></a>\n",
    "\n",
    "Closures in Python refer to a programming concept where a function is dynamically generated by another function, and the inner function has access to the variables that were in the local scope of the outer function when the inner function was created. This allows the inner function to remember and access those variables even after the outer function has finished executing, effectively providing a way to keep some form of state."
   ]
  },
  {
   "cell_type": "code",
   "execution_count": 12,
   "metadata": {},
   "outputs": [
    {
     "name": "stdout",
     "output_type": "stream",
     "text": [
      "Hello, world!\n"
     ]
    }
   ],
   "source": [
    "def outer_function(msg):\n",
    "    # This is the outer enclosing function\n",
    "\n",
    "    def inner_function():\n",
    "        # This is the inner function that forms a closure\n",
    "        # It 'remembers' the value of msg from the enclosing scope\n",
    "        print(msg)\n",
    "\n",
    "    return inner_function  # Return the inner function\n",
    "\n",
    "\n",
    "# Create a closure\n",
    "my_closure = outer_function(\"Hello, world!\")\n",
    "\n",
    "# Call the closure\n",
    "my_closure()"
   ]
  },
  {
   "cell_type": "markdown",
   "metadata": {},
   "source": [
    "### 5. Itertools <a id=\"itertools\"></a>\n",
    "\n",
    "The `itertools` module in Python provides a collection of tools for handling iterators. An iterator is an object that represents a stream of data. The `itertools` module provides a collection of tools for working with iterators, including functions for creating, combining, and iterating over iterators."
   ]
  },
  {
   "cell_type": "markdown",
   "metadata": {},
   "source": [
    "#### Infinite iterators <a id=\"infinite-iterators\"></a>\n",
    "\n",
    "In Python, iterators that can iterate indefinitely are called `infinite iterators`. The standard library provides a few such iterators, mainly through the itertools module. The most commonly used infinite iterators are:\n",
    "\n",
    "- `count(start=0, step=1)`: Starts from the start number and keeps on incrementing by the step value indefinitely.\n",
    "\n",
    "- `cycle(iterable)`: This iterator cycles through an iterable indefinitely.\n",
    "\n",
    "- `repeat(elem [,times])`: This iterator repeatedly returns the provided element. If the optional times argument is provided, it will repeat for the specified number of times, otherwise, it will repeat indefinitely.\n",
    "\n",
    "Note: Infinite iterators can lead to infinite loops if not handled properly. Always ensure there's a condition to break out of the loop to prevent unintended infinite execution."
   ]
  },
  {
   "cell_type": "code",
   "execution_count": 13,
   "metadata": {},
   "outputs": [
    {
     "name": "stdout",
     "output_type": "stream",
     "text": [
      "count: 10, 13, 16, 19, 22, 25, \n",
      "cycle: X, Y, Z, X, Y, Z, X, Y, \n",
      "repeat: A, A, A, A, A, "
     ]
    }
   ],
   "source": [
    "from itertools import count, cycle, repeat\n",
    "\n",
    "print(\"count:\", end=\" \")\n",
    "for i in count(10, 3):\n",
    "    if i > 25:\n",
    "        break\n",
    "    else:\n",
    "        print(i, end=\", \")\n",
    "\n",
    "print(\"\\ncycle:\", end=\" \")\n",
    "counter = 0\n",
    "for item in cycle(\"XYZ\"):\n",
    "    if counter > 7:\n",
    "        break\n",
    "    print(item, end=\", \")\n",
    "    counter += 1\n",
    "\n",
    "print(\"\\nrepeat:\", end=\" \")\n",
    "for item in repeat(\"A\", 5):\n",
    "    print(item, end=\", \")"
   ]
  },
  {
   "cell_type": "markdown",
   "metadata": {},
   "source": [
    "#### Finite iterators <a id=\"finite-iterators\"></a>\n",
    "\n",
    "In Python, iterators that can iterate over a finite sequence of elements are called `finite iterators`. The standard library provides a few such iterators, mainly through the itertools module. The most commonly used finite iterators are:\n",
    "\n",
    "- `accumulate(iterable[, func, *, initial=None])`: Produces accumulated sums, or accumulated results of other binary functions\n",
    "\n",
    "- `chain(*iterables)`: Used for chaining multiple iterables together.\n",
    "\n",
    "- `groupby(iterable, key=None)`: Groups consecutive elements of the iterable which have the same key.\n",
    "\n",
    "- `islice(iterable, start, stop[, step])`: Returns an iterator that returns selected elements from the iterable.\n",
    "\n",
    "- `zip_longest(*iterables, fillvalue=None)`: Iterates over multiple input iterables simultaneously, filling in missing values with a specified fillvalue.\n",
    "\n",
    "These are just a few of the finite iterators provided by `itertools`. Each of these tools can be incredibly useful in various scenarios, especially when dealing with complex iteration patterns."
   ]
  },
  {
   "cell_type": "code",
   "execution_count": 14,
   "metadata": {},
   "outputs": [
    {
     "name": "stdout",
     "output_type": "stream",
     "text": [
      "accumulate : [1, 3, 6, 10]\n",
      "chain : ['A', 'B', 'C', 'D', 'E', 'F']\n",
      "groupby: A ['A', 'A']\n",
      "B ['B', 'B']\n",
      "C ['C', 'C']\n",
      "A ['A', 'A']\n",
      "islice : ['C', 'D', 'E']\n",
      "zip_longest : [('A', '1'), ('B', '2'), ('x', '3'), ('x', '4'), ('x', '5')]\n"
     ]
    }
   ],
   "source": [
    "from itertools import accumulate, chain, groupby, islice, zip_longest\n",
    "\n",
    "# Using accumulate()\n",
    "print(\"accumulate :\", list(accumulate([1, 2, 3, 4])))\n",
    "\n",
    "# Using chain()\n",
    "print(\"chain :\", list(chain(\"ABC\", \"DEF\")))\n",
    "\n",
    "# Using groupby()\n",
    "print(\"groupby:\", end=\" \")\n",
    "for key, group in groupby(\"AABBCCAA\"):\n",
    "    print(key, list(group))\n",
    "\n",
    "# Using islice()\n",
    "print(\"islice :\", list(islice(\"ABCDEFG\", 2, 5)))\n",
    "\n",
    "# Using zip_longest()\n",
    "print(\"zip_longest :\", list(zip_longest(\"AB\", \"12345\", fillvalue=\"x\")))"
   ]
  },
  {
   "cell_type": "markdown",
   "metadata": {},
   "source": [
    "#### Combinatorics <a id=\"combinatorics\"></a>\n",
    "\n",
    "The `itertools` module provides functions for working with combinatorics, which is the study of combinations and permutations of elements in a set. These functions can be used to generate all possible combinations or permutations of a set of elements, which can be useful in a variety of applications, such as generating test cases or analyzing data.\n",
    "\n",
    "Here are some of the combinatoric functions provided by the `itertools` module:\n",
    "\n",
    "- `product(*iterables, repeat=1)`: This function generates the Cartesian product of the input iterables, which is a sequence of tuples containing one element from each input iterable. The `repeat` argument specifies the number of times to repeat the input iterables.\n",
    "\n",
    "- `permutations(iterable, r=None)`: This function generates all possible permutations of the elements in `iterable`, with a length of `r` if specified, or the length of `iterable` if not specified.\n",
    "\n",
    "- `combinations(iterable, r)`: This function generates all possible combinations of the elements in `iterable` of length `r`.\n",
    "\n",
    "- `combinations_with_replacement(iterable, r)`: This function generates all possible combinations of the elements in `iterable` of length `r`, allowing for repeated elements.\n",
    "\n",
    "Combinatoric functions can be useful when you need to generate all possible combinations or permutations of a set of elements. They can be especially useful when working with large datasets or when you need to perform complex operations on sequences of data."
   ]
  },
  {
   "cell_type": "code",
   "execution_count": 15,
   "metadata": {},
   "outputs": [
    {
     "name": "stdout",
     "output_type": "stream",
     "text": [
      "product: [('a', 1), ('a', 2), ('b', 1), ('b', 2), ('c', 1), ('c', 2)]\n",
      "combinations: [('a', 'b'), ('a', 'c'), ('b', 'c')]\n",
      "permutations: [('a', 'b'), ('a', 'c'), ('b', 'a'), ('b', 'c'), ('c', 'a'), ('c', 'b')]\n",
      "combinations_with_replacement: [('a', 'a'), ('a', 'b'), ('a', 'c'), ('b', 'b'), ('b', 'c'), ('c', 'c')]\n"
     ]
    }
   ],
   "source": [
    "from itertools import combinations, combinations_with_replacement, permutations, product\n",
    "\n",
    "list1 = [\"a\", \"b\", \"c\"]\n",
    "list2 = [1, 2]\n",
    "\n",
    "print(\"product:\", list(product(list1, list2)))\n",
    "print(\"combinations:\", list(combinations(list1, 2)))\n",
    "print(\"permutations:\", list(permutations(list1, 2)))\n",
    "print(\"combinations_with_replacement:\", list(combinations_with_replacement(list1, 2)))"
   ]
  },
  {
   "cell_type": "markdown",
   "metadata": {},
   "source": [
    "### 6. enumerate() <a id=\"enumerate\"></a>"
   ]
  },
  {
   "cell_type": "markdown",
   "metadata": {},
   "source": [
    "The `enumerate()` function is used to add a counter to an iterable object. The `enumerate()` function returns an enumerate object that contains tuples of the index and item in the iterable object.\n",
    "\n",
    "The `enumerate()` function can be used to iterate over the index and item of an iterable object at the same time."
   ]
  },
  {
   "cell_type": "code",
   "execution_count": 16,
   "metadata": {},
   "outputs": [
    {
     "name": "stdout",
     "output_type": "stream",
     "text": [
      "0 apple\n",
      "1 banana\n",
      "2 cherry\n"
     ]
    }
   ],
   "source": [
    "fruits = [\"apple\", \"banana\", \"cherry\"]\n",
    "\n",
    "for i, fruit in enumerate(fruits):\n",
    "    print(i, fruit)"
   ]
  },
  {
   "cell_type": "markdown",
   "metadata": {},
   "source": [
    "### 7. zip() <a id=\"zip\"></a>\n",
    "\n",
    "`zip()` is a built-in function that takes two or more iterables as arguments and returns an iterator that generates tuples containing the corresponding elements from each iterable. The resulting iterator stops when the shortest input iterable is exhausted.\n",
    "\n",
    "The `zip()` function can take any number of iterables as arguments, and returns an iterator that generates tuples containing the corresponding elements from each iterable. If the input iterables are of different lengths, the resulting iterator stops when the shortest input iterable is exhausted.\n",
    "\n",
    "The `zip()` function is useful when you need to combine two or more iterables into a single iterable that contains the corresponding elements from each input iterable. It can be especially useful when working with large datasets or when you need to perform complex operations on sequences of data."
   ]
  },
  {
   "cell_type": "code",
   "execution_count": 17,
   "metadata": {},
   "outputs": [
    {
     "name": "stdout",
     "output_type": "stream",
     "text": [
      "zip: [('a', 1), ('b', 2), ('c', 3)]\n"
     ]
    }
   ],
   "source": [
    "list1 = [\"a\", \"b\", \"c\"]\n",
    "list2 = [1, 2, 3]\n",
    "\n",
    "print(\"zip:\", list(zip(list1, list2)))"
   ]
  },
  {
   "cell_type": "markdown",
   "metadata": {},
   "source": [
    "### 8. Recursion <a id=\"recursion\"></a>\n",
    "\n",
    "Recursion is a programming technique where a function calls itself to solve a problem. Recursion is a powerful tool that can be used to solve complex problems by breaking them down into smaller, more manageable subproblems. Recursion can be especially useful when working with data structures such as trees and graphs.\n",
    "\n",
    "Key components of a recursive function include:\n",
    "- **Base Case**: A condition that stops the recursion. Without a base case, a recursive function would continue to call itself indefinitely, leading to a stack overflow error.\n",
    "- **Recursive Case**: The part of the function where it calls itself but with a subset of the original problem."
   ]
  },
  {
   "cell_type": "code",
   "execution_count": 18,
   "metadata": {},
   "outputs": [
    {
     "name": "stdout",
     "output_type": "stream",
     "text": [
      "120\n"
     ]
    }
   ],
   "source": [
    "def factorial(n):\n",
    "    # Base case: if n is 0, return 1\n",
    "    if n == 0:\n",
    "        return 1\n",
    "    # Recursive case: n! = n * (n-1)!\n",
    "    else:\n",
    "        return n * factorial(n - 1)\n",
    "\n",
    "\n",
    "# Example usage\n",
    "print(factorial(5))  # Output: 120"
   ]
  },
  {
   "cell_type": "markdown",
   "metadata": {},
   "source": [
    "#### Recursion vs Iteration <a id=\"recursion-vs-iteration\"></a>\n",
    "\n",
    "Recursion is often preferred for problems that naturally fit recursive patterns, such as traversing trees, solving mathematical puzzles (e.g., Fibonacci sequence), or when the problem is easier to solve by dividing it into smaller problems of the same type.\n",
    "\n",
    "Iteration is preferred for simple repetitive tasks that do not require backtracking or when you want to avoid the overhead of multiple function calls. Iterative solutions are usually more efficient in terms of execution time and memory usage because they don't incur the overhead of multiple function calls and stack usage."
   ]
  },
  {
   "cell_type": "code",
   "execution_count": 19,
   "metadata": {},
   "outputs": [
    {
     "name": "stdout",
     "output_type": "stream",
     "text": [
      "120\n",
      "120\n"
     ]
    }
   ],
   "source": [
    "# Recursive approach\n",
    "def factorial_recursive(n):\n",
    "    if n == 0:\n",
    "        return 1\n",
    "    else:\n",
    "        return n * factorial_recursive(n - 1)\n",
    "\n",
    "\n",
    "# Iterative approach\n",
    "def factorial_iterative(n):\n",
    "    result = 1\n",
    "    for i in range(1, n + 1):\n",
    "        result *= i\n",
    "    return result\n",
    "\n",
    "\n",
    "# Example\n",
    "print(factorial_recursive(5))  # Output: 120\n",
    "print(factorial_iterative(5))  # Output: 120"
   ]
  },
  {
   "cell_type": "markdown",
   "metadata": {},
   "source": [
    "#### Tail Recursion <a id=\"tail-recursion\"></a>\n",
    "\n",
    "Tail recursion is a special form of recursion where the recursive call is the last operation in the function. In tail-recursive functions, the result of the current recursive call is passed directly to the next recursive call, without any additional computation. This allows the compiler to optimize the function by reusing the current stack frame for the next recursive call, which can reduce the memory overhead of the recursion.\n",
    "\n",
    "However, it's important to note that while tail recursion is a powerful concept, **Python does not officially support tail call optimization**. This means that even if you write a function in a tail-recursive style in Python, it will not benefit from the potential stack optimization, and deep recursion can still lead to a stack overflow error."
   ]
  },
  {
   "cell_type": "code",
   "execution_count": 20,
   "metadata": {},
   "outputs": [
    {
     "name": "stdout",
     "output_type": "stream",
     "text": [
      "120\n"
     ]
    }
   ],
   "source": [
    "def factorial(n, accumulator=1):\n",
    "    if n == 0:\n",
    "        return accumulator\n",
    "    else:\n",
    "        return factorial(n - 1, n * accumulator)\n",
    "\n",
    "\n",
    "print(factorial(5))  # Output: 120"
   ]
  },
  {
   "cell_type": "markdown",
   "metadata": {},
   "source": [
    "### 9. Context Managers <a id=\"context-managers\"></a>"
   ]
  },
  {
   "cell_type": "markdown",
   "metadata": {},
   "source": [
    "#### enter/exit <a id=\"enter-exit\"></a>\n",
    "\n",
    "A context manager in Python is an object designed to set up a resource for a portion of code and then clean up that resource after the code has run. The most common use case is with file handling where you need to open a file, perform operations, and then close it. Context managers make this process cleaner and more readable.\n",
    "\n",
    "The primary mechanism for using context managers is the with statement. The context manager provides two methods:\n",
    "\n",
    "1. `__enter__(self)`:\n",
    "- This method is run when execution flow enters the block of the with statement.\n",
    "- It returns the resource that needs to be managed, like a file for file handling.\n",
    "\n",
    "2. `__exit__(self, exc_type, exc_value, traceback)`:\n",
    "- This method is run when execution flow exits the block of the with statement.\n",
    "- It can handle exceptions, suppress them, or let them propagate.\n",
    "- It's typically used to release the resource or rollback changes in case of errors.\n"
   ]
  },
  {
   "cell_type": "code",
   "execution_count": 21,
   "metadata": {},
   "outputs": [
    {
     "name": "stdout",
     "output_type": "stream",
     "text": [
      "Entering context\n",
      "Inside context\n",
      "Exiting context\n"
     ]
    }
   ],
   "source": [
    "class MyContextManager:\n",
    "    def __enter__(self):\n",
    "        print(\"Entering context\")\n",
    "        return self\n",
    "\n",
    "    def __exit__(self, exc_type, exc_value, traceback):\n",
    "        print(\"Exiting context\")\n",
    "\n",
    "\n",
    "with MyContextManager() as cm:\n",
    "    print(\"Inside context\")"
   ]
  },
  {
   "cell_type": "markdown",
   "metadata": {},
   "source": [
    "Here, the `open()` function returns a file object, and its `__enter__` method is called, which essentially does nothing special in this case. When the block inside the with statement is exited, the `__exit__` method of the file object is called, which closes the file. This ensures that the file is closed even if an exception occurs inside the block."
   ]
  },
  {
   "cell_type": "code",
   "execution_count": 22,
   "metadata": {},
   "outputs": [
    {
     "name": "stdout",
     "output_type": "stream",
     "text": [
      "without: Hello again, world!\n",
      "with: Hello, copy World!\n"
     ]
    }
   ],
   "source": [
    "# Without context manager\n",
    "file = open(\"../examples/sample.txt\", \"r\")\n",
    "content = file.read()\n",
    "print(\"without:\", content)\n",
    "file.close()\n",
    "\n",
    "# With context manager\n",
    "with open(\"../examples/sample copy.txt\", \"r\") as file:\n",
    "    content = file.read()\n",
    "    print(\"with:\", content)"
   ]
  },
  {
   "cell_type": "markdown",
   "metadata": {},
   "source": [
    "With this context manager, you can ensure that database transactions are either committed if everything goes well or rolled back if an exception occurs."
   ]
  },
  {
   "cell_type": "code",
   "execution_count": 23,
   "metadata": {},
   "outputs": [],
   "source": [
    "class DatabaseTransaction:\n",
    "    def __init__(self, db_connection):\n",
    "        self.connection = db_connection\n",
    "\n",
    "    def __enter__(self):\n",
    "        # Begin the transaction\n",
    "        self.connection.begin()\n",
    "        return self.connection\n",
    "\n",
    "    def __exit__(self, exc_type, exc_value, traceback):\n",
    "        if exc_type is not None:\n",
    "            # If an exception occurred, rollback the transaction\n",
    "            self.connection.rollback()\n",
    "        else:\n",
    "            # Otherwise, commit the changes\n",
    "            self.connection.commit()"
   ]
  },
  {
   "cell_type": "markdown",
   "metadata": {},
   "source": [
    "#### contextlib <a id=\"contextlib\"></a>\n",
    "\n",
    "The `contextlib` module in Python's standard library provides utilities to work with context management more easily. While you can always create context managers using classes (by defining `__enter__` and `__exit__` methods), contextlib offers shortcuts and additional utilities.\n",
    "\n",
    "Here are some of the main features of the contextlib module:\n",
    "\n",
    "- `contextmanager` decorator: This decorator turns a generator into a context manager, allowing you to create a context manager using a function instead of a class.\n",
    "\n",
    "- `closing` function: This function creates a context manager that closes the specified object when the context manager is exited.\n",
    "\n",
    "- `suppress(*exceptions)`: Returns a context manager that suppresses any of the specified exceptions if they occur in the body of a with statement.\n",
    "\n",
    "- `redirect_stdout` and `redirect_stderr` functions: These functions create context managers that redirect stdout and stderr to the specified file-like objects.\n",
    "\n",
    "- `ExitStack` class: This class allows you to combine multiple context managers into a single context manager.\n",
    "\n",
    "These are just a few of the utilities provided by the contextlib module. They simplify the creation and use of context managers, making resource management in Python more flexible and readable."
   ]
  },
  {
   "cell_type": "code",
   "execution_count": 24,
   "metadata": {},
   "outputs": [
    {
     "name": "stdout",
     "output_type": "stream",
     "text": [
      "Entering context\n",
      "Inside context\n",
      "Exiting context\n"
     ]
    }
   ],
   "source": [
    "from contextlib import contextmanager\n",
    "\n",
    "\n",
    "@contextmanager\n",
    "def my_context_manager():\n",
    "    print(\"Entering context\")\n",
    "    yield\n",
    "    print(\"Exiting context\")\n",
    "\n",
    "\n",
    "with my_context_manager():\n",
    "    print(\"Inside context\")"
   ]
  },
  {
   "cell_type": "markdown",
   "metadata": {},
   "source": [
    "In this example, we define a context manager using the `@contextmanager` decorator and a generator function `my_context_manager()`. The `yield` statement is used to define the boundary between the `__enter__()` and `__exit__()` methods. The `print()` statements are used to indicate when the context is being entered and exited.\n",
    "\n",
    "We use the `with` statement to create a context manager that automatically calls the `__enter__()` and `__exit__()` methods. We use the `my_context_manager()` function as a context manager by calling it with the `with` statement. We then print a message indicating that we are inside the context."
   ]
  },
  {
   "cell_type": "code",
   "execution_count": 25,
   "metadata": {},
   "outputs": [
    {
     "name": "stdout",
     "output_type": "stream",
     "text": [
      "17\n"
     ]
    }
   ],
   "source": [
    "from contextlib import closing\n",
    "from urllib.request import urlopen\n",
    "\n",
    "lines = []\n",
    "with closing(urlopen(\"https://www.google.com\")) as page:\n",
    "    for line in page:\n",
    "        lines.append(line)\n",
    "\n",
    "print(len(lines))"
   ]
  },
  {
   "cell_type": "code",
   "execution_count": 26,
   "metadata": {},
   "outputs": [],
   "source": [
    "import os\n",
    "from contextlib import suppress\n",
    "\n",
    "with suppress(FileNotFoundError):\n",
    "    os.remove(\"somefile.tmp\")\n",
    "# This code will suppress a FileNotFoundError if the file doesn't exist."
   ]
  },
  {
   "cell_type": "code",
   "execution_count": 27,
   "metadata": {},
   "outputs": [
    {
     "name": "stdout",
     "output_type": "stream",
     "text": [
      "This will be written to f instead of stdout\n",
      "\n"
     ]
    }
   ],
   "source": [
    "import io\n",
    "from contextlib import redirect_stdout\n",
    "\n",
    "f = io.StringIO()\n",
    "with redirect_stdout(f):\n",
    "    print(\"This will be written to f instead of stdout\")\n",
    "print(f.getvalue())"
   ]
  },
  {
   "cell_type": "code",
   "execution_count": 28,
   "metadata": {},
   "outputs": [],
   "source": [
    "from contextlib import ExitStack\n",
    "\n",
    "filenames = [\"../examples/sample.txt\", \"../examples/sample copy.txt\"]\n",
    "with ExitStack() as stack:\n",
    "    files = [stack.enter_context(open(fname)) for fname in filenames]\n",
    "    # All files will be properly closed at the end of the with block"
   ]
  }
 ],
 "metadata": {
  "kernelspec": {
   "display_name": "Python 3",
   "language": "python",
   "name": "python3"
  },
  "language_info": {
   "codemirror_mode": {
    "name": "ipython",
    "version": 3
   },
   "file_extension": ".py",
   "mimetype": "text/x-python",
   "name": "python",
   "nbconvert_exporter": "python",
   "pygments_lexer": "ipython3",
   "version": "3.11.7"
  },
  "orig_nbformat": 4
 },
 "nbformat": 4,
 "nbformat_minor": 2
}
