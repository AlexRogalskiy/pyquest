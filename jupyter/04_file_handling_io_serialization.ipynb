{
 "cells": [
  {
   "cell_type": "markdown",
   "metadata": {},
   "source": [
    "## Part IV: File Handling, I/O, and Serialization <a id=\"4-file-io-serialization\"></a>"
   ]
  },
  {
   "cell_type": "markdown",
   "metadata": {},
   "source": [
    "### 1. File Operations <a id=\"file-operations\"></a>\n",
    "\n",
    "File operations in Python are crucial for reading from and writing to files on your computer. These operations allow your programs to save data permanently, work with configuration files, or read data from existing files for processing. \n",
    "\n",
    "Python makes file operations straightforward through its built-in functions and methods. The most common operations involve opening a file, reading from it, writing to it, and closing it."
   ]
  },
  {
   "cell_type": "markdown",
   "metadata": {},
   "source": [
    "#### Opening a File <a id=\"opening-a-file\"></a>\n",
    "\n",
    "Use the `open(file_name, mode)` function to open a file. It returns a file object and takes two main parameters: the `file_name` and the `mode` ('r' for reading, 'w' for writing, 'a' for appending, and 'b' for binary mode)."
   ]
  },
  {
   "cell_type": "markdown",
   "metadata": {},
   "source": [
    "#### Reading from a File <a id=\"reading-from-a-file\"></a>\n",
    "\n",
    "Once a file is opened in read mode ('r'), you can use methods like `.read()`, `.readline()`, or `.readlines()` to read its content.\n",
    "\n",
    "- `.read(size)` reads size bytes, or if size is omitted or negative, it reads the entire file.\n",
    "- `.readline()` reads a single line from the file.\n",
    "- `.readlines()` reads all the lines in a file and returns them as a list."
   ]
  },
  {
   "cell_type": "markdown",
   "metadata": {},
   "source": [
    "#### Writing to a File <a id=\"writing-to-a-file\"></a>\n",
    "\n",
    "Opening a file in write ('w') or append ('a') mode allows you to write or add content to the file. Use `.write(string)` to write the specified string to the file. For writing multiple lines, `.writelines(list)` can be used.\n",
    "\n",
    "- `.write(string)` writes the string to the file.\n",
    "- `.writelines(sequence)` writes a sequence of strings to the file."
   ]
  },
  {
   "cell_type": "markdown",
   "metadata": {},
   "source": [
    "#### Closing a File <a id=\"closing-a-file\"></a>\n",
    "\n",
    "After finishing with a file, it's crucial to close it using the .close() method to free up system resources. Failure to close files can lead to memory leaks and other resource issues."
   ]
  },
  {
   "cell_type": "code",
   "execution_count": 1,
   "metadata": {},
   "outputs": [
    {
     "name": "stdout",
     "output_type": "stream",
     "text": [
      "Alice\n",
      "Bob\n",
      "Charlie\n",
      "------\n",
      "Alice\n",
      "Bob\n",
      "Charlie\n",
      "Diana\n"
     ]
    }
   ],
   "source": [
    "# Step 1: Read from the original file\n",
    "names = []  # List to hold names\n",
    "with open(\"../examples/names.txt\", \"r\") as file_reader:\n",
    "    for line in file_reader:\n",
    "        # Strip newline characters and add to list\n",
    "        names.append(line.strip())\n",
    "        print(line.strip())\n",
    "\n",
    "# Step 2: Data manipulation\n",
    "new_name = \"Diana\"\n",
    "if new_name not in names:  # Avoid duplicate\n",
    "    names.append(new_name)\n",
    "\n",
    "# Step 3: Write to a new file\n",
    "with open(\"../examples/updated_names.txt\", \"w\") as file_writer:\n",
    "    for name in names:\n",
    "        file_writer.write(name + \"\\n\")  # Add newline to put each name on a new line\n",
    "\n",
    "print(\"------\")\n",
    "\n",
    "# Check the new file\n",
    "with open(\"../examples/updated_names.txt\", \"r\") as file_reader:\n",
    "    for line in file_reader:\n",
    "        print(line.strip())\n",
    "\n",
    "# The 'with' statement automatically handles file closing."
   ]
  },
  {
   "cell_type": "markdown",
   "metadata": {},
   "source": [
    "### 2. Working with Directories <a id=\"working-with-directories\"></a>\n",
    "\n",
    "Working with directories in Python involves managing folders on your file system. This includes tasks such as creating, listing, renaming, and removing directories. The os module in Python provides a portable way of using operating system-dependent functionality like navigating and manipulating the file system.\n",
    "\n",
    "Key Functions in the os module for Directories:\n",
    "- `os.listdir(path)`: Lists all files and directories in the specified path.\n",
    "- `os.mkdir(path)`: Creates a directory at the specified path. Raises an error if the directory already exists.\n",
    "- `os.makedirs(path)`: Similar to os.mkdir, but also creates all intermediate-level directories needed to contain the leaf directory.\n",
    "- `os.rmdir(path)`: Removes the specified directory. The directory must be empty.\n",
    "- `os.removedirs(path)`: Removes directories recursively. It removes leaf directory and all empty intermediate ones.\n",
    "- `os.rename(src, dst)`: Renames a file or directory from src to dst."
   ]
  },
  {
   "cell_type": "code",
   "execution_count": 2,
   "metadata": {},
   "outputs": [
    {
     "name": "stdout",
     "output_type": "stream",
     "text": [
      "Directory contents: ['names.txt', 'example.csv', 'data.pickle', 'person.json', 'sample-graph.png', 'updated_names.txt', 'sample copy.txt', 'bytes.bin', 'sample.txt']\n"
     ]
    }
   ],
   "source": [
    "import os\n",
    "\n",
    "# Create a new directory\n",
    "os.mkdir(\"new_directory\")\n",
    "\n",
    "# Create a directory and intermediate directories\n",
    "os.makedirs(\"new_directory/intermediate_directory\")\n",
    "\n",
    "# List contents of the current directory\n",
    "contents = os.listdir(\"../examples/\")\n",
    "print(\"Directory contents:\", contents)\n",
    "\n",
    "# Rename the directory\n",
    "os.rename(\"new_directory\", \"renamed_directory\")\n",
    "\n",
    "# Remove a directory (must be empty)\n",
    "os.rmdir(\"renamed_directory/intermediate_directory\")\n",
    "\n",
    "# Remove the now empty parent directory\n",
    "os.rmdir(\"renamed_directory\")"
   ]
  },
  {
   "cell_type": "markdown",
   "metadata": {},
   "source": [
    "### 3. Serialization <a id=\"serialization\"></a>\n",
    "\n",
    "Serialization in Python refers to the process of converting a Python object into a byte stream (a sequence of bytes) that can be saved to a file or transmitted over a network. This byte stream can then be deserialized back into a Python object. This process is crucial for saving complex data structures, like lists and dictionaries, to a file or sending them over a network for distributed computing tasks."
   ]
  },
  {
   "cell_type": "markdown",
   "metadata": {},
   "source": [
    "#### Pickling and Unpickling <a id=\"pickling-and-unpickling\"></a>\n",
    "\n",
    "The most common serialization technique in Python is using the pickle module. \"Pickling\" is the act of serializing an object, and \"unpickling\" is the process of deserializing the byte stream back into an object.\n",
    "\n",
    "- **Pickling**: Convert a Python object into a byte stream.\n",
    "- **Unpickling**: Convert a byte stream back into a Python object.\n",
    "\n",
    "Be cautious when unpickling objects from an untrusted source. Since pickle can execute arbitrary code, it may pose a security risk."
   ]
  },
  {
   "cell_type": "code",
   "execution_count": 3,
   "metadata": {},
   "outputs": [
    {
     "name": "stdout",
     "output_type": "stream",
     "text": [
      "Loaded data: {'key': 'value', 'list': [1, 2, 3, 4, 5]}\n"
     ]
    }
   ],
   "source": [
    "import pickle\n",
    "\n",
    "# Define a sample dictionary\n",
    "data = {\"key\": \"value\", \"list\": [1, 2, 3, 4, 5]}\n",
    "\n",
    "# Pickling: Serializing the Python object to a byte stream\n",
    "with open(\"../examples/data.pickle\", \"wb\") as file:\n",
    "    pickle.dump(data, file)\n",
    "\n",
    "# Unpickling: Deserializing the byte stream back to a Python object\n",
    "with open(\"../examples/data.pickle\", \"rb\") as file:\n",
    "    loaded_data = pickle.load(file)\n",
    "\n",
    "print(\"Loaded data:\", loaded_data)"
   ]
  },
  {
   "cell_type": "markdown",
   "metadata": {},
   "source": [
    "### 4. Structured Data Formats <a id=\"structured-data-formats\"></a>\n",
    "\n",
    "Structured data formats organize and store data in a way that is easily readable by both humans and computers. These formats are essential for data interchange between different applications, systems, or programming languages. Python supports several structured data formats, including JSON, YAML, CSV, and XML, each serving different needs and use cases.\n",
    "\n",
    "- **JSON (JavaScript Object Notation)**: Widely used for web APIs and config files. Features: Lightweight, text-based, language-independent.\n",
    "- **YAML (YAML Ain't Markup Language)**: Common for configuration files, more readable for humans than JSON. Features: Supports complex data structures, more flexible and readable.\n",
    "- **CSV (Comma-Separated Values)**: Data exchange format for spreadsheets or databases. Features: Simple format, each line is a data record, fields separated by commas.\n",
    "- **XML (eXtensible Markup Language)**: General purpose, structured document format with custom tags. Features: Hierarchical structure, self-descriptive tags, supports metadata."
   ]
  },
  {
   "cell_type": "markdown",
   "metadata": {},
   "source": [
    "#### JSON <a id=\"json\"></a>\n",
    "\n",
    "**JSON** (JavaScript Object Notation) is a lightweight data-interchange format that's easy for humans to read and write and easy for machines to parse and generate. It's widely used for web APIs and configuration files.\n",
    "\n",
    "Key Features:\n",
    "- **Text-based**: JSON is purely text, which can be sent anywhere that text can be sent.\n",
    "- **Human-readable**: Its structure is simple, making it easy for humans to read and write.\n",
    "- **Hierarchical**: JSON can represent multiple levels of nested data, allowing complex data structures to be efficiently represented.\n",
    "\n",
    "Python's built-in `json` module provides functions to work with JSON data. Key functions include:\n",
    "- `json.dumps(obj)`: Serializes obj to a JSON-formatted str.\n",
    "- `json.loads(s)`: Deserializes s (a str, bytes or bytearray instance containing a JSON document) to a Python object.\n",
    "- `json.dump(obj, file)`: Serializes obj as a JSON formatted stream to file.\n",
    "- `json.load(file)`: Deserializes file to a Python object."
   ]
  },
  {
   "cell_type": "code",
   "execution_count": 4,
   "metadata": {},
   "outputs": [
    {
     "name": "stdout",
     "output_type": "stream",
     "text": [
      "JSON representation: {\"name\": \"Alice\", \"age\": 30, \"city\": \"London\", \"hasPets\": false}\n",
      "Back to Python dictionary: {'name': 'Alice', 'age': 30, 'city': 'London', 'hasPets': False}\n",
      "Read from file: {'name': 'Alice', 'age': 30, 'city': 'London', 'hasPets': False}\n"
     ]
    }
   ],
   "source": [
    "import json\n",
    "\n",
    "person = {\"name\": \"Alice\", \"age\": 30, \"city\": \"London\", \"hasPets\": False}\n",
    "\n",
    "# Serialize the dictionary to a JSON string\n",
    "person_json = json.dumps(person)\n",
    "print(\"JSON representation:\", person_json)\n",
    "\n",
    "# Deserialize the JSON back into a Python dictionary\n",
    "person_dict = json.loads(person_json)\n",
    "print(\"Back to Python dictionary:\", person_dict)\n",
    "\n",
    "# Writing JSON to a file\n",
    "with open(\"../examples/person.json\", \"w\") as file:\n",
    "    json.dump(person, file)\n",
    "\n",
    "# Reading JSON from a file\n",
    "with open(\"../examples/person.json\", \"r\") as file:\n",
    "    person_read = json.load(file)\n",
    "    print(\"Read from file:\", person_read)"
   ]
  },
  {
   "cell_type": "markdown",
   "metadata": {},
   "source": [
    "#### YAML <a id=\"yaml\"></a>\n",
    "\n",
    "**YAML** (YAML Ain't Markup Language) is a human-readable data serialization standard that can be used in conjunction with all programming languages and is often used for configuration files. It is particularly known for its easy readability and its ability to represent hierarchical data structures. YAML is a superset of JSON, which means JSON files are also valid YAML files.\n",
    "\n",
    "Key Features:\n",
    "- **Human-Readable**: Designed to be easy for humans to read and write.\n",
    "- **Hierarchical Data Structure**: Supports complex data structures including lists, associative arrays, and scalars.\n",
    "- **Cross-Language**: YAML can be used with any programming language that has a YAML library.\n",
    "- **Indentation**: Uses indentation to represent hierarchy, similar to how Python uses indentation to represent code blocks.\n",
    "\n",
    "To work with YAML in Python, you typically use the `PyYAML` library, which is not included in the standard library and needs to be installed separately using a package manager like `pip`."
   ]
  },
  {
   "cell_type": "code",
   "execution_count": 5,
   "metadata": {},
   "outputs": [
    {
     "name": "stdout",
     "output_type": "stream",
     "text": [
      "Loaded YAML to Python object: {'name': 'John Doe', 'age': 30, 'married': True, 'children': [{'name': 'Jane Doe', 'age': 10}]}\n",
      "Python object back to YAML:\n",
      " age: 30\n",
      "children:\n",
      "- age: 10\n",
      "  name: Jane Doe\n",
      "married: true\n",
      "name: John Doe\n",
      "\n"
     ]
    }
   ],
   "source": [
    "# pip install PyYAML (if not already installed)\n",
    "\n",
    "import yaml\n",
    "\n",
    "# YAML string\n",
    "yaml_str = \"\"\"\n",
    "name: John Doe\n",
    "age: 30\n",
    "married: true\n",
    "children:\n",
    "  - name: Jane Doe\n",
    "    age: 10\n",
    "\"\"\"\n",
    "\n",
    "# Load YAML string into Python dictionary\n",
    "data = yaml.safe_load(yaml_str)\n",
    "print(\"Loaded YAML to Python object:\", data)\n",
    "\n",
    "# Convert Python dictionary back into YAML string\n",
    "yaml_out = yaml.dump(data)\n",
    "print(\"Python object back to YAML:\\n\", yaml_out)"
   ]
  },
  {
   "cell_type": "markdown",
   "metadata": {},
   "source": [
    "#### CSV <a id=\"csv\"></a>\n",
    "\n",
    "**CSV** (Comma-Separated Values) format is a simple file format used to store tabular data, such as a database or spreadsheet. Each line in a CSV file corresponds to a row in the table, and each field (or cell) in that row is separated by a comma.\n",
    "\n",
    "Key Features:\n",
    "- **Simplicity**: CSV files are easy to read and write by both humans and machines.\n",
    "- **Compatibility**: Can be imported to and exported from programs that store data in tables, such as Excel or Google Sheets.\n",
    "- **Flexibility**: Supports text data and numbers, making it versatile for various use cases.\n",
    "\n",
    "Python provides a built-in `csv` module to easily deal with CSV files. This module presents functions to read, write, and manipulate data in CSV format."
   ]
  },
  {
   "cell_type": "code",
   "execution_count": 6,
   "metadata": {},
   "outputs": [
    {
     "name": "stdout",
     "output_type": "stream",
     "text": [
      "Using csv.reader:\n",
      "['name', 'age', 'city']\n",
      "['Alice', '30', 'New York']\n",
      "['Bob', '25', 'Los Angeles']\n",
      "Using DictReader:\n",
      "Alice 30 New York\n",
      "Bob 25 Los Angeles\n"
     ]
    }
   ],
   "source": [
    "import csv\n",
    "\n",
    "# Writing to a CSV file\n",
    "with open(\"../examples/example.csv\", \"w\", newline=\"\") as file:\n",
    "    writer = csv.writer(file)\n",
    "    writer.writerow([\"name\", \"age\", \"city\"])\n",
    "    writer.writerow([\"Alice\", \"30\", \"New York\"])\n",
    "    writer.writerow([\"Bob\", \"25\", \"Los Angeles\"])\n",
    "\n",
    "# Reading from a CSV file\n",
    "with open(\"../examples/example.csv\", \"r\") as file:\n",
    "    reader = csv.reader(file)\n",
    "    print(\"Using csv.reader:\")\n",
    "    for row in reader:\n",
    "        print(row)\n",
    "\n",
    "# Using DictReader for more intuitive access by column names\n",
    "with open(\"../examples/example.csv\", \"r\") as file:\n",
    "    reader = csv.DictReader(file)\n",
    "    print(\"Using DictReader:\")\n",
    "    for row in reader:\n",
    "        print(row[\"name\"], row[\"age\"], row[\"city\"])"
   ]
  },
  {
   "cell_type": "markdown",
   "metadata": {},
   "source": [
    "#### XML <a id=\"xml\"></a>\n",
    "\n",
    "**XML** (eXtensible Markup Language) is a markup language that defines a set of rules for encoding documents in a format that is both human-readable and machine-readable. It is widely used for representing structured data in web services, configuration files, and data interchange between different systems.\n",
    "\n",
    "Key Features:\n",
    "- **Structured Data**: XML represents data in a hierarchical structure, which is flexible and can represent complex data relationships.\n",
    "- **Self-descriptive**: XML documents can be self-descriptive, meaning the tags used in the documents can describe the data itself.\n",
    "- **Widely Supported**: XML is a standard format supported by a multitude of tools and libraries across various programming languages.\n",
    "\n",
    "Python's built-in `xml` module provides functions to work with XML data. The `ElementTree` module in the `xml` package provides a simple and lightweight way to work with XML data. It allows you to create, parse, and manipulate XML documents."
   ]
  },
  {
   "cell_type": "code",
   "execution_count": 7,
   "metadata": {},
   "outputs": [
    {
     "name": "stdout",
     "output_type": "stream",
     "text": [
      "Title: Python Programming, Author: John Doe\n",
      "Title: Learning XML, Author: Jane Smith\n",
      "new_xml: <library>\n",
      "    <book>\n",
      "        <title>Python Programming</title>\n",
      "        <author>John Doe</author>\n",
      "    </book>\n",
      "    <book>\n",
      "        <title>Learning XML</title>\n",
      "        <author>Jane Smith</author>\n",
      "    </book>\n",
      "<book><title>New Book Title</title><author>New Author Name</author></book></library>\n"
     ]
    }
   ],
   "source": [
    "import xml.etree.ElementTree as ET\n",
    "\n",
    "# Sample XML data\n",
    "xml_data = \"\"\"<?xml version=\"1.0\"?>\n",
    "<library>\n",
    "    <book>\n",
    "        <title>Python Programming</title>\n",
    "        <author>John Doe</author>\n",
    "    </book>\n",
    "    <book>\n",
    "        <title>Learning XML</title>\n",
    "        <author>Jane Smith</author>\n",
    "    </book>\n",
    "</library>\"\"\"\n",
    "\n",
    "# Parsing XML data\n",
    "root = ET.fromstring(xml_data)\n",
    "\n",
    "# Finding all 'book' elements\n",
    "for book in root.findall(\"book\"):\n",
    "    title = book.find(\"title\").text\n",
    "    author = book.find(\"author\").text\n",
    "    print(f\"Title: {title}, Author: {author}\")\n",
    "\n",
    "# Creating a new XML element\n",
    "new_book = ET.Element(\"book\")\n",
    "new_title = ET.SubElement(new_book, \"title\")\n",
    "new_title.text = \"New Book Title\"\n",
    "new_author = ET.SubElement(new_book, \"author\")\n",
    "new_author.text = \"New Author Name\"\n",
    "\n",
    "# Adding the new book to the library\n",
    "root.append(new_book)\n",
    "\n",
    "# Converting the modified XML back to a string\n",
    "new_xml = ET.tostring(root, encoding=\"unicode\")\n",
    "print(\"new_xml:\", new_xml)"
   ]
  },
  {
   "cell_type": "markdown",
   "metadata": {},
   "source": [
    "### 5. Data Encoding and Decoding <a id=\"data-encoding-and-decoding\"></a>\n",
    "\n",
    "Data encoding and decoding involve the processes of transforming data into a different format using a scheme that is understood by both the sender and receiver. This transformation is essential for data storage, transmission, or communication between different systems. Encoding converts data from a source format into a format suitable for transmission or storage, while decoding reverses the process, converting the encoded data back into its original format."
   ]
  },
  {
   "cell_type": "markdown",
   "metadata": {},
   "source": [
    "#### base64 <a id=\"base64\"></a>\n",
    "\n",
    "Base64 is a binary-to-text encoding scheme that represents binary data in an ASCII string format by translating it into a radix-64 representation. It is commonly used in email and HTML to encode binary files like images or documents to attach or embed them in textual mediums.\n",
    "\n",
    "Python's built-in `base64` module provides functions to encode and decode data using the base64 encoding scheme."
   ]
  },
  {
   "cell_type": "code",
   "execution_count": 8,
   "metadata": {},
   "outputs": [
    {
     "name": "stdout",
     "output_type": "stream",
     "text": [
      "Encoded data: b'UHl0aG9uIGlzIGZ1biE='\n",
      "Decoded data: Python is fun!\n"
     ]
    }
   ],
   "source": [
    "import base64\n",
    "\n",
    "# Original data\n",
    "data = \"Python is fun!\"\n",
    "\n",
    "# Encoding data\n",
    "encoded_data = base64.b64encode(data.encode())\n",
    "print(f\"Encoded data: {encoded_data}\")\n",
    "\n",
    "# Decoding data\n",
    "decoded_data = base64.b64decode(encoded_data).decode()\n",
    "print(f\"Decoded data: {decoded_data}\")"
   ]
  },
  {
   "cell_type": "markdown",
   "metadata": {},
   "source": [
    "#### Unicode <a id=\"unicode\"></a>\n",
    "\n",
    "Unicode is a computing industry standard designed to consistently encode, represent, and handle text expressed in most of the world's writing systems. In Python, strings are stored as Unicode by default.\n",
    "\n",
    "Python's built-in `str` type is used to represent Unicode strings, and the `encode()` and `decode()` methods are used to convert between Unicode and byte strings."
   ]
  },
  {
   "cell_type": "code",
   "execution_count": 9,
   "metadata": {},
   "outputs": [
    {
     "name": "stdout",
     "output_type": "stream",
     "text": [
      "Encoded text: b'Pyth\\xc3\\xb6n is interesting!'\n",
      "Decoded text: Pythön is interesting!\n"
     ]
    }
   ],
   "source": [
    "# Unicode string\n",
    "text = \"Pythön is interesting!\"\n",
    "\n",
    "# Encoding: Convert to UTF-8 bytes\n",
    "encoded_text = text.encode(\"utf-8\")\n",
    "print(f\"Encoded text: {encoded_text}\")\n",
    "\n",
    "# Decoding: Convert back to Unicode\n",
    "decoded_text = encoded_text.decode(\"utf-8\")\n",
    "print(f\"Decoded text: {decoded_text}\")"
   ]
  }
 ],
 "metadata": {
  "kernelspec": {
   "display_name": "Python 3",
   "language": "python",
   "name": "python3"
  },
  "language_info": {
   "codemirror_mode": {
    "name": "ipython",
    "version": 3
   },
   "file_extension": ".py",
   "mimetype": "text/x-python",
   "name": "python",
   "nbconvert_exporter": "python",
   "pygments_lexer": "ipython3",
   "version": "3.11.7"
  },
  "orig_nbformat": 4
 },
 "nbformat": 4,
 "nbformat_minor": 2
}
