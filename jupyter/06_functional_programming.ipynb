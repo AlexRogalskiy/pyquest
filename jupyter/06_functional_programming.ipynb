{
 "cells": [
  {
   "cell_type": "markdown",
   "metadata": {},
   "source": [
    "# Part VI: Functional Programming <a id=\"6-fp\"></a>"
   ]
  },
  {
   "cell_type": "markdown",
   "metadata": {},
   "source": [
    "1. [Lambda Functions](#lambda-functions)\n",
    "2. [Comprehensions](#comprehensions)\n",
    "    - [List comprehension](#list-comprehension)\n",
    "    - [Dict comprehension](#dict-comprehension)\n",
    "    - [Set comprehension](#set-comprehension)\n",
    "3. [Functools](#functools)\n",
    "    - [map](#map)\n",
    "    - [filter](#filter)\n",
    "    - [reduce](#reduce)\n",
    "4. [Bisect](#bisect)\n",
    "    - [bisect_left, bisect_right](#bisect-left-right)\n",
    "    - [insort_left, insort_right](#insort-left-right)\n",
    "5. [Decorators](#decorators)\n",
    "    - [Decorator](#decorator)\n",
    "    - [Parametrized decorator](#parametrized-decorator)\n",
    "    - [functools.wraps](#functools-wraps)\n",
    "    - [LRU Cache](#lru-cache)\n",
    "6. [Generators](#generators)\n",
    "    - [yield](#yield)\n",
    "    - [Generator expression](#generator-expression)\n",
    "    - [yield from](#yield-from)\n",
    "7. [Iterators](#iterators)\n",
    "    - [Building an iterator](#building-iterator)"
   ]
  },
  {
   "cell_type": "markdown",
   "metadata": {},
   "source": [
    "**Functional Programming** is a programming paradigm that treats computation as the evaluation of mathematical functions and avoids changing-state and mutable data. It emphasizes the application of functions in a way that the output of a function is only dependent on its input arguments, without any side effects (i.e., changes to the state of the program outside the function).\n",
    "\n",
    "Python supports functional programming by providing features such as *first-class functions* (functions can be passed around and used as arguments), *higher-order functions* (functions that can take functions as arguments and return functions), *lambda functions* (anonymous functions), and built-in functions like `map`, `filter`, and `reduce` for operating on collections. Python also includes `list`, `dictionary`, and `set` comprehensions for creating new collections based on existing ones in a concise and readable way, as well as decorators for enhancing the behavior of functions and methods without permanently modifying their functionality.\n",
    "\n",
    "Functional programming can lead to cleaner, more concise, and more predictable code that is easier to test and debug."
   ]
  },
  {
   "cell_type": "markdown",
   "metadata": {},
   "source": [
    "## 1. Lambda Functions <a id=\"lambda-functions\"></a>\n",
    "\n",
    "_Lambda functions_, also known as anonymous functions, are small, one-line functions defined without a name. They use the keyword `lambda` followed by a list of arguments, a colon, and an expression which the function will return when called. Lambda functions can have any number of arguments but only one expression. \n",
    "\n",
    "They are handy for short, simple functions that are used only once, or for a short period, within a larger function or a command."
   ]
  },
  {
   "cell_type": "code",
   "execution_count": 4,
   "metadata": {},
   "outputs": [
    {
     "name": "stdout",
     "output_type": "stream",
     "text": [
      "[1, 4, 9, 16, 25]\n",
      "[3, 4, 5]\n",
      "[(4, 'four'), (1, 'one'), (3, 'three'), (2, 'two')]\n"
     ]
    }
   ],
   "source": [
    "numbers = [1, 2, 3, 4, 5]\n",
    "\n",
    "# Using lambda to square each number\n",
    "squared = list(map(lambda x: x**2, numbers))\n",
    "print(squared)\n",
    "\n",
    "# Filtering numbers greater than 2\n",
    "filtered = list(filter(lambda x: x > 2, numbers))\n",
    "print(filtered)\n",
    "\n",
    "# Sorting a list of tuples by the second item\n",
    "pairs = [(1, \"one\"), (2, \"two\"), (3, \"three\"), (4, \"four\")]\n",
    "pairs.sort(key=lambda pair: pair[1])\n",
    "print(pairs)"
   ]
  },
  {
   "cell_type": "markdown",
   "metadata": {},
   "source": [
    "## 2. Comprehensions <a id=\"comprehensions\"></a>\n",
    "\n",
    "_Comprehensions_ are a concise way to create new collections (lists, dictionaries, and sets) by applying an expression to each item in an existing collection. They are a powerful feature of Python that allows for more readable and efficient code."
   ]
  },
  {
   "cell_type": "markdown",
   "metadata": {},
   "source": [
    "### List comprehension <a id=\"list-comprehension\"></a>\n",
    "\n",
    "_List comprehensions_ provide a concise way to create lists. The result will be a new list resulting from evaluating the expression in the context of the `for` and `if` clauses which follow it.\n",
    "\n",
    "The syntax for list comprehensions is:\n",
    "[`expressions` for `item` in `collection` if `condition`]"
   ]
  },
  {
   "cell_type": "code",
   "execution_count": 5,
   "metadata": {},
   "outputs": [
    {
     "name": "stdout",
     "output_type": "stream",
     "text": [
      "Squared: [1, 4, 9, 16, 25]\n",
      "Even: [4, 16]\n",
      "Flattened: [1, 2, 3, 4, 5, 6, 7, 8, 9]\n"
     ]
    }
   ],
   "source": [
    "numbers = [1, 2, 3, 4, 5]\n",
    "\n",
    "squared_numbers = [number**2 for number in numbers]\n",
    "print(\"Squared:\", squared_numbers)\n",
    "\n",
    "even_squares = [number**2 for number in numbers if number % 2 == 0]\n",
    "print(\"Even:\", even_squares)\n",
    "\n",
    "matrix = [[1, 2, 3], [4, 5, 6], [7, 8, 9]]\n",
    "\n",
    "flattened = [elem for row in matrix for elem in row]\n",
    "print(\"Flattened:\", flattened)"
   ]
  },
  {
   "cell_type": "markdown",
   "metadata": {},
   "source": [
    "### Dict comprehension <a id=\"dict-comprehension\"></a>\n",
    "\n",
    "_Dictionary comprehensions_ provide a concise way to create dictionaries. The result will be a new dictionary resulting from evaluating the key-value pairs in the context of the `for` and `if` clauses which follow them.\n",
    "\n",
    "The syntax for dictionary comprehensions is:\n",
    "{`key`:`value` for `item` in `collection` if `condition`}"
   ]
  },
  {
   "cell_type": "code",
   "execution_count": 6,
   "metadata": {},
   "outputs": [
    {
     "name": "stdout",
     "output_type": "stream",
     "text": [
      "Squared: {1: 1, 2: 4, 3: 9, 4: 16, 5: 25}\n",
      "Inverted: {1: 'a', 2: 'b', 3: 'c'}\n",
      "Filtered: {'b': 34}\n"
     ]
    }
   ],
   "source": [
    "numbers = [1, 2, 3, 4, 5]\n",
    "squared_numbers = {number: number**2 for number in numbers}\n",
    "print(\"Squared:\", squared_numbers)\n",
    "\n",
    "original_dict = {\"a\": 1, \"b\": 2, \"c\": 3}\n",
    "inverted_dict = {value: key for key, value in original_dict.items()}\n",
    "print(\"Inverted:\", inverted_dict)\n",
    "\n",
    "original_dict = {\"a\": 10, \"b\": 34, \"c\": 7, \"d\": 5}\n",
    "filtered_dict = {k: v for k, v in original_dict.items() if v > 10}\n",
    "print(\"Filtered:\", filtered_dict)"
   ]
  },
  {
   "cell_type": "markdown",
   "metadata": {},
   "source": [
    "### Set comprehension <a id=\"set-comprehension\"></a>\n",
    "\n",
    "_Set comprehensions_ provide a concise way to create sets. The result will be a new set resulting from evaluating the expression in the context of the `for` and `if` clauses which follow it.\n",
    "\n",
    "The syntax for set comprehensions is:\n",
    "{`expressions` for `item` in `collection` if `condition`}"
   ]
  },
  {
   "cell_type": "code",
   "execution_count": 7,
   "metadata": {},
   "outputs": [
    {
     "name": "stdout",
     "output_type": "stream",
     "text": [
      "Unique: {1, 4, 9, 16, 25}\n",
      "Even: {0, 64, 4, 36, 16}\n"
     ]
    }
   ],
   "source": [
    "numbers = [1, 2, 2, 3, 4, 4, 5]\n",
    "unique_squares = {x**2 for x in numbers}\n",
    "print(\"Unique:\", unique_squares)\n",
    "\n",
    "numbers = range(10)\n",
    "even_squares = {x**2 for x in numbers if x % 2 == 0}\n",
    "print(\"Even:\", even_squares)"
   ]
  },
  {
   "cell_type": "markdown",
   "metadata": {},
   "source": [
    "## 3. Functools <a id=\"functools\"></a>\n",
    "\n",
    "The `functools` module in Python provides higher-order functions and operations on callable objects. It includes functions for creating and manipulating functions and for creating and using decorators."
   ]
  },
  {
   "cell_type": "markdown",
   "metadata": {},
   "source": [
    "### map <a id=\"map\"></a>\n",
    "\n",
    "The `map` function applies a given function to each item of an iterable (like a list, tuple, or set) and returns a list of the results. \n",
    "\n",
    "It is a higher-order built-in function that takes a function and an iterable as arguments and returns an iterator that applies the function to every item of the iterable, yielding the results.\n",
    "\n",
    "- Syntax: `map(function, iterable)`\n",
    "- Returns: an iterator that applies `function` to every item of `iterable`, yielding the results"
   ]
  },
  {
   "cell_type": "code",
   "execution_count": 8,
   "metadata": {},
   "outputs": [
    {
     "name": "stdout",
     "output_type": "stream",
     "text": [
      "[1, 4, 9, 16]\n"
     ]
    }
   ],
   "source": [
    "def square(number):\n",
    "    return number**2\n",
    "\n",
    "\n",
    "numbers = [1, 2, 3, 4]\n",
    "result = map(square, numbers)\n",
    "print(list(result))"
   ]
  },
  {
   "cell_type": "markdown",
   "metadata": {},
   "source": [
    "### filter <a id=\"filter\"></a>\n",
    "\n",
    "The `filter` function constructs an iterator from elements of an iterable for which a function returns `True`. \n",
    "\n",
    "It is a higher-order built-in function that takes a function and an iterable as arguments and returns an iterator that yields the items from the iterable for which the function returns `True`.\n",
    "\n",
    "- Syntax: `filter(function, iterable)`\n",
    "- Returns: an iterator that yields the items from `iterable` for which `function` returns `True`"
   ]
  },
  {
   "cell_type": "code",
   "execution_count": 9,
   "metadata": {},
   "outputs": [
    {
     "name": "stdout",
     "output_type": "stream",
     "text": [
      "[2, 4]\n"
     ]
    }
   ],
   "source": [
    "def is_even(number):\n",
    "    return number % 2 == 0\n",
    "\n",
    "\n",
    "numbers = [1, 2, 3, 4, 5]\n",
    "result = filter(is_even, numbers)\n",
    "print(list(result))"
   ]
  },
  {
   "cell_type": "markdown",
   "metadata": {},
   "source": [
    "### reduce <a id=\"reduce\"></a>\n",
    "\n",
    "The `reduce` function applies a function of two arguments cumulatively to the items of an iterable, from left to right, so as to reduce the iterable to a single value. \n",
    "\n",
    "It is a higher-order built-in function that takes a function and an iterable as arguments and returns a single value constructed by calling the function on the first two items of the iterable, then on the result and the next item, and so on.\n",
    "\n",
    "- Syntax: `functools.reduce(function, iterable[, initializer])`\n",
    "- Returns: a single value constructed by calling `function` on the first two items of `iterable`, then on the result and the next item, and so on"
   ]
  },
  {
   "cell_type": "code",
   "execution_count": 10,
   "metadata": {},
   "outputs": [
    {
     "name": "stdout",
     "output_type": "stream",
     "text": [
      "10\n"
     ]
    }
   ],
   "source": [
    "from functools import reduce\n",
    "\n",
    "\n",
    "def add(x, y):\n",
    "    return x + y\n",
    "\n",
    "\n",
    "numbers = [1, 2, 3, 4]\n",
    "result = reduce(add, numbers)\n",
    "print(result)"
   ]
  },
  {
   "cell_type": "markdown",
   "metadata": {},
   "source": [
    "## 4. Bisect <a id=\"bisect\"></a>\n",
    "\n",
    "The `bisect` module in Python provides support for maintaining a list in sorted order without having to sort the list after each insertion. It is useful for cases where a sequence of values is continually updated (e.g., incoming data points that need to be kept in sorted order) and you need efficient operations to find the insertion point for new elements to keep the list sorted. The `bisect` module offers two main functions: `bisect_left` and `bisect_right` (also known as `bisect`), and two convenience functions: `insort_left` and `insort_right`."
   ]
  },
  {
   "cell_type": "markdown",
   "metadata": {},
   "source": [
    "### bisect_left, bisect_right <a id=\"bisect-left-right\"></a>\n",
    "\n",
    "1. **bisect_left**\n",
    "\n",
    "The `bisect_left(a, x, lo=0, hi=len(a))` function locates the insertion point for `x` in a to maintain sorted order. The parameters `lo` and `hi` may be used to specify a subset of the list which should be considered. If `x` is already present in `a`, the insertion point will be before (to the left of) any existing entries. The return value is the index at which `x` should be inserted into `a`.\n",
    "\n",
    "2. **bisect_right** (or `bisect`)\n",
    "\n",
    "The `bisect_right(a, x, lo=0, hi=len(a))` (alias `bisect`) functions similarly to `bisect_left`, but if `x` is already in `a`, the insertion point will be after (to the right of) any existing entries. It returns an insertion point which comes after, or to the right of, any existing entries of `x` in `a`."
   ]
  },
  {
   "cell_type": "code",
   "execution_count": 11,
   "metadata": {},
   "outputs": [
    {
     "name": "stdout",
     "output_type": "stream",
     "text": [
      "bisect_left: 2\n",
      "bisect_right: 4\n"
     ]
    }
   ],
   "source": [
    "import bisect\n",
    "\n",
    "a = [1, 2, 4, 4, 5]\n",
    "x = 4\n",
    "\n",
    "# Find the position to insert x to maintain sorted order\n",
    "index = bisect.bisect_left(a, x)\n",
    "print(\"bisect_left:\", index)\n",
    "\n",
    "index = bisect.bisect_right(a, x)\n",
    "print(\"bisect_right:\", index)"
   ]
  },
  {
   "cell_type": "markdown",
   "metadata": {},
   "source": [
    "### insort_left, insort_right <a id=\"insort-left-right\"></a>\n",
    "\n",
    "1. **insort_left**\n",
    "\n",
    "The `insort_left(a, x, lo=0, hi=len(a))` function inserts `x` into a in sorted order. If `x` is already present in `a`, it inserts it to the left of the existing entries. The list remains in ascending order.\n",
    "\n",
    "2. **insort_right**\n",
    "\n",
    "The `insort_right(a, x, lo=0, hi=len(a))` (alias `insort`) function inserts `x` into `a` just like insort_left but if `x` is already in `a`, it inserts it to the right of the existing entries."
   ]
  },
  {
   "cell_type": "code",
   "execution_count": 12,
   "metadata": {},
   "outputs": [
    {
     "name": "stdout",
     "output_type": "stream",
     "text": [
      "insort_left: [1, 2, 3, 4, 5]\n",
      "insort_right: [1, 2, 3, 4, 4, 5]\n"
     ]
    }
   ],
   "source": [
    "import bisect\n",
    "\n",
    "a = [1, 2, 3, 5]\n",
    "bisect.insort_left(a, 4)\n",
    "print(\"insort_left:\", a)\n",
    "\n",
    "bisect.insort_right(a, 4)\n",
    "print(\"insort_right:\", a)"
   ]
  },
  {
   "cell_type": "markdown",
   "metadata": {},
   "source": [
    "## 5. Decorators <a id=\"decorators\"></a>\n",
    "\n",
    "_Decorators_ are a powerful feature in Python that allows the behavior of functions or methods to be modified without permanently modifying their functionality. They are a form of metaprogramming and provide a clean and elegant way to modify the behavior of functions or methods. Decorators are often used to add functionality to existing functions or methods, such as logging, timing, or access control."
   ]
  },
  {
   "cell_type": "markdown",
   "metadata": {},
   "source": [
    "### Decorator <a id=\"decorator\"></a>\n",
    "\n",
    "A _decorator_ is a function that takes another function as an argument and returns a new function. It is used to modify the behavior of the function or method it decorates. Decorators are denoted by the `@decorator` syntax, where `decorator` is the name of the decorator function.\n",
    "\n",
    "The basic syntax for a decorator is:\n",
    "\n",
    "```python\n",
    "@decorator\n",
    "def function_that_gets_decorated():\n",
    "    pass\n",
    "```\n",
    "\n",
    "This is equivalent to:\n",
    "\n",
    "```python\n",
    "def function_that_gets_decorated():\n",
    "    pass\n",
    "\n",
    "function_that_gets_decorated = decorator(function_that_gets_decorated)\n",
    "```"
   ]
  },
  {
   "cell_type": "code",
   "execution_count": 13,
   "metadata": {},
   "outputs": [
    {
     "name": "stdout",
     "output_type": "stream",
     "text": [
      "Something is happening before the function is called.\n",
      "Hello!\n",
      "Something is happening after the function is called.\n"
     ]
    }
   ],
   "source": [
    "def my_decorator(func):\n",
    "    def wrapper():\n",
    "        print(\"Something is happening before the function is called.\")\n",
    "        func()\n",
    "        print(\"Something is happening after the function is called.\")\n",
    "\n",
    "    return wrapper\n",
    "\n",
    "\n",
    "@my_decorator\n",
    "def say_hello():\n",
    "    print(\"Hello!\")\n",
    "\n",
    "\n",
    "say_hello()"
   ]
  },
  {
   "cell_type": "markdown",
   "metadata": {},
   "source": [
    "### Parametrized decorator <a id=\"parametrized-decorator\"></a>\n",
    "\n",
    "A _parametrized decorator_ is a decorator that accepts arguments. It is a function that returns a decorator, which in turn is a function that takes a function and returns a new function. Parametrized decorators are used to modify the behavior of the function or method it decorates based on the arguments passed to it."
   ]
  },
  {
   "cell_type": "code",
   "execution_count": 14,
   "metadata": {},
   "outputs": [
    {
     "name": "stdout",
     "output_type": "stream",
     "text": [
      "Hello World\n",
      "Hello World\n",
      "Hello World\n"
     ]
    }
   ],
   "source": [
    "def repeat(num_times):\n",
    "    def decorator_repeat(func):\n",
    "        def wrapper(*args, **kwargs):\n",
    "            for _ in range(num_times):\n",
    "                result = func(*args, **kwargs)\n",
    "            return result\n",
    "\n",
    "        return wrapper\n",
    "\n",
    "    return decorator_repeat\n",
    "\n",
    "\n",
    "@repeat(num_times=3)\n",
    "def greet(name):\n",
    "    print(f\"Hello {name}\")\n",
    "\n",
    "\n",
    "greet(\"World\")"
   ]
  },
  {
   "cell_type": "markdown",
   "metadata": {},
   "source": [
    "### functools.wraps <a id=\"functools-wraps\"></a>\n",
    "\n",
    "When you use a decorator, the original function’s metadata (like its name, docstring, and module) gets hidden by the wrapper closure. To avoid this and make the wrapper function look like the decorated function, use `functools.wraps`. \n",
    "\n",
    "It is a decorator for updating the attributes of the wrapping function to look like the wrapped function. This is useful when you are building higher-order functions that return a function based on some input parameters."
   ]
  },
  {
   "cell_type": "code",
   "execution_count": 15,
   "metadata": {},
   "outputs": [],
   "source": [
    "from functools import wraps\n",
    "\n",
    "\n",
    "def my_decorator(func):\n",
    "    @wraps(func)\n",
    "    def wrapper(*args, **kwargs):\n",
    "        # Do something before\n",
    "        result = func(*args, **kwargs)\n",
    "        # Do something after\n",
    "        return result\n",
    "\n",
    "    return wrapper"
   ]
  },
  {
   "cell_type": "markdown",
   "metadata": {},
   "source": [
    "### LRU Cache <a id=\"lru-cache\"></a>\n",
    "\n",
    "The `functools` module provides a decorator called `lru_cache` that caches the results of a function, saving time when the same inputs occur again. The `lru_cache` decorator can be used to speed up functions that are called with the same arguments repeatedly. \n",
    "\n",
    "It is particularly useful when the function is computationally expensive or when the function is called with the same arguments frequently."
   ]
  },
  {
   "cell_type": "code",
   "execution_count": 16,
   "metadata": {},
   "outputs": [
    {
     "name": "stdout",
     "output_type": "stream",
     "text": [
      "832040\n"
     ]
    }
   ],
   "source": [
    "from functools import lru_cache\n",
    "\n",
    "\n",
    "@lru_cache(maxsize=None)  # Cache all calls\n",
    "def fib(n):\n",
    "    if n < 2:\n",
    "        return n\n",
    "    return fib(n - 1) + fib(n - 2)\n",
    "\n",
    "\n",
    "# Without caching, this would take a significant amount of time for large n\n",
    "print(fib(30))  # Instant result due to caching"
   ]
  },
  {
   "cell_type": "markdown",
   "metadata": {},
   "source": [
    "## 6. Generators <a id=\"generators\"></a>\n",
    "\n",
    "_Generators_ are a special class of functions that simplify the task of writing iterators. Regular functions compute a value and return it, but generators return an iterator that returns a stream of values. They are a powerful tool for creating iterators and are used in Python to create iterators more easily."
   ]
  },
  {
   "cell_type": "markdown",
   "metadata": {},
   "source": [
    "### yield <a id=\"yield\"></a>\n",
    "\n",
    "The `yield` statement is used to define a generator, replacing the `return` statement in a function. When a function is called with the `yield` statement, it returns a generator object without executing the function. The generator object can then be iterated over to produce the values.\n",
    "\n",
    "The `yield` statement is used to produce a series of values, one at a time, from a function. Each time the `yield` statement is executed, the function generates a new value. The generator function can be resumed from the last `yield` statement by calling the `next()` function on the generator object."
   ]
  },
  {
   "cell_type": "code",
   "execution_count": 17,
   "metadata": {},
   "outputs": [
    {
     "name": "stdout",
     "output_type": "stream",
     "text": [
      "1\n",
      "2\n",
      "3\n",
      "4\n",
      "5\n"
     ]
    }
   ],
   "source": [
    "def count_up_to(max):\n",
    "    count = 1\n",
    "    while count <= max:\n",
    "        yield count\n",
    "        count += 1\n",
    "\n",
    "\n",
    "counter = count_up_to(5)\n",
    "for number in counter:\n",
    "    print(number)"
   ]
  },
  {
   "cell_type": "markdown",
   "metadata": {},
   "source": [
    "### Generator expression <a id=\"generator-expression\"></a>\n",
    "\n",
    "_Generator expressions_ are a high-performance, memory-efficient generalization of list comprehensions and generators. They are similar to list comprehensions, but they return an iterator that produces the values on-the-fly instead of building a whole list.\n",
    "\n",
    "The syntax for generator expressions is similar to list comprehensions, but with parentheses `()` instead of square brackets `[]`."
   ]
  },
  {
   "cell_type": "code",
   "execution_count": 18,
   "metadata": {},
   "outputs": [
    {
     "name": "stdout",
     "output_type": "stream",
     "text": [
      "0\n",
      "1\n",
      "4\n",
      "9\n",
      "16\n"
     ]
    }
   ],
   "source": [
    "squares = (x**2 for x in range(5))\n",
    "for square in squares:\n",
    "    print(square)"
   ]
  },
  {
   "cell_type": "markdown",
   "metadata": {},
   "source": [
    "### yield from <a id=\"yield-from\"></a>\n",
    "\n",
    "The `yield from` statement is used to delegate part of the responsibility for a generator to another generator. It allows you to yield values from a sub-generator without having to write a loop that iterates over the sub-generator and yields its values. \n",
    "\n",
    "It is particularly useful when you are working with nested generators."
   ]
  },
  {
   "cell_type": "code",
   "execution_count": 19,
   "metadata": {},
   "outputs": [
    {
     "name": "stdout",
     "output_type": "stream",
     "text": [
      "3\n",
      "2\n",
      "1\n",
      "1\n",
      "2\n",
      "3\n"
     ]
    }
   ],
   "source": [
    "def countdown(n):\n",
    "    while n > 0:\n",
    "        yield n\n",
    "        n -= 1\n",
    "\n",
    "\n",
    "def countup(n):\n",
    "    yield from countdown(n)\n",
    "    yield from range(1, n + 1)\n",
    "\n",
    "\n",
    "for x in countup(3):\n",
    "    print(x)"
   ]
  },
  {
   "cell_type": "markdown",
   "metadata": {},
   "source": [
    "## 7. Iterators <a id=\"iterators\"></a>\n",
    "\n",
    "_Iterators_ in Python are objects that allow you to iterate over iterable objects (like lists, tuples, dictionaries, sets, and strings). An iterator implements two special methods, `__iter__()` and `__next__()`, which together form the iterator protocol.\n",
    "\n",
    "- `__iter__()` returns the iterator object itself. This is used in for loops and other iteration contexts to create an iterator from an iterable.\n",
    "- `__next__()` returns the next item from the collection. When there are no more items to return, it raises the StopIteration exception, signaling that the iteration is complete."
   ]
  },
  {
   "cell_type": "code",
   "execution_count": 20,
   "metadata": {},
   "outputs": [
    {
     "name": "stdout",
     "output_type": "stream",
     "text": [
      "1\n",
      "2\n",
      "3\n"
     ]
    }
   ],
   "source": [
    "my_list = [1, 2, 3]\n",
    "my_iterator = iter(my_list)\n",
    "\n",
    "# Iterating through using __next__()\n",
    "print(next(my_iterator))  # Output: 1\n",
    "print(next(my_iterator))  # Output: 2\n",
    "print(next(my_iterator))  # Output: 3\n",
    "\n",
    "# Next call would raise StopIteration since there are no more items"
   ]
  },
  {
   "cell_type": "markdown",
   "metadata": {},
   "source": [
    "### Building an iterator <a id=\"building-iterator\"></a>\n",
    "\n",
    "To build an iterator, you need to implement the `__iter__()` and `__next__()` methods in a class. The `__iter__()` method returns the iterator object itself, and the `__next__()` method returns the next item in the sequence. If there are no more items to return, it raises the StopIteration exception."
   ]
  },
  {
   "cell_type": "code",
   "execution_count": 21,
   "metadata": {},
   "outputs": [
    {
     "name": "stdout",
     "output_type": "stream",
     "text": [
      "3\n",
      "2\n",
      "1\n"
     ]
    }
   ],
   "source": [
    "class CountDown:\n",
    "    def __init__(self, start):\n",
    "        self.current = start\n",
    "\n",
    "    def __iter__(self):\n",
    "        # An iterator must return itself as an iterator.\n",
    "        return self\n",
    "\n",
    "    def __next__(self):\n",
    "        if self.current <= 0:\n",
    "            raise StopIteration  # End of iteration\n",
    "        else:\n",
    "            num = self.current\n",
    "            self.current -= 1\n",
    "            return num\n",
    "\n",
    "\n",
    "# Using the iterator\n",
    "for number in CountDown(3):\n",
    "    print(number)"
   ]
  }
 ],
 "metadata": {
  "kernelspec": {
   "display_name": "Python 3",
   "language": "python",
   "name": "python3"
  },
  "language_info": {
   "codemirror_mode": {
    "name": "ipython",
    "version": 3
   },
   "file_extension": ".py",
   "mimetype": "text/x-python",
   "name": "python",
   "nbconvert_exporter": "python",
   "pygments_lexer": "ipython3",
   "version": "3.11.7"
  }
 },
 "nbformat": 4,
 "nbformat_minor": 2
}
