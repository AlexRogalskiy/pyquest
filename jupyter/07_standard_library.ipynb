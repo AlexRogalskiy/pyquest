{
 "cells": [
  {
   "cell_type": "markdown",
   "metadata": {},
   "source": [
    "## Part VII: Python Standard Library <a id=\"7-standard-library\"></a>\n",
    "\n",
    "The Python Standard Library is a collection of modules that provide a wide range of functionality. The library is divided into a number of modules, each of which provides a specific set of functionality. The library is extensive and covers a wide range of topics, including file I/O, networking, databases, GUIs, and more."
   ]
  },
  {
   "cell_type": "markdown",
   "metadata": {},
   "source": [
    "### 1. Math <a id=\"math\"></a>\n",
    "\n",
    "The `math` module in Python provides access to mathematical functions defined by the C standard. These functions include trigonometric functions, representation functions, logarithmic functions, and many others, enabling you to perform mathematical operations beyond the basic arithmetic available in Python.\n",
    "\n",
    "Trigonometric Functions:\n",
    "- `math.sin(x)`: Returns the sine of x radians.\n",
    "- `math.cos(x)`: Returns the cosine of x radians.\n",
    "- `math.tan(x)`: Returns the tangent of x radians.\n",
    "\n",
    "Hyperbolic Functions:\n",
    "- `math.sinh(x)`: Returns the hyperbolic sine of x.\n",
    "- `math.cosh(x)`: Returns the hyperbolic cosine of x.\n",
    "- `math.tanh(x)`: Returns the hyperbolic tangent of x.\n",
    "\n",
    "Rounding and Representation:\n",
    "- `math.ceil(x)`: Returns the smallest integer greater than or equal to x.\n",
    "- `math.floor(x)`: Returns the largest integer less than or equal to x.\n",
    "- `math.trunc(x)`: Returns the truncated integer value of x.\n",
    "\n",
    "Exponents and Logarithms:\n",
    "- `math.exp(x)`: Returns e raised to the power of x.\n",
    "- `math.log(x[, base])`: Returns the logarithm of x to the given base, with e as the default base if no second argument is provided.\n",
    "- `math.pow(x, y)`: Returns x raised to the power of y.\n",
    "\n",
    "Constants:\n",
    "- `math.pi`: The mathematical constant π.\n",
    "- `math.e`: The base of natural logarithms, e.\n",
    "- `math.inf`: A floating-point positive infinity. (For Python version 3.5 and above.)\n",
    "- `math.nan`: A floating-point \"Not a Number\" value."
   ]
  },
  {
   "cell_type": "code",
   "execution_count": 2,
   "metadata": {},
   "outputs": [
    {
     "name": "stdout",
     "output_type": "stream",
     "text": [
      "ceil(2.1) = 3\n",
      "floor(2.9) = 2\n",
      "exp(1) = 2.718281828459045\n",
      "log(e) = 1.0\n",
      "π = 3.141592653589793\n",
      "e = 2.718281828459045\n",
      "sin(π/4) = 0.7071067811865475\n",
      "cos(π/4) = 0.7071067811865476\n"
     ]
    }
   ],
   "source": [
    "import math\n",
    "\n",
    "# Rounding\n",
    "print(f\"ceil(2.1) = {math.ceil(2.1)}\")\n",
    "print(f\"floor(2.9) = {math.floor(2.9)}\")\n",
    "\n",
    "# Exponent and logarithm\n",
    "print(f\"exp(1) = {math.exp(1)}\")  # e^1\n",
    "print(f\"log(e) = {math.log(math.e)}\")  # Logarithm base e\n",
    "\n",
    "# Constants\n",
    "print(f\"π = {math.pi}\")\n",
    "print(f\"e = {math.e}\")\n",
    "\n",
    "# Trigonometric functions\n",
    "angle = math.pi / 4  # 45 degrees\n",
    "print(f\"sin(π/4) = {math.sin(angle)}\")\n",
    "print(f\"cos(π/4) = {math.cos(angle)}\")"
   ]
  },
  {
   "cell_type": "markdown",
   "metadata": {},
   "source": [
    "### 2. DateTime <a id=\"library-datetime\"></a>\n",
    "\n",
    "The `datetime` module in Python provides classes for manipulating dates and times in both simple and complex ways. It offers functions to perform operations such as parsing dates from strings, formatting dates to strings, handling time zones, and arithmetic operations on dates.\n",
    "\n",
    "Key Components:\n",
    "- `datetime.date`: Represents a date (year, month, day) in the Gregorian calendar.\n",
    "- `datetime.time`: Represents a time, independent of any particular day, assuming that every day has exactly 24\\*60\\*60 seconds.\n",
    "- `datetime.datetime`: Combines date and time, representing a moment in time.\n",
    "- `datetime.timedelta`: Represents a duration, the difference between two dates or times.\n",
    "- `datetime.tzinfo`: An abstract base class for dealing with time zones."
   ]
  },
  {
   "cell_type": "markdown",
   "metadata": {},
   "source": [
    "#### Creating datetime variables <a id=\"creating-datetime-variables\"></a>\n",
    "\n",
    "You can create `datetime` objects by specifying year, month, day, hour, minute, second, and microsecond."
   ]
  },
  {
   "cell_type": "code",
   "execution_count": 3,
   "metadata": {},
   "outputs": [
    {
     "name": "stdout",
     "output_type": "stream",
     "text": [
      "2024-01-01 12:00:00\n"
     ]
    }
   ],
   "source": [
    "from datetime import datetime\n",
    "\n",
    "# Create a datetime object\n",
    "dt = datetime(2024, 1, 1, 12, 0)\n",
    "print(dt)"
   ]
  },
  {
   "cell_type": "markdown",
   "metadata": {},
   "source": [
    "#### Datetime conversion <a id=\"datetime-conversion\"></a>\n",
    "\n",
    "You can format `datetime` objects as strings and parse strings into `datetime` objects using `strftime` and `strptime`, respectively."
   ]
  },
  {
   "cell_type": "code",
   "execution_count": 4,
   "metadata": {},
   "outputs": [
    {
     "name": "stdout",
     "output_type": "stream",
     "text": [
      "2024-01-01 12:00:00\n",
      "2024-01-01 12:00:00\n"
     ]
    }
   ],
   "source": [
    "# Formatting datetime object to string\n",
    "dt_string = dt.strftime(\"%Y-%m-%d %H:%M:%S\")\n",
    "print(dt_string)\n",
    "\n",
    "# Parsing string to datetime object\n",
    "dt_from_string = datetime.strptime(\"2024-01-01 12:00:00\", \"%Y-%m-%d %H:%M:%S\")\n",
    "print(dt_from_string)"
   ]
  },
  {
   "cell_type": "markdown",
   "metadata": {},
   "source": [
    "#### Datetime arithmetic <a id=\"datetime-arithmetic\"></a>\n",
    "\n",
    "You can perform arithmetic operations with `datetime` objects using `timedelta` objects."
   ]
  },
  {
   "cell_type": "code",
   "execution_count": 5,
   "metadata": {},
   "outputs": [
    {
     "name": "stdout",
     "output_type": "stream",
     "text": [
      "2024-01-11 12:00:00\n",
      "14 days, 0:00:00\n"
     ]
    }
   ],
   "source": [
    "from datetime import timedelta\n",
    "\n",
    "# Adding 10 days to a datetime object\n",
    "dt_plus_10_days = dt + timedelta(days=10)\n",
    "print(dt_plus_10_days)\n",
    "\n",
    "# Difference between two datetime objects\n",
    "dt2 = datetime(2024, 1, 15, 12, 0)\n",
    "delta = dt2 - dt\n",
    "print(delta)"
   ]
  },
  {
   "cell_type": "markdown",
   "metadata": {},
   "source": [
    "#### Timezones <a id=\"datetime-timezones\"></a>\n",
    "\n",
    "`datetime` objects can be made \"aware\" by attaching a timezone information. This is crucial for correctly handling time conversions and arithmetic across different time zones."
   ]
  },
  {
   "cell_type": "code",
   "execution_count": 6,
   "metadata": {},
   "outputs": [
    {
     "name": "stdout",
     "output_type": "stream",
     "text": [
      "2024-01-01 12:00:00+00:00\n"
     ]
    }
   ],
   "source": [
    "from datetime import timedelta, timezone\n",
    "\n",
    "# Create a timezone UTC+0\n",
    "utc_zone = timezone(timedelta(hours=0))\n",
    "\n",
    "# Attach the timezone to a datetime object\n",
    "dt = datetime(2024, 1, 1, 12, 0, tzinfo=utc_zone)\n",
    "print(dt)"
   ]
  },
  {
   "cell_type": "markdown",
   "metadata": {},
   "source": [
    "\n",
    "### 3. Collections <a id=\"collections\"></a>\n",
    "\n",
    "The `collections` module in Python provides specialized container datatypes, supplementing the built-in containers like `dict`, `list`, `set`, and `tuple`. It offers alternative containers with additional functionality or optimizations for different use cases."
   ]
  },
  {
   "cell_type": "markdown",
   "metadata": {},
   "source": [
    "#### Counter <a id=\"collections-counter\"></a>\n",
    "\n",
    "A `Counter` is a subclass of `dict` that is used to count hashable objects. It is a collection where elements are stored as dictionary keys and their counts are stored as dictionary values."
   ]
  },
  {
   "cell_type": "code",
   "execution_count": 7,
   "metadata": {},
   "outputs": [
    {
     "name": "stdout",
     "output_type": "stream",
     "text": [
      "Fruit count: Counter({'banana': 3, 'apple': 2, 'orange': 2})\n",
      "Char count: Counter({'i': 4, 's': 4, 'p': 2, 'm': 1})\n",
      "Individual count: 2\n",
      "Elements: ['m', 'i', 'i', 'i', 'i', 's', 's', 's', 's', 'p', 'p']\n",
      "Most common: [('banana', 3), ('apple', 2)]\n",
      "Update counts: Counter({'apple': 3, 'orange': 3, 'banana': 3, 'grape': 1})\n",
      "Subtract counts: Counter({'banana': 3, 'apple': 2, 'orange': 2, 'grape': 1})\n"
     ]
    }
   ],
   "source": [
    "from collections import Counter\n",
    "\n",
    "# Creating a Counter from a list\n",
    "fruit_count = Counter(\n",
    "    [\"apple\", \"orange\", \"banana\", \"apple\", \"orange\", \"banana\", \"banana\"]\n",
    ")\n",
    "print(\"Fruit count:\", fruit_count)\n",
    "\n",
    "# Creating a Counter from a string (counting characters)\n",
    "char_count = Counter(\"mississippi\")\n",
    "print(\"Char count:\", char_count)\n",
    "\n",
    "# Accessing the count of an individual item\n",
    "print(\"Individual count:\", fruit_count[\"apple\"])\n",
    "\n",
    "# Returns an iterator over elements, repeating each as many times as its count\n",
    "print(\"Elements:\", list(char_count.elements()))\n",
    "\n",
    "# Getting the most common elements\n",
    "print(\"Most common:\", fruit_count.most_common(2))\n",
    "\n",
    "# Update counts from an iterable\n",
    "fruit_count.update([\"apple\", \"orange\", \"grape\"])\n",
    "print(\"Update counts:\", fruit_count)\n",
    "\n",
    "# Subtract counts\n",
    "fruit_count.subtract([\"apple\", \"orange\"])\n",
    "print(\"Subtract counts:\", fruit_count)"
   ]
  },
  {
   "cell_type": "markdown",
   "metadata": {},
   "source": [
    "#### defaultdict <a id=\"collections-defaultdict\"></a>\n",
    "\n",
    "The `defaultdict` is similar to the standard `dict`, but it provides a default value for the dictionary being queried for keys that aren't present in the dictionary."
   ]
  },
  {
   "cell_type": "code",
   "execution_count": 8,
   "metadata": {},
   "outputs": [
    {
     "name": "stdout",
     "output_type": "stream",
     "text": [
      "List: defaultdict(<class 'list'>, {'a': [1, 2], 'b': [4]})\n",
      "Int: defaultdict(<class 'int'>, {'red': 2, 'blue': 3, 'green': 1})\n"
     ]
    }
   ],
   "source": [
    "from collections import defaultdict\n",
    "\n",
    "# Create a defaultdict with list as the default factory\n",
    "dd_list = defaultdict(list)\n",
    "\n",
    "# Adding items to a non-existent key automatically initializes it with a new list\n",
    "dd_list[\"a\"].append(1)\n",
    "dd_list[\"a\"].append(2)\n",
    "dd_list[\"b\"].append(4)\n",
    "\n",
    "print(\"List:\", dd_list)\n",
    "\n",
    "dd_int = defaultdict(int)\n",
    "\n",
    "# Counting items\n",
    "for word in [\"red\", \"blue\", \"red\", \"green\", \"blue\", \"blue\"]:\n",
    "    dd_int[word] += 1\n",
    "\n",
    "print(\"Int:\", dd_int)"
   ]
  },
  {
   "cell_type": "markdown",
   "metadata": {},
   "source": [
    "#### OrderedDict <a id=\"collections-ordereddict\"></a>\n",
    "\n",
    "An `OrderedDict` is a dictionary subclass that remembers the order in which its contents are added, even if a new entry overwrites an existing entry. From Python 3.7 onwards, the built-in `dict` type maintains insertion order by default, making `OrderedDict` less essential."
   ]
  },
  {
   "cell_type": "code",
   "execution_count": 9,
   "metadata": {},
   "outputs": [
    {
     "name": "stdout",
     "output_type": "stream",
     "text": [
      "banana 3\n",
      "apple 4\n",
      "pear 1\n"
     ]
    }
   ],
   "source": [
    "from collections import OrderedDict\n",
    "\n",
    "od = OrderedDict()\n",
    "od[\"banana\"] = 3\n",
    "od[\"apple\"] = 4\n",
    "od[\"pear\"] = 1\n",
    "\n",
    "for key, value in od.items():\n",
    "    print(key, value)"
   ]
  },
  {
   "cell_type": "markdown",
   "metadata": {},
   "source": [
    "#### namedtuple <a id=\"collections-namedtuple\"></a>\n",
    "\n",
    "A `namedtuple` generates class factories for creating tuple subclasses with named fields. They can be used anywhere regular tuples are used, and they add the ability to access fields by name instead of position index."
   ]
  },
  {
   "cell_type": "code",
   "execution_count": 10,
   "metadata": {},
   "outputs": [
    {
     "name": "stdout",
     "output_type": "stream",
     "text": [
      "Alice name: Alice\n",
      "Bob age: 25\n",
      "Alice _fields: ('name', 'age')\n",
      "Alice _asdict: {'name': 'Alice', 'age': 30}\n",
      "New Alice: Person(name='Alice', age=31)\n"
     ]
    }
   ],
   "source": [
    "from collections import namedtuple\n",
    "\n",
    "# Creating a namedtuple 'Person' with 'name' and 'age' fields\n",
    "Person = namedtuple(\"Person\", [\"name\", \"age\"])\n",
    "# or: Person = namedtuple('Person', 'name age')\n",
    "\n",
    "# Creating instances of Person\n",
    "alice = Person(name=\"Alice\", age=30)\n",
    "bob = Person(\"Bob\", 25)\n",
    "\n",
    "# Accessing fields\n",
    "print(\"Alice name:\", alice.name)\n",
    "print(\"Bob age:\", bob.age)\n",
    "\n",
    "print(\"Alice _fields:\", alice._fields)\n",
    "print(\"Alice _asdict:\", alice._asdict())\n",
    "\n",
    "new_alice = alice._replace(age=31)\n",
    "print(\"New Alice:\", new_alice)"
   ]
  },
  {
   "cell_type": "markdown",
   "metadata": {},
   "source": [
    "#### deque <a id=\"collections-deque\"></a>\n",
    "\n",
    "A `deque` (double-ended queue) in Python, provided by the `collections` module, is a thread-safe, memory-efficient list-like container that supports fast appends and pops from either end. `deque` is optimized for quick insertion and deletion from both the front and the back, making it an ideal choice for queues and breadth-first tree searches where elements are frequently added and removed."
   ]
  },
  {
   "cell_type": "code",
   "execution_count": 11,
   "metadata": {},
   "outputs": [
    {
     "name": "stdout",
     "output_type": "stream",
     "text": [
      "deque([0, 1, 2, 3, 4])\n",
      "deque([1, 2, 3])\n",
      "deque([0, 1, 2, 3, 4, 5])\n",
      "deque([5, 0, 1, 2, 3, 4])\n",
      "deque([1, 2, 3, 4, 5, 0])\n"
     ]
    }
   ],
   "source": [
    "from collections import deque\n",
    "\n",
    "dq = deque([1, 2, 3])\n",
    "\n",
    "dq.append(4)  # Add to the right\n",
    "dq.appendleft(0)  # Add to the left\n",
    "print(dq)\n",
    "\n",
    "dq.pop()  # Remove from the right\n",
    "dq.popleft()  # Remove from the left\n",
    "print(dq)\n",
    "\n",
    "dq.extend([4, 5])  # Add multiple to the right\n",
    "dq.extendleft([0])  # Add multiple to the left\n",
    "print(dq)\n",
    "\n",
    "dq.rotate(1)  # Move items to the right\n",
    "print(dq)\n",
    "dq.rotate(-2)  # Move items to the left\n",
    "print(dq)"
   ]
  },
  {
   "cell_type": "markdown",
   "metadata": {},
   "source": [
    "### 4. OS and Sys <a id=\"os-and-sys\"></a>\n",
    "\n",
    "The `os` and `sys` modules in Python are two core modules that provide functions and variables used to interact with the operating system and the Python interpreter itself."
   ]
  },
  {
   "cell_type": "markdown",
   "metadata": {},
   "source": [
    "#### OS Module <a id=\"os-module\"></a>\n",
    "\n",
    "The `os` module provides a portable way of using operating system-dependent functionality. It includes functions for creating and removing a directory (folder), fetching its contents, changing and identifying the current directory, and more. It also provides access to some useful variables and functions that deal with the file system and the operating system."
   ]
  },
  {
   "cell_type": "code",
   "execution_count": 12,
   "metadata": {},
   "outputs": [
    {
     "name": "stdout",
     "output_type": "stream",
     "text": [
      "Changed working directory to: /Users/ve/dev/src/projects/pyquest/examples\n",
      "bytes.bin\n",
      "data.pickle\n",
      "example.csv\n",
      "names.txt\n",
      "person.json\n",
      "sample copy.txt\n",
      "sample-graph.png\n",
      "sample.txt\n",
      "updated_names.txt\n",
      "value\n",
      "Current process ID: 56837\n",
      "Joined path: directory/subdirectory/file.txt\n",
      "Absolute path: /Users/ve/dev/src/projects/pyquest/jupyter/my_file.txt\n",
      "Path: /path/to, Filename: my_file.txt\n"
     ]
    }
   ],
   "source": [
    "import os\n",
    "\n",
    "# Change the current working directory\n",
    "os.chdir(\"../examples\")\n",
    "print(f\"Changed working directory to: {os.getcwd()}\")\n",
    "\n",
    "# Example: Displaying the current directory's contents using the system's shell command\n",
    "os.system(\"ls\")\n",
    "\n",
    "os.chdir(\"../jupyter\")\n",
    "\n",
    "# Setting and removing environment variable\n",
    "os.environ[\"MY_VAR\"] = \"value\"\n",
    "print(os.environ.get(\"MY_VAR\"))\n",
    "del os.environ[\"MY_VAR\"]\n",
    "\n",
    "# Getting the current process ID\n",
    "pid = os.getpid()\n",
    "print(f\"Current process ID: {pid}\")\n",
    "\n",
    "# Joining paths\n",
    "joined_path = os.path.join(\"directory\", \"subdirectory\", \"file.txt\")\n",
    "print(f\"Joined path: {joined_path}\")\n",
    "\n",
    "# Getting the absolute path\n",
    "absolute_path = os.path.abspath(\"my_file.txt\")\n",
    "print(f\"Absolute path: {absolute_path}\")\n",
    "\n",
    "# Splitting the path and filename\n",
    "path, filename = os.path.split(\"/path/to/my_file.txt\")\n",
    "print(f\"Path: {path}, Filename: {filename}\")"
   ]
  },
  {
   "cell_type": "markdown",
   "metadata": {},
   "source": [
    "#### Sys Module <a id=\"sys-module\"></a>\n",
    "\n",
    "The `sys` module provides access to some variables used or maintained by the Python interpreter and to functions that interact strongly with the interpreter. It is different from `os` in that it is more focused on the Python environment rather than the operating system."
   ]
  },
  {
   "cell_type": "code",
   "execution_count": 13,
   "metadata": {},
   "outputs": [
    {
     "name": "stdout",
     "output_type": "stream",
     "text": [
      "Script name: /Users/ve/Library/Python/3.11/lib/python/site-packages/ipykernel_launcher.py\n",
      "First argument: --f=/Users/ve/Library/Jupyter/runtime/kernel-v2-17416NNPh28h1PEDp.json\n",
      "Python version: 3.11.7 (main, Dec  4 2023, 18:10:11) [Clang 15.0.0 (clang-1500.1.0.2.5)]\n",
      "Python Path: /Users/ve/dev/src/projects/pyquest/jupyter\n",
      "Platform: darwin\n"
     ]
    }
   ],
   "source": [
    "import sys\n",
    "\n",
    "# Access command-line arguments\n",
    "if len(sys.argv) > 1:\n",
    "    print(f\"Script name: {sys.argv[0]}\")\n",
    "    print(f\"First argument: {sys.argv[1]}\")\n",
    "\n",
    "# Print Python version information\n",
    "print(f\"Python version: {sys.version}\")\n",
    "\n",
    "# Exit the program with a status code\n",
    "# sys.exit(1)\n",
    "\n",
    "# Print the Python path\n",
    "print(f\"Python Path: {sys.path[0]}\")\n",
    "\n",
    "# Print platform information\n",
    "print(f\"Platform: {sys.platform}\")"
   ]
  }
 ],
 "metadata": {
  "kernelspec": {
   "display_name": "Python 3",
   "language": "python",
   "name": "python3"
  },
  "language_info": {
   "codemirror_mode": {
    "name": "ipython",
    "version": 3
   },
   "file_extension": ".py",
   "mimetype": "text/x-python",
   "name": "python",
   "nbconvert_exporter": "python",
   "pygments_lexer": "ipython3",
   "version": "3.11.7"
  }
 },
 "nbformat": 4,
 "nbformat_minor": 2
}
