{
 "cells": [
  {
   "cell_type": "markdown",
   "metadata": {},
   "source": [
    "## Part VIII: Object-Oriented Programming <a id=\"8-oop\"></a>\n",
    "\n",
    "Object-oriented programming (OOP) is a programming paradigm that uses objects and classes. It is a way of structuring a program by bundling related properties and behaviors into individual objects. In this part, we will learn about the basics of OOP in Python."
   ]
  },
  {
   "cell_type": "markdown",
   "metadata": {},
   "source": [
    "### 1. OOP Fundamentals <a id=\"oop-fundamentals\"></a>"
   ]
  },
  {
   "cell_type": "markdown",
   "metadata": {},
   "source": [
    "#### Classes and Objects <a id=\"classes-and-objects\"></a>\n",
    "\n",
    "A *class* is a blueprint for creating objects. It defines a set of properties and methods that objects of the class will have. An *object* is an instance of a class. It is a concrete entity that has properties and methods defined by its class."
   ]
  },
  {
   "cell_type": "markdown",
   "metadata": {},
   "source": [
    "##### Creating Classes and Objects <a id=\"creating-classes-and-objects\"></a>\n",
    "\n",
    "In Python, we can create a class using the `class` keyword followed by the class name. The class body contains the properties and methods of the class. We can create an object of a class using the class name followed by parentheses.\n",
    "\n",
    "Basic Class Structure:\n",
    "```python\n",
    "class MyClass:\n",
    "    # Class attribute\n",
    "    class_attribute = 'I am a class attribute'\n",
    "\n",
    "    # Initializer / Instance attributes\n",
    "    def __init__(self, value):\n",
    "        self.instance_attribute = value  # Instance attribute\n",
    "\n",
    "    # Method\n",
    "    def my_method(self):\n",
    "        return f'My method was called with instance_attribute={self.instance_attribute}'\n",
    "```\n",
    "\n",
    "Example of Creating an Object:\n",
    "```python\n",
    "# Creating an instance of MyClass\n",
    "my_object = MyClass(\"Hello\")\n",
    "```\n",
    "\n",
    "Key Concepts:\n",
    "- **Classes** define the blueprint for objects, encapsulating data for the object and methods to manipulate that data.\n",
    "- Objects** are instances of a class, each with its own unique state. They can interact with each other using methods.\n",
    "- `self` is a reference to the current instance of the class, used to access variables and methods associated with the current object.\n",
    "- **Attributes** store the state of an instance, while methods define the behavior."
   ]
  },
  {
   "cell_type": "code",
   "execution_count": 1,
   "metadata": {},
   "outputs": [
    {
     "name": "stdout",
     "output_type": "stream",
     "text": [
      "Hello, my name is Andrey and I am 36 years old.\n"
     ]
    }
   ],
   "source": [
    "class Person:\n",
    "    def __init__(self, name, age):\n",
    "        self.name = name\n",
    "        self.age = age\n",
    "\n",
    "    def greet(self):\n",
    "        return f\"Hello, my name is {self.name} and I am {self.age} years old.\"\n",
    "\n",
    "\n",
    "# Creating a new Person object\n",
    "person = Person(\"Andrey\", 36)\n",
    "\n",
    "# Using the object's methods and attributes\n",
    "print(person.greet())  # Hello, my name is Andrey and I am 36 years old."
   ]
  },
  {
   "cell_type": "markdown",
   "metadata": {},
   "source": [
    "##### \\_\\_init\\_\\_, \\_\\_repr\\_\\_, and \\_\\_str\\_\\_ Methods <a id=\"init-repr-str-methods\"></a>\n",
    "\n",
    "- The `__init__` method is a special method that is called when an object is created. It is used to initialize the properties of the object. \n",
    "- The `__repr__` method is meant to return an unambiguous string representation of an object so that it can be recreated. The main goal of `__repr__` is to be unambiguous and, if possible, match the code necessary to recreate the object being represented.\n",
    "- The `__str__` method is intended to return a string representation of an object that is readable and informative for end-users. It is called by the `str()` built-in function and by the `print` function."
   ]
  },
  {
   "cell_type": "code",
   "execution_count": 2,
   "metadata": {},
   "outputs": [
    {
     "name": "stdout",
     "output_type": "stream",
     "text": [
      "Value of the object is 42\n",
      "MyClass(42)\n"
     ]
    }
   ],
   "source": [
    "class MyClass:\n",
    "    def __init__(self, value):\n",
    "        self.value = value  # Assigning the value to the instance's attribute\n",
    "\n",
    "    def __repr__(self):\n",
    "        return f\"MyClass({self.value})\"\n",
    "\n",
    "    def __str__(self):\n",
    "        return f\"Value of the object is {self.value}\"\n",
    "\n",
    "\n",
    "obj = MyClass(42)\n",
    "print(obj)  # Value of the object is 42\n",
    "print(repr(obj))  # MyClass(42)"
   ]
  },
  {
   "cell_type": "markdown",
   "metadata": {},
   "source": [
    "##### Instance Members <a id=\"instance-members\"></a>\n",
    "\n",
    "Instance members are attributes and methods associated with class instances. They are not shared among instances; each instance has its own copy of the instance attribute.\n",
    "\n",
    "- **Instance Attributes**: Defined within methods (typically within `__init__`). They use `self` to denote that they are associated with a particular instance.\n",
    "- **Instance Methods**: Functions defined inside a class that operate on an instance of the class. They take `self` as the first parameter to access and modify the instance's attributes."
   ]
  },
  {
   "cell_type": "code",
   "execution_count": 3,
   "metadata": {},
   "outputs": [
    {
     "name": "stdout",
     "output_type": "stream",
     "text": [
      "Value: 42\n"
     ]
    }
   ],
   "source": [
    "class MyClass:\n",
    "    def __init__(self, value):\n",
    "        self.instance_attribute = value  # Instance attribute\n",
    "\n",
    "    def instance_method(self):\n",
    "        return f\"Value: {self.instance_attribute}\"  # Instance method\n",
    "\n",
    "\n",
    "obj = MyClass(42)\n",
    "print(obj.instance_method())  # Value: 42"
   ]
  },
  {
   "cell_type": "markdown",
   "metadata": {},
   "source": [
    "##### Class Methods <a id=\"class-methods\"></a>\n",
    "\n",
    "Class methods are functions defined inside a class that have access to the class object through the first parameter, usually named `cls`. They can modify the class state that applies across all instances of the class. Class methods are defined using the @classmethod decorator."
   ]
  },
  {
   "cell_type": "code",
   "execution_count": 4,
   "metadata": {},
   "outputs": [
    {
     "name": "stdout",
     "output_type": "stream",
     "text": [
      "2\n"
     ]
    }
   ],
   "source": [
    "class Person:\n",
    "    count = 0  # Class variable\n",
    "\n",
    "    def __init__(self, name):\n",
    "        self.name = name\n",
    "        Person.count += 1\n",
    "\n",
    "    @classmethod\n",
    "    def get_count(cls):\n",
    "        return cls.count  # Accessing class variable\n",
    "\n",
    "\n",
    "# Creating instances of Person\n",
    "person1 = Person(\"Alice\")\n",
    "person2 = Person(\"Bob\")\n",
    "\n",
    "# Class method can be called using the class name\n",
    "print(Person.get_count())  # 2"
   ]
  },
  {
   "cell_type": "markdown",
   "metadata": {},
   "source": [
    "##### Static Methods <a id=\"static-methods\"></a>\n",
    "\n",
    "Static methods are functions defined inside a class that do not have access to `self` (the instance object) or `cls` (the class itself). They are utility functions that work independently of class instances. Static methods are defined using the `@staticmethod` decorator."
   ]
  },
  {
   "cell_type": "code",
   "execution_count": 5,
   "metadata": {},
   "outputs": [
    {
     "name": "stdout",
     "output_type": "stream",
     "text": [
      "8\n",
      "15\n"
     ]
    }
   ],
   "source": [
    "class MathUtility:\n",
    "    @staticmethod\n",
    "    def add(x, y):\n",
    "        return x + y\n",
    "\n",
    "    @staticmethod\n",
    "    def multiply(x, y):\n",
    "        return x * y\n",
    "\n",
    "\n",
    "# Static methods can be called using the class name\n",
    "print(MathUtility.add(5, 3))  # 8\n",
    "print(MathUtility.multiply(5, 3))  # 15"
   ]
  },
  {
   "cell_type": "markdown",
   "metadata": {},
   "source": [
    "##### Property Decorator <a id=\"property-decorator\"></a>\n",
    "\n",
    "Property decorators allow you to define methods that can be accessed like attributes. This is useful for adding validation logic or encapsulation to class attributes."
   ]
  },
  {
   "cell_type": "code",
   "execution_count": 6,
   "metadata": {},
   "outputs": [
    {
     "name": "stdout",
     "output_type": "stream",
     "text": [
      "42\n"
     ]
    }
   ],
   "source": [
    "class MyClass:\n",
    "    def __init__(self, value):\n",
    "        self._value = value\n",
    "\n",
    "    @property\n",
    "    def value(self):\n",
    "        return self._value\n",
    "\n",
    "    @value.setter\n",
    "    def value(self, new_value):\n",
    "        if new_value > 0:\n",
    "            self._value = new_value\n",
    "        else:\n",
    "            raise ValueError(\"Value must be greater than 0\")\n",
    "\n",
    "\n",
    "obj = MyClass(42)\n",
    "print(obj.value)  # 42"
   ]
  },
  {
   "cell_type": "markdown",
   "metadata": {},
   "source": [
    "### 2. Core OOP Principles <a id=\"core-oop-principles\"></a>\n",
    "\n",
    "The core principles of Object-Oriented Programming (OOP) are encapsulation, inheritance, polymorphism, and abstraction. These principles help in designing software that is modular, reusable, and adaptable to change."
   ]
  },
  {
   "cell_type": "markdown",
   "metadata": {},
   "source": [
    "#### Encapsulation <a id=\"encapsulation\"></a>\n",
    "\n",
    "Encapsulation is a fundamental concept in object-oriented programming (OOP) that involves bundling the data (attributes) and methods (behaviors) that operate on the data into a single unit or class and restricting access to some of the object's components. This principle is one of the key mechanisms for achieving data hiding, a core aspect of OOP that enhances security and reduces complexity."
   ]
  },
  {
   "cell_type": "markdown",
   "metadata": {},
   "source": [
    "##### Private and Protected Attributes <a id=\"private-and-protected-attributes\"></a>\n",
    "\n",
    "Python does not have the strict access control mechanisms found in some other languages like Java or C++. However, encapsulation can still be effectively implemented through naming conventions and properties.\n",
    "\n",
    "- **Private Attributes**: In Python, prefixing an attribute name with double underscores (`__`) makes it private. This means the attribute cannot be accessed directly from outside the class, although Python implements this by name mangling, which renames the attribute to `_ClassName__attributeName`.\n",
    "- **Protected Attributes**: Attributes prefixed with a single underscore (`_`) are intended to be protected, meaning they should not be accessed outside the class and subclasses, although this is not enforced by Python and is more of a convention.\n",
    "- **Properties**: Python's `@property` decorator can be used to create getter and setter methods for attributes, allowing for controlled access to private attributes."
   ]
  },
  {
   "cell_type": "code",
   "execution_count": 7,
   "metadata": {},
   "outputs": [
    {
     "name": "stdout",
     "output_type": "stream",
     "text": [
      "Deposit successful\n",
      "1500\n",
      "Withdrawal successful\n",
      "1300\n"
     ]
    }
   ],
   "source": [
    "class Account:\n",
    "    def __init__(self, owner, balance=0):\n",
    "        self.owner = owner\n",
    "        self.__balance = balance  # Private attribute\n",
    "\n",
    "    def deposit(self, amount):\n",
    "        if amount > 0:\n",
    "            self.__balance += amount\n",
    "            print(\"Deposit successful\")\n",
    "\n",
    "    def withdraw(self, amount):\n",
    "        if 0 < amount <= self.__balance:\n",
    "            self.__balance -= amount\n",
    "            print(\"Withdrawal successful\")\n",
    "        else:\n",
    "            print(\"Insufficient funds\")\n",
    "\n",
    "    def get_balance(self):\n",
    "        return self.__balance\n",
    "\n",
    "\n",
    "account = Account(\"John Doe\", 1000)\n",
    "account.deposit(500)\n",
    "print(account.get_balance())  # 1500\n",
    "account.withdraw(200)\n",
    "print(account.get_balance())  # 1300\n",
    "\n",
    "# Direct access is not allowed\n",
    "# print(account.__balance)  # AttributeError: 'Account' object has no attribute '__balance'"
   ]
  },
  {
   "cell_type": "markdown",
   "metadata": {},
   "source": [
    "#### Inheritance <a id=\"inheritance\"></a>\n",
    "\n",
    "Inheritance is a core concept in object-oriented programming (OOP) that allows a class to inherit attributes and methods from another class. This mechanism promotes code reuse and establishes a hierarchical relationship between classes, enabling the development of more complex software systems in a more manageable and scalable way.\n",
    "\n",
    "Key Concepts:\n",
    "- **Base Class (Parent Class)**: The class whose properties and methods are inherited by another class.\n",
    "- **Derived Class (Child Class)**: The class that inherits properties and methods from another class."
   ]
  },
  {
   "cell_type": "markdown",
   "metadata": {},
   "source": [
    "##### Single and Multiple Inheritance <a id=\"single-and-multiple-inheritance\"></a>\n",
    "\n",
    "Types of Inheritance:\n",
    "- **Single Inheritance**: A derived (child) class inherits from only one base (parent) class. This is the simplest form of inheritance.\n",
    "- **Multiple Inheritance**: A derived class inherits from more than one base class. Python supports multiple inheritance, allowing a class to combine features from multiple base classes.\n",
    "- **Multilevel Inheritance**: This involves a chain of inheritance where a class inherits from a base class, which in turn inherits from another base class.\n",
    "- **Hierarchical Inheritance**: Multiple derived classes inherit from a single base class.\n",
    "- **Hybrid Inheritance**: A combination of two or more types of inheritance."
   ]
  },
  {
   "cell_type": "code",
   "execution_count": 8,
   "metadata": {},
   "outputs": [
    {
     "name": "stdout",
     "output_type": "stream",
     "text": [
      "Buddy says Woof!\n",
      "Whiskers says Meow!\n"
     ]
    }
   ],
   "source": [
    "# Base class\n",
    "class Animal:\n",
    "    def __init__(self, name):\n",
    "        self.name = name\n",
    "\n",
    "    def speak(self):\n",
    "        raise NotImplementedError(\"Subclasses must implement abstract method\")\n",
    "\n",
    "\n",
    "# Derived class\n",
    "class Dog(Animal):\n",
    "    def speak(self):\n",
    "        return f\"{self.name} says Woof!\"\n",
    "\n",
    "\n",
    "class Cat(Animal):\n",
    "    def speak(self):\n",
    "        return f\"{self.name} says Meow!\"\n",
    "\n",
    "\n",
    "dog = Dog(\"Buddy\")\n",
    "cat = Cat(\"Whiskers\")\n",
    "\n",
    "print(dog.speak())  # Buddy says Woof!\n",
    "print(cat.speak())  # Whiskers says Meow!"
   ]
  },
  {
   "cell_type": "markdown",
   "metadata": {},
   "source": [
    "##### super() <a id=\"super\"></a>\n",
    "\n",
    "The `super()` function is used to call methods of a base class from a derived class. It returns a temporary object of the superclass that allows access to the methods of the base class."
   ]
  },
  {
   "cell_type": "code",
   "execution_count": 9,
   "metadata": {},
   "outputs": [
    {
     "name": "stdout",
     "output_type": "stream",
     "text": [
      "Bob\n"
     ]
    }
   ],
   "source": [
    "class Parent:\n",
    "    def __init__(self, name):\n",
    "        self.name = name\n",
    "\n",
    "\n",
    "class Child(Parent):\n",
    "    def __init__(self, name, age):\n",
    "        super().__init__(name)  # Using super to call the Parent's __init__\n",
    "        self.age = age\n",
    "\n",
    "\n",
    "person = Child(\"Bob\", 10)\n",
    "print(person.name)  # Bob"
   ]
  },
  {
   "cell_type": "markdown",
   "metadata": {},
   "source": [
    "##### Method Resolution Order (MRO) <a id=\"method-resolution-order\"></a>\n",
    "\n",
    "Method Resolution Order (MRO) is the order in which base classes are searched for a method or attribute. It is important in multiple inheritance because it determines the order in which the base classes are traversed when searching for a method or attribute.\n",
    "\n",
    "You can view the MRO of a class in Python using either the `__mro__` attribute or the `mro()` method on the class. This returns a tuple or list of the classes in the order they are searched."
   ]
  },
  {
   "cell_type": "code",
   "execution_count": 10,
   "metadata": {},
   "outputs": [
    {
     "name": "stdout",
     "output_type": "stream",
     "text": [
      "[<class '__main__.D'>, <class '__main__.B'>, <class '__main__.C'>, <class '__main__.A'>, <class 'object'>]\n"
     ]
    }
   ],
   "source": [
    "class A:\n",
    "    def method(self):\n",
    "        print(\"A method\")\n",
    "\n",
    "\n",
    "class B(A):\n",
    "    def method(self):\n",
    "        print(\"B method\")\n",
    "\n",
    "\n",
    "class C(A):\n",
    "    def method(self):\n",
    "        print(\"C method\")\n",
    "\n",
    "\n",
    "class D(B, C):\n",
    "    pass\n",
    "\n",
    "\n",
    "# Checking the Method Resolution Order for class D\n",
    "print(\n",
    "    D.mro()\n",
    ")  # [<class '__main__.D'>, <class '__main__.B'>, <class '__main__.C'>, <class '__main__.A'>, <class 'object'>]"
   ]
  },
  {
   "cell_type": "markdown",
   "metadata": {},
   "source": [
    "#### Polymorphism <a id=\"polymorphism\"></a>\n",
    "\n",
    "Polymorphism allows objects of different classes to be treated as objects of a common superclass. It is derived from Greek words meaning \"many forms,\" and it enables a single interface to represent different underlying forms (data types). Polymorphism promotes flexibility and scalability in code design by allowing the same operation to behave differently on different classes.\n",
    "\n",
    "Python's built-in functions are polymorphic, as they can work with objects of different types. For example, the `len()` function can accept many different types of objects:\n",
    "```python\n",
    "print(len(\"hello\"))  # String\n",
    "print(len([1, 2, 3]))  # List\n",
    "print(len({\"name\": \"John\", \"age\": 30}))  # Dictionary\n",
    "```"
   ]
  },
  {
   "cell_type": "markdown",
   "metadata": {},
   "source": [
    "##### Method Overriding <a id=\"method-overriding\"></a>\n",
    "\n",
    "When a method in a subclass has the same name, same parameters, or signature, and same return type (or subtype) as a method in the superclass, the method in the subclass is said to override the method in the superclass."
   ]
  },
  {
   "cell_type": "code",
   "execution_count": 11,
   "metadata": {},
   "outputs": [
    {
     "name": "stdout",
     "output_type": "stream",
     "text": [
      "Woof!\n",
      "Meow!\n",
      "Some generic animal sound\n"
     ]
    }
   ],
   "source": [
    "class Animal:\n",
    "    def speak(self):\n",
    "        print(\"Some generic animal sound\")\n",
    "\n",
    "\n",
    "class Dog(Animal):\n",
    "    def speak(self):\n",
    "        print(\"Woof!\")\n",
    "\n",
    "\n",
    "class Cat(Animal):\n",
    "    def speak(self):\n",
    "        print(\"Meow!\")\n",
    "\n",
    "\n",
    "for animal in [Dog(), Cat(), Animal()]:\n",
    "    animal.speak()"
   ]
  },
  {
   "cell_type": "markdown",
   "metadata": {},
   "source": [
    "##### Operator Overloading <a id=\"operator-overloading\"></a>\n",
    "\n",
    "Operator overloading is a feature of object-oriented programming that allows operators to have different meanings based on their context, particularly with respect to the operands they work on. In Python, operator overloading is achieved by redefining certain special methods in a class, which Python automatically invokes when associated with the operator is used with objects of that class. This enables objects of user-defined classes to interact with standard operators such as addition (`+`), subtraction (`-`), multiplication (`*`), and more.\n",
    "\n",
    "Commonly Overloaded Operators and Their Methods:\n",
    "- **Addition (`+`)**: `__add__(self, other)`\n",
    "- **Subtraction (`-`)**: `__sub__(self, other)`\n",
    "- **Multiplication (`*`)**: `__mul__(self, other)`\n",
    "- **Division (`/`)**: `__truediv__(self, other)`\n",
    "- **Floor Division (`//`)**: `__floordiv__(self, other)`\n",
    "- **Modulus (`%`)**: `__mod__(self, other)`\n",
    "- **Power (`**`)**: `__pow__(self, other)`\n",
    "- **Equality (`==`)**: `__eq__(self, other)`\n",
    "- **Less than (`<`)**: `__lt__(self, other)`\n",
    "- **Greater than (`>`)**: `__gt__(self, other)`, and so on."
   ]
  },
  {
   "cell_type": "code",
   "execution_count": 12,
   "metadata": {},
   "outputs": [
    {
     "name": "stdout",
     "output_type": "stream",
     "text": [
      "Vector(7, 2)\n",
      "Vector(6, 12)\n"
     ]
    }
   ],
   "source": [
    "class Vector:\n",
    "    def __init__(self, x, y):\n",
    "        self.x = x\n",
    "        self.y = y\n",
    "\n",
    "    # Overloading the + operator\n",
    "    def __add__(self, other):\n",
    "        return Vector(self.x + other.x, self.y + other.y)\n",
    "\n",
    "    # Overloading the * operator for scalar multiplication\n",
    "    def __mul__(self, scalar):\n",
    "        if isinstance(scalar, (float, int)):  # Ensure scalar is a number\n",
    "            return Vector(self.x * scalar, self.y * scalar)\n",
    "        raise ValueError(\"Scalar must be a number\")\n",
    "\n",
    "    def __repr__(self):\n",
    "        return f\"Vector({self.x}, {self.y})\"\n",
    "\n",
    "\n",
    "# Using the overloaded operators\n",
    "v1 = Vector(2, 4)\n",
    "v2 = Vector(5, -2)\n",
    "print(v1 + v2)  # Vector addition\n",
    "print(v1 * 3)  # Scalar multiplication"
   ]
  },
  {
   "cell_type": "markdown",
   "metadata": {},
   "source": [
    "#### Abstraction <a id=\"abstraction\"></a>\n",
    "\n",
    "Abstraction is the process of hiding the complex implementation details and showing only the necessary features of an object. It is one of the key principles of object-oriented programming (OOP) and is closely related to encapsulation. Abstraction allows programmers to focus on the relevant aspects of an object and ignore the irrelevant details."
   ]
  },
  {
   "cell_type": "markdown",
   "metadata": {},
   "source": [
    "##### Abstract Base Classes (ABCs) <a id=\"abstract-base-classes\"></a>\n",
    "\n",
    "An abstract class is a class that cannot be instantiated on its own and is designed to be subclassed. It may contain one or more abstract methods, although it can also include concrete methods (methods with an implementation). The purpose of an abstract class is to provide a common interface for its subclasses.\n",
    "\n",
    "In Python, abstract classes are created by inheriting from the `ABC` class (Abstract Base Class) from the `abc` module and marking methods as abstract using the `@abstractmethod` decorator."
   ]
  },
  {
   "cell_type": "code",
   "execution_count": 13,
   "metadata": {},
   "outputs": [
    {
     "name": "stdout",
     "output_type": "stream",
     "text": [
      "200\n",
      "60\n"
     ]
    }
   ],
   "source": [
    "from abc import ABC, abstractmethod\n",
    "\n",
    "\n",
    "class Shape(ABC):  # Abstract class\n",
    "    @abstractmethod\n",
    "    def area(self):\n",
    "        pass  # No implementation here\n",
    "\n",
    "    @abstractmethod\n",
    "    def perimeter(self):\n",
    "        pass  # No implementation here\n",
    "\n",
    "\n",
    "class Rectangle(Shape):  # Concrete class\n",
    "    def __init__(self, width, height):\n",
    "        self.width = width\n",
    "        self.height = height\n",
    "\n",
    "    def area(self):  # Implementing the abstract method\n",
    "        return self.width * self.height\n",
    "\n",
    "    def perimeter(self):  # Implementing the abstract method\n",
    "        return 2 * (self.width + self.height)\n",
    "\n",
    "\n",
    "# shape = Shape()  # TypeError: Can't instantiate abstract class Shape with abstract methods area, perimeter\n",
    "rectangle = Rectangle(10, 20)\n",
    "print(rectangle.area())  # 200\n",
    "print(rectangle.perimeter())  # 60"
   ]
  },
  {
   "cell_type": "markdown",
   "metadata": {},
   "source": [
    "### 3. Advanced OOP Features <a id=\"advanced-oop-features\"></a>"
   ]
  },
  {
   "cell_type": "markdown",
   "metadata": {},
   "source": [
    "#### Magic Methods <a id=\"magic-methods\"></a>\n",
    "\n",
    "Magic methods in Python, also known as dunder methods (from \"double underscores\"), are special methods that start and end with double underscores (e.g., `__init__`, `__str__`). These methods enable operator overloading, are invoked by Python's syntax, and allow classes to implement and interact with built-in behaviors and operations. Magic methods provide a powerful means of making your objects behave like built-in types, enabling them to integrate seamlessly with Python's language features.\n",
    "\n",
    "**Common Magic Methods**:\n",
    "\n",
    "Object Initialization and Destruction\n",
    "- `__init__(self, [...])`: Called when an instance is created. Used for object initialization.\n",
    "- `__del__(self)`: Called when an instance is about to be destroyed. Useful for cleanup actions.\n",
    "\n",
    "String Representation\n",
    "- `__str__(self)`: Called by the `str(object)` built-in function and by the `print` function to compute the \"informal\" or nicely printable string representation of an object.\n",
    "- `__repr__(self)`: Called by the `repr()` built-in function and in many other contexts where a slightly more formal string representation is required. Ideally, it returns a string that could be used to recreate the object.\n",
    "\n",
    "Arithmetic Operators\n",
    "- `__add__(self, other)`: Implements addition (`+`).\n",
    "- `__sub__(self, other)`: Implements subtraction (`-`).\n",
    "- `__mul__(self, other)`: Implements multiplication (`*`).\n",
    "- `__truediv__(self, other)`: Implements division (`/`).\n",
    "\n",
    "Comparison Operators\n",
    "- `__eq__(self, other)`: Defines behavior for the equality operator, `==`.\n",
    "- `__ne__(self, other)`: Defines behavior for the inequality operator, `!=`.\n",
    "- `__lt__(self, other)`: Defines behavior for the less than operator, `<`.\n",
    "- `__gt__(self, other)`: Defines behavior for the greater than operator, `>`.\n",
    "\n",
    "Container Methods\n",
    "- `__len__(self)`: Called to implement the built-in function `len()`. Should return the length of the object, an integer `>= 0`.\n",
    "- `__getitem__(self, key)`: Called to implement evaluation of `self[key]`. Allows access to elements using square brackets.\n",
    "- `__setitem__(self, key, value)`: Implements assignment to `self[key]`.\n",
    "- `__delitem__(self, key)`: Implements deletion of `self[key]`.\n",
    "\n",
    "Callable Objects\n",
    "- `__call__(self, [...])`: Allows an instance of a class to be called as a function."
   ]
  },
  {
   "cell_type": "code",
   "execution_count": 14,
   "metadata": {},
   "outputs": [
    {
     "name": "stdout",
     "output_type": "stream",
     "text": [
      "(2 + 3i)\n",
      "ComplexNumber(2, 3)\n",
      "(5 + 7i)\n",
      "False\n"
     ]
    }
   ],
   "source": [
    "class ComplexNumber:\n",
    "    def __init__(self, real, imag):\n",
    "        self.real = real\n",
    "        self.imag = imag\n",
    "\n",
    "    def __repr__(self):\n",
    "        return f\"ComplexNumber({self.real}, {self.imag})\"\n",
    "\n",
    "    def __str__(self):\n",
    "        return f\"({self.real} + {self.imag}i)\"\n",
    "\n",
    "    def __add__(self, other):\n",
    "        return ComplexNumber(self.real + other.real, self.imag + other.imag)\n",
    "\n",
    "    def __eq__(self, other):\n",
    "        return self.real == other.real and self.imag == other.imag\n",
    "\n",
    "\n",
    "# Using the ComplexNumber class\n",
    "a = ComplexNumber(2, 3)\n",
    "b = ComplexNumber(3, 4)\n",
    "print(a)  # Output: (2 + 3i)\n",
    "print(repr(a))  # Output: ComplexNumber(2, 3)\n",
    "print(a + b)  # Output: (5 + 7i)\n",
    "print(a == b)  # Output: False"
   ]
  },
  {
   "cell_type": "markdown",
   "metadata": {},
   "source": [
    "#### Duck Typing <a id=\"duck-typing\"></a>\n",
    "\n",
    "Duck typing is a concept related to dynamic typing, where an object's suitability for use is determined by the presence of certain methods and properties, rather than the actual type of the object. The name comes from the phrase \"If it looks like a duck and quacks like a duck, then it probably is a duck,\" emphasizing behavior over explicit inheritance or interface implementation."
   ]
  },
  {
   "cell_type": "code",
   "execution_count": 15,
   "metadata": {},
   "outputs": [
    {
     "name": "stdout",
     "output_type": "stream",
     "text": [
      "Quack, quack!\n",
      "I'm quacking like a duck!\n"
     ]
    }
   ],
   "source": [
    "class Duck:\n",
    "    def quack(self):\n",
    "        print(\"Quack, quack!\")\n",
    "\n",
    "\n",
    "class Person:\n",
    "    def quack(self):\n",
    "        print(\"I'm quacking like a duck!\")\n",
    "\n",
    "\n",
    "def make_it_quack(duck):\n",
    "    duck.quack()\n",
    "\n",
    "\n",
    "# Usage\n",
    "duck = Duck()\n",
    "person = Person()\n",
    "\n",
    "make_it_quack(duck)  # Quack, quack!\n",
    "make_it_quack(person)  # I'm quacking like a duck!"
   ]
  },
  {
   "cell_type": "markdown",
   "metadata": {},
   "source": [
    "#### Protocols <a id=\"protocols\"></a>\n",
    "\n",
    "Protocols are a concept from static typing systems, but Python 3.8 introduced the notion of \"typing protocols\" to bring similar benefits to dynamic typing. A protocol specifies one or more methods that must be implemented, serving as an informal interface. An object is considered an instance of a protocol if it implements the specified methods. This is Python's version of structural typing, in contrast to nominal typing.\n",
    "\n",
    "Protocols are defined in the `typing` module using the `Protocol` class. They allow for duck typing to be combined with static type checks, giving developers the flexibility of duck typing along with the safety of static typing."
   ]
  },
  {
   "cell_type": "code",
   "execution_count": 16,
   "metadata": {},
   "outputs": [
    {
     "name": "stdout",
     "output_type": "stream",
     "text": [
      "Quack, quack!\n"
     ]
    }
   ],
   "source": [
    "from typing import Protocol\n",
    "\n",
    "\n",
    "class Quackable(Protocol):\n",
    "    def quack(self) -> None:\n",
    "        print(\"Quack, quack!\")\n",
    "\n",
    "\n",
    "def make_it_quack(duck: Quackable) -> None:\n",
    "    duck.quack()\n",
    "\n",
    "\n",
    "# Even without explicit inheritance, if an object implements the methods defined in a Protocol,\n",
    "# it's considered as implementing the protocol.\n",
    "make_it_quack(duck)  # Quack, quack!"
   ]
  },
  {
   "cell_type": "markdown",
   "metadata": {},
   "source": [
    "##### Iterable, Comparable, Hashable, Callable Protocols <a id=\"iterable-comparable-hashable-callable-protocols\"></a>\n",
    "\n",
    "**Iterable Protocol**\n",
    "\n",
    "The iterable protocol requires an object to implement the `__iter__()` method, which should return an iterator. An iterator is an object that implements the `__next__()` method, which returns the next item in a sequence or raises a `StopIteration` exception when there are no more items. The iterable protocol allows objects to be used in loops (e.g., `for` loops).\n",
    "\n",
    "```python\n",
    "class Counter:\n",
    "    def __init__(self, low, high):\n",
    "        self.current = low\n",
    "        self.high = high\n",
    "\n",
    "    def __iter__(self):\n",
    "        return self\n",
    "\n",
    "    def __next__(self):\n",
    "        if self.current > self.high:\n",
    "            raise StopIteration\n",
    "        else:\n",
    "            self.current += 1\n",
    "            return self.current - 1\n",
    "```\n",
    "\n",
    "**Comparable Protocol**\n",
    "\n",
    "The comparable protocol involves implementing methods for comparison operations, such as `__eq__` (equality), `__lt__` (less than), `__le__` (less than or equal to), `__gt__` (greater than), `__ge__` (greater than or equal to), and `__ne__` (not equal). These methods enable objects to be compared using operators like `==`, `<`, `<=`, `>`, `>=`, and `!=`.\n",
    "\n",
    "```python\n",
    "class Student:\n",
    "    def __init__(self, name, grade):\n",
    "        self.name = name\n",
    "        self.grade = grade\n",
    "\n",
    "    def __eq__(self, other):\n",
    "        return self.grade == other.grade\n",
    "```\n",
    "\n",
    "**Hashable Protocol**\n",
    "\n",
    "The hashable protocol requires an object to implement the `__hash__()` method. This method should return an integer hash value that is constant for the lifetime of the object. Hashable objects can be used as keys in dictionaries and stored in sets. Objects that implement `__hash__` should also implement `__eq__` for consistency.\n",
    "\n",
    "```python\n",
    "class Product:\n",
    "    def __init__(self, id, name):\n",
    "        self.id = id\n",
    "        self.name = name\n",
    "\n",
    "    def __hash__(self):\n",
    "        return hash((self.id, self.name))\n",
    "\n",
    "    def __eq__(self, other):\n",
    "        return (self.id, self.name) == (other.id, other.name)\n",
    "```\n",
    "\n",
    "**Callable Protocol**\n",
    "\n",
    "The callable protocol requires an object to implement the `__call__()` method. This allows objects to be called like functions. Implementing this method makes a class instance behave like a function.\n",
    "\n",
    "```python\n",
    "class Adder:\n",
    "    def __init__(self, n):\n",
    "        self.n = n\n",
    "\n",
    "    def __call__(self, x):\n",
    "        return self.n + x\n",
    "```"
   ]
  },
  {
   "cell_type": "markdown",
   "metadata": {},
   "source": [
    "##### Context Manager Protocol <a id=\"context-manager-protocol\"></a>\n",
    "\n",
    "The context manager protocol in Python defines a method for managing resources with `with` statements, ensuring that resources are properly acquired and released, typically used for file operations, network connections, and locking mechanisms. This protocol involves implementing two magic methods: `__enter__()` and `__exit__()`."
   ]
  },
  {
   "cell_type": "code",
   "execution_count": 17,
   "metadata": {},
   "outputs": [],
   "source": [
    "class FileOpener:\n",
    "    def __init__(self, filename, mode):\n",
    "        self.filename = filename\n",
    "        self.mode = mode\n",
    "        self.file = None\n",
    "\n",
    "    def __enter__(self):\n",
    "        self.file = open(self.filename, self.mode)\n",
    "        return self.file\n",
    "\n",
    "    def __exit__(self, exc_type, exc_val, exc_tb):\n",
    "        if self.file:\n",
    "            self.file.close()\n",
    "        # Return False or None to propagate exceptions, if any\n",
    "\n",
    "\n",
    "# Using the FileOpener class\n",
    "with FileOpener(\"../examples/sample.txt\", \"w\") as file:\n",
    "    file.write(\"Hello, world!\")\n",
    "# The file is automatically closed after the with block"
   ]
  },
  {
   "cell_type": "markdown",
   "metadata": {},
   "source": [
    "For simpler use cases, Python's `contextlib` module provides utilities like the `@contextmanager` decorator, which allows you to write a context manager using generator syntax, making it easier and more readable."
   ]
  },
  {
   "cell_type": "code",
   "execution_count": 18,
   "metadata": {},
   "outputs": [],
   "source": [
    "from contextlib import contextmanager\n",
    "\n",
    "\n",
    "@contextmanager\n",
    "def open_file(name, mode):\n",
    "    f = open(name, mode)\n",
    "    try:\n",
    "        yield f\n",
    "    finally:\n",
    "        f.close()\n",
    "\n",
    "\n",
    "# Usage\n",
    "with open_file(\"../examples/sample.txt\", \"w\") as f:\n",
    "    f.write(\"Hello again, world!\")"
   ]
  },
  {
   "cell_type": "markdown",
   "metadata": {},
   "source": [
    "### 4. Metaprogramming <a id=\"metaprogramming\"></a>\n",
    "\n",
    "Metaprogramming is a programming technique in which a program treats other programs as their data. It means that a program can be designed to read, generate, analyze, or transform other programs, and even modify itself while running. Metaprogramming is a powerful concept that allows you to write code that writes code, enabling you to automate repetitive tasks and build more flexible and reusable software."
   ]
  },
  {
   "cell_type": "markdown",
   "metadata": {},
   "source": [
    "#### Metaclasses <a id=\"metaclasses\"></a>\n",
    "\n",
    "A metaclass is a class whose instances are classes. In other words, a metaclass is a class of a class.\n",
    "\n",
    "In Python, the default metaclass is `type`. The `type` is itself a class, and it is its own metaclass, demonstrating the circular nature of Python's metaclass mechanism.\n",
    "\n",
    "You can create a custom metaclass by subclassing `type` and overriding its `__new__` and/or `__init__` methods:\n",
    "- `__new__`: This method is called before a class is created. It is responsible for returning a new class instance. It's where you can alter the class before it's created.\n",
    "- `__init__`: This method is called after the class is created. It's used to initialize the newly created class object. Modifications to the class can also be made here."
   ]
  },
  {
   "cell_type": "code",
   "execution_count": 19,
   "metadata": {},
   "outputs": [
    {
     "name": "stdout",
     "output_type": "stream",
     "text": [
      "Hello\n"
     ]
    }
   ],
   "source": [
    "class Meta(type):\n",
    "    def __new__(cls, name, bases, dct):\n",
    "        # Add a class attribute 'greeting' to the class\n",
    "        dct[\"greeting\"] = \"Hello\"\n",
    "        return super().__new__(cls, name, bases, dct)\n",
    "\n",
    "\n",
    "# Using the metaclass to create a class\n",
    "class MyClass(metaclass=Meta):\n",
    "    pass\n",
    "\n",
    "\n",
    "print(MyClass.greeting)  # Output: Hello"
   ]
  },
  {
   "cell_type": "markdown",
   "metadata": {},
   "source": [
    "#### Decorators <a id=\"oop-decorators\"></a>\n",
    "\n",
    "Decorators are a significant feature in Python that allows for the modification of functions or methods using other functions. They provide a transparent way of extending and modifying the behavior of callable objects (functions, methods, and classes) without permanently modifying the callable itself."
   ]
  },
  {
   "cell_type": "code",
   "execution_count": 20,
   "metadata": {},
   "outputs": [
    {
     "name": "stdout",
     "output_type": "stream",
     "text": [
      "Function name: add\n",
      "Arguments: (5, 3)\n",
      "Result: 8\n"
     ]
    },
    {
     "data": {
      "text/plain": [
       "8"
      ]
     },
     "execution_count": 20,
     "metadata": {},
     "output_type": "execute_result"
    }
   ],
   "source": [
    "def debug(func):\n",
    "    \"\"\"A simple decorator to print function information\"\"\"\n",
    "\n",
    "    def wrapper(*args, **kwargs):\n",
    "        print(f\"Function name: {func.__name__}\")\n",
    "        print(f\"Arguments: {args}\")\n",
    "        result = func(*args, **kwargs)\n",
    "        print(f\"Result: {result}\")\n",
    "        return result\n",
    "\n",
    "    return wrapper\n",
    "\n",
    "\n",
    "# Using the decorator\n",
    "@debug\n",
    "def add(x, y):\n",
    "    return x + y\n",
    "\n",
    "\n",
    "add(5, 3)"
   ]
  },
  {
   "cell_type": "markdown",
   "metadata": {},
   "source": [
    "### 5. Design Patterns in OOP <a id=\"design-patterns-in-oop\"></a>\n",
    "\n",
    "Design patterns in Object-Oriented Programming (OOP) are reusable solutions to common software design problems. They represent best practices, developed and refined over time by experienced software developers. Design patterns provide a standard terminology and are specific to particular scenarios, making it easier to communicate, understand, and solve complex design challenges."
   ]
  },
  {
   "cell_type": "markdown",
   "metadata": {},
   "source": [
    "#### Creational Patterns <a id=\"creational-patterns\"></a>\n",
    "\n",
    "Creational patterns are design patterns that deal with object creation mechanisms, trying to create objects in a manner suitable to the situation. The aim of these patterns is to abstract the instantiation process, making systems more independent of the specifics of how objects are created, composed, and represented."
   ]
  },
  {
   "cell_type": "markdown",
   "metadata": {},
   "source": [
    "##### Singleton <a id=\"singleton-pattern\"></a>\n",
    "\n",
    "The Singleton pattern ensures a class has only one instance and provides a global point of access to that instance. It's often used for managing connections to a database or settings configurations throughout an application. The Singleton ensures that multiple requests refer to the same shared resource."
   ]
  },
  {
   "cell_type": "code",
   "execution_count": 21,
   "metadata": {},
   "outputs": [
    {
     "name": "stdout",
     "output_type": "stream",
     "text": [
      "<__main__.Singleton object at 0x107c9cb50>\n"
     ]
    }
   ],
   "source": [
    "class Singleton:\n",
    "    _instance = None\n",
    "\n",
    "    @staticmethod\n",
    "    def getInstance():\n",
    "        if Singleton._instance == None:\n",
    "            Singleton._instance = Singleton()\n",
    "        return Singleton._instance\n",
    "\n",
    "\n",
    "# Usage\n",
    "s = Singleton.getInstance()\n",
    "print(s)  # <__main__.Singleton object at 0x7f8b5a3c5e50>"
   ]
  },
  {
   "cell_type": "markdown",
   "metadata": {},
   "source": [
    "##### Factory Method <a id=\"factory-method-pattern\"></a>\n",
    "\n",
    "The Factory Method pattern defines an interface for creating an object but allows subclasses to alter the type of objects that will be created. This pattern is particularly useful when a class cannot anticipate the class of objects it needs to create."
   ]
  },
  {
   "cell_type": "code",
   "execution_count": 22,
   "metadata": {},
   "outputs": [
    {
     "name": "stdout",
     "output_type": "stream",
     "text": [
      "HTML Button clicked\n"
     ]
    }
   ],
   "source": [
    "class Button:\n",
    "    def click(self):\n",
    "        pass\n",
    "\n",
    "\n",
    "class HTMLButton(Button):\n",
    "    def click(self):\n",
    "        return \"HTML Button clicked\"\n",
    "\n",
    "\n",
    "class WindowsButton(Button):\n",
    "    def click(self):\n",
    "        return \"Windows Button clicked\"\n",
    "\n",
    "\n",
    "class ButtonFactory:\n",
    "    @staticmethod\n",
    "    def createButton(type):\n",
    "        if type == \"HTML\":\n",
    "            return HTMLButton()\n",
    "        elif type == \"Windows\":\n",
    "            return WindowsButton()\n",
    "\n",
    "\n",
    "# Using the factory\n",
    "button = ButtonFactory.createButton(\"HTML\")\n",
    "print(button.click())  # HTML Button clicked"
   ]
  },
  {
   "cell_type": "markdown",
   "metadata": {},
   "source": [
    "##### Abstract Factory <a id=\"abstract-factory-pattern\"></a>\n",
    "\n",
    "The Abstract Factory pattern provides an interface for creating families of related or dependent objects without specifying their concrete classes. This pattern is ideal when there is a complex dependency between the creation of various objects."
   ]
  },
  {
   "cell_type": "code",
   "execution_count": 23,
   "metadata": {},
   "outputs": [
    {
     "data": {
      "text/plain": [
       "'Windows Button clicked'"
      ]
     },
     "execution_count": 23,
     "metadata": {},
     "output_type": "execute_result"
    }
   ],
   "source": [
    "class GUIFactory:\n",
    "    def createButton(self):\n",
    "        pass\n",
    "\n",
    "    def createCheckbox(self):\n",
    "        pass\n",
    "\n",
    "\n",
    "class WinFactory(GUIFactory):\n",
    "    def createButton(self):\n",
    "        return WindowsButton()\n",
    "\n",
    "    def createCheckbox(self):\n",
    "        return WindowsCheckbox()\n",
    "\n",
    "\n",
    "class MacFactory(GUIFactory):\n",
    "    def createButton(self):\n",
    "        return MacButton()\n",
    "\n",
    "    def createCheckbox(self):\n",
    "        return MacCheckbox()\n",
    "\n",
    "\n",
    "# Using the factory\n",
    "winFactory = WinFactory()\n",
    "winButton = winFactory.createButton()\n",
    "winButton.click()"
   ]
  },
  {
   "cell_type": "markdown",
   "metadata": {},
   "source": [
    "##### Builder <a id=\"builder-pattern\"></a>\n",
    "\n",
    "The Builder pattern allows for the construction of complex objects step by step. It's particularly useful when an object must be created in many different ways, or when the construction process must be separated from the representation."
   ]
  },
  {
   "cell_type": "code",
   "execution_count": 24,
   "metadata": {},
   "outputs": [
    {
     "name": "stdout",
     "output_type": "stream",
     "text": [
      "['Wheel', 'Engine']\n"
     ]
    }
   ],
   "source": [
    "class Car:\n",
    "    def __init__(self):\n",
    "        self.features = []\n",
    "\n",
    "    def addFeature(self, feature):\n",
    "        self.features.append(feature)\n",
    "\n",
    "\n",
    "class CarBuilder:\n",
    "    def __init__(self):\n",
    "        self.car = Car()\n",
    "\n",
    "    def addWheel(self):\n",
    "        self.car.addFeature(\"Wheel\")\n",
    "        return self\n",
    "\n",
    "    def addEngine(self):\n",
    "        self.car.addFeature(\"Engine\")\n",
    "        return self\n",
    "\n",
    "    def build(self):\n",
    "        return self.car\n",
    "\n",
    "\n",
    "# Using the builder\n",
    "builder = CarBuilder()\n",
    "car = builder.addWheel().addEngine().build()\n",
    "print(car.features)  # ['Wheel', 'Engine']"
   ]
  },
  {
   "cell_type": "markdown",
   "metadata": {},
   "source": [
    "##### Prototype <a id=\"prototype-pattern\"></a>\n",
    "\n",
    "The Prototype pattern is used when creating an instance of a class is more expensive or complex than copying an existing instance. It involves creating new objects by copying an existing object, known as the prototype."
   ]
  },
  {
   "cell_type": "code",
   "execution_count": 25,
   "metadata": {},
   "outputs": [
    {
     "name": "stdout",
     "output_type": "stream",
     "text": [
      "Ford Mustang (1964)\n"
     ]
    }
   ],
   "source": [
    "import copy\n",
    "\n",
    "\n",
    "class Prototype:\n",
    "    def __init__(self):\n",
    "        self._objects = {}\n",
    "\n",
    "    def registerObject(self, name, obj):\n",
    "        self._objects[name] = obj\n",
    "\n",
    "    def unregisterObject(self, name):\n",
    "        del self._objects[name]\n",
    "\n",
    "    def clone(self, name, **attrs):\n",
    "        obj = copy.deepcopy(self._objects.get(name))\n",
    "        obj.__dict__.update(attrs)\n",
    "        return obj\n",
    "\n",
    "\n",
    "# Usage\n",
    "class Car:\n",
    "    def __init__(self):\n",
    "        self.make = \"Ford\"\n",
    "        self.model = \"Mustang\"\n",
    "        self.year = 1964\n",
    "\n",
    "    def __str__(self):\n",
    "        return f\"{self.make} {self.model} ({self.year})\"\n",
    "\n",
    "\n",
    "car = Car()\n",
    "prototype = Prototype()\n",
    "prototype.registerObject(\"car\", car)\n",
    "print(prototype.clone(\"car\"))  # Ford Mustang (1964)"
   ]
  },
  {
   "cell_type": "markdown",
   "metadata": {},
   "source": [
    "#### Structural Patterns <a id=\"structural-patterns\"></a>\n",
    "\n",
    "Structural patterns are design patterns that ease the design by identifying a simple way to realize relationships between entities. They focus on how classes and objects are composed to form larger structures."
   ]
  },
  {
   "cell_type": "markdown",
   "metadata": {},
   "source": [
    "##### Adapter (Wrapper) <a id=\"adapter-pattern\"></a>\n",
    "\n",
    "The Adapter pattern allows objects with incompatible interfaces to work together. It acts as a bridge between two incompatible interfaces by wrapping the interface of one class into another interface clients expect. Adapter lets classes work together that couldn't otherwise because of incompatible interfaces.\n",
    "\n",
    "- **Class Adapter**: Uses multiple inheritance to adapt one interface to another.\n",
    "- **Object Adapter**: Relies on object composition."
   ]
  },
  {
   "cell_type": "code",
   "execution_count": 26,
   "metadata": {},
   "outputs": [
    {
     "name": "stdout",
     "output_type": "stream",
     "text": [
      "Adapter: (TRANSLATED) Special behavior of the Adaptee.\n"
     ]
    }
   ],
   "source": [
    "# Object Adapter Example\n",
    "class Target:\n",
    "    \"\"\"Desired interface\"\"\"\n",
    "\n",
    "    def request(self):\n",
    "        return \"Target-specific request\"\n",
    "\n",
    "\n",
    "class Adaptee:\n",
    "    \"\"\"Incompatible interface\"\"\"\n",
    "\n",
    "    def specific_request(self):\n",
    "        return \".eetpadA eht fo roivaheb laicepS\"\n",
    "\n",
    "\n",
    "class Adapter(Target, Adaptee):\n",
    "    \"\"\"Make Adaptee's interface compatible with Target's\"\"\"\n",
    "\n",
    "    def request(self):\n",
    "        return f\"Adapter: (TRANSLATED) {self.specific_request()[::-1]}\"\n",
    "\n",
    "\n",
    "# Example usage\n",
    "target = Adapter()\n",
    "print(target.request())"
   ]
  },
  {
   "cell_type": "markdown",
   "metadata": {},
   "source": [
    "##### Bridge <a id=\"bridge-pattern\"></a>\n",
    "\n",
    "The Bridge pattern decouples an abstraction from its implementation, allowing the two to vary independently. This pattern involves an interface which acts as a bridge between the abstraction class and implementor classes. It helps in bringing flexibility in the application by allowing independent changes in the code."
   ]
  },
  {
   "cell_type": "code",
   "execution_count": 27,
   "metadata": {},
   "outputs": [
    {
     "name": "stdout",
     "output_type": "stream",
     "text": [
      "Abstraction: Base operation with:\n",
      "ConcreteImplementationA method\n"
     ]
    }
   ],
   "source": [
    "class ImplementationInterface:\n",
    "    def method(self):\n",
    "        pass\n",
    "\n",
    "\n",
    "class ConcreteImplementationA(ImplementationInterface):\n",
    "    def method(self):\n",
    "        return \"ConcreteImplementationA method\"\n",
    "\n",
    "\n",
    "class ConcreteImplementationB(ImplementationInterface):\n",
    "    def method(self):\n",
    "        return \"ConcreteImplementationB method\"\n",
    "\n",
    "\n",
    "class Abstraction:\n",
    "    def __init__(self, implementation):\n",
    "        self.implementation = implementation\n",
    "\n",
    "    def operation(self):\n",
    "        return f\"Abstraction: Base operation with:\\n{self.implementation.method()}\"\n",
    "\n",
    "\n",
    "# Usage\n",
    "implementation = ConcreteImplementationA()\n",
    "abstraction = Abstraction(implementation)\n",
    "print(abstraction.operation())"
   ]
  },
  {
   "cell_type": "markdown",
   "metadata": {},
   "source": [
    "##### Composite <a id=\"composite-pattern\"></a>\n",
    "\n",
    "The Composite pattern composes objects into tree structures to represent part-whole hierarchies. It allows clients to treat individual objects and compositions of objects uniformly. This pattern is particularly useful for hierarchical structures where you want to treat objects and compositions in the same way."
   ]
  },
  {
   "cell_type": "code",
   "execution_count": 28,
   "metadata": {},
   "outputs": [
    {
     "name": "stdout",
     "output_type": "stream",
     "text": [
      "Branch(Branch(Leaf+Leaf)+Leaf)\n"
     ]
    }
   ],
   "source": [
    "class Component:\n",
    "    def operation(self):\n",
    "        pass\n",
    "\n",
    "\n",
    "class Leaf(Component):\n",
    "    def operation(self):\n",
    "        return \"Leaf\"\n",
    "\n",
    "\n",
    "class Composite(Component):\n",
    "    def __init__(self):\n",
    "        self._children = []\n",
    "\n",
    "    def add(self, component):\n",
    "        self._children.append(component)\n",
    "\n",
    "    def operation(self):\n",
    "        results = []\n",
    "        for child in self._children:\n",
    "            results.append(child.operation())\n",
    "        return f\"Branch({'+'.join(results)})\"\n",
    "\n",
    "\n",
    "# Using the composite pattern\n",
    "tree = Composite()\n",
    "left = Composite()\n",
    "left.add(Leaf())\n",
    "left.add(Leaf())\n",
    "right = Leaf()\n",
    "tree.add(left)\n",
    "tree.add(right)\n",
    "print(tree.operation())"
   ]
  },
  {
   "cell_type": "markdown",
   "metadata": {},
   "source": [
    "##### Decorator <a id=\"decorator-pattern\"></a>\n",
    "\n",
    "The Decorator pattern allows behavior to be added to an individual object, either statically or dynamically, without affecting the behavior of other objects from the same class. It involves a set of decorator classes that are used to wrap concrete components."
   ]
  },
  {
   "cell_type": "code",
   "execution_count": 29,
   "metadata": {},
   "outputs": [
    {
     "name": "stdout",
     "output_type": "stream",
     "text": [
      "ConcreteDecoratorA(ConcreteComponent)\n"
     ]
    }
   ],
   "source": [
    "class Component:\n",
    "    def operation(self):\n",
    "        pass\n",
    "\n",
    "\n",
    "class ConcreteComponent(Component):\n",
    "    def operation(self):\n",
    "        return \"ConcreteComponent\"\n",
    "\n",
    "\n",
    "class Decorator(Component):\n",
    "    def __init__(self, component):\n",
    "        self._component = component\n",
    "\n",
    "    def operation(self):\n",
    "        return self._component.operation()\n",
    "\n",
    "\n",
    "class ConcreteDecoratorA(Decorator):\n",
    "    def operation(self):\n",
    "        return f\"ConcreteDecoratorA({self._component.operation()})\"\n",
    "\n",
    "\n",
    "# Usage\n",
    "simple = ConcreteComponent()\n",
    "decorator1 = ConcreteDecoratorA(simple)\n",
    "print(decorator1.operation())"
   ]
  },
  {
   "cell_type": "markdown",
   "metadata": {},
   "source": [
    "##### Facade <a id=\"facade-pattern\"></a>\n",
    "\n",
    "The Facade pattern provides a unified interface to a set of interfaces in a subsystem. Facade defines a higher-level interface that makes the subsystem easier to use. It is often used to simplify a complex subsystem by providing a single entry point."
   ]
  },
  {
   "cell_type": "code",
   "execution_count": 30,
   "metadata": {},
   "outputs": [
    {
     "name": "stdout",
     "output_type": "stream",
     "text": [
      "Facade initializes subsystems:\n",
      "Subsystem1: Ready!\n",
      "Subsystem2: Get ready!\n",
      "\n"
     ]
    }
   ],
   "source": [
    "class Subsystem1:\n",
    "    def operation1(self):\n",
    "        return \"Subsystem1: Ready!\\n\"\n",
    "\n",
    "    def operationN(self):\n",
    "        return \"Subsystem1: Go!\\n\"\n",
    "\n",
    "\n",
    "class Subsystem2:\n",
    "    def operation1(self):\n",
    "        return \"Subsystem2: Get ready!\\n\"\n",
    "\n",
    "    def operationZ(self):\n",
    "        return \"Subsystem2: Fire!\\n\"\n",
    "\n",
    "\n",
    "class Facade:\n",
    "    def __init__(self, subsystem1, subsystem2):\n",
    "        self._subsystem1 = subsystem1 or Subsystem1()\n",
    "        self._subsystem2 = subsystem2 or Subsystem2()\n",
    "\n",
    "    def operation(self):\n",
    "        return (\n",
    "            \"Facade initializes subsystems:\\n\"\n",
    "            + self._subsystem1.operation1()\n",
    "            + self._subsystem2.operation1()\n",
    "        )\n",
    "\n",
    "\n",
    "# Usage\n",
    "facade = Facade(None, None)\n",
    "print(facade.operation())"
   ]
  },
  {
   "cell_type": "markdown",
   "metadata": {},
   "source": [
    "#### Behavioral Patterns <a id=\"behavioral-patterns\"></a>\n",
    "\n",
    "Behavioral design patterns are a category of design patterns that concern themselves with algorithms and the assignment of responsibilities between objects. They describe not just patterns of objects or classes but also the patterns of communication between them."
   ]
  },
  {
   "cell_type": "markdown",
   "metadata": {},
   "source": [
    "##### Observer <a id=\"observer-pattern\"></a>\n",
    "\n",
    "The Observer pattern defines a one-to-many dependency between objects so that when one object changes state, all its dependents are notified and updated automatically. It's widely used in implementing distributed event handling systems."
   ]
  },
  {
   "cell_type": "code",
   "execution_count": 31,
   "metadata": {},
   "outputs": [
    {
     "name": "stdout",
     "output_type": "stream",
     "text": [
      "Observer: Reacted to the event. State is now 123\n"
     ]
    }
   ],
   "source": [
    "class Subject:\n",
    "    def __init__(self):\n",
    "        self._observers = []\n",
    "\n",
    "    def attach(self, observer):\n",
    "        self._observers.append(observer)\n",
    "\n",
    "    def detach(self, observer):\n",
    "        self._observers.remove(observer)\n",
    "\n",
    "    def notify(self):\n",
    "        for observer in self._observers:\n",
    "            observer.update(self)\n",
    "\n",
    "\n",
    "class ConcreteSubject(Subject):\n",
    "    _state = None\n",
    "\n",
    "    @property\n",
    "    def state(self):\n",
    "        return self._state\n",
    "\n",
    "    @state.setter\n",
    "    def state(self, value):\n",
    "        self._state = value\n",
    "        self.notify()\n",
    "\n",
    "\n",
    "class Observer:\n",
    "    def update(self, subject):\n",
    "        pass\n",
    "\n",
    "\n",
    "class ConcreteObserver(Observer):\n",
    "    def update(self, subject):\n",
    "        print(f\"Observer: Reacted to the event. State is now {subject.state}\")\n",
    "\n",
    "\n",
    "# Usage\n",
    "subject = ConcreteSubject()\n",
    "observer = ConcreteObserver()\n",
    "subject.attach(observer)\n",
    "subject.state = 123"
   ]
  },
  {
   "cell_type": "markdown",
   "metadata": {},
   "source": [
    "##### Strategy <a id=\"strategy-pattern\"></a>\n",
    "\n",
    "The Strategy pattern defines a family of algorithms, encapsulates each one, and makes them interchangeable. Strategy lets the algorithm vary independently from clients that use it. It's particularly useful when you have a family of algorithms and want to choose one at runtime."
   ]
  },
  {
   "cell_type": "code",
   "execution_count": 32,
   "metadata": {},
   "outputs": [
    {
     "name": "stdout",
     "output_type": "stream",
     "text": [
      "6\n",
      "3\n"
     ]
    }
   ],
   "source": [
    "class Strategy:\n",
    "    def execute(self, data):\n",
    "        pass\n",
    "\n",
    "\n",
    "class ConcreteStrategyA(Strategy):\n",
    "    def execute(self, data):\n",
    "        return sum(data)\n",
    "\n",
    "\n",
    "class ConcreteStrategyB(Strategy):\n",
    "    def execute(self, data):\n",
    "        return max(data)\n",
    "\n",
    "\n",
    "class Context:\n",
    "    def __init__(self, strategy):\n",
    "        self._strategy = strategy\n",
    "\n",
    "    def set_strategy(self, strategy):\n",
    "        self._strategy = strategy\n",
    "\n",
    "    def execute_strategy(self, data):\n",
    "        return self._strategy.execute(data)\n",
    "\n",
    "\n",
    "# Usage\n",
    "context = Context(ConcreteStrategyA())\n",
    "print(context.execute_strategy([1, 2, 3]))  # 6\n",
    "context.set_strategy(ConcreteStrategyB())\n",
    "print(context.execute_strategy([1, 2, 3]))  # 3"
   ]
  },
  {
   "cell_type": "markdown",
   "metadata": {},
   "source": [
    "##### Command <a id=\"command-pattern\"></a>\n",
    "\n",
    "The Command pattern turns a request into a stand-alone object that contains all information about the request. This transformation allows you to parameterize methods with different requests, delay or queue a request's execution, and support undoable operations."
   ]
  },
  {
   "cell_type": "code",
   "execution_count": 33,
   "metadata": {},
   "outputs": [
    {
     "name": "stdout",
     "output_type": "stream",
     "text": [
      "Receiver: Perform an action\n"
     ]
    }
   ],
   "source": [
    "class Command:\n",
    "    def execute(self):\n",
    "        pass\n",
    "\n",
    "\n",
    "class ConcreteCommand(Command):\n",
    "    def __init__(self, receiver):\n",
    "        self._receiver = receiver\n",
    "\n",
    "    def execute(self):\n",
    "        self._receiver.action()\n",
    "\n",
    "\n",
    "class Receiver:\n",
    "    def action(self):\n",
    "        print(\"Receiver: Perform an action\")\n",
    "\n",
    "\n",
    "class Invoker:\n",
    "    _command = None\n",
    "\n",
    "    def set_command(self, command):\n",
    "        self._command = command\n",
    "\n",
    "    def execute_command(self):\n",
    "        self._command.execute()\n",
    "\n",
    "\n",
    "# Usage\n",
    "receiver = Receiver()\n",
    "command = ConcreteCommand(receiver)\n",
    "invoker = Invoker()\n",
    "invoker.set_command(command)\n",
    "invoker.execute_command()"
   ]
  },
  {
   "cell_type": "markdown",
   "metadata": {},
   "source": [
    "##### State <a id=\"state-pattern\"></a>\n",
    "\n",
    "The State pattern allows an object to alter its behavior when its internal state changes. The object will appear to change its class."
   ]
  },
  {
   "cell_type": "code",
   "execution_count": 34,
   "metadata": {},
   "outputs": [
    {
     "name": "stdout",
     "output_type": "stream",
     "text": [
      "State A handling\n",
      "State B handling\n"
     ]
    }
   ],
   "source": [
    "class State:\n",
    "    def handle(self, context):\n",
    "        pass\n",
    "\n",
    "\n",
    "class ConcreteStateA(State):\n",
    "    def handle(self, context):\n",
    "        print(\"State A handling\")\n",
    "        context.state = ConcreteStateB()\n",
    "\n",
    "\n",
    "class ConcreteStateB(State):\n",
    "    def handle(self, context):\n",
    "        print(\"State B handling\")\n",
    "        context.state = ConcreteStateA()\n",
    "\n",
    "\n",
    "class Context:\n",
    "    _state = None\n",
    "\n",
    "    def __init__(self, state):\n",
    "        self.transition_to(state)\n",
    "\n",
    "    def transition_to(self, state):\n",
    "        self._state = state\n",
    "\n",
    "    def request(self):\n",
    "        self._state.handle(self)\n",
    "\n",
    "\n",
    "# Usage\n",
    "context1 = Context(ConcreteStateA())\n",
    "context1.request()\n",
    "context2 = Context(ConcreteStateB())\n",
    "context2.request()"
   ]
  },
  {
   "cell_type": "markdown",
   "metadata": {},
   "source": [
    "##### Chain of Responsibility <a id=\"chain-of-responsibility-pattern\"></a>\n",
    "\n",
    "The Chain of Responsibility pattern lets you pass requests along a chain of handlers. Upon receiving a request, each handler decides either to process the request or to pass it to the next handler in the chain."
   ]
  },
  {
   "cell_type": "code",
   "execution_count": 35,
   "metadata": {},
   "outputs": [
    {
     "name": "stdout",
     "output_type": "stream",
     "text": [
      "Handler 1 dealing with R1\n",
      "Handler 2 dealing with R2\n",
      "None\n"
     ]
    }
   ],
   "source": [
    "class Handler:\n",
    "    _next_handler = None\n",
    "\n",
    "    def set_next(self, handler):\n",
    "        self._next_handler = handler\n",
    "        return handler\n",
    "\n",
    "    def handle(self, request):\n",
    "        if self._next_handler:\n",
    "            return self._next_handler.handle(request)\n",
    "        return None\n",
    "\n",
    "\n",
    "class ConcreteHandler1(Handler):\n",
    "    def handle(self, request):\n",
    "        if request == \"R1\":\n",
    "            return f\"Handler 1 dealing with {request}\"\n",
    "        else:\n",
    "            return super().handle(request)\n",
    "\n",
    "\n",
    "class ConcreteHandler2(Handler):\n",
    "    def handle(self, request):\n",
    "        if request == \"R2\":\n",
    "            return f\"Handler 2 dealing with {request}\"\n",
    "        else:\n",
    "            return super().handle(request)\n",
    "\n",
    "\n",
    "# Using the chain of responsibility\n",
    "handler1 = ConcreteHandler1()\n",
    "handler2 = ConcreteHandler2()\n",
    "handler1.set_next(handler2)\n",
    "print(handler1.handle(\"R1\"))  # Handler 1 dealing with R1\n",
    "print(handler1.handle(\"R2\"))  # Handler 2 dealing with R2\n",
    "print(handler1.handle(\"R3\"))  # None"
   ]
  }
 ],
 "metadata": {
  "kernelspec": {
   "display_name": "Python 3",
   "language": "python",
   "name": "python3"
  },
  "language_info": {
   "codemirror_mode": {
    "name": "ipython",
    "version": 3
   },
   "file_extension": ".py",
   "mimetype": "text/x-python",
   "name": "python",
   "nbconvert_exporter": "python",
   "pygments_lexer": "ipython3",
   "version": "3.11.7"
  }
 },
 "nbformat": 4,
 "nbformat_minor": 2
}
