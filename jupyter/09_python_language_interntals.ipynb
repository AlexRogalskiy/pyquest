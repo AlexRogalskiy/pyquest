{
 "cells": [
  {
   "cell_type": "markdown",
   "metadata": {},
   "source": [
    "# Part IX: Python Language Internals <a id=\"9-language-internals\"></a>"
   ]
  },
  {
   "cell_type": "markdown",
   "metadata": {},
   "source": [
    "1. [Namespaces and Scope](#namespaces-and-scope)\n",
    "    - [Global and Local Variables](#global-and-local-variables)\n",
    "    - [Modules and Packages](#modules-and-packages)\n",
    "    - [Built-in Names](#built-in-names)\n",
    "    - [LEGB Rule](#legb-rule)\n",
    "2. [Typing](#typing)\n",
    "    - [Type Hints](#type-hints)\n",
    "    - [Type Checking](#type-checking)\n",
    "        - [Dynamic Type Checking](#dynamic-type-checking)\n",
    "        - [Static Type Checking](#static-type-checking)\n",
    "    - [Protocols](#protocols)\n",
    "3. [Python Compilation](#python-compilation)\n",
    "    - [Python Interpreter](#python-interpreter)\n",
    "    - [Bytecode](#bytecode)\n",
    "    - [Python Virtual Machine](#python-virtual-machine)\n",
    "4. [Memory Management](#memory-management)\n",
    "    - [Heap and Stack](#heap-and-stack)\n",
    "    - [Memory Allocation](#memory-allocation)\n",
    "    - [Garbage Collection](#garbage-collection)\n",
    "        - [Reference Counting](#reference-counting)\n",
    "        - [GC debug and objgraph](#gc-debug-objgraph)\n",
    "5. [Introspection](#introspection)"
   ]
  },
  {
   "cell_type": "markdown",
   "metadata": {},
   "source": [
    "## 1. Namespaces and Scope <a id=\"namespaces-and-scope\"></a>\n",
    "\n",
    "In Python, a namespace is a mapping from names to objects. It is used to avoid name conflicts and to provide a way to access objects in a program. Python uses a hierarchical namespace system, which allows for the creation of nested namespaces."
   ]
  },
  {
   "cell_type": "markdown",
   "metadata": {},
   "source": [
    "### Global and Local Variables <a id=\"global-and-local-variables\"></a>\n",
    "\n",
    "In Python, variables are categorized as either global or local, based on where they are declared and the scope in which they can be accessed and modified.\n",
    "\n",
    "**Global Variables**:\n",
    "\n",
    "- **Declaration**: A variable declared outside of any function or class is considered a global variable.\n",
    "- **Scope**: Global variables can be accessed and modified from anywhere in the program, including inside functions and classes.\n",
    "- **Lifetime**: Global variables exist for the entire duration of the program's execution.\n",
    "\n",
    "**Local Variables**:\n",
    "\n",
    "- **Declaration**: A variable declared inside a function or class method is considered a local variable.\n",
    "- **Scope**: Local variables can only be accessed and modified within the function or method in which they are declared.\n",
    "- **Lifetime**: Local variables exist only for the duration of the function or method's execution."
   ]
  },
  {
   "cell_type": "code",
   "execution_count": 25,
   "metadata": {},
   "outputs": [
    {
     "name": "stdout",
     "output_type": "stream",
     "text": [
      "Inside function, global x: 6\n",
      "Inside function, local y: 10\n",
      "Outside function, global x: 6\n"
     ]
    }
   ],
   "source": [
    "x = 5  # Global variable\n",
    "\n",
    "\n",
    "def modify_variables():\n",
    "    y = 10  # Local variable\n",
    "    global x\n",
    "    x = x + 1  # Modifies the global variable\n",
    "    print(\"Inside function, global x:\", x)\n",
    "    print(\"Inside function, local y:\", y)\n",
    "\n",
    "\n",
    "modify_variables()\n",
    "print(\"Outside function, global x:\", x)\n",
    "\n",
    "# Trying to access y outside the function will raise an error\n",
    "# print(y)  # Uncommenting this line will result in NameError"
   ]
  },
  {
   "cell_type": "markdown",
   "metadata": {},
   "source": [
    "### Modules and Packages <a id=\"modules-and-packages\"></a>\n",
    "\n",
    "In Python, a module is a file containing Python definitions and statements. The file name is the module name with the suffix `.py` appended. A package is a collection of modules in directories that have a special file called `__init__.py`.\n",
    "\n",
    "**Modules**:\n",
    "- **Functionality**: Modules are used to organize Python code into reusable units. They can contain functions, classes, and variables, and can be imported into other modules or scripts.\n",
    "- **Importing**: Modules can be imported using the `import` statement, which allows the code in the module to be accessed and used in the importing module.\n",
    "- **Namespace**: Each module has its own namespace, which means that the names defined in a module are separate from the names defined in other modules.\n",
    "\n",
    "**Packages**:\n",
    "- **Functionality**: Packages are a way of organizing related modules into a single directory hierarchy. They provide a way to create a namespace for the modules they contain.\n",
    "- **Importing**: Packages can be imported using the `import` statement, and the modules within the package can be accessed using dot notation.\n",
    "- **Namespace**: Packages have their own namespace, and the modules within the package have their own namespaces as well.\n",
    "\n",
    "Suppose you have a directory structure like this for a package named `mypackage`:\n",
    "```markdown\n",
    "mypackage/\n",
    "│\n",
    "├── __init__.py\n",
    "├── module1.py\n",
    "└── module2.py\n",
    "```\n",
    "\n",
    "- `module1.py` might define a function `function_a`.\n",
    "- `module2.py` might define a function `function_b`.\n",
    "\n",
    "Using Modules and Packages\n",
    "```python\n",
    "# Importing a module from the package\n",
    "from mypackage import module1\n",
    "module1.function_a()\n",
    "\n",
    "# Importing a specific function from a module\n",
    "from mypackage.module2 import function_b\n",
    "function_b()\n",
    "\n",
    "# Importing the entire module\n",
    "import mypackage.module1 as mod1\n",
    "mod1.function_a()\n",
    "```"
   ]
  },
  {
   "cell_type": "markdown",
   "metadata": {},
   "source": [
    "### Built-in Names <a id=\"built-in-names\"></a>\n",
    "\n",
    "_Built-in names_ in Python refer to a pre-defined set of objects, functions, exceptions, and other entities that are always available in any Python environment. These built-ins are part of the Python language core and provide fundamental functionality that you can use without needing to import any modules.\n",
    "\n",
    "_Examples of Built-in Names:_\n",
    "\n",
    "1. **Built-in Functions**: Functions like `print()`, `len()`, `type()`, and `range()` are built-in functions that perform common tasks.\n",
    "2. **Built-in Data Types**: Python includes built-in data types like `int`, `float`, `str`, `list`, `tuple`, `dict`, `set`, and `bool`.\n",
    "3. **Built-in Exceptions**: Exceptions like `ValueError`, `TypeError`, `IndexError`, `KeyError`, and `OSError` are built-in exceptions that you can catch and handle in your code.\n",
    "4. **Built-in Constants**: Constants like `True`, `False`, `None`, `NotImplemented`, `Ellipsis`, and numerical constants like `float('inf')` and `float('-inf')`."
   ]
  },
  {
   "cell_type": "code",
   "execution_count": 26,
   "metadata": {},
   "outputs": [
    {
     "name": "stdout",
     "output_type": "stream",
     "text": [
      "5\n",
      "That index does not exist: list index out of range\n",
      "John Doe\n"
     ]
    }
   ],
   "source": [
    "# Using built-in functions\n",
    "numbers = [1, 2, 3, 4, 5]\n",
    "print(len(numbers))  # Prints the length of the list\n",
    "\n",
    "# Using built-in data types\n",
    "name = str(\"John Doe\")  # Creates a string object\n",
    "age = int(30)  # Creates an integer object\n",
    "\n",
    "# Handling built-in exceptions\n",
    "try:\n",
    "    value = numbers[5]  # Attempt to access an index that does not exist\n",
    "except IndexError as e:\n",
    "    print(\"That index does not exist:\", e)\n",
    "\n",
    "# Using built-in constants\n",
    "if name is not None:\n",
    "    print(name)"
   ]
  },
  {
   "cell_type": "markdown",
   "metadata": {},
   "source": [
    "### LEGB Rule <a id=\"legb-rule\"></a>\n",
    "\n",
    "The _LEGB rule_ is a set of rules used by Python to determine the order in which it searches for names in the program. The acronym LEGB stands for Local, Enclosing, Global, and Built-in, which are the four scopes in which Python searches for names.\n",
    "\n",
    "When a name is used, Python searches these four scopes in the order described by LEGB to find the first place where the name is defined. Once found, Python uses the corresponding object. If the name is not found in any of these scopes, a `NameError` is raised.\n",
    "\n",
    "**LEGB Scopes**:\n",
    "\n",
    "1. **Local (L)**: This is the innermost scope, which includes names defined in the current function or lambda expression.\n",
    "2. **Enclosing (E)**: This scope is used for nested functions. It includes names defined in the enclosing function (outer function) of the current function.\n",
    "3. **Global (G)**: This scope includes names defined at the top level of the module or script, or declared global in a function.\n",
    "4. **Built-in (B)**: This is the outermost scope, which includes names pre-defined in the built-in namespace."
   ]
  },
  {
   "cell_type": "code",
   "execution_count": 27,
   "metadata": {},
   "outputs": [
    {
     "name": "stdout",
     "output_type": "stream",
     "text": [
      "outer x\n"
     ]
    }
   ],
   "source": [
    "x = \"global x\"  # Global scope\n",
    "\n",
    "\n",
    "def outer():\n",
    "    x = \"outer x\"  # Enclosing scope\n",
    "\n",
    "    def inner():\n",
    "        # x = 'inner x'  # Uncomment to see how local scope takes precedence\n",
    "        print(\n",
    "            x\n",
    "        )  # Python looks for 'x' in the Local, Enclosing, Global, then Built-in scopes\n",
    "\n",
    "    inner()\n",
    "\n",
    "\n",
    "outer()"
   ]
  },
  {
   "cell_type": "markdown",
   "metadata": {},
   "source": [
    "## 2. Typing <a id=\"typing\"></a>\n",
    "\n",
    "Python is a dynamically typed language, which means that the type of a variable is determined at runtime. However, Python 3.5 introduced a new module called `typing` that allows you to specify the type of variables, function arguments, and return values. This is known as type hinting."
   ]
  },
  {
   "cell_type": "markdown",
   "metadata": {},
   "source": [
    "### Type Hints <a id=\"type-hints\"></a>\n",
    "\n",
    "_Type hints_ are a way to specify the expected types of variables, function arguments, and return values in Python code. They are used to provide additional information to developers, tools, and libraries about the types of data that are expected and returned by functions and methods.\n",
    "\n",
    "Type hints are not enforced by the Python interpreter, which means that they do not affect the runtime behavior of the code. However, they can be used by static type checkers, IDEs, and other tools to provide better code analysis, error checking, and documentation.\n",
    "\n",
    "**Syntax for Type Hints**:\n",
    "\n",
    "- **Variable Type Hints**: `variable_name: type`\n",
    "- **Function Argument Type Hints**: `def function_name(arg1: type, arg2: type) -> return_type:`\n",
    "- **Return Type Hints**: `def function_name() -> return_type:`\n",
    "- **Type Aliases**: `NewType('TypeName', type)`\n",
    "- **Optional Types**: `Optional[type]` or `Union[type, None]`"
   ]
  },
  {
   "cell_type": "code",
   "execution_count": 28,
   "metadata": {},
   "outputs": [
    {
     "name": "stdout",
     "output_type": "stream",
     "text": [
      "apple\n",
      "banana\n",
      "cherry\n",
      "Alice 30\n"
     ]
    }
   ],
   "source": [
    "from typing import Dict, List, Optional\n",
    "\n",
    "\n",
    "def process_items(items: List[str]) -> None:\n",
    "    for item in items:\n",
    "        print(item)\n",
    "\n",
    "\n",
    "def lookup_person(name: str) -> Optional[Dict[str, str]]:\n",
    "    # Dummy example of a function that might return None\n",
    "    if name == \"Alice\":\n",
    "        return {\"name\": \"Alice\", \"age\": \"30\"}\n",
    "    else:\n",
    "        return None\n",
    "\n",
    "\n",
    "# Using the functions\n",
    "process_items([\"apple\", \"banana\", \"cherry\"])\n",
    "\n",
    "person: Optional[Dict[str, str]] = lookup_person(\"Alice\")\n",
    "if person is not None:\n",
    "    print(person[\"name\"], person[\"age\"])"
   ]
  },
  {
   "cell_type": "markdown",
   "metadata": {},
   "source": [
    "### Type Checking <a id=\"type-checking\"></a>\n",
    "\n",
    "_Type checking_ is the process of verifying the type of an expression at compile time (static type checking) or runtime (dynamic type checking). Python, being a dynamically typed language, primarily performs type checking at runtime. However, with the introduction of type hints (PEP 484), Python developers can now also perform static type checking using external tools like `Mypy`."
   ]
  },
  {
   "cell_type": "markdown",
   "metadata": {},
   "source": [
    "#### Dynamic Type Checking <a id=\"dynamic-type-checking\"></a>\n",
    "\n",
    "_Dynamic type checking_ happens as the program runs. Python checks the type of the variables at the time of execution and raises errors if an operation is incompatible with the type. \n",
    "\n",
    "For example, if you try to add a string and an integer, Python will raise a `TypeError` at runtime."
   ]
  },
  {
   "cell_type": "code",
   "execution_count": 29,
   "metadata": {},
   "outputs": [
    {
     "name": "stdout",
     "output_type": "stream",
     "text": [
      "30\n"
     ]
    },
    {
     "ename": "TypeError",
     "evalue": "can only concatenate str (not \"int\") to str",
     "output_type": "error",
     "traceback": [
      "\u001b[0;31m---------------------------------------------------------------------------\u001b[0m",
      "\u001b[0;31mTypeError\u001b[0m                                 Traceback (most recent call last)",
      "Cell \u001b[0;32mIn[29], line 10\u001b[0m\n\u001b[1;32m      7\u001b[0m \u001b[38;5;28mprint\u001b[39m(add(\u001b[38;5;241m10\u001b[39m, \u001b[38;5;241m20\u001b[39m))\n\u001b[1;32m      9\u001b[0m \u001b[38;5;66;03m# This raises a TypeError at runtime\u001b[39;00m\n\u001b[0;32m---> 10\u001b[0m \u001b[38;5;28mprint\u001b[39m(\u001b[43madd\u001b[49m\u001b[43m(\u001b[49m\u001b[38;5;124;43m\"\u001b[39;49m\u001b[38;5;124;43m10\u001b[39;49m\u001b[38;5;124;43m\"\u001b[39;49m\u001b[43m,\u001b[49m\u001b[43m \u001b[49m\u001b[38;5;241;43m20\u001b[39;49m\u001b[43m)\u001b[49m)\n",
      "Cell \u001b[0;32mIn[29], line 3\u001b[0m, in \u001b[0;36madd\u001b[0;34m(a, b)\u001b[0m\n\u001b[1;32m      2\u001b[0m \u001b[38;5;28;01mdef\u001b[39;00m \u001b[38;5;21madd\u001b[39m(a, b):\n\u001b[0;32m----> 3\u001b[0m     \u001b[38;5;28;01mreturn\u001b[39;00m \u001b[43ma\u001b[49m\u001b[43m \u001b[49m\u001b[38;5;241;43m+\u001b[39;49m\u001b[43m \u001b[49m\u001b[43mb\u001b[49m\n",
      "\u001b[0;31mTypeError\u001b[0m: can only concatenate str (not \"int\") to str"
     ]
    }
   ],
   "source": [
    "# Dynamic type checking example\n",
    "def add(a, b):\n",
    "    return a + b\n",
    "\n",
    "\n",
    "# This works fine\n",
    "print(add(10, 20))\n",
    "\n",
    "# This raises a TypeError at runtime\n",
    "print(add(\"10\", 20))"
   ]
  },
  {
   "cell_type": "markdown",
   "metadata": {},
   "source": [
    "#### Static Type Checking <a id=\"static-type-checking\"></a>\n",
    "\n",
    "_Static type checking_ involves verifying the types of variables before execution, at compile-time. This is done using type hints in Python and a static type checker like `Mypy`. Static type checking can help catch type-related errors early in the development process and improve code quality.\n",
    "\n",
    "`Mypy` is the most popular static type checker for Python. It uses the type hints provided in the code to verify that the types are consistent throughout the program."
   ]
  },
  {
   "cell_type": "code",
   "execution_count": null,
   "metadata": {},
   "outputs": [
    {
     "ename": "TypeError",
     "evalue": "can only concatenate str (not \"int\") to str",
     "output_type": "error",
     "traceback": [
      "\u001b[0;31m---------------------------------------------------------------------------\u001b[0m",
      "\u001b[0;31mTypeError\u001b[0m                                 Traceback (most recent call last)",
      "Cell \u001b[0;32mIn[3], line 7\u001b[0m\n\u001b[1;32m      3\u001b[0m     \u001b[38;5;28;01mreturn\u001b[39;00m a \u001b[38;5;241m+\u001b[39m b\n\u001b[1;32m      6\u001b[0m \u001b[38;5;66;03m# A static type checker can catch incompatible types before running the program\u001b[39;00m\n\u001b[0;32m----> 7\u001b[0m \u001b[38;5;28mprint\u001b[39m(\u001b[43madd\u001b[49m\u001b[43m(\u001b[49m\u001b[38;5;124;43m\"\u001b[39;49m\u001b[38;5;124;43m10\u001b[39;49m\u001b[38;5;124;43m\"\u001b[39;49m\u001b[43m,\u001b[49m\u001b[43m \u001b[49m\u001b[38;5;241;43m20\u001b[39;49m\u001b[43m)\u001b[49m)\n",
      "Cell \u001b[0;32mIn[3], line 3\u001b[0m, in \u001b[0;36madd\u001b[0;34m(a, b)\u001b[0m\n\u001b[1;32m      2\u001b[0m \u001b[38;5;28;01mdef\u001b[39;00m \u001b[38;5;21madd\u001b[39m(a: \u001b[38;5;28mint\u001b[39m, b: \u001b[38;5;28mint\u001b[39m) \u001b[38;5;241m-\u001b[39m\u001b[38;5;241m>\u001b[39m \u001b[38;5;28mint\u001b[39m:\n\u001b[0;32m----> 3\u001b[0m     \u001b[38;5;28;01mreturn\u001b[39;00m \u001b[43ma\u001b[49m\u001b[43m \u001b[49m\u001b[38;5;241;43m+\u001b[39;49m\u001b[43m \u001b[49m\u001b[43mb\u001b[49m\n",
      "\u001b[0;31mTypeError\u001b[0m: can only concatenate str (not \"int\") to str"
     ]
    }
   ],
   "source": [
    "# Static type checking example with type hints\n",
    "def add(a: int, b: int) -> int:\n",
    "    return a + b\n",
    "\n",
    "\n",
    "# A static type checker can catch incompatible types before running the program\n",
    "print(add(\"10\", 20))"
   ]
  },
  {
   "cell_type": "markdown",
   "metadata": {},
   "source": [
    "### Protocols <a id=\"protocols\"></a>\n",
    "\n",
    "_Protocols_, introduced in Python 3.8 as part of PEP 544, formalize Python’s support for \"duck typing\" and are a part of the `typing` module. A protocol specifies one or more methods that a class must implement, without requiring that the class inherits from a specific superclass. This concept allows for more flexible and expressive type checks, focusing on what an object can do, rather than what it is.\n",
    "\n",
    "Protocols are defined using the `Protocol` class from the `typing` module. They can be used to specify the expected behavior of objects in a type hint, without requiring the objects to inherit from a common base class."
   ]
  },
  {
   "cell_type": "code",
   "execution_count": null,
   "metadata": {},
   "outputs": [
    {
     "name": "stdout",
     "output_type": "stream",
     "text": [
      "Bird is flying\n",
      "Airplane is flying\n"
     ]
    }
   ],
   "source": [
    "from typing import Protocol\n",
    "\n",
    "\n",
    "class Flyer(Protocol):\n",
    "    def fly(self) -> None:\n",
    "        pass\n",
    "\n",
    "\n",
    "def let_it_fly(obj: Flyer) -> None:\n",
    "    obj.fly()\n",
    "\n",
    "\n",
    "class Bird:\n",
    "    def fly(self) -> None:\n",
    "        print(\"Bird is flying\")\n",
    "\n",
    "\n",
    "class Airplane:\n",
    "    def fly(self) -> None:\n",
    "        print(\"Airplane is flying\")\n",
    "\n",
    "\n",
    "# Both Bird and Airplane implicitly implement the Flyer protocol\n",
    "let_it_fly(Bird())\n",
    "let_it_fly(Airplane())"
   ]
  },
  {
   "cell_type": "markdown",
   "metadata": {},
   "source": [
    "## 3. Python Compilation <a id=\"python-compilation\"></a>\n",
    "\n",
    "Python's execution model involves an intermediate step known as \"compilation,\" where source code is converted into bytecode before it is executed by the Python interpreter. This process is part of what makes Python a dynamically interpreted language, rather than a purely compiled or interpreted language.\n",
    "\n",
    "_Stages of Python Compilation:_\n",
    "\n",
    "1. **Source Code**: This is the code written by the programmer, saved in `.py` files.\n",
    "2. **Compilation to Bytecode**: When a Python program is run, the source code is compiled into bytecode. This compilation is performed by the Python interpreter. Bytecode is a low-level set of instructions that is executed by the Python Virtual Machine (PVM).\n",
    "3. **Execution by the Python Virtual Machine**: The Python Virtual Machine (PVM) is the runtime engine of Python. It reads the bytecode and executes the instructions on the host machine."
   ]
  },
  {
   "cell_type": "markdown",
   "metadata": {},
   "source": [
    "### Python Interpreter <a id=\"python-interpreter\"></a>\n",
    "\n",
    "The _Python interpreter_ is the core software component that reads, interprets, and executes Python code. Unlike compiled languages where source code is translated directly into machine language by a compiler before execution, Python code is executed by the interpreter, making Python an interpreted language. However, this process involves an intermediate compilation step to bytecode, which is then executed by the Python Virtual Machine (PVM).\n",
    "\n",
    "The Python interpreter can be used in two primary modes:\n",
    "\n",
    "- **Interactive Mode**: When you run the `python` or `python3` command without specifying a file, you enter an interactive session. In this mode, you can type Python code directly into the terminal, and the interpreter executes it immediately, making it a powerful tool for testing and exploration.\n",
    "- **Script Mode**: In script mode, the interpreter reads and executes the code from a Python file. You enter this mode by running the Python interpreter with a file name as an argument, like `python script.py`.\n",
    "\n",
    "There are several implementations of the Python interpreter, each catering to different requirements:\n",
    "\n",
    "- **CPython**: The default and most widely-used implementation of the Python interpreter, written in C. When people talk about the Python interpreter, they are usually referring to CPython.\n",
    "- **PyPy**: An alternative implementation that includes a Just-In-Time (JIT) compiler, which can significantly increase the execution speed of Python code.\n",
    "- **Jython**: An implementation designed to run Python code on the Java platform.\n",
    "- **IronPython**: Similar to Jython, but for the .NET framework."
   ]
  },
  {
   "cell_type": "markdown",
   "metadata": {},
   "source": [
    "### Bytecode <a id=\"bytecode\"></a>\n",
    "\n",
    "**Bytecode**: Bytecode is a platform-independent representation of your source code, making Python code execution possible on any operating system that has a Python interpreter. Bytecode cannot be easily read by humans and is at a lower level than Python source code.\n",
    "\n",
    "**.pyc Files**: Python stores bytecode in `.pyc` files (cached bytecode files), which are placed in the `__pycache__` directory under the same directory as the `.py` file. These files allow the Python interpreter to skip the compilation stage on subsequent executions, speeding up startup time."
   ]
  },
  {
   "cell_type": "markdown",
   "metadata": {},
   "source": [
    "### Python Virtual Machine <a id=\"python-virtual-machine\"></a>\n",
    "\n",
    "The _Python Virtual Machine_ (PVM) is the runtime engine of Python, where the magic of executing your Python code happens. It's not a separate program; rather, it's an integral part of the Python system, embedded within Python interpreters like CPython. The PVM reads and executes the bytecode, which is the compiled version of Python source code.\n",
    "\n",
    "The PVM is responsible for:\n",
    "\n",
    "- Reading the bytecode instructions and executing them.\n",
    "- Managing memory and resources used by the program.\n",
    "- Handling exceptions and errors that occur during execution.\n",
    "- Providing a platform-independent runtime environment for Python code.\n",
    "\n",
    "**Python's Just-in-Time Compilation**.\n",
    "\n",
    "While Python itself does not include Just-in-Time (JIT) compilation in its standard implementation (CPython), alternative implementations such as PyPy can use JIT compilation to improve performance. JIT compilers translate bytecode to machine code dynamically at runtime, optimizing execution speed based on the program's behavior."
   ]
  },
  {
   "cell_type": "markdown",
   "metadata": {},
   "source": [
    "## 4. Memory Management <a id=\"memory-management\"></a>\n",
    "\n",
    "_Memory management_ is the process of allocating and deallocating memory in a computer system. In Python, memory management is handled by the Python memory manager, which is responsible for allocating memory to objects and freeing memory when it is no longer needed."
   ]
  },
  {
   "cell_type": "markdown",
   "metadata": {},
   "source": [
    "### Heap and Stack <a id=\"heap-and-stack\"></a> \n",
    "\n",
    "In Python, memory is managed using a private heap. The heap is the memory space where objects are stored, and it is managed by the Python memory manager. The stack is used to store local variables and function calls, and it is managed by the operating system.\n",
    "\n",
    "_Heap:_\n",
    "\n",
    "- **Functionality**: The heap is a region of memory used for dynamic memory allocation. Unlike the stack, objects in the heap can be allocated and freed in any order, which suits the dynamic nature of Python, where the size and number of objects may not be known until runtime.\n",
    "- **Characteristics**: Memory management in the heap is more complex and flexible than in the stack. Allocation and deallocation are handled through library functions or memory management routines in the Python memory manager.\n",
    "- **Usage in Python**: Python uses the heap for storing objects and data structures, such as lists, dictionaries, classes, and instances. Since the heap allows for the dynamic allocation of memory, it is ideal for Python's flexible and dynamic nature. However, managing heap memory requires overhead for tracking the lifetime of each object, which is where garbage collection comes in.\n",
    "\n",
    "_Stack:_\n",
    "\n",
    "- **Functionality**: The stack is a structured region of memory that operates in a last-in, first-out (LIFO) manner. It is used for static memory allocation, which includes function call frames, local variables, and control flow data.\n",
    "- **Characteristics**: Memory allocation and deallocation on the stack are fast and handled automatically by the CPU's instruction set. Each thread has its own stack.\n",
    "- **Usage in Python**: When a function is called, a block (often called a \"stack frame\") is reserved on the stack for that function's local variables and function parameters. Once the function execution is complete, the block is freed. This is efficient but limited in size, which means stack memory is precious and typically reserved for variables with known, fixed sizes."
   ]
  },
  {
   "cell_type": "code",
   "execution_count": null,
   "metadata": {},
   "outputs": [],
   "source": [
    "def sum_numbers(a, b):\n",
    "    result = a + b  # `result` is allocated on the stack.\n",
    "    return result\n",
    "\n",
    "\n",
    "# Heap allocation example\n",
    "my_list = [1, 2, 3]  # `my_list` references a list object allocated on the heap."
   ]
  },
  {
   "cell_type": "markdown",
   "metadata": {},
   "source": [
    "### Memory Allocation <a id=\"memory-allocation\"></a>\n",
    "\n",
    "When an object is created in Python, the memory manager allocates memory for the object on the heap. The memory manager keeps track of the memory that has been allocated and the memory that is free, and it is responsible for allocating memory to objects as needed.\n",
    "\n",
    "_How Python Allocates Memory:_\n",
    "\n",
    "- **Python's Private Heap Space**: Python maintains a private heap where all its objects and data structures are stored. The allocation and deallocation of this heap space are handled by Python's memory manager, not directly by the programmer.\n",
    "- **Memory Blocks and Pools**: Python uses a system of blocks within pools for memory allocation. This system is based on the PyObject structure, which is the foundation for all Python objects. Memory for new objects is allocated from a pool of available blocks, suited to the size of the object. This approach minimizes overhead and improves memory usage efficiency.\n",
    "- **Object-specific Allocators**: For certain types of objects, such as integers and floats, Python employs specialized allocators that can more efficiently manage memory for these frequently used objects. This is part of Python's optimization strategy to reduce the cost of memory allocation and deallocation."
   ]
  },
  {
   "cell_type": "markdown",
   "metadata": {},
   "source": [
    "### Garbage Collection <a id=\"garbage-collection\"></a>\n",
    "\n",
    "_Garbage collection_ is the process of automatically freeing memory on the heap by deleting objects that are no longer reachable in the program. Python uses a reference counting algorithm to keep track of the number of references to an object. When the reference count of an object reaches zero, the object is deleted from memory."
   ]
  },
  {
   "cell_type": "markdown",
   "metadata": {},
   "source": [
    "#### Reference Counting <a id=\"reference-counting\"></a>\n",
    "\n",
    "_Reference counting_ is a fundamental technique used in Python's garbage collection mechanism to manage memory. It works by keeping track of how many references exist to each object in memory. An \"object\" here can be anything: a variable, a data structure, an instance of a class, etc. When an object's reference count drops to zero, which means no other object or variable is referring to it, Python automatically deallocates (frees) that object's memory, making the memory available for other uses.\n",
    "\n",
    "_Reference Counting in Python:_\n",
    "\n",
    "- **Incrementing and Decrementing**: When a new reference to an object is created, Python increments the reference count. When a reference to an object is deleted or goes out of scope, Python decrements the reference count.\n",
    "- **Garbage Collection**: When the reference count of an object reaches zero, Python's garbage collector automatically deallocates the memory used by the object. This process is transparent to the programmer and is part of Python's automatic memory management."
   ]
  },
  {
   "cell_type": "code",
   "execution_count": null,
   "metadata": {},
   "outputs": [
    {
     "name": "stdout",
     "output_type": "stream",
     "text": [
      "1000000244\n",
      "1000000245\n",
      "1000000244\n"
     ]
    }
   ],
   "source": [
    "import sys\n",
    "\n",
    "a = 42  # Create an object\n",
    "print(\n",
    "    sys.getrefcount(a)\n",
    ")  # Initially, the reference count is at least 2: 'a' and the argument to getrefcount\n",
    "\n",
    "b = a  # Create another reference to the same object\n",
    "print(sys.getrefcount(a))  # Reference count increases\n",
    "\n",
    "del b  # Delete one reference\n",
    "print(sys.getrefcount(a))  # Reference count decreases"
   ]
  },
  {
   "cell_type": "markdown",
   "metadata": {},
   "source": [
    "#### GC debug and objgraph <a id=\"gc-debug-objgraph\"></a>\n",
    "\n",
    "The `gc` module provides a way to debug the garbage collection process. It can be used to enable or disable garbage collection, get the current garbage collection thresholds, and collect garbage manually.\n",
    "\n",
    "- **Enabling and Disabling GC**: `gc.enable()` and `gc.disable()` can be used to enable or disable garbage collection.\n",
    "- **Thresholds**: `gc.get_threshold()` returns the current garbage collection thresholds.\n",
    "- **Manual Collection**: `gc.collect()` can be used to manually trigger garbage collection.\n",
    "\n",
    "`objgraph` is a third-party library that can be used to visualize the reference relationships between objects in memory. It can be useful for debugging memory leaks and understanding the memory usage of a Python program.\n",
    "\n",
    "_Key Functions in `objgraph`_:\n",
    "\n",
    "- **`objgraph.show_refs()`**: This function can be used to visualize the reference relationships between objects. It takes an object as an argument and generates a graph showing the references to and from that object.\n",
    "- **`objgraph.show_backrefs()`**: This function can be used to visualize the reverse reference relationships between objects. It takes an object as an argument and generates a graph showing the objects that reference the given object."
   ]
  },
  {
   "cell_type": "code",
   "execution_count": null,
   "metadata": {},
   "outputs": [
    {
     "name": "stdout",
     "output_type": "stream",
     "text": [
      "Uncollectable objects: []\n",
      "Graph written to /var/folders/6r/27vxsf6512zffvpt__9jvmcc0000gn/T/objgraph-ngg754ss.dot (11 nodes)\n",
      "Image generated as ../examples/sample-graph.png\n"
     ]
    },
    {
     "data": {
      "image/png": "[encoded data removed]",
      "text/plain": [
       "<IPython.core.display.Image object>"
      ]
     },
     "metadata": {},
     "output_type": "display_data"
    }
   ],
   "source": [
    "import gc\n",
    "\n",
    "import objgraph\n",
    "from IPython.display import Image, display\n",
    "\n",
    "\n",
    "# Example objects with references\n",
    "class MyClass:\n",
    "    pass\n",
    "\n",
    "\n",
    "a = MyClass()  # An instance of MyClass\n",
    "b = MyClass()  # Another instance of MyClass\n",
    "a.ref = b  # 'a' references 'b'\n",
    "b.ref = a  # 'b' references 'a', creating a circular reference\n",
    "\n",
    "gc.collect()  # Force garbage collection\n",
    "\n",
    "# Displaying unreachable objects\n",
    "print(\"Uncollectable objects:\", gc.garbage[:1])\n",
    "\n",
    "# Show the reference graph for objects of type 'MyClass'\n",
    "objgraph.show_refs([a, b], filename=\"../examples/sample-graph.png\")\n",
    "display(Image(filename=\"../examples/sample-graph.png\"))"
   ]
  },
  {
   "cell_type": "markdown",
   "metadata": {},
   "source": [
    "## 5. Introspection <a id=\"introspection\"></a>\n",
    "\n",
    "_Introspection_ is the ability of a program to examine and analyze its own structure, properties, and state. In Python, introspection is a powerful feature that allows you to inspect and manipulate objects at runtime, providing a high level of flexibility and control over the code.\n",
    "\n",
    "- **Type Checking**: Using functions like `type()` and `isinstance()` to determine an object's type.\n",
    "- **Attribute and Method Examination**: Functions such as `dir()`, `getattr()`, `hasattr()`, and `setattr()` allow examination and modification of an object's attributes and methods.\n",
    "- **Callable Objects**: The `callable()` function checks if an object can be called like a function.\n",
    "- **Inspecting Source Code**: The `inspect` module provides several functions to get information about live objects such as modules, classes, methods, functions, tracebacks, frame objects, and code objects.\n",
    "- **Documentation Strings**: Accessing an object's documentation string (if any) via its `__doc__` attribute or using the built-in `help()` function."
   ]
  },
  {
   "cell_type": "code",
   "execution_count": null,
   "metadata": {},
   "outputs": [
    {
     "name": "stdout",
     "output_type": "stream",
     "text": [
      "<class '__main__.MyClass'>\n",
      "True\n",
      "True\n",
      "10\n",
      "['__class__', '__delattr__', '__dict__', '__dir__', '__doc__', '__eq__', '__format__', '__ge__', '__getattribute__', '__getstate__', '__gt__', '__hash__', '__init__', '__init_subclass__', '__le__', '__lt__', '__module__', '__ne__', '__new__', '__reduce__', '__reduce_ex__', '__repr__', '__setattr__', '__sizeof__', '__str__', '__subclasshook__', '__weakref__', 'display', 'value']\n",
      "True\n",
      "[('__init__', <bound method MyClass.__init__ of <__main__.MyClass object at 0x104805150>>), ('display', <bound method MyClass.display of <__main__.MyClass object at 0x104805150>>)]\n",
      "None\n"
     ]
    }
   ],
   "source": [
    "class MyClass:\n",
    "    def __init__(self, value):\n",
    "        self.value = value\n",
    "\n",
    "    def display(self):\n",
    "        print(f\"Value: {self.value}\")\n",
    "\n",
    "\n",
    "obj = MyClass(10)\n",
    "\n",
    "# Type checking\n",
    "print(type(obj))  # Output: <class '__main__.MyClass'>\n",
    "\n",
    "# Checking for attributes\n",
    "print(hasattr(obj, \"value\"))  # Output: True\n",
    "print(hasattr(obj, \"display\"))  # Output: True\n",
    "\n",
    "# Getting attribute\n",
    "print(getattr(obj, \"value\"))  # Output: 10\n",
    "\n",
    "# Listing attributes and methods\n",
    "print(dir(obj))\n",
    "\n",
    "# Using the inspect module\n",
    "import inspect\n",
    "\n",
    "print(inspect.isclass(MyClass))  # Output: True\n",
    "print(inspect.getmembers(obj, predicate=inspect.ismethod))\n",
    "\n",
    "# Accessing documentation\n",
    "print(obj.__doc__)"
   ]
  }
 ],
 "metadata": {
  "kernelspec": {
   "display_name": "Python 3",
   "language": "python",
   "name": "python3"
  },
  "language_info": {
   "codemirror_mode": {
    "name": "ipython",
    "version": 3
   },
   "file_extension": ".py",
   "mimetype": "text/x-python",
   "name": "python",
   "nbconvert_exporter": "python",
   "pygments_lexer": "ipython3",
   "version": "3.11.7"
  }
 },
 "nbformat": 4,
 "nbformat_minor": 2
}
