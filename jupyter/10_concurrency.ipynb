{
 "cells": [
  {
   "cell_type": "markdown",
   "metadata": {},
   "source": [
    "# Part X: Concurrency <a id=\"10-concurrency\"></a>"
   ]
  },
  {
   "cell_type": "markdown",
   "metadata": {},
   "source": [
    "1. [CPU Bound vs I/O Bound](#cpu-bound-vs-io-bound)\n",
    "2. [Multithreading](#multithreading)\n",
    "    - [Thread Management](#thread-management)\n",
    "    - [Daemon Threads](#daemon-threads)\n",
    "    - [Global Interpreter Lock (GIL)](#gil)\n",
    "3. [Multiprocessing](#multiprocessing)\n",
    "    - [Process Management](#process-management)\n",
    "    - [Pool](#pool)\n",
    "    - [Process Communication](#process-communication)\n",
    "        - [Pipes](#multiprocessing-pipes)\n",
    "        - [Queues](#multiprocessing-queues)\n",
    "        - [Shared Memory](#multiprocessing-shared-memory)\n",
    "4. [Asyncio](#asyncio)\n",
    "    - [Coroutines](#coroutines)\n",
    "    - [async/await](#async-await)\n",
    "    - [Event Loop](#event-loop)\n",
    "5. [Synchronization](#synchronization)\n",
    "    - [Lock](#lock)\n",
    "    - [Event](#event)\n",
    "    - [Condition](#condition)\n",
    "    - [Semaphore](#semaphore)\n",
    "    - [Deadlock](#deadlock)\n",
    "6. [Parallelism](#parallelism)\n",
    "    - [Parallelism vs Concurrency](#parallelism-vs-concurrency)"
   ]
  },
  {
   "cell_type": "markdown",
   "metadata": {},
   "source": [
    "\n",
    "## 1. CPU-bound vs I/O-bound <a id=\"cpu-bound-vs-io-bound\"></a>\n",
    "\n",
    "Tasks can be classified into two main categories based on the type of resources they require:\n",
    "\n",
    "- **CPU-bound Tasks**: Tasks that are limited by the speed of the CPU, such as mathematical computations, data processing, and scientific simulations. These tasks can benefit from parallel execution on multi-core systems.\n",
    "- **I/O-bound Tasks**: Tasks that spend most of their time waiting for input/output operations to complete, such as reading and writing files, making network requests, and accessing databases. These tasks can benefit from asynchronous execution to avoid blocking the CPU while waiting for IO operations to complete."
   ]
  },
  {
   "cell_type": "markdown",
   "metadata": {},
   "source": [
    "## 2. Multithreading <a id=\"multithreading\"></a>\n",
    "\n",
    "_Multithreading_ is a way to run multiple tasks concurrently. It is a lightweight process, and the threads share the same memory space. In Python, the `threading` module is used to create and manage threads.\n",
    "\n",
    "A **thread** is a sequence of instructions that can be executed independently of other code. A process can have multiple threads running as a part of it. Threads share the same memory space and resources of the process that created it. Threads are lightweight compared to processes.\n",
    "\n",
    "When to use multithreading:\n",
    "\n",
    "- **I/O-bound tasks**: When the tasks are I/O-bound, such as reading and writing files, making network requests, etc. In such cases, the CPU is mostly idle, and multithreading can be used to perform multiple tasks concurrently.\n",
    "- **Asynchronous tasks**: When you want to perform multiple tasks concurrently and don't want to wait for the completion of one task to start another."
   ]
  },
  {
   "cell_type": "markdown",
   "metadata": {},
   "source": [
    "### Thread Management <a id=\"thread-management\"></a>\n",
    "\n",
    "Thread management in Python involves creating, starting, joining, and controlling the execution of threads to achieve concurrent execution in a Python application. The `threading` module provides the necessary functionalities for managing threads. \n",
    "\n",
    "_Key aspects include:_\n",
    "\n",
    "- **Creating Threads**: Threads can be created by instantiating the `Thread` class from the `threading` module, passing a target function that the thread will execute.\n",
    "- **Starting Threads**: After a thread is created, it can be started by calling its `start()` method. This instructs the Python interpreter to begin its execution.\n",
    "- **Joining Threads**: Waiting for a thread to complete is achieved by calling the `join()` method on the thread object. This method blocks the calling thread (typically the main thread) until the thread upon which `join()` is called is terminated.\n",
    "- **Daemon vs Non-Daemon Threads**: Threads can be daemon or non-daemon. Daemon threads are designed to run in the background and automatically terminate when the main program exits. Non-daemon threads (the default) must complete their execution or be explicitly terminated before the main program can exit.\n",
    "- **Thread Synchronization**: Managing access to shared resources from multiple threads to prevent data corruption or inconsistent states. Python provides several synchronization primitives like Locks, Events, Conditions, and Semaphores for this purpose."
   ]
  },
  {
   "cell_type": "code",
   "execution_count": 25,
   "metadata": {},
   "outputs": [
    {
     "name": "stdout",
     "output_type": "stream",
     "text": [
      "Worker 0 is starting\n",
      "Worker 1 is starting\n",
      "Worker 2 is starting\n",
      "Worker 0 is finishedWorker 2 is finished\n",
      "\n",
      "Worker 1 is finished\n",
      "All threads have finished execution.\n"
     ]
    }
   ],
   "source": [
    "import threading\n",
    "import time\n",
    "\n",
    "\n",
    "# Define a function to be executed by the thread\n",
    "def worker(number):\n",
    "    print(f\"Worker {number} is starting\")\n",
    "    time.sleep(2)\n",
    "    print(f\"Worker {number} is finished\")\n",
    "\n",
    "\n",
    "# Create threads\n",
    "threads = []\n",
    "for i in range(3):\n",
    "    thread = threading.Thread(target=worker, args=(i,))\n",
    "    threads.append(thread)\n",
    "\n",
    "# Start threads\n",
    "for thread in threads:\n",
    "    thread.start()\n",
    "\n",
    "# Wait for all threads to complete\n",
    "for thread in threads:\n",
    "    thread.join()\n",
    "\n",
    "print(\"All threads have finished execution.\")"
   ]
  },
  {
   "cell_type": "markdown",
   "metadata": {},
   "source": [
    "### Daemon Threads <a id=\"daemon-threads\"></a>\n",
    "\n",
    "_Daemon threads_ are threads that run in the background and are terminated automatically when the main program exits. They are useful for tasks that need to run continuously in the background, such as monitoring, logging, or cleaning up resources. To create a daemon thread, set the `daemon` attribute of the thread object to `True` before starting the thread."
   ]
  },
  {
   "cell_type": "code",
   "execution_count": 26,
   "metadata": {},
   "outputs": [
    {
     "name": "stdout",
     "output_type": "stream",
     "text": [
      "Main task iteration 0\n",
      "Background task is running...\n",
      "Main task iteration 1\n",
      "Background task is running...\n",
      "Background task is running...\n",
      "Main task iteration 2\n",
      "Background task is running...\n",
      "Background task is running...\n",
      "Main task completed.\n",
      "Background task is running...\n",
      "Program is exiting.\n"
     ]
    }
   ],
   "source": [
    "import time\n",
    "from threading import Event, Thread\n",
    "\n",
    "\n",
    "def background_task(event):\n",
    "    while not event.is_set():\n",
    "        time.sleep(1)\n",
    "        print(\"Background task is running...\")\n",
    "\n",
    "\n",
    "def main_task():\n",
    "    for i in range(3):\n",
    "        print(f\"Main task iteration {i}\")\n",
    "        time.sleep(2)\n",
    "    print(\"Main task completed.\")\n",
    "\n",
    "\n",
    "# Creating a daemon thread\n",
    "stop_event = Event()\n",
    "daemon_thread = Thread(\n",
    "    target=background_task, args=(stop_event,), daemon=True\n",
    ")  # Set the thread as a daemon thread\n",
    "\n",
    "# Starting the daemon thread\n",
    "daemon_thread.start()\n",
    "\n",
    "# Execute the main task\n",
    "main_task()\n",
    "\n",
    "# Stop the daemon thread (necessary for the code to run in Jupyter Notebook)\n",
    "stop_event.set()\n",
    "daemon_thread.join()\n",
    "\n",
    "# Once the main task is completed, the program will exit and the daemon thread will be terminated automatically\n",
    "print(\"Program is exiting.\")"
   ]
  },
  {
   "cell_type": "markdown",
   "metadata": {},
   "source": [
    "### Global Interpreter Lock (GIL) <a id=\"gil\"></a>\n",
    "\n",
    "The _Global Interpreter Lock_ (GIL) is a mechanism in the CPython interpreter (the standard Python implementation) that ensures only one thread executes Python bytecode at a time. This lock is necessary because CPython's memory management is not thread-safe.\n",
    "\n",
    "_Purpose of the GIL:_\n",
    "\n",
    "- **Simplifies CPython Implementation**: The GIL makes the CPython implementation simpler and the memory management model easier to understand and implement since it removes the need for adding locks to data structures to ensure thread safety.\n",
    "- **Performance in Single-threaded Programs**: For single-threaded programs, the GIL is beneficial because it eliminates the overhead associated with locking and unlocking data structures. This can make single-threaded programs run faster.\n",
    "\n",
    "_Impact of the GIL:_\n",
    "\n",
    "- **Concurrency**: The GIL prevents true multi-core concurrency with threads. Even if a program is running on a multi-core processor, only one thread can execute Python bytecode at a time. This can lead to performance bottlenecks in CPU-bound and multi-threaded programs.\n",
    "- **I/O-bound Multi-threading**: The GIL is less of an issue for I/O-bound multi-threaded programs. Python can release the GIL while waiting for I/O operations, allowing other threads to run Python code in the meantime.\n",
    "\n",
    "_Workarounds and Solutions:_\n",
    "\n",
    "- **Multi-processing**: Instead of using threads, Python programs can use multiple processes to achieve parallelism. The `multiprocessing` module allows a Python program to fully utilize multiple cores by running separate Python interpreters in separate processes, each with its own GIL and memory space.\n",
    "- **Alternative Implementations**: Python implementations other than CPython, such as Jython, IronPython, and PyPy, don't have a GIL and can achieve true parallelism using threads. PyPy, for example, uses a Just-In-Time compiler and doesn't rely on a GIL for thread safety.\n",
    "- **Using Extensions**: CPU-bound tasks can be offloaded to extensions written in languages like C or C++, which can manage their own threads outside of Python's GIL."
   ]
  },
  {
   "cell_type": "markdown",
   "metadata": {},
   "source": [
    "## 3. Multiprocessing <a id=\"multiprocessing\"></a>\n",
    "\n",
    "_Multiprocessing_ in Python is a module that allows you to create processes that can run in parallel, each having its own Python interpreter and memory space. This approach is an effective way to circumvent the Global Interpreter Lock (GIL) and fully utilize multiple CPU cores for CPU-bound tasks. The `multiprocessing` module provides a rich API for spawning processes, managing their execution, and facilitating communication between them.\n",
    "\n",
    "_When to Use Multiprocessing:_\n",
    "\n",
    "- **CPU-bound Tasks**: Multiprocessing is particularly useful for CPU-bound tasks that can be parallelized, such as mathematical computations, data processing, and scientific simulations.\n",
    "- **True Parallelism**: Multiprocessing allows Python programs to achieve true parallelism by running separate Python interpreters in separate processes, each with its own GIL and memory space."
   ]
  },
  {
   "cell_type": "markdown",
   "metadata": {},
   "source": [
    "### Process Management <a id=\"process-management\"></a>\n",
    "\n",
    "_Process Management_ in Python, facilitated by the `multiprocessing` module, involves creating, starting, managing, and synchronizing processes to achieve parallel execution. This approach is particularly useful for CPU-bound tasks that can benefit from parallel execution on multi-core systems. \n",
    "\n",
    "_Key aspects include:_\n",
    "\n",
    "- **Creating Processes**: Processes can be created by instantiating the `Process` class from the `multiprocessing` module, passing a target function and arguments to run in the process.\n",
    "- **Starting Processes**: After a process is created, it can be started by calling its `start()` method. This instructs the Python interpreter to begin its execution.\n",
    "- **Joining Processes**: Waiting for a process to complete is achieved by calling the `join()` method on the process object. This method blocks the calling process until the process upon which `join()` is called is terminated.\n",
    "- **Process Synchronization**: Managing access to shared resources from multiple processes to prevent data corruption or inconsistent states. Python provides several synchronization primitives like Locks, Events, Conditions, and Semaphores for this purpose.\n",
    "\n",
    "You create a new process by instantiating the `Process` class from the `multiprocessing` module, passing a target function and arguments to run in the process. Each process runs in its own Python interpreter and memory space."
   ]
  },
  {
   "cell_type": "code",
   "execution_count": 27,
   "metadata": {},
   "outputs": [],
   "source": [
    "%%script false --no-raise-error  # This cell is not executed because it will raise AttributeError in Jupyter Notebook\n",
    "\n",
    "import os\n",
    "from multiprocessing import Process\n",
    "\n",
    "\n",
    "def worker_process(number):\n",
    "    \"\"\"A simple worker function.\"\"\"\n",
    "    print(f\"Worker {number}: running in process ID {os.getpid()}\")\n",
    "\n",
    "\n",
    "if __name__ == \"__main__\":\n",
    "    # Create processes\n",
    "    processes = [Process(target=worker_process, args=(i,)) for i in range(5)]\n",
    "\n",
    "    # Start each process\n",
    "    for process in processes:\n",
    "        process.start()\n",
    "\n",
    "    # Wait for all processes to finish\n",
    "    for process in processes:\n",
    "        process.join()\n",
    "\n",
    "    print(\"Main process execution completed.\")"
   ]
  },
  {
   "cell_type": "markdown",
   "metadata": {},
   "source": [
    "### Pool <a id=\"pool\"></a>\n",
    "\n",
    "The `Pool` class in Python's `multiprocessing` module provides a way to parallelize the execution of a function across multiple input values, distributing the input data across processes (workers). This method allows for efficient parallel execution of tasks, particularly useful for CPU-bound tasks that can benefit from multi-core execution. The `Pool` class manages a pool of worker processes, automating the process of assigning tasks to workers and collecting results.\n",
    "\n",
    "_Key Features:_\n",
    "\n",
    "- **Simplified Parallel Processing**: `Pool` abstracts away the details of manually managing individual processes, including the creation, execution, and synchronization of processes.\n",
    "- **Task Distribution**: Automatically handles distributing tasks to multiple worker processes, taking advantage of multiple CPU cores.\n",
    "- **Flexible Task Execution**: Supports several methods for task execution, such as `map()`, `apply()`, `apply_async()`, and `map_async()`, offering both synchronous and asynchronous execution models.\n",
    "- **Result Handling**: Collects results from worker processes and returns them to the parent process, simplifying the management of output data from parallel tasks.\n",
    " to the squared value of the input numbers, maintaining the order of the input.\n",
    "\n",
    "_When to Use:_\n",
    "\n",
    "- **CPU-bound tasks**: When tasks are computationally intensive and can run independently of each other.\n",
    "- **Large data processing**: When you need to process a large set of data in parallel, reducing execution time.\n",
    "- **Resource-intensive operations**: Operations that can significantly benefit from distributing the workload across multiple processors/cores."
   ]
  },
  {
   "cell_type": "code",
   "execution_count": 28,
   "metadata": {},
   "outputs": [],
   "source": [
    "%%script false --no-raise-error  # This cell is not executed because it will raise AttributeError in Jupyter Notebook\n",
    "\n",
    "from multiprocessing import Pool\n",
    "\n",
    "def square(number):\n",
    "    \"\"\"Function to square a number.\"\"\"\n",
    "    return number * number\n",
    "\n",
    "if __name__ == '__main__':\n",
    "    numbers = [1, 2, 3, 4, 5]  # Define a list of numbers to square\n",
    "\n",
    "    with Pool() as pool:\n",
    "        # Use map to apply 'square' function to all items in 'numbers' in parallel\n",
    "        results = pool.map(square, numbers)\n",
    "\n",
    "        print(f\"Squared numbers: {results}\")"
   ]
  },
  {
   "cell_type": "markdown",
   "metadata": {},
   "source": [
    "### Process Communication <a id=\"process-communication\"></a>\n",
    "\n",
    "_Process Communication_ in Python, particularly within the context of the `multiprocessing` module, refers to the mechanisms available for exchanging data between processes running in parallel. Since each process operates in its own memory space, direct memory sharing like that in threading (where threads share the same memory space) is not feasible. The `multiprocessing` module provides several ways to facilitate communication between processes, ensuring data can be passed back and forth safely and efficiently.\n",
    "\n",
    "_Key Aspects:_\n",
    "\n",
    "- **Pipes**: A simple way to establish a two-way communication channel between two processes. The `Pipe` class in the `multiprocessing` module provides a way to create a pair of connection objects that can be used to send and receive data between processes.\n",
    "- **Queues**: A more versatile way to exchange data between processes. The `Queue` class in the `multiprocessing` module provides a shared queue for multiple processes to store and retrieve data.\n",
    "- **Shared Memory**: A more advanced method for sharing data between processes. The `Value` and `Array` classes in the `multiprocessing` module provide a way to create shared memory objects that can be accessed by multiple processes."
   ]
  },
  {
   "cell_type": "markdown",
   "metadata": {},
   "source": [
    "#### Pipes <a id=\"multiprocessing-pipes\"></a>\n",
    "\n",
    "A _pipe_ provides a way for two processes to communicate using two endpoints — a send and receive end. Pipes are suitable for one-to-one communication and can be unidirectional or bidirectional. In Python, the `Pipe` class in the `multiprocessing` module provides a way to create a pair of connection objects that can be used to send and receive data between processes.\n",
    "\n",
    "The `Pipe` class returns a pair of connection objects that represent the two ends of the pipe. Each connection object has `send()` and `recv()` methods for sending and receiving data."
   ]
  },
  {
   "cell_type": "code",
   "execution_count": 29,
   "metadata": {},
   "outputs": [],
   "source": [
    "%%script false --no-raise-error  # This cell is not executed because it will raise AttributeError in Jupyter Notebook\n",
    "\n",
    "from multiprocessing import Pipe, Process\n",
    "\n",
    "\n",
    "def sender(conn):\n",
    "    \"\"\"Function to send data.\"\"\"\n",
    "    conn.send([\"Hello from sender!\"])\n",
    "    conn.close()  # Close the connection when done\n",
    "\n",
    "\n",
    "def receiver(conn):\n",
    "    \"\"\"Function to receive data.\"\"\"\n",
    "    print(conn.recv())  # Print the received data\n",
    "    conn.close()\n",
    "\n",
    "\n",
    "if __name__ == \"__main__\":\n",
    "    # Create a Pipe\n",
    "    parent_conn, child_conn = Pipe()\n",
    "\n",
    "    # Create processes\n",
    "    p1 = Process(target=sender, args=(parent_conn,))\n",
    "    p2 = Process(target=receiver, args=(child_conn,))\n",
    "\n",
    "    # Start processes\n",
    "    p1.start()\n",
    "    p2.start()\n",
    "\n",
    "    # Wait for processes to finish\n",
    "    p1.join()\n",
    "    p2.join()"
   ]
  },
  {
   "cell_type": "markdown",
   "metadata": {},
   "source": [
    "#### Queues <a id=\"multiprocessing-queues\"></a>\n",
    "\n",
    "_Queues_ allow multiple producers and consumers to exchange messages. They are thread and process safe, making them ideal for complex process-based applications where multiple processes need to communicate. In Python, the `Queue` class in the `multiprocessing` module provides a shared queue for multiple processes to store and retrieve data.\n",
    "\n",
    "The `Queue` class is a FIFO (First In, First Out) data structure that allows multiple processes to safely put and get data from the queue. It is particularly useful for exchanging data between processes in a producer-consumer pattern."
   ]
  },
  {
   "cell_type": "code",
   "execution_count": 30,
   "metadata": {},
   "outputs": [],
   "source": [
    "%%script false --no-raise-error  # This cell is not executed because it will raise AttributeError in Jupyter Notebook\n",
    "\n",
    "from multiprocessing import Process, Queue\n",
    "\n",
    "\n",
    "def producer(queue):\n",
    "    \"\"\"Function to send data.\"\"\"\n",
    "    queue.put(\"Hello from producer!\")\n",
    "\n",
    "\n",
    "def consumer(queue):\n",
    "    \"\"\"Function to receive data.\"\"\"\n",
    "    print(queue.get())\n",
    "\n",
    "\n",
    "if __name__ == \"__main__\":\n",
    "    queue = Queue()\n",
    "\n",
    "    # Create producer and consumer processes\n",
    "    p1 = Process(target=producer, args=(queue,))\n",
    "    p2 = Process(target=consumer, args=(queue,))\n",
    "\n",
    "    # Start processes\n",
    "    p1.start()\n",
    "    p2.start()\n",
    "\n",
    "    # Wait for processes to finish\n",
    "    p1.join()\n",
    "    p2.join()"
   ]
  },
  {
   "cell_type": "markdown",
   "metadata": {},
   "source": [
    "#### Shared Memory <a id=\"multiprocessing-shared-memory\"></a>\n",
    "\n",
    "_Shared memory_ is a more advanced method for sharing data between processes. It allows multiple processes to access the same memory space, providing a way to share data without the need for serialization and deserialization. In Python, the `Value` and `Array` classes in the `multiprocessing` module provide a way to create shared memory objects that can be accessed by multiple processes.\n",
    "\n",
    "The `Value` and `Array` classes allow you to create shared memory objects that can be accessed by multiple processes. The `Value` class is used to create a shared memory object that can store a single value, while the `Array` class is used to create a shared memory object that can store a sequence of values."
   ]
  },
  {
   "cell_type": "code",
   "execution_count": 31,
   "metadata": {},
   "outputs": [],
   "source": [
    "%%script false --no-raise-error  # This cell is not executed because it will raise AttributeError in Jupyter Notebook\n",
    "\n",
    "from multiprocessing import Process, Value, Array, Lock\n",
    "import time\n",
    "\n",
    "def add_to_counter(counter, lock):\n",
    "    for _ in range(10):\n",
    "        time.sleep(0.1)  # Simulate work\n",
    "        with lock:\n",
    "            counter.value += 1\n",
    "\n",
    "def add_to_array(numbers, lock):\n",
    "    for i in range(len(numbers)):\n",
    "        time.sleep(0.1)  # Simulate work\n",
    "        with lock:\n",
    "            numbers[i] += 1\n",
    "\n",
    "# Example usage\n",
    "if __name__ == \"__main__\":\n",
    "    # Shared memory objects need synchronization mechanisms like locks\n",
    "    lock = Lock()\n",
    "\n",
    "    # Create a shared value (integer)\n",
    "    counter = Value('i', 0)\n",
    "\n",
    "    # Create a shared array (floats)\n",
    "    numbers = Array('d', [0.0, 100.0, 200.0])\n",
    "\n",
    "    # Create processes that modify shared memory\n",
    "    p1 = Process(target=add_to_counter, args=(counter, lock))\n",
    "    p2 = Process(target=add_to_array, args=(numbers, lock))\n",
    "\n",
    "    # Start the processes\n",
    "    p1.start()\n",
    "    p2.start()\n",
    "\n",
    "    # Wait for the processes to finish\n",
    "    p1.join()\n",
    "    p2.join()\n",
    "\n",
    "    # Access the modified shared memory\n",
    "    print(f\"Counter value: {counter.value}\")\n",
    "    print(f\"Array values: {list(numbers)}\")"
   ]
  },
  {
   "cell_type": "markdown",
   "metadata": {},
   "source": [
    "## 4. Asyncio <a id=\"asyncio\"></a>\n",
    "\n",
    "`asyncio` is a Python library introduced in Python 3.4 to write concurrent code using the `async/await` syntax. It provides a way to write asynchronous programs that can handle a large number of connections or tasks concurrently with a single thread and single process, making it especially useful for IO-bound and high-level structured network code.\n",
    "\n",
    "_When to Use asyncio:_\n",
    "\n",
    "- **I/O-bound Tasks**: When the tasks are I/O-bound, such as reading and writing files, making network requests, etc. In such cases, the CPU is mostly idle, and asyncio can be used to perform multiple tasks concurrently.\n",
    "- **Asynchronous Tasks**: When you want to perform multiple tasks concurrently and don't want to wait for the completion of one task to start another.\n",
    "\n",
    "_Key Aspects:_\n",
    "\n",
    "- **Coroutines**: Asynchronous functions that can be paused and resumed, allowing other tasks to run in the meantime.\n",
    "- **async/await**: Keywords used to define asynchronous functions and to pause and resume the execution of asynchronous code.\n",
    "- **Event Loop**: A central execution manager that schedules and runs asynchronous tasks, handling the flow of control in an asynchronous program."
   ]
  },
  {
   "cell_type": "markdown",
   "metadata": {},
   "source": [
    "### Coroutines <a id=\"coroutines\"></a>\n",
    "\n",
    "_Coroutines_ are a key feature of `asyncio` and are used to define asynchronous functions. They are defined using the `async def` syntax and can be paused and resumed during execution. The `await` keyword is used to pause the execution of a coroutine until the result of an asynchronous operation is available.\n",
    "\n",
    "Coroutines are used for IO-bound tasks, such as accessing the web, databases, files, etc., where operations can block the execution of your code while waiting for the IO operation to complete. By using coroutines, these blocking operations are turned into non-blocking, allowing your code to handle other tasks in the meantime."
   ]
  },
  {
   "cell_type": "code",
   "execution_count": 32,
   "metadata": {},
   "outputs": [],
   "source": [
    "%%script false --no-raise-error  # This cell is not executed because it will raise RuntimeError in Jupyter Notebook\n",
    "\n",
    "import asyncio\n",
    "\n",
    "# Define a coroutine\n",
    "async def fetch_data():\n",
    "    print(\"Start fetching\")\n",
    "    await asyncio.sleep(2)  # Simulate an IO operation\n",
    "    print(\"Done fetching\")\n",
    "    return {'data': 1}\n",
    "\n",
    "# Define another coroutine that uses fetch_data\n",
    "async def main():\n",
    "    print(\"Before fetching\")\n",
    "    result = await fetch_data()  # Wait for fetch_data to complete\n",
    "    print(\"Result:\", result)\n",
    "    print(\"After fetching\")\n",
    "\n",
    "# Run the main coroutine\n",
    "asyncio.run(main())"
   ]
  },
  {
   "cell_type": "markdown",
   "metadata": {},
   "source": [
    "### async/await <a id=\"async-await\"></a>\n",
    "\n",
    "The `async` and `await` keywords are used to define asynchronous functions (coroutines) and to pause the execution of a coroutine until the result of an asynchronous operation is available.\n",
    "\n",
    "- **async**: The `async` keyword is used to define a coroutine. It can be used to define a function that can be paused and resumed during execution.\n",
    "- **await**: The `await` keyword is used to pause the execution of a coroutine until the result of an asynchronous operation is available. It can only be used inside an `async` function.\n",
    "\n",
    "When an await expression is encountered, Python suspends the execution of the current coroutine and passes control back to the event loop, which can then execute other tasks. Once the awaited operation is completed, the event loop resumes the execution of the suspended coroutine from the point it was paused. This allows the coroutine to perform other tasks while waiting for the awaited operation to complete."
   ]
  },
  {
   "cell_type": "code",
   "execution_count": 33,
   "metadata": {},
   "outputs": [],
   "source": [
    "%%script false --no-raise-error  # This cell is not executed because it will raise RuntimeError in Jupyter Notebook\n",
    "\n",
    "import asyncio\n",
    "\n",
    "async def compute(x, y):\n",
    "    print(\"Compute %s + %s...\" % (x, y))\n",
    "    await asyncio.sleep(1.0)  # Simulate a blocking IO operation\n",
    "    return x + y\n",
    "\n",
    "async def print_sum(x, y):\n",
    "    result = await compute(x, y)\n",
    "    print(\"%s + %s = %s\" % (x, y, result))\n",
    "\n",
    "loop = asyncio.get_event_loop()\n",
    "loop.run_until_complete(print_sum(1, 2))\n",
    "loop.close()"
   ]
  },
  {
   "cell_type": "markdown",
   "metadata": {},
   "source": [
    "### Event Loop <a id=\"event-loop\"></a>\n",
    "\n",
    "The _Event Loop_ is the core of `asyncio` and is responsible for scheduling and running tasks, handling IO operations, and managing asynchronous callbacks. It is a single-threaded loop that runs and manages the execution of asynchronous tasks and IO operations.\n",
    "\n",
    "Python's `asyncio` provides several functions to run and manage the event loop, with `asyncio.run()` being one of the simplest and most commonly used in Python 3.7 and newer. This function runs the main coroutine and automatically manages the lifecycle of the event loop. \n",
    "\n",
    "The event loop is responsible for:\n",
    "\n",
    "- Scheduling and running asynchronous tasks and coroutines.\n",
    "- Handling IO operations, such as reading and writing to files, sockets, and other IO devices.\n",
    "- Managing asynchronous callbacks and events."
   ]
  },
  {
   "cell_type": "code",
   "execution_count": 34,
   "metadata": {},
   "outputs": [],
   "source": [
    "%%script false --no-raise-error  # This cell is not executed because it will raise RuntimeError in Jupyter Notebook\n",
    "\n",
    "import asyncio\n",
    "\n",
    "async def periodic_print(text, delay):\n",
    "    \"\"\"A coroutine that prints 'text' every 'delay' seconds\"\"\"\n",
    "    while True:\n",
    "        print(text)\n",
    "        await asyncio.sleep(delay)\n",
    "\n",
    "async def main():\n",
    "    # Schedule two coroutines to run concurrently:\n",
    "    await asyncio.gather(\n",
    "        periodic_print(\"Hello\", 2),\n",
    "        periodic_print(\"World\", 3)\n",
    "    )\n",
    "\n",
    "# Run the main coroutine, which in turn schedules other tasks\n",
    "asyncio.run(main())"
   ]
  },
  {
   "cell_type": "markdown",
   "metadata": {},
   "source": [
    "## 5. Synchronization <a id=\"synchronization\"></a>\n",
    "\n",
    "_Synchronization_ in concurrent programming refers to the coordination of multiple threads or processes to control their access to shared resources and prevent data corruption or inconsistent states. In Python, synchronization is achieved using various primitives such as Locks, Events, Conditions, and Semaphores, which are provided by the `threading` and `multiprocessing` modules. These primitives help manage access to shared resources and ensure that only one thread or process can access the resource at a time.\n",
    "\n",
    "_Key Aspects:_\n",
    "\n",
    "- **Lock**: A basic synchronization primitive that provides exclusive access to a shared resource.\n",
    "- **Event**: A synchronization primitive that allows one thread to signal an event to other threads.\n",
    "- **Condition**: A synchronization primitive that allows threads to wait for a certain condition to become true before proceeding.\n",
    "- **Semaphore**: A synchronization primitive that limits the number of threads or processes that can access a shared resource at a time.\n",
    "- **Deadlock**: A situation where two or more threads or processes are unable to proceed because each is waiting for the other to release a resource."
   ]
  },
  {
   "cell_type": "markdown",
   "metadata": {},
   "source": [
    "### Lock <a id=\"lock\"></a>\n",
    "\n",
    "A _Lock_ is a synchronization primitive that can be used to protect shared resources from being accessed by multiple threads or processes simultaneously. A lock has two states: locked and unlocked. When a thread or process acquires a lock, it becomes locked and no other thread or process can acquire the lock until it is released.\n",
    "\n",
    "How to use a lock:\n",
    "\n",
    "- **Acquiring a Lock**: A thread or process acquires a lock by calling its `acquire()` method. If the lock is already acquired, the calling thread or process will block until the lock is released.\n",
    "- **Releasing a Lock**: A thread or process releases a lock by calling its `release()` method. This allows other threads or processes to acquire the lock."
   ]
  },
  {
   "cell_type": "code",
   "execution_count": 35,
   "metadata": {},
   "outputs": [
    {
     "name": "stdout",
     "output_type": "stream",
     "text": [
      "Counter is now 1\n",
      "Counter is now 2\n",
      "Counter is now 3\n",
      "Counter is now 4\n",
      "Counter is now 5\n",
      "Final counter value: 5\n"
     ]
    }
   ],
   "source": [
    "import time\n",
    "from threading import Lock, Thread\n",
    "\n",
    "# Shared resource\n",
    "counter = 0\n",
    "\n",
    "# Lock object\n",
    "lock = Lock()\n",
    "\n",
    "\n",
    "# Function to increment counter\n",
    "def increment():\n",
    "    global counter\n",
    "    with lock:  # Acquire lock\n",
    "        current_value = counter\n",
    "        time.sleep(0.1)  # Simulate some work\n",
    "        counter = current_value + 1\n",
    "        print(f\"Counter is now {counter}\")\n",
    "\n",
    "\n",
    "# Create threads\n",
    "threads = [Thread(target=increment) for _ in range(5)]\n",
    "\n",
    "# Start threads\n",
    "for thread in threads:\n",
    "    thread.start()\n",
    "\n",
    "# Wait for all threads to finish\n",
    "for thread in threads:\n",
    "    thread.join()\n",
    "\n",
    "print(\"Final counter value:\", counter)"
   ]
  },
  {
   "cell_type": "markdown",
   "metadata": {},
   "source": [
    "### Event <a id=\"event\"></a>\n",
    "\n",
    "An _Event_ allows one thread to signal other threads that a certain event has occurred. An event has two states: set and clear. When an event is set, threads waiting for the event to be set are allowed to proceed. When an event is cleared, threads waiting for the event to be set are blocked.\n",
    "\n",
    "An Event object manages an internal flag that can be set to true with the `set()` method and reset to false with the `clear()` method. Threads can wait for the flag to become true using the `wait()` method, which blocks until the flag is set to true.\n",
    "\n",
    "- **Set**: When the event's internal flag is set to true, all threads waiting on the event are awakened. If a thread calls `wait()` when the flag is already true, it does not block.\n",
    "- **Clear**: Resets the event's flag to false, causing threads to block again when calling `wait()`, until the flag is set to true again.\n",
    "- **Wait**: A thread calling `wait()` on an Event will be blocked until the event's flag is set to true. Optionally, `wait()` can have a timeout specified, allowing the thread to block for only a specified amount of time."
   ]
  },
  {
   "cell_type": "code",
   "execution_count": 36,
   "metadata": {},
   "outputs": [
    {
     "name": "stdout",
     "output_type": "stream",
     "text": [
      "Waiting for the event to be set, timeout 2\n",
      "Waiting before setting the event.\n",
      "Event is set.Doing the work after the event is set.\n",
      "\n"
     ]
    }
   ],
   "source": [
    "import time\n",
    "from threading import Event, Thread\n",
    "\n",
    "# Create an event object\n",
    "event = Event()\n",
    "\n",
    "\n",
    "def waiter(event, timeout):\n",
    "    print(f\"Waiting for the event to be set, timeout {timeout}\")\n",
    "    event_occurred = event.wait(timeout)\n",
    "    if event_occurred:\n",
    "        print(\"Doing the work after the event is set.\")\n",
    "    else:\n",
    "        print(\"Doing some other work since the event was not set in time.\")\n",
    "\n",
    "\n",
    "def setter(event, delay):\n",
    "    print(\"Waiting before setting the event.\")\n",
    "    time.sleep(delay)\n",
    "    event.set()\n",
    "    print(\"Event is set.\")\n",
    "\n",
    "\n",
    "# Create threads\n",
    "waiter_thread = Thread(target=waiter, args=(event, 2))\n",
    "setter_thread = Thread(target=setter, args=(event, 1))\n",
    "\n",
    "# Start threads\n",
    "waiter_thread.start()\n",
    "setter_thread.start()\n",
    "\n",
    "# Wait for all threads to finish\n",
    "waiter_thread.join()\n",
    "setter_thread.join()"
   ]
  },
  {
   "cell_type": "markdown",
   "metadata": {},
   "source": [
    "### Condition <a id=\"condition\"></a>\n",
    "\n",
    "A _Condition_ is used to coordinate multiple threads. It allows one or more threads to wait until notified by another thread that a condition has been met. Conditions are typically used to synchronize access to shared resources, allowing multiple threads to wait for a resource to become available.\n",
    "\n",
    "A condition object manages a lock and a notification mechanism. The lock is used to protect access to the shared resource, and the notification mechanism allows threads to wait for a condition to be met.\n",
    "\n",
    "- **Acquiring the Lock**: A thread acquires the lock associated with the condition by calling its `acquire()` method.\n",
    "- **Releasing the Lock**: The lock is released by calling the `release()` method.\n",
    "- **Waiting for a Condition**: A thread can wait for a condition to be met by calling the `wait()` method. This releases the lock and blocks the thread until another thread calls `notify()` or `notify_all()` on the condition."
   ]
  },
  {
   "cell_type": "code",
   "execution_count": 37,
   "metadata": {},
   "outputs": [
    {
     "name": "stdout",
     "output_type": "stream",
     "text": [
      "Consumer waiting for items.\n",
      "Producer adding items.\n",
      "Consumer got an item: 1\n"
     ]
    }
   ],
   "source": [
    "import time\n",
    "from threading import Condition, Thread\n",
    "\n",
    "# Condition variable\n",
    "condition = Condition()\n",
    "\n",
    "# Shared resource/state\n",
    "items = []\n",
    "\n",
    "\n",
    "def producer():\n",
    "    with condition:\n",
    "        print(\"Producer adding items.\")\n",
    "        items.append(1)  # Add an item to the list\n",
    "        condition.notify()  # Notify a waiting consumer\n",
    "\n",
    "\n",
    "def consumer():\n",
    "    with condition:\n",
    "        print(\"Consumer waiting for items.\")\n",
    "        condition.wait()  # Wait for an item to be added\n",
    "        item = items.pop()  # Remove an item from the list\n",
    "        print(f\"Consumer got an item: {item}\")\n",
    "\n",
    "\n",
    "# Create producer and consumer threads\n",
    "producer_thread = Thread(target=producer)\n",
    "consumer_thread = Thread(target=consumer)\n",
    "\n",
    "# Start threads\n",
    "consumer_thread.start()\n",
    "time.sleep(1)  # Ensure consumer starts waiting before producer adds an item\n",
    "producer_thread.start()\n",
    "\n",
    "# Wait for threads to complete\n",
    "producer_thread.join()\n",
    "consumer_thread.join()"
   ]
  },
  {
   "cell_type": "markdown",
   "metadata": {},
   "source": [
    "### Semaphore <a id=\"semaphore\"></a>\n",
    "\n",
    "A _Semaphore_ is a synchronization primitive that is used to control access to a shared resource. It maintains a counter that represents the number of available resources. When a thread or process wants to access the shared resource, it must acquire a semaphore. If the counter is greater than zero, the semaphore decrements the counter and allows access. If the counter is zero, the semaphore blocks the thread or process until a resource becomes available.\n",
    "\n",
    "- **Acquiring a Semaphore**: A thread or process acquires a semaphore by calling its `acquire()` method. If the counter is greater than zero, the counter is decremented, and the thread or process is allowed to proceed. If the counter is zero, the calling thread or process is blocked until a resource becomes available.\n",
    "- **Releasing a Semaphore**: A thread or process releases a semaphore by calling its `release()` method. This increments the counter, allowing other threads or processes to acquire the semaphore."
   ]
  },
  {
   "cell_type": "code",
   "execution_count": 38,
   "metadata": {},
   "outputs": [
    {
     "name": "stdout",
     "output_type": "stream",
     "text": [
      "Thread 0 is trying to access the resource...Thread 1 is trying to access the resource...\n",
      "Thread 1 has accessed the resource.\n",
      "\n",
      "Thread 0 has accessed the resource.\n",
      "Thread 2 is trying to access the resource...\n",
      "Thread 3 is trying to access the resource...\n",
      "Thread 4 is trying to access the resource...\n",
      "Thread 1 is releasing the resource.Thread 0 is releasing the resource.\n",
      "Thread 3 has accessed the resource.\n",
      "Thread 2 has accessed the resource.\n",
      "\n",
      "Thread 3 is releasing the resource.Thread 2 is releasing the resource.\n",
      "Thread 4 has accessed the resource.\n",
      "\n",
      "Thread 4 is releasing the resource.\n"
     ]
    }
   ],
   "source": [
    "import time\n",
    "from threading import Semaphore, Thread\n",
    "\n",
    "# A semaphore to restrict access to a limited resource\n",
    "# In this case, allow up to 2 threads to access the resource at the same time\n",
    "semaphore = Semaphore(2)\n",
    "\n",
    "\n",
    "def access_resource(thread_number):\n",
    "    print(f\"Thread {thread_number} is trying to access the resource...\")\n",
    "    with semaphore:\n",
    "        # Simulate accessing a shared resource\n",
    "        print(f\"Thread {thread_number} has accessed the resource.\")\n",
    "        time.sleep(1)\n",
    "    print(f\"Thread {thread_number} is releasing the resource.\")\n",
    "\n",
    "\n",
    "# Create and start multiple threads\n",
    "threads = [Thread(target=access_resource, args=(i,)) for i in range(5)]\n",
    "\n",
    "for thread in threads:\n",
    "    thread.start()\n",
    "\n",
    "for thread in threads:\n",
    "    thread.join()"
   ]
  },
  {
   "cell_type": "markdown",
   "metadata": {},
   "source": [
    "### Deadlock <a id=\"deadlock\"></a>\n",
    "\n",
    "_Deadlock_ is a situation in concurrent programming where two or more threads or processes are unable to proceed because each is waiting for the other to release a resource. Deadlocks occur when multiple threads or processes are blocked indefinitely, waiting for each other.\n",
    "\n",
    "Deadlocks can occur when the following four conditions hold simultaneously:\n",
    "- **Mutual Exclusion**: At least one resource must be held in a non-shareable mode. Otherwise, the processes would not be prevented from using the resource when necessary.\n",
    "- **Hold and Wait**: A process must be holding at least one resource and waiting to acquire additional resources that are currently being held by other processes.\n",
    "- **No Preemption**: Resources cannot be preempted. They must be released by the process that is holding them, and only voluntarily.\n",
    "- **Circular Wait**: A circular chain of two or more processes, each of which is waiting for a resource held by the next member of the chain.\n",
    "\n",
    "Deadlocks can be prevented by breaking one or more of the above conditions. For example, using timeouts, resource preemption, or avoiding circular waits can help prevent deadlocks."
   ]
  },
  {
   "cell_type": "markdown",
   "metadata": {},
   "source": [
    "## 6. Parallelism <a id=\"parallelism\"></a>\n",
    "\n",
    "_Parallelism_ is a programming technique that allows multiple tasks to be executed simultaneously. It can be achieved using multiple processes, threads, or asynchronous operations. Parallelism is particularly useful for CPU-bound tasks that can be divided into smaller sub-tasks and executed concurrently, taking advantage of multi-core processors to improve performance."
   ]
  },
  {
   "cell_type": "markdown",
   "metadata": {},
   "source": [
    "### Parallelism vs Concurrency <a id=\"parallelism-vs-concurrency\"></a>\n",
    "\n",
    "Parallelism is often confused with concurrency, but they are different concepts. Parallelism refers to the simultaneous execution of multiple tasks, while concurrency refers to the ability of a system to handle multiple tasks at the same time, regardless of whether they are executed simultaneously.\n",
    "\n",
    "The terms _concurrency_ and _parallelism_ are often used interchangeably, but they have distinct meanings:\n",
    "\n",
    "- **Concurrency**: Concurrency is the ability of an application to be decomposed into smaller units of work that can be executed out of order or in partial order. It is about dealing with lots of things at once. Concurrency is often used to improve the responsiveness of an application and to handle multiple tasks simultaneously.\n",
    "- **Parallelism**: Parallelism is the ability of an application to execute multiple tasks simultaneously. It is about doing lots of things at once. Parallelism is often used to improve the performance of an application by taking advantage of multi-core processors to execute tasks concurrently.\n",
    "\n",
    "In Python, parallelism can be achieved using the `multiprocessing` module for CPU-bound tasks and the `asyncio` module for IO-bound tasks. The `threading` module can also be used for parallelism, but due to the Global Interpreter Lock (GIL), it is less effective for CPU-bound tasks."
   ]
  }
 ],
 "metadata": {
  "kernelspec": {
   "display_name": "Python 3",
   "language": "python",
   "name": "python3"
  },
  "language_info": {
   "codemirror_mode": {
    "name": "ipython",
    "version": 3
   },
   "file_extension": ".py",
   "mimetype": "text/x-python",
   "name": "python",
   "nbconvert_exporter": "python",
   "pygments_lexer": "ipython3",
   "version": "3.11.7"
  }
 },
 "nbformat": 4,
 "nbformat_minor": 2
}
