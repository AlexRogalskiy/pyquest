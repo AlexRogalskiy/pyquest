{
 "cells": [
  {
   "cell_type": "markdown",
   "metadata": {},
   "source": [
    "## Part XI: Debugging and Testing <a id=\"11-debugging-and-testing\"></a>"
   ]
  },
  {
   "cell_type": "markdown",
   "metadata": {},
   "source": [
    "### 1. Debugging <a id=\"debugging\"></a>\n",
    "\n",
    "Debugging is the process of finding and fixing errors in a computer program. It is a crucial part of the software development process. The process of debugging involves identifying the bug, isolating the source of the bug, and then fixing the bug.\n",
    "\n",
    "- **Print Statements**: One of the simplest forms of debugging, where you insert print statements in your code to display values of variables at certain points during execution. This method is straightforward but can become cumbersome for large codebases.\n",
    "\n",
    "- **Integrated Development Environments (IDEs)**: IDEs like PyCharm or Visual Studio Code offer built-in debugging tools, including breakpoints, step-through execution, variable inspection, and more.\n",
    "\n",
    "- **Logging**: Python's `logging` module allows you to log runtime information, which can be more flexible and less intrusive than print statements. Logs can be configured to show different levels of information (e.g., debug, info, warning, error, critical) and can be outputted to different destinations (console, file, etc.).\n",
    "\n",
    "- **pdb (Python Debugger)**: The `pdb` module is Python's standard debugger and offers an interactive interface for debugging. You can set breakpoints, step through code, inspect variables, and evaluate expressions. It's a powerful tool for more complex debugging tasks.\n",
    "\n",
    "- **Other Debuggers**: There are other Python debuggers available, such as `ipdb` (which integrates with the IPython environment for a more user-friendly interface) and remote debuggers provided by some IDEs for debugging code running in different environments."
   ]
  },
  {
   "cell_type": "markdown",
   "metadata": {},
   "source": [
    "#### Debugging Techniques <a id=\"debugging-techniques\"></a>\n",
    "\n",
    "1. **Rubber Duck Debugging**: This technique involves explaining your code and the problem you're facing in detail to an inanimate object (like a rubber duck). Articulating the problem can often lead you to a solution more quickly because it forces you to slow down and think through the logic step by step.\n",
    "\n",
    "2. **Divide and Conquer**: When faced with a complex problem, break down the code into smaller, manageable parts. Test these parts individually to isolate where the problem lies. This approach helps in narrowing down the exact location of bugs.\n",
    "\n",
    "3. **Print Debugging**: Inserting print statements to show the flow of execution or the state of variables at various points in the program. While not sophisticated, it's a quick way to gain insights into how data is changing over time.\n",
    "\n",
    "4. **Using Assertions**: Assertions are statements that check if a condition is true. They're used to catch bugs early by validating the state of a program. If an assertion fails, it means there's a flaw in the logic that needs to be addressed.\n",
    "\n",
    "5. **Backtracking**: When you encounter an error, work backward from the point of failure to understand what led to the problem. This technique is especially useful for complex errors that don't have an obvious cause.\n",
    "\n",
    "6. **Change One Thing at a Time**: When debugging, it's tempting to make multiple changes to fix a problem. However, changing one thing at a time and then testing can help pinpoint exactly what fixes the issue, making it easier to understand the bug.\n",
    "\n",
    "7. **Use a Debugger**: Debuggers like `pdb` in Python allow you to execute code step by step, inspect variables, and understand the program's state at various execution points. This can be more efficient than print debugging for complex issues."
   ]
  },
  {
   "cell_type": "markdown",
   "metadata": {},
   "source": [
    "#### pdb <a id=\"pdb\"></a>\n",
    "\n",
    "`pdb` is the built-in debugger for Python. It provides an interactive debugging environment for Python programs. With `pdb`, you can set breakpoints, step through code, inspect variables, and evaluate expressions.\n",
    "\n",
    "- **Interactive Debugging**: `pdb` allows you to interact with your program's execution in real time.\n",
    "- **Breakpoints**: You can set breakpoints in your code at which execution will pause, allowing you to inspect the state of the program.\n",
    "- **Step through Execution**: `pdb` lets you execute your program one line at a time, so you can understand exactly how your code is executing and where it might be going wrong.\n",
    "- **Variable Inspection**: You can print the values of variables to see what data your program is working with at any point.\n",
    "- **Evaluate Expressions**: `pdb` allows you to evaluate Python expressions in the context of your paused program, which can be helpful for testing fixes.\n",
    "\n",
    "To use `pdb`, you can insert `pdb.set_trace()` into your code at the location where you want to start debugging. When the interpreter reaches this line, it will pause, and you'll enter the interactive debugging session.\n",
    "\n",
    " Here are some commands you might use:\n",
    "- `l` (list): Show the current location in the code.\n",
    "- `n` (next): Execute the next line of code.\n",
    "- `c` (continue): Continue execution until the next breakpoint.\n",
    "- `p` (print): Print the value of an expression.\n",
    "- `q` (quit): Exit the debugger."
   ]
  },
  {
   "cell_type": "code",
   "execution_count": 15,
   "metadata": {},
   "outputs": [
    {
     "name": "stdout",
     "output_type": "stream",
     "text": [
      "--Return--\n",
      "None\n",
      "> \u001b[0;32m/var/folders/6r/27vxsf6512zffvpt__9jvmcc0000gn/T/ipykernel_74344/1031600242.py\u001b[0m(11)\u001b[0;36m<module>\u001b[0;34m()\u001b[0m\n",
      "\u001b[0;32m      8 \u001b[0;31m\u001b[0;34m\u001b[0m\u001b[0m\n",
      "\u001b[0m\u001b[0;32m      9 \u001b[0;31m\u001b[0;34m\u001b[0m\u001b[0m\n",
      "\u001b[0m\u001b[0;32m     10 \u001b[0;31m\u001b[0;31m# Debugging the function\u001b[0m\u001b[0;34m\u001b[0m\u001b[0;34m\u001b[0m\u001b[0m\n",
      "\u001b[0m\u001b[0;32m---> 11 \u001b[0;31m\u001b[0mpdb\u001b[0m\u001b[0;34m.\u001b[0m\u001b[0mset_trace\u001b[0m\u001b[0;34m(\u001b[0m\u001b[0;34m)\u001b[0m\u001b[0;34m\u001b[0m\u001b[0;34m\u001b[0m\u001b[0m\n",
      "\u001b[0m\u001b[0;32m     12 \u001b[0;31m\u001b[0mprint\u001b[0m\u001b[0;34m(\u001b[0m\u001b[0mdivide_numbers\u001b[0m\u001b[0;34m(\u001b[0m\u001b[0;36m5\u001b[0m\u001b[0;34m,\u001b[0m \u001b[0;36m0\u001b[0m\u001b[0;34m)\u001b[0m\u001b[0;34m)\u001b[0m\u001b[0;34m\u001b[0m\u001b[0;34m\u001b[0m\u001b[0m\n",
      "\u001b[0m\n"
     ]
    }
   ],
   "source": [
    "import pdb\n",
    "\n",
    "\n",
    "def divide_numbers(a, b):\n",
    "    # Let's intentionally introduce a bug: division by zero\n",
    "    result = a / b\n",
    "    return result\n",
    "\n",
    "\n",
    "# Debugging the function\n",
    "pdb.set_trace()\n",
    "print(divide_numbers(5, 0))"
   ]
  },
  {
   "cell_type": "markdown",
   "metadata": {},
   "source": [
    "### 2. Testing <a id=\"testing\"></a>\n",
    "\n",
    "Testing is the process of evaluating a system or its components with the intent to find whether it satisfies the specified requirements or not. It is an essential part of the software development process and ensures that your code works as expected."
   ]
  },
  {
   "cell_type": "markdown",
   "metadata": {},
   "source": [
    "#### Unit Testing <a id=\"unit-testing\"></a>\n",
    "\n",
    "Unit testing is a software testing method where individual units or components of a software are tested in isolation from the rest of the application. The primary goal of unit testing is to validate that each unit of the software performs as designed. A unit is the smallest testable part of any software. It usually has one or a few inputs and usually a single output.\n",
    "\n",
    "- **Isolation**: Unit tests are isolated from the rest of the application, meaning they don't rely on external systems or components. This makes them fast and reliable.\n",
    "- **Automation**: Unit tests are automated, meaning they can be run quickly and easily, often as part of a continuous integration pipeline.\n",
    "- **Debugging**: Unit tests can help identify bugs early in the development process, making them easier to fix.\n",
    "- **Refactoring**: Unit tests provide a safety net when refactoring code, ensuring that changes don't break existing functionality."
   ]
  },
  {
   "cell_type": "markdown",
   "metadata": {},
   "source": [
    "#### Integration Testing <a id=\"integration-testing\"></a>\n",
    "\n",
    "Integration testing is the phase in software testing where individual software modules are combined and tested as a group. The purpose of this level of testing is to expose faults in the interaction between integrated units. It focuses on verifying the data communication between these units.\n",
    "\n",
    "- **Interaction**: Integration tests focus on the interaction between different parts of the system, ensuring that they work together as expected.\n",
    "- **Dependencies**: Integration tests can uncover issues with dependencies between different components, such as incorrect data formats or communication protocols.\n",
    "- **Complexity**: Integration tests are more complex than unit tests, as they involve multiple components and systems."
   ]
  },
  {
   "cell_type": "markdown",
   "metadata": {},
   "source": [
    "#### Functional Testing <a id=\"functional-testing\"></a>\n",
    "\n",
    "Functional testing is a type of software testing where the system is tested against the functional requirements or specifications. Functional testing ensures that the system is working as designed and that it meets the user's needs.\n",
    "\n",
    "- **Requirements-Based Testing**: Tests are based on defined requirements of the application, focusing on executing the functions the software is supposed to perform.\n",
    "- **Black Box Approach**: Functional testing is typically done from the user's perspective and does not involve looking into the code. The tester only knows the inputs and the expected outputs without any knowledge of how the application works internally.\n",
    "- **User Scenario Simulation**: It often involves simulating real user scenarios to ensure the application can handle tasks in real-world usage."
   ]
  },
  {
   "cell_type": "markdown",
   "metadata": {},
   "source": [
    "#### Mocking <a id=\"mocking\"></a>\n",
    "\n",
    "Mocking is a technique used in unit testing to replace a real component with a fake one. This is useful when the real component is slow, unreliable, or difficult to set up for testing. Mocking allows you to isolate the code under test and focus on the specific functionality you want to test.\n",
    "\n",
    "Purpose of Mocking:\n",
    "- **Isolation**: Mocking helps isolate the unit of code being tested, ensuring that tests run in a controlled environment and that failures can be attributed directly to issues with the unit under test, not external dependencies.\n",
    "- **Simplicity**: It simplifies the setup for tests by replacing complex objects with mocks that mimic only the behavior needed for the test.\n",
    "- **Speed**: Tests run faster because they don't need to interact with real external systems, databases, or network resources.\n",
    "- **Deterministic**: Mocks make tests more deterministic by eliminating the unpredictability of relying on external systems, leading to more consistent test outcomes.\n",
    "\n",
    "Python's standard library includes the `unittest.mock` module, which provides a powerful and flexible way to create mock objects. This module allows you to replace parts of your system under test with mock objects and make assertions about how they have been used.\n",
    "\n",
    "- `Mock`: The most basic class. It can be used to create an object that can be configured to return specific values when called in specific ways.\n",
    "- `MagicMock`: A subclass of `Mock` that implements default magic or dunder methods, making it suitable for mocking objects that need to support magic methods.\n",
    "- `patch()`: A decorator/utility function that makes it easy to temporarily replace classes in a particular module with a Mock object. Once the test is done, the patched objects are automatically restored, which helps in keeping the test environment clean and preventing side effects."
   ]
  },
  {
   "cell_type": "markdown",
   "metadata": {},
   "source": [
    "```python\n",
    "# Function to test\n",
    "def get_user_data(user_id):\n",
    "    response = external_api.get_user(user_id)\n",
    "    return response.json()\n",
    "\n",
    "# Unit test with mocking\n",
    "import unittest\n",
    "from unittest.mock import patch\n",
    "\n",
    "class TestUserData(unittest.TestCase):\n",
    "    @patch('external_api.get_user')\n",
    "    def test_get_user_data(self, mock_get_user):\n",
    "        # Setup the mock to return a specific response when called\n",
    "        mock_get_user.return_value.json.return_value = {'id': 1, 'name': 'John Doe'}\n",
    "        \n",
    "        # Call the function with the mock in place\n",
    "        result = get_user_data(1)\n",
    "        \n",
    "        # Assert that the result is as expected\n",
    "        self.assertEqual(result, {'id': 1, 'name': 'John Doe'})\n",
    "        \n",
    "        # Verify the external API was called with the correct user ID\n",
    "        mock_get_user.assert_called_with(1)\n",
    "\n",
    "if __name__ == '__main__':\n",
    "    unittest.main()\n",
    "```"
   ]
  },
  {
   "cell_type": "markdown",
   "metadata": {},
   "source": [
    "### 3. Test Driven Development (TDD) <a id=\"tdd\"></a>\n",
    "\n",
    "Test Driven Development (TDD) is a software development approach where tests are written before the actual code. The TDD cycle is primarily composed of three stages, often described as \"Red, Green, Refactor\":\n",
    "\n",
    "1. **Red**: Write a test for the next bit of functionality you want to add. The test should fail because the functionality hasn't been implemented yet, which is expected and indicates the test environment is set up correctly.\n",
    "\n",
    "2. **Green**: Write the minimal amount of code necessary to make the test pass. This step focuses on functionality, not perfection.\n",
    "\n",
    "3. **Refactor**: Refine the code you just wrote, making it cleaner and eliminating any duplication while ensuring that the tests still pass. This is where you improve the quality of the code without changing its behavior.\n",
    "\n",
    "The cycle repeats with each new piece of functionality, gradually building up the software in small, verifiable increments. This approach encourages simple designs, inspires confidence, and increases developer productivity.\n",
    "\n",
    "Benefits of TDD:\n",
    "- **Improved Code Quality**: Writing tests first requires thinking through the design and interface before the implementation, often leading to better-designed, cleaner, and more maintainable code.\n",
    "- **Regression Testing**: Every new feature starts with writing a test, so you end up with a comprehensive suite of tests that can be run to detect regressions in the future quickly.\n",
    "- **Simplified Debugging**: When a test fails, you only need to investigate the most recent changes to find the cause.\n",
    "- **Documentation**: The tests themselves serve as documentation that describes what the code is supposed to do."
   ]
  },
  {
   "cell_type": "markdown",
   "metadata": {},
   "source": [
    "1. **Red** - Write the test first:\n",
    "\n",
    "```python\n",
    "import unittest\n",
    "\n",
    "class TestAddFunction(unittest.TestCase):\n",
    "    def test_add_two_numbers(self):\n",
    "        self.assertEqual(add(2, 3), 5)\n",
    "\n",
    "# Running this test will result in a NameError since `add` is not defined yet.\n",
    "```\n",
    "\n",
    "2. **Green** - Implement the function to make the test pass:\n",
    "\n",
    "```python\n",
    "def add(a, b):\n",
    "    return a + b\n",
    "\n",
    "# Now, running the test suite should pass because the `add` function correctly implements the expected functionality.\n",
    "```\n",
    "\n",
    "3. **Refactor** - Refine the implementation (if necessary):"
   ]
  },
  {
   "cell_type": "markdown",
   "metadata": {},
   "source": [
    "### 4. Python Testing Frameworks <a id=\"testing-frameworks\"></a>"
   ]
  },
  {
   "cell_type": "markdown",
   "metadata": {},
   "source": [
    "#### unittest <a id=\"unittest\"></a>\n",
    "\n",
    "`unittest` is Python's built-in testing framework. It provides a set of tools for constructing and running tests. `unittest` supports test automation, sharing of setup and shutdown code for tests, aggregation of tests into collections, and independence of the tests from the reporting framework.\n",
    "\n",
    "Key Concepts:\n",
    "- **Test Cases**: Test cases are the individual units of testing. They are created by subclassing `unittest.TestCase` and contain methods that start with the word `test`.\n",
    "- **Test Suites**: Test suites are collections of test cases. They can be run together to test different parts of the codebase.\n",
    "- **Assertions**: `unittest` provides a set of assertion methods to check for various conditions in your code. If an assertion fails, the test fails.\n",
    "- **Fixtures**: `unittest` provides a set of methods to set up and tear down resources needed for testing. These methods run before and after each test method."
   ]
  },
  {
   "cell_type": "markdown",
   "metadata": {},
   "source": [
    "```python\n",
    "import unittest\n",
    "\n",
    "# A simple function to test\n",
    "def add(a, b):\n",
    "    return a + b\n",
    "\n",
    "# Define a TestCase subclass\n",
    "class TestAddFunction(unittest.TestCase):\n",
    "    def test_addition(self):\n",
    "        self.assertEqual(add(1, 2), 3)\n",
    "    \n",
    "    def test_addition_negative(self):\n",
    "        self.assertEqual(add(-1, 2), 1)\n",
    "    \n",
    "    def test_addition_float(self):\n",
    "        self.assertAlmostEqual(add(1.1, 2.2), 3.3, places=1)\n",
    "\n",
    "# If running this script directly, run the unittest main module\n",
    "if __name__ == '__main__':\n",
    "    unittest.main()\n",
    "```"
   ]
  },
  {
   "cell_type": "markdown",
   "metadata": {},
   "source": [
    "#### pytest <a id=\"pytest\"></a>\n",
    "\n",
    "`pytest` is a third-party testing framework that makes it easy to write simple tests and scales to support complex functional testing. It is widely used in the Python community and is known for its simplicity and powerful features.\n",
    "\n",
    "Key Features of `pytest`:\n",
    "- **Simple Syntax**: Writing tests is straightforward, with no need for boilerplate code. Tests are automatically detected in modules and classes named `test_*.py` or `*_test.py`, with functions or methods prefixed by `test_`.\n",
    "- **Fixtures**: Provides a flexible way to reuse code for setting up and tearing down tests. Fixtures are Python functions that `pytest` runs before (and sometimes after) the actual test functions. They can be used to initialize databases, start a server, or create any other setup needed for your tests.\n",
    "- **Parameterized Testing**: Easily allows the execution of a single test function with multiple sets of arguments, facilitating thorough testing of components with less code.\n",
    "- **Plugins and Integrations**: Offers over 315+ plugins to extend functionality, including coverage reports, parallel test execution, and integration with complex applications.\n",
    "- **Rich Plugin Architecture**: If `pytest` doesn't already do what you need, you can write a plugin to add new functionality.\n",
    "- **Detailed Assertion Failures**: Provides detailed reports on assertion failures, showing the exact point of failure, even for complex data structures."
   ]
  },
  {
   "cell_type": "code",
   "execution_count": null,
   "metadata": {},
   "outputs": [],
   "source": [
    "# A simple function to test\n",
    "def add(a, b):\n",
    "    return a + b\n",
    "\n",
    "\n",
    "# Test function using pytest\n",
    "def test_add():\n",
    "    assert add(2, 3) == 5\n",
    "\n",
    "\n",
    "def test_add_negative_numbers():\n",
    "    assert add(-2, -3) == -5"
   ]
  },
  {
   "cell_type": "markdown",
   "metadata": {},
   "source": [
    "#### doctest <a id=\"doctest\"></a>\n",
    "\n",
    "`doctest` is a module that searches for pieces of text that look like interactive Python sessions inside docstrings and then executes those sessions to verify that they work exactly as shown. It can be used to test small examples in the documentation, ensuring that the code examples in the documentation remain up-to-date and accurate.\n",
    "\n",
    "Key Features of `doctest`:\n",
    "- **Simple Syntax**: Tests are written directly in the docstrings of the module, class, or method being tested, making it easy to keep the tests up-to-date with the code.\n",
    "- **Automatic Testing**: The tests are run automatically when the module is imported, so there's no need to set up a separate test suite.\n",
    "- **Readable Documentation**: The tests are embedded in the documentation, making it easy for developers to understand how to use the code and what to expect from it.\n",
    "\n",
    "How `doctest` Works:\n",
    "\n",
    "`doctest` looks for text that resembles interactive Python sessions. These are lines beginning with the Python prompt (`>>>`), followed by one or more lines with expected output. If the actual output matches the expected output, the test passes."
   ]
  },
  {
   "cell_type": "code",
   "execution_count": null,
   "metadata": {},
   "outputs": [],
   "source": [
    "def add(a, b):\n",
    "    \"\"\"\n",
    "    Adds two numbers and returns the result.\n",
    "\n",
    "    >>> add(2, 3)\n",
    "    5\n",
    "    >>> add(-1, 1)\n",
    "    0\n",
    "    >>> add(-1, -1)\n",
    "    -2\n",
    "    \"\"\"\n",
    "    return a + b\n",
    "\n",
    "\n",
    "# Test function using doctest\n",
    "if __name__ == \"__main__\":\n",
    "    import doctest\n",
    "\n",
    "    doctest.testmod()"
   ]
  }
 ],
 "metadata": {
  "kernelspec": {
   "display_name": "Python 3",
   "language": "python",
   "name": "python3"
  },
  "language_info": {
   "codemirror_mode": {
    "name": "ipython",
    "version": 3
   },
   "file_extension": ".py",
   "mimetype": "text/x-python",
   "name": "python",
   "nbconvert_exporter": "python",
   "pygments_lexer": "ipython3",
   "version": "3.11.7"
  }
 },
 "nbformat": 4,
 "nbformat_minor": 2
}
