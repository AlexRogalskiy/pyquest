{
 "cells": [
  {
   "cell_type": "markdown",
   "metadata": {},
   "source": [
    "## Part XII: Common Practices <a id=\"12-common-practices\"></a>"
   ]
  },
  {
   "cell_type": "markdown",
   "metadata": {},
   "source": [
    "### 1. Logging <a id=\"logging\"></a>\n",
    "\n",
    "Logging is a common practice in software development. It is used to record the events that occur in the system. It is useful for debugging and monitoring the system. In Python, the `logging` module is used to log messages.\n",
    "\n",
    "Key components of the `logging` module are:\n",
    "- **Loggers**: They are used to create log records. They are used to log messages.\n",
    "- **Handlers**: They are used to handle the log records. They are used to send the log records to the appropriate destination.\n",
    "- **Formatters**: They are used to format the log records. They are used to format the log records before they are sent to the destination."
   ]
  },
  {
   "cell_type": "code",
   "execution_count": 18,
   "metadata": {},
   "outputs": [
    {
     "name": "stderr",
     "output_type": "stream",
     "text": [
      "INFO:__main__:This is an info message\n"
     ]
    }
   ],
   "source": [
    "import logging\n",
    "\n",
    "# Configure logging\n",
    "logging.basicConfig(\n",
    "    level=logging.INFO, format=\"%(asctime)s - %(name)s - %(levelname)s - %(message)s\"\n",
    ")\n",
    "\n",
    "# Create a logger\n",
    "logger = logging.getLogger(__name__)\n",
    "\n",
    "# Log messages\n",
    "logger.info(\"This is an info message\")"
   ]
  },
  {
   "cell_type": "markdown",
   "metadata": {},
   "source": [
    "#### Logging Levels <a id=\"logging-levels\"></a>\n",
    "\n",
    "The `logging` module provides several logging levels. The following are the most commonly used logging levels:\n",
    "\n",
    "- `DEBUG`: Detailed information, typically of interest only when diagnosing problems.\n",
    "- `INFO`: Confirmation that things are working as expected.\n",
    "- `WARNING`: An indication that something unexpected happened, or indicative of some problem in the near future (e.g. ‘disk space low’). The software is still working as expected.\n",
    "- `ERROR`: Due to a more serious problem, the software has not been able to perform some function.\n",
    "- `CRITICAL`: A serious error, indicating that the program itself may be unable to continue running."
   ]
  },
  {
   "cell_type": "code",
   "execution_count": 19,
   "metadata": {},
   "outputs": [
    {
     "name": "stderr",
     "output_type": "stream",
     "text": [
      "DEBUG:root:This is a debug message\n",
      "INFO:root:This is an info message\n",
      "WARNING:root:This is a warning message\n",
      "ERROR:root:This is an error message\n",
      "CRITICAL:root:This is a critical message\n"
     ]
    }
   ],
   "source": [
    "import logging\n",
    "\n",
    "# Set up basic configuration for logging\n",
    "logging.basicConfig(level=logging.DEBUG)\n",
    "\n",
    "# Examples of logging messages at different levels\n",
    "logging.debug(\"This is a debug message\")\n",
    "logging.info(\"This is an info message\")\n",
    "logging.warning(\"This is a warning message\")\n",
    "logging.error(\"This is an error message\")\n",
    "logging.critical(\"This is a critical message\")\n",
    "\n",
    "# Depending on the level set in basicConfig, some of these messages may not be displayed."
   ]
  },
  {
   "cell_type": "markdown",
   "metadata": {},
   "source": [
    "#### Logging Handlers <a id=\"logging-handlers\"></a>\n",
    "\n",
    "In Python's `logging` framework, handlers are responsible for dispatching the log messages to specific destinations. Each logger can have multiple handlers, allowing it to send logs to multiple outlets, such as the console, files, HTTP servers, or even more complex targets like log management systems.\n",
    "\n",
    "Commonly used handlers are:\n",
    "- `StreamHandler`: Sends log messages to a stream, typically `sys.stderr`.\n",
    "- `FileHandler`: Sends log messages to a file.\n",
    "- `RotatingFileHandler`: Sends log messages to a file, and creates a new file when the current file reaches a certain size.\n",
    "- `TimedRotatingFileHandler`: Sends log messages to a file, and creates a new file at certain intervals.\n",
    "- `SMTPHandler`: Sends log messages to an email address.\n",
    "- `SysLogHandler`: Sends log messages to a Unix syslog daemon.\n",
    "- `HTTPHandler`: Sends log messages to a web server.\n",
    "- `SocketHandler`: Sends log messages to a network socket."
   ]
  },
  {
   "cell_type": "code",
   "execution_count": 20,
   "metadata": {},
   "outputs": [
    {
     "name": "stderr",
     "output_type": "stream",
     "text": [
      "DEBUG:__main__:This is a debug message\n",
      "2024-02-13 13:33:15,901 - __main__ - ERROR - This is an error message\n",
      "2024-02-13 13:33:15,901 - __main__ - ERROR - This is an error message\n",
      "2024-02-13 13:33:15,901 - __main__ - ERROR - This is an error message\n",
      "ERROR:__main__:This is an error message\n"
     ]
    }
   ],
   "source": [
    "import logging\n",
    "\n",
    "# Create a logger\n",
    "logger = logging.getLogger(__name__)\n",
    "logger.setLevel(logging.DEBUG)  # Set minimum log level\n",
    "\n",
    "# Create a file handler that logs even debug messages\n",
    "file_handler = logging.FileHandler(\"../examples/debug.log\")\n",
    "file_handler.setLevel(logging.DEBUG)\n",
    "\n",
    "# Create a console handler with a higher log level\n",
    "console_handler = logging.StreamHandler()\n",
    "console_handler.setLevel(logging.ERROR)\n",
    "\n",
    "# Create a formatter and set it for both handlers\n",
    "formatter = logging.Formatter(\"%(asctime)s - %(name)s - %(levelname)s - %(message)s\")\n",
    "file_handler.setFormatter(formatter)\n",
    "console_handler.setFormatter(formatter)\n",
    "\n",
    "# Add handlers to the logger\n",
    "logger.addHandler(file_handler)\n",
    "logger.addHandler(console_handler)\n",
    "\n",
    "# Log messages\n",
    "logger.debug(\"This is a debug message\")\n",
    "logger.error(\"This is an error message\")\n",
    "\n",
    "# This setup logs debug and higher level messages to 'debug.log',\n",
    "# but only error and critical messages will appear in the console."
   ]
  },
  {
   "cell_type": "markdown",
   "metadata": {},
   "source": [
    "#### Logging Formatters <a id=\"logging-formatters\"></a>\n",
    "\n",
    "Logging formatters in Python's logging framework are responsible for converting a log message into a specific format before it is output by a handler. The formatter specifies the layout of log messages, allowing developers to include information such as the time of the log message, the log level, the message itself, and other details like the logger's name and the source line number where the log call was made.\n",
    "\n",
    "Common Elements in Log Formats:\n",
    "- `%(asctime)s`: The human-readable time at which the log record was created.\n",
    "- `%(name)s`: The name of the logger used to log the call.\n",
    "- `%(levelname)s`: The textual representation of the logging level (e.g., \"DEBUG\", \"INFO\").\n",
    "- `%(message)s`: The logged message.\n",
    "- Additional elements like `%(filename)s`, `%(lineno)d`, and `%(funcName)s` can include the source file name, line number, and function name, respectively."
   ]
  },
  {
   "cell_type": "code",
   "execution_count": 21,
   "metadata": {},
   "outputs": [
    {
     "name": "stderr",
     "output_type": "stream",
     "text": [
      "2024-02-13 13:33:15,906 - my_logger - DEBUG - This is a debug message\n",
      "2024-02-13 13:33:15,906 - my_logger - DEBUG - This is a debug message\n",
      "2024-02-13 13:33:15,906 - my_logger - DEBUG - This is a debug message\n",
      "DEBUG:my_logger:This is a debug message\n",
      "2024-02-13 13:33:15,907 - my_logger - INFO - This is an info message\n",
      "2024-02-13 13:33:15,907 - my_logger - INFO - This is an info message\n",
      "2024-02-13 13:33:15,907 - my_logger - INFO - This is an info message\n",
      "INFO:my_logger:This is an info message\n"
     ]
    }
   ],
   "source": [
    "import logging\n",
    "\n",
    "# Create a logger\n",
    "logger = logging.getLogger(\"my_logger\")\n",
    "logger.setLevel(logging.DEBUG)\n",
    "\n",
    "# Create a handler\n",
    "stream_handler = logging.StreamHandler()\n",
    "\n",
    "# Create a formatter and set it to the handler\n",
    "formatter = logging.Formatter(\"%(asctime)s - %(name)s - %(levelname)s - %(message)s\")\n",
    "stream_handler.setFormatter(formatter)\n",
    "\n",
    "# Add the handler to the logger\n",
    "logger.addHandler(stream_handler)\n",
    "\n",
    "# Log some messages\n",
    "logger.debug(\"This is a debug message\")\n",
    "logger.info(\"This is an info message\")"
   ]
  },
  {
   "cell_type": "markdown",
   "metadata": {},
   "source": [
    "### 2. Code Style <a id=\"code-style\"></a>\n",
    "\n",
    "Code style is a set of conventions for writing code. It is important to follow a consistent code style to make the code readable and maintainable. Python has a set of conventions for writing code, which is defined in PEP 8. PEP 8 is the official style guide for Python code."
   ]
  },
  {
   "cell_type": "markdown",
   "metadata": {},
   "source": [
    "Example of Good Python Code Style:\n",
    "```python\n",
    "# Import standard libraries first\n",
    "import os\n",
    "import sys\n",
    "\n",
    "# Followed by third-party libraries\n",
    "import requests\n",
    "\n",
    "# Constants are typically named in all uppercase\n",
    "MAX_TIMEOUT = 60\n",
    "\n",
    "class NetworkClient:\n",
    "    \"\"\"Represents a simple network client.\"\"\"\n",
    "\n",
    "    def __init__(self, server_url):\n",
    "        self.server_url = server_url\n",
    "\n",
    "    def fetch_data(self, endpoint):\n",
    "        \"\"\"Fetch data from a specific endpoint.\"\"\"\n",
    "        url = f\"{self.server_url}/{endpoint}\"\n",
    "        response = requests.get(url, timeout=MAX_TIMEOUT)\n",
    "        return response.json()\n",
    "\n",
    "# Use meaningful names and follow PEP 8 spacing conventions\n",
    "def main():\n",
    "    client = NetworkClient(\"https://api.example.com\")\n",
    "    data = client.fetch_data(\"data\")\n",
    "    print(data)\n",
    "\n",
    "if __name__ == \"__main__\":\n",
    "    main()\n",
    "```"
   ]
  },
  {
   "cell_type": "markdown",
   "metadata": {},
   "source": [
    "#### PEP 8 <a id=\"pep-8\"></a>\n",
    "\n",
    "PEP 8, or Python Enhancement Proposal 8, is the style guide for Python code, establishing a set of rules and best practices for formatting Python code. Its primary goal is to improve the readability and consistency of Python code across the vast Python ecosystem. Since Python places a significant emphasis on readability and simplicity, adhering to PEP 8 can make your code more accessible to other Python developers.\n",
    "\n",
    "Key Highlights of PEP 8:\n",
    "- **Indentation**: Use 4 spaces per indentation level. Avoid using tabs, or configure your editor to convert tabs to spaces.\n",
    "- **Line Length**: Limit all lines to a maximum of 79 characters for code and 72 for comments and docstrings to improve readability on smaller displays.\n",
    "- **Imports**: Should be on separate lines and grouped in the following order: standard library imports, related third party imports, and local application/library specific imports, with a blank line between each group.\n",
    "- **Whitespace**: Use whitespace sparingly inside parentheses, brackets, and braces, and around operators. Follow guidelines for where to avoid and where to include space for clarity.\n",
    "- **Naming Conventions**: \n",
    "  - Use `CamelCase` for class names.\n",
    "  - Use lowercase with underscores for functions, methods, and variables.\n",
    "  - Constants should be written in all uppercase with underscores.\n",
    "- **Comments**: Comments should be complete sentences and used sparingly, explaining the rationale for the decision or clarifying complex parts of the code.\n",
    "- **Docstrings**: Use docstrings for all public modules, functions, classes, and methods to describe what they do and how they do it.\n"
   ]
  },
  {
   "cell_type": "markdown",
   "metadata": {},
   "source": [
    "#### Docstrings <a id=\"docstrings\"></a>\n",
    "\n",
    "Docstrings, or documentation strings, are literal strings used to document Python modules, functions, classes, and methods. They are enclosed in triple quotes (`\"\"\"Docstring here\"\"\"`) and are placed immediately after the definition of a function, class, module, or method. Docstrings are a key part of Python code documentation and can be accessed through the `.__doc__` attribute of the object they document or via the built-in `help()` function."
   ]
  },
  {
   "cell_type": "code",
   "execution_count": 22,
   "metadata": {},
   "outputs": [],
   "source": [
    "def calculate_area(base, height):\n",
    "    \"\"\"\n",
    "    Calculate the area of a triangle.\n",
    "\n",
    "    Parameters:\n",
    "    - base (float): The base of the triangle.\n",
    "    - height (float): The height of the triangle.\n",
    "\n",
    "    Returns:\n",
    "    float: The area of the triangle calculated using (base * height) / 2.\n",
    "    \"\"\"\n",
    "    return 0.5 * base * height\n",
    "\n",
    "\n",
    "class GeometryCalculator:\n",
    "    \"\"\"\n",
    "    A class used to perform various geometry calculations.\n",
    "\n",
    "    Attributes:\n",
    "    unit (str): The measurement unit for calculations (default is 'metric').\n",
    "\n",
    "    Methods:\n",
    "    convert_unit(value, to_unit): Converts a measurement from one unit to another.\n",
    "    \"\"\"\n",
    "\n",
    "    def __init__(self, unit=\"metric\"):\n",
    "        self.unit = unit\n",
    "\n",
    "    def convert_unit(self, value, to_unit):\n",
    "        \"\"\"Convert a measurement value from one unit to another.\"\"\"\n",
    "        # Conversion logic here\n",
    "        pass"
   ]
  },
  {
   "cell_type": "markdown",
   "metadata": {},
   "source": [
    "#### Type Annotations <a id=\"type-annotations\"></a>\n",
    "\n",
    "Type annotations in Python provide a way to explicitly state the expected data types of variables, function parameters, and return values. Type annotations are not enforced at runtime but can be used by third-party tools, IDEs, and linters for type checking, improving code readability, and aiding in debugging.\n",
    "\n",
    "Purpose of Type Annotations:\n",
    "- **Readability**: Make the code more readable by documenting the types of parameters and return values.\n",
    "- **Static Type Checking**: Enable static type checkers like `mypy` to verify that the code adheres to the specified types at compile time, catching type errors before runtime.\n",
    "- **IDE Support**: Improve support in integrated development environments (IDEs) for features like autocompletion, function signatures, and refactoring assistance.\n",
    "\n",
    "How to Use Type Annotations:\n",
    "- **Variables**: Specify the type of a variable after its name followed by a colon and the type.\n",
    "- **Functions**: Annotate function parameters and return values using colons and the arrow (`->`) syntax respectively."
   ]
  },
  {
   "cell_type": "code",
   "execution_count": 23,
   "metadata": {},
   "outputs": [],
   "source": [
    "from typing import Dict, List, Optional, Tuple\n",
    "\n",
    "\n",
    "def greet(name: str) -> str:\n",
    "    return f\"Hello, {name}!\"\n",
    "\n",
    "\n",
    "def process_data(data: List[int]) -> Tuple[int, int]:\n",
    "    total = sum(data)\n",
    "    count = len(data)\n",
    "    return total, count\n",
    "\n",
    "\n",
    "def find_person(id: int, directory: Dict[int, str]) -> Optional[str]:\n",
    "    return directory.get(id, None)\n",
    "\n",
    "\n",
    "# Variable annotation\n",
    "scores: List[int] = [90, 95, 88]\n",
    "\n",
    "# Optional variable annotation, useful when a variable can be None\n",
    "age: Optional[int] = None"
   ]
  },
  {
   "cell_type": "markdown",
   "metadata": {},
   "source": [
    "#### Linting <a id=\"linting\"></a>\n",
    "\n",
    "Linting is the process of running a program that will analyze code for potential errors. Linters are tools that perform static analysis on source code to find programming errors, bugs, stylistic errors, and suspicious constructs. Linting tools can help enforce code style, improve code quality, and catch bugs early in the development process.\n",
    "\n",
    "Common Python Linters:\n",
    "- **pylint**: A widely used linter that checks for errors, enforces coding standards, and looks for code smells.\n",
    "- **flake8**: Combines several tools including `pycodestyle`, `pyflakes`, and `mccabe` to check for PEP 8 violations, syntax errors, and cyclomatic complexity.\n",
    "- **mypy**: A static type checker that can be used to enforce type annotations and perform type checking on Python code."
   ]
  },
  {
   "cell_type": "markdown",
   "metadata": {},
   "source": [
    "#### Code Formatters <a id=\"code-formatters\"></a>\n",
    "\n",
    "Code formatters are tools that automatically format source code to adhere to a specific style guide or set of conventions. They can be used to enforce a consistent code style across a codebase, making the code more readable and maintainable.\n",
    "\n",
    "Common Python Code Formatters:\n",
    "- **black**: An opinionated code formatter that automatically formats Python code to adhere to PEP 8 style guidelines.\n",
    "- **ruff**: Fast Python linter and code formatter.\n",
    "- **isort**: A tool to sort and organize Python imports according to PEP 8 guidelines.\n",
    "- **autopep8**: A tool that automatically formats Python code to conform to the PEP 8 style guide.\n",
    "- **yapf**: Yet Another Python Formatter, a code formatter that takes a different approach to code formatting, focusing on being highly configurable and providing a consistent style."
   ]
  },
  {
   "cell_type": "markdown",
   "metadata": {},
   "source": [
    "### 3. Environment Management <a id=\"environment-management\"></a>\n",
    "\n",
    "Environment management in Python is the practice of managing multiple sets of Python and library versions to ensure compatibility and isolation between different projects. It's crucial for avoiding conflicts between project dependencies and for replicating production environments locally to debug issues accurately."
   ]
  },
  {
   "cell_type": "markdown",
   "metadata": {},
   "source": [
    "#### Virtual Environments <a id=\"virtual-environments\"></a>\n",
    "\n",
    "A virtual environment is a self-contained directory that contains a Python installation for a particular version of Python, plus a number of additional packages. It allows you to work on a specific project without affecting other projects or the system-wide Python installation. Virtual environments are a best practice for Python development, as they help manage dependencies and isolate project-specific packages.\n",
    "\n",
    "Common Tools for Managing Virtual Environments:\n",
    "- **venv**: A built-in module in Python 3 that can be used to create virtual environments.\n",
    "- **virtualenv**: A third-party tool that provides more features and flexibility for creating and managing virtual environments.\n",
    "- **conda**: A package, dependency, and environment management system that can be used to create and manage virtual environments for Python and other languages.\n",
    "- **pipenv**: A tool that combines `pip` and `virtualenv` to provide an easy way to manage project dependencies and virtual environments.\n",
    "- **poetry**: A modern dependency management tool for Python that allows you to declare and manage project dependencies and create virtual environments."
   ]
  },
  {
   "cell_type": "markdown",
   "metadata": {},
   "source": [
    "```bash\n",
    "# Create a new virtual environment using venv\n",
    "python3 -m venv myenv\n",
    "\n",
    "# Activate the virtual environment\n",
    "source myenv/bin/activate\n",
    "```"
   ]
  },
  {
   "cell_type": "markdown",
   "metadata": {},
   "source": [
    "#### Dependency Management <a id=\"dependency-management\"></a>\n",
    "\n",
    "Dependency management in Python involves managing the libraries and packages that a project depends on. It includes installing, updating, and removing dependencies, as well as ensuring that the project's dependencies are compatible with each other and with the Python version being used.\n",
    "\n",
    "1. **Virtual Environments**:\n",
    "   - Use tools like `venv`, `virtualenv`, or others to isolate project dependencies. This prevents conflicts between projects and makes it easier to manage project-specific dependencies.\n",
    "\n",
    "2. **Requirements Files**:\n",
    "   - A `requirements.txt` file lists all of your project's dependencies, often with specified versions, in a format that `pip` can use to install them.\n",
    "   - You can generate a `requirements.txt` file for your project by running `pip freeze > requirements.txt` in your virtual environment.\n",
    "\n",
    "3. **Package Managers and Dependency Resolvers**:\n",
    "   - **pip**: The Python package installer. Starting from version 20.3, pip uses a new resolver that automatically determines the best combination of package versions for your project.\n",
    "   - **Pipenv**: Combines package management with virtual environment management. It uses a `Pipfile` and `Pipfile.lock` to manage dependencies, aiming for reproducibility and clearer dependency declaration.\n",
    "   - **Poetry**: Handles dependency management and packaging. It uses a `pyproject.toml` file for dependency declaration and dependency resolution, and creates a lock file to ensure consistent installs across environments.\n",
    "\n",
    "4. **Dependency Locking**:\n",
    "   - Locking dependencies involves creating a snapshot of all the dependencies and their exact versions used in a project at a certain point in time (usually stored in a lock file, e.g., `Pipfile.lock` for Pipenv or `poetry.lock` for Poetry).\n",
    "   - This ensures that you can recreate the exact same environment later, improving project reproducibility across different machines or deployment environments.\n",
    "\n",
    "5. **Regular Updates and Security Checks**:\n",
    "   - Regularly update your dependencies to receive bug fixes, security patches, and new features.\n",
    "   - Tools like `pip-audit` for security vulnerabilities scanning, and dependabot on GitHub, can help keep your dependencies up-to-date and secure."
   ]
  },
  {
   "cell_type": "markdown",
   "metadata": {},
   "source": [
    "```bash\n",
    "# Install a package using pip\n",
    "pip install requests\n",
    "\n",
    "# Install packages from a requirements file\n",
    "pip install -r requirements.txt\n",
    "\n",
    "# Update a package to the latest version\n",
    "pip install --upgrade requests\n",
    "```"
   ]
  },
  {
   "cell_type": "markdown",
   "metadata": {},
   "source": [
    "#### Environment Variables <a id=\"environment-variables\"></a>\n",
    "\n",
    "Environment variables are key-value pairs stored in the operating system's environment that can affect the way running processes will behave on a computer. In Python development, environment variables are often used to manage application settings, configurations, sensitive information (like API keys and database passwords), and to differentiate between development, testing, and production environments without hardcoding such data into source code.\n",
    "\n",
    "Python's standard library includes the `os` module, which provides a way to access environment variables using `os.environ`. This acts like a Python dictionary, so you can use methods to get environment variable values, set default values if they don't exist, and check for their presence.\n",
    "\n",
    "```python\n",
    "import os\n",
    "\n",
    "# Accessing an environment variable (returns None if not found)\n",
    "api_key = os.environ.get('API_KEY')\n",
    "\n",
    "# Accessing an environment variable with a default value if not found\n",
    "db_host = os.environ.get('DB_HOST', 'localhost')\n",
    "\n",
    "# Setting an environment variable in Python (affects only the current process environment)\n",
    "os.environ['NEW_VARIABLE'] = 'value'\n",
    "```"
   ]
  },
  {
   "cell_type": "markdown",
   "metadata": {},
   "source": [
    "##### dotenv <a id=\"dotenv\"></a>\n",
    "\n",
    "The `python-dotenv` package is a popular tool for managing environment variables in Python projects. It allows you to define environment variables in a `.env` file and load them into your Python environment. This is useful for keeping sensitive information out of your codebase and for managing different configurations across different environments."
   ]
  },
  {
   "cell_type": "markdown",
   "metadata": {},
   "source": [
    "```python\n",
    "# Using python-dotenv to load variables from a .env file\n",
    "from dotenv import load_dotenv\n",
    "load_dotenv()  # This loads the environment variables from a .env file if present\n",
    "\n",
    "api_key = os.environ.get('API_KEY')\n",
    "db_host = os.environ.get('DB_HOST', 'localhost')\n",
    "```"
   ]
  },
  {
   "cell_type": "markdown",
   "metadata": {},
   "source": [
    "### 4. Profiling <a id=\"code-profiling\"></a>\n",
    "\n",
    "Profiling is the practice of measuring the performance of a program to identify its most time-consuming parts and to optimize them. Profiling can help you understand how your code is performing, identify bottlenecks, and make informed decisions about where to focus optimization efforts."
   ]
  },
  {
   "cell_type": "markdown",
   "metadata": {},
   "source": [
    "#### Time Profiling (Performance Profiling) <a id=\"performance-profiling\"></a>\n",
    "\n",
    "Time profiling is a type of profiling that measures the time taken by different parts of a program. It helps identify which parts of the code are consuming the most time and can be used to optimize the performance of the program.\n",
    "\n",
    "Time Profiling importance:\n",
    "- **Identifying Bottlenecks**: It helps identify the parts of the code that are consuming the most time and resources.\n",
    "- **Optimization**: It provides insights into which parts of the code need to be optimized for better performance.\n",
    "- **Resource Allocation**: It helps in better resource allocation and planning for the program.\n",
    "\n",
    "Python's standard library includes the `cProfile` module, which can be used to profile Python code. The `cProfile` module provides a way to profile the time taken by different functions and methods in a program."
   ]
  },
  {
   "cell_type": "code",
   "execution_count": 24,
   "metadata": {},
   "outputs": [
    {
     "name": "stdout",
     "output_type": "stream",
     "text": [
      "         8 function calls in 0.000 seconds\n",
      "\n",
      "   Ordered by: standard name\n",
      "\n",
      "   ncalls  tottime  percall  cumtime  percall filename:lineno(function)\n",
      "        1    0.000    0.000    0.000    0.000 952846612.py:5(example_function)\n",
      "        1    0.000    0.000    0.000    0.000 <string>:1(<module>)\n",
      "        1    0.000    0.000    0.000    0.000 __init__.py:225(compile)\n",
      "        1    0.000    0.000    0.000    0.000 __init__.py:272(_compile)\n",
      "        1    0.000    0.000    0.000    0.000 {built-in method builtins.exec}\n",
      "        1    0.000    0.000    0.000    0.000 {built-in method builtins.isinstance}\n",
      "        1    0.000    0.000    0.000    0.000 {method 'disable' of '_lsprof.Profiler' objects}\n",
      "        1    0.000    0.000    0.000    0.000 {method 'match' of 're.Pattern' objects}\n",
      "\n",
      "\n"
     ]
    }
   ],
   "source": [
    "import cProfile\n",
    "import re\n",
    "\n",
    "\n",
    "def example_function():\n",
    "    return re.compile(\"foo|bar\").match(\"bar\")\n",
    "\n",
    "\n",
    "# Run the profiler on the example_function\n",
    "cProfile.run(\"example_function()\")"
   ]
  },
  {
   "cell_type": "markdown",
   "metadata": {},
   "source": [
    "#### Memory Profiling <a id=\"memory-profiling\"></a>\n",
    "\n",
    "Memory profiling is the process of analyzing a program's memory usage over time to identify parts of the code that use excessive amounts of memory, have memory leaks, or could be optimized to use memory more efficiently. Understanding memory usage is crucial for developing efficient, scalable applications, especially in environments with limited resources or when dealing with large data sets.\n",
    "\n",
    "Importance of Memory Profiling:\n",
    "- **Identifying Memory Leaks**: It helps identify parts of the code that are leaking memory.\n",
    "- **Optimization**: It provides insights into which parts of the code need to be optimized for better memory usage.\n",
    "- **Cost Efficiency**: In cloud-based and server environments, optimizing memory usage can lead to cost savings by requiring fewer resources to run applications."
   ]
  },
  {
   "cell_type": "markdown",
   "metadata": {},
   "source": [
    "```python\n",
    "from memory_profiler import profile  # pip install memory_profiler\n",
    "\n",
    "\n",
    "@profile\n",
    "def my_function():\n",
    "    a = [1] * (10**6)\n",
    "    b = [2] * (2 * 10**7)\n",
    "    del b\n",
    "    return a\n",
    "\n",
    "\n",
    "if __name__ == \"__main__\":\n",
    "    my_function()\n",
    "```\n",
    "\n",
    "    Line #    Mem usage    Increment  Occurrences   Line Contents\n",
    "    =============================================================\n",
    "        4     48.3 MiB     48.3 MiB           1   @profile\n",
    "        5                                         def my_function():\n",
    "        6     55.9 MiB      7.6 MiB           1       a = [1] * (10**6)\n",
    "        7    208.5 MiB    152.6 MiB           1       b = [2] * (2 * 10**7)\n",
    "        8     55.9 MiB   -152.6 MiB           1       del b\n",
    "        9     55.9 MiB      0.0 MiB           1       return a"
   ]
  },
  {
   "cell_type": "markdown",
   "metadata": {},
   "source": [
    "#### Profiling Tools <a id=\"profiling-tools\"></a>"
   ]
  },
  {
   "cell_type": "markdown",
   "metadata": {},
   "source": [
    "##### Performance Profiling Tools <a id=\"performance-profiling-tools\"></a>\n",
    "\n",
    "- **cProfile**: A built-in Python module for profiling the time taken by different functions and methods in a program.\n",
    "- **line_profiler**: A module for profiling the time taken by individual lines of code in a program.\n",
    "- **Py-Spy**: A sampling profiler for Python programs. It can be used to profile CPU usage and memory usage of Python programs.\n",
    "- **SnakeViz**: A browser-based graphical viewer for the output of Python's cProfile module. It can be used to visualize and analyze the profiling data."
   ]
  },
  {
   "cell_type": "markdown",
   "metadata": {},
   "source": [
    "##### Memory Profiling Tools <a id=\"memory-profiling-tools\"></a>\n",
    "\n",
    "- **memory_profiler**: A module for monitoring memory usage of a Python program. It can be used to profile memory usage line by line.\n",
    "- **objgraph**: A module for visualizing Python object references and memory usage. It can be used to identify memory leaks and inefficient memory usage.\n",
    "- **Pympler**: A development tool to measure, monitor, and analyze the memory behavior of Python objects in a running Python application.\n",
    "- **tracemalloc**: A built-in Python module for tracing memory allocations in a Python program. It can be used to identify memory leaks and inefficient memory usage."
   ]
  },
  {
   "cell_type": "markdown",
   "metadata": {},
   "source": [
    "### 5. Code Review <a id=\"code-review\"></a>\n",
    "\n",
    "Code review is a process in software development where developers review each other's code to find and fix bugs, improve code quality, and ensure that the code meets the project's requirements. Code reviews are an essential part of the software development process and can help identify issues early, improve code maintainability, and share knowledge among team members.\n",
    "\n",
    "Benefits of Code Review:\n",
    "- **Quality Assurance**: Code reviews can help identify bugs and issues early in the development process.\n",
    "- **Knowledge Sharing**: Code reviews provide an opportunity for team members to share knowledge and learn from each other.\n",
    "- **Improving Code Quality**: Code reviews can help improve the overall quality of the codebase by identifying and fixing issues.\n",
    "- **Mentoring and Learning**: Code reviews can be a valuable learning experience for junior developers and an opportunity for senior developers to mentor others.\n",
    "- **Consistency**: Code reviews can help ensure that the codebase follows consistent coding standards and best practices.\n",
    "- **Security**: Helps in identifying security vulnerabilities that could be exploited if left unchecked."
   ]
  },
  {
   "cell_type": "markdown",
   "metadata": {},
   "source": [
    "#### Code Review Best Practices <a id=\"code-review-best-practices\"></a>\n",
    "\n",
    "- **Set Clear Objectives**: Clearly define the goals and objectives of the code review, such as identifying bugs, improving code quality, and sharing knowledge.\n",
    "- **Review Small Changes**: Break down large changes into smaller, manageable pieces that can be reviewed more effectively.\n",
    "- **Use a Checklist**: Use a code review checklist to ensure that common issues are not overlooked during the review process.\n",
    "- **Be Constructive**: Provide constructive feedback and suggestions for improvement. Focus on the code, not the person.\n",
    "- **Encourage Discussion**: Encourage open and respectful discussion during the code review process. It's an opportunity for team members to share knowledge and learn from each other.\n",
    "- **Automate Where Possible**: Use automated tools for static code analysis, linting, and testing to catch common issues before the code review process.\n",
    "- **Rotate Reviewers**: Rotate reviewers to ensure that different team members are involved in the code review process and to share knowledge across the team.\n",
    "- **Follow Coding Standards**: Ensure that the code follows consistent coding standards and best practices. Use linters and code formatters to enforce coding standards.\n",
    "- **Document Decisions**: Document decisions made during the code review process to provide context and reasoning for future reference.\n",
    "- **Be Open to Feedback**: Be open to receiving feedback and suggestions for improvement. Code reviews are an opportunity to learn and grow as a developer."
   ]
  },
  {
   "cell_type": "markdown",
   "metadata": {},
   "source": [
    "#### Code Review Tools <a id=\"code-review-tools\"></a>\n",
    "\n",
    "A Code Review Tool is a software application that facilitates the code review process by providing features such as code diffing, commenting, and discussion tracking.\n",
    "\n",
    "- **GitHub Pull Requests**: GitHub provides a built-in code review feature through pull requests. It allows team members to review and discuss code changes before merging them into the main branch.\n",
    "- **GitLab Merge Requests**: GitLab provides a similar code review feature through merge requests. It allows team members to review and discuss code changes before merging them into the main branch.\n",
    "- **Bitbucket Pull Requests**: Bitbucket provides a code review feature through pull requests. It allows team members to review and discuss code changes before merging them into the main branch.\n",
    "- **Gerrit**: An open-source code review tool that integrates with Git. It provides a web-based interface for code reviews and supports features like access control and notifications.\n",
    "- **Phabricator**: An open-source suite of tools for code review, project management, and collaboration. It provides a web-based interface for code reviews and supports features like differential revisions and audit trails.\n",
    "- **Review Board**: An open-source web-based code review tool that supports reviewing code changes, sharing feedback, and tracking issues."
   ]
  }
 ],
 "metadata": {
  "kernelspec": {
   "display_name": "Python 3",
   "language": "python",
   "name": "python3"
  },
  "language_info": {
   "codemirror_mode": {
    "name": "ipython",
    "version": 3
   },
   "file_extension": ".py",
   "mimetype": "text/x-python",
   "name": "python",
   "nbconvert_exporter": "python",
   "pygments_lexer": "ipython3",
   "version": "3.11.7"
  }
 },
 "nbformat": 4,
 "nbformat_minor": 2
}
