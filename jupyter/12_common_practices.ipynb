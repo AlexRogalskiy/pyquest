{
 "cells": [
  {
   "cell_type": "markdown",
   "metadata": {},
   "source": [
    "## Part XII: Common Practices <a id=\"12-common-practices\"></a>"
   ]
  },
  {
   "cell_type": "markdown",
   "metadata": {},
   "source": [
    "### 1. Logging <a id=\"logging\"></a>\n",
    "\n",
    "Logging is a common practice in software development. It is used to record the events that occur in the system. It is useful for debugging and monitoring the system. In Python, the `logging` module is used to log messages.\n",
    "\n",
    "Key components of the `logging` module are:\n",
    "- **Loggers**: They are used to create log records. They are used to log messages.\n",
    "- **Handlers**: They are used to handle the log records. They are used to send the log records to the appropriate destination.\n",
    "- **Formatters**: They are used to format the log records. They are used to format the log records before they are sent to the destination."
   ]
  },
  {
   "cell_type": "code",
   "execution_count": 3,
   "metadata": {},
   "outputs": [
    {
     "name": "stderr",
     "output_type": "stream",
     "text": [
      "INFO:__main__:This is an info message\n"
     ]
    }
   ],
   "source": [
    "import logging\n",
    "\n",
    "# Configure logging\n",
    "logging.basicConfig(\n",
    "    level=logging.INFO, format=\"%(asctime)s - %(name)s - %(levelname)s - %(message)s\"\n",
    ")\n",
    "\n",
    "# Create a logger\n",
    "logger = logging.getLogger(__name__)\n",
    "\n",
    "# Log messages\n",
    "logger.info(\"This is an info message\")"
   ]
  },
  {
   "cell_type": "markdown",
   "metadata": {},
   "source": [
    "#### Logging Levels <a id=\"logging-levels\"></a>\n",
    "\n",
    "The `logging` module provides several logging levels. The following are the most commonly used logging levels:\n",
    "\n",
    "- `DEBUG`: Detailed information, typically of interest only when diagnosing problems.\n",
    "- `INFO`: Confirmation that things are working as expected.\n",
    "- `WARNING`: An indication that something unexpected happened, or indicative of some problem in the near future (e.g. ‘disk space low’). The software is still working as expected.\n",
    "- `ERROR`: Due to a more serious problem, the software has not been able to perform some function.\n",
    "- `CRITICAL`: A serious error, indicating that the program itself may be unable to continue running."
   ]
  },
  {
   "cell_type": "code",
   "execution_count": 2,
   "metadata": {},
   "outputs": [
    {
     "name": "stderr",
     "output_type": "stream",
     "text": [
      "DEBUG:root:This is a debug message\n",
      "INFO:root:This is an info message\n",
      "WARNING:root:This is a warning message\n",
      "ERROR:root:This is an error message\n",
      "CRITICAL:root:This is a critical message\n"
     ]
    }
   ],
   "source": [
    "import logging\n",
    "\n",
    "# Set up basic configuration for logging\n",
    "logging.basicConfig(level=logging.DEBUG)\n",
    "\n",
    "# Examples of logging messages at different levels\n",
    "logging.debug(\"This is a debug message\")\n",
    "logging.info(\"This is an info message\")\n",
    "logging.warning(\"This is a warning message\")\n",
    "logging.error(\"This is an error message\")\n",
    "logging.critical(\"This is a critical message\")\n",
    "\n",
    "# Depending on the level set in basicConfig, some of these messages may not be displayed."
   ]
  },
  {
   "cell_type": "markdown",
   "metadata": {},
   "source": [
    "#### Logging Handlers <a id=\"logging-handlers\"></a>\n",
    "\n",
    "In Python's `logging` framework, handlers are responsible for dispatching the log messages to specific destinations. Each logger can have multiple handlers, allowing it to send logs to multiple outlets, such as the console, files, HTTP servers, or even more complex targets like log management systems.\n",
    "\n",
    "Commonly used handlers are:\n",
    "- `StreamHandler`: Sends log messages to a stream, typically `sys.stderr`.\n",
    "- `FileHandler`: Sends log messages to a file.\n",
    "- `RotatingFileHandler`: Sends log messages to a file, and creates a new file when the current file reaches a certain size.\n",
    "- `TimedRotatingFileHandler`: Sends log messages to a file, and creates a new file at certain intervals.\n",
    "- `SMTPHandler`: Sends log messages to an email address.\n",
    "- `SysLogHandler`: Sends log messages to a Unix syslog daemon.\n",
    "- `HTTPHandler`: Sends log messages to a web server.\n",
    "- `SocketHandler`: Sends log messages to a network socket."
   ]
  },
  {
   "cell_type": "code",
   "execution_count": 1,
   "metadata": {},
   "outputs": [
    {
     "name": "stderr",
     "output_type": "stream",
     "text": [
      "2024-02-12 16:43:41,937 - __main__ - ERROR - This is an error message\n"
     ]
    }
   ],
   "source": [
    "import logging\n",
    "\n",
    "# Create a logger\n",
    "logger = logging.getLogger(__name__)\n",
    "logger.setLevel(logging.DEBUG)  # Set minimum log level\n",
    "\n",
    "# Create a file handler that logs even debug messages\n",
    "file_handler = logging.FileHandler(\"../examples/debug.log\")\n",
    "file_handler.setLevel(logging.DEBUG)\n",
    "\n",
    "# Create a console handler with a higher log level\n",
    "console_handler = logging.StreamHandler()\n",
    "console_handler.setLevel(logging.ERROR)\n",
    "\n",
    "# Create a formatter and set it for both handlers\n",
    "formatter = logging.Formatter(\"%(asctime)s - %(name)s - %(levelname)s - %(message)s\")\n",
    "file_handler.setFormatter(formatter)\n",
    "console_handler.setFormatter(formatter)\n",
    "\n",
    "# Add handlers to the logger\n",
    "logger.addHandler(file_handler)\n",
    "logger.addHandler(console_handler)\n",
    "\n",
    "# Log messages\n",
    "logger.debug(\"This is a debug message\")\n",
    "logger.error(\"This is an error message\")\n",
    "\n",
    "# This setup logs debug and higher level messages to 'debug.log',\n",
    "# but only error and critical messages will appear in the console."
   ]
  },
  {
   "cell_type": "markdown",
   "metadata": {},
   "source": [
    "#### Logging Formatters <a id=\"logging-formatters\"></a>\n",
    "\n",
    "Logging formatters in Python's logging framework are responsible for converting a log message into a specific format before it is output by a handler. The formatter specifies the layout of log messages, allowing developers to include information such as the time of the log message, the log level, the message itself, and other details like the logger's name and the source line number where the log call was made.\n",
    "\n",
    "Common Elements in Log Formats:\n",
    "- `%(asctime)s`: The human-readable time at which the log record was created.\n",
    "- `%(name)s`: The name of the logger used to log the call.\n",
    "- `%(levelname)s`: The textual representation of the logging level (e.g., \"DEBUG\", \"INFO\").\n",
    "- `%(message)s`: The logged message.\n",
    "- Additional elements like `%(filename)s`, `%(lineno)d`, and `%(funcName)s` can include the source file name, line number, and function name, respectively."
   ]
  },
  {
   "cell_type": "code",
   "execution_count": 4,
   "metadata": {},
   "outputs": [
    {
     "name": "stderr",
     "output_type": "stream",
     "text": [
      "2024-02-12 17:03:36,230 - my_logger - DEBUG - This is a debug message\n",
      "DEBUG:my_logger:This is a debug message\n",
      "2024-02-12 17:03:36,232 - my_logger - INFO - This is an info message\n",
      "INFO:my_logger:This is an info message\n"
     ]
    }
   ],
   "source": [
    "import logging\n",
    "\n",
    "# Create a logger\n",
    "logger = logging.getLogger(\"my_logger\")\n",
    "logger.setLevel(logging.DEBUG)\n",
    "\n",
    "# Create a handler\n",
    "stream_handler = logging.StreamHandler()\n",
    "\n",
    "# Create a formatter and set it to the handler\n",
    "formatter = logging.Formatter(\"%(asctime)s - %(name)s - %(levelname)s - %(message)s\")\n",
    "stream_handler.setFormatter(formatter)\n",
    "\n",
    "# Add the handler to the logger\n",
    "logger.addHandler(stream_handler)\n",
    "\n",
    "# Log some messages\n",
    "logger.debug(\"This is a debug message\")\n",
    "logger.info(\"This is an info message\")"
   ]
  },
  {
   "cell_type": "markdown",
   "metadata": {},
   "source": [
    "### 2. Code Style <a id=\"code-style\"></a>\n",
    "\n",
    "Code style is a set of conventions for writing code. It is important to follow a consistent code style to make the code readable and maintainable. Python has a set of conventions for writing code, which is defined in PEP 8. PEP 8 is the official style guide for Python code."
   ]
  },
  {
   "cell_type": "markdown",
   "metadata": {},
   "source": [
    "Example of Good Python Code Style:\n",
    "```python\n",
    "# Import standard libraries first\n",
    "import os\n",
    "import sys\n",
    "\n",
    "# Followed by third-party libraries\n",
    "import requests\n",
    "\n",
    "# Constants are typically named in all uppercase\n",
    "MAX_TIMEOUT = 60\n",
    "\n",
    "class NetworkClient:\n",
    "    \"\"\"Represents a simple network client.\"\"\"\n",
    "\n",
    "    def __init__(self, server_url):\n",
    "        self.server_url = server_url\n",
    "\n",
    "    def fetch_data(self, endpoint):\n",
    "        \"\"\"Fetch data from a specific endpoint.\"\"\"\n",
    "        url = f\"{self.server_url}/{endpoint}\"\n",
    "        response = requests.get(url, timeout=MAX_TIMEOUT)\n",
    "        return response.json()\n",
    "\n",
    "# Use meaningful names and follow PEP 8 spacing conventions\n",
    "def main():\n",
    "    client = NetworkClient(\"https://api.example.com\")\n",
    "    data = client.fetch_data(\"data\")\n",
    "    print(data)\n",
    "\n",
    "if __name__ == \"__main__\":\n",
    "    main()\n",
    "```"
   ]
  },
  {
   "cell_type": "markdown",
   "metadata": {},
   "source": [
    "#### PEP 8 <a id=\"pep-8\"></a>\n",
    "\n",
    "PEP 8, or Python Enhancement Proposal 8, is the style guide for Python code, establishing a set of rules and best practices for formatting Python code. Its primary goal is to improve the readability and consistency of Python code across the vast Python ecosystem. Since Python places a significant emphasis on readability and simplicity, adhering to PEP 8 can make your code more accessible to other Python developers.\n",
    "\n",
    "Key Highlights of PEP 8:\n",
    "- **Indentation**: Use 4 spaces per indentation level. Avoid using tabs, or configure your editor to convert tabs to spaces.\n",
    "- **Line Length**: Limit all lines to a maximum of 79 characters for code and 72 for comments and docstrings to improve readability on smaller displays.\n",
    "- **Imports**: Should be on separate lines and grouped in the following order: standard library imports, related third party imports, and local application/library specific imports, with a blank line between each group.\n",
    "- **Whitespace**: Use whitespace sparingly inside parentheses, brackets, and braces, and around operators. Follow guidelines for where to avoid and where to include space for clarity.\n",
    "- **Naming Conventions**: \n",
    "  - Use `CamelCase` for class names.\n",
    "  - Use lowercase with underscores for functions, methods, and variables.\n",
    "  - Constants should be written in all uppercase with underscores.\n",
    "- **Comments**: Comments should be complete sentences and used sparingly, explaining the rationale for the decision or clarifying complex parts of the code.\n",
    "- **Docstrings**: Use docstrings for all public modules, functions, classes, and methods to describe what they do and how they do it.\n"
   ]
  },
  {
   "cell_type": "markdown",
   "metadata": {},
   "source": [
    "#### Docstrings <a id=\"docstrings\"></a>\n"
   ]
  },
  {
   "cell_type": "markdown",
   "metadata": {},
   "source": [
    "#### Type Annotations <a id=\"type-annotations\"></a>\n"
   ]
  },
  {
   "cell_type": "markdown",
   "metadata": {},
   "source": [
    "#### Linting <a id=\"linting\"></a>\n"
   ]
  },
  {
   "cell_type": "markdown",
   "metadata": {},
   "source": [
    "#### Code Formatters <a id=\"code-formatters\"></a>\n"
   ]
  },
  {
   "cell_type": "markdown",
   "metadata": {},
   "source": [
    "### 3. Environment Management <a id=\"environment-management\"></a>\n"
   ]
  },
  {
   "cell_type": "markdown",
   "metadata": {},
   "source": [
    "#### Virtual Environments <a id=\"virtual-environments\"></a>\n"
   ]
  },
  {
   "cell_type": "markdown",
   "metadata": {},
   "source": [
    "#### Dependency Management <a id=\"dependency-management\"></a>\n"
   ]
  },
  {
   "cell_type": "markdown",
   "metadata": {},
   "source": [
    "#### Package Management <a id=\"package-management\"></a>\n"
   ]
  },
  {
   "cell_type": "markdown",
   "metadata": {},
   "source": [
    "#### Environment Variables <a id=\"environment-variables\"></a>\n"
   ]
  },
  {
   "cell_type": "markdown",
   "metadata": {},
   "source": [
    "### 4. Profiling <a id=\"code-profiling\"></a>\n"
   ]
  },
  {
   "cell_type": "markdown",
   "metadata": {},
   "source": [
    "#### Memory Profiling <a id=\"memory-profiling\"></a>\n"
   ]
  },
  {
   "cell_type": "markdown",
   "metadata": {},
   "source": [
    "#### Performance Profiling <a id=\"performance-profiling\"></a>\n"
   ]
  },
  {
   "cell_type": "markdown",
   "metadata": {},
   "source": [
    "#### Profiling Tools <a id=\"profiling-tools\"></a>\n"
   ]
  },
  {
   "cell_type": "markdown",
   "metadata": {},
   "source": [
    "### 5. Code Review <a id=\"code-review\"></a>\n"
   ]
  },
  {
   "cell_type": "markdown",
   "metadata": {},
   "source": [
    "#### Code Review Tools <a id=\"code-review-tools\"></a>\n"
   ]
  },
  {
   "cell_type": "markdown",
   "metadata": {},
   "source": [
    "#### Code Review Best Practices <a id=\"code-review-best-practices\"></a>"
   ]
  }
 ],
 "metadata": {
  "kernelspec": {
   "display_name": "Python 3",
   "language": "python",
   "name": "python3"
  },
  "language_info": {
   "codemirror_mode": {
    "name": "ipython",
    "version": 3
   },
   "file_extension": ".py",
   "mimetype": "text/x-python",
   "name": "python",
   "nbconvert_exporter": "python",
   "pygments_lexer": "ipython3",
   "version": "3.11.7"
  }
 },
 "nbformat": 4,
 "nbformat_minor": 2
}
