{
 "cells": [
  {
   "cell_type": "markdown",
   "metadata": {},
   "source": [
    "# Part XVI: Python and Data Science <a id=\"16-data-science\"></a>"
   ]
  },
  {
   "cell_type": "markdown",
   "metadata": {},
   "source": [
    "1. [NumPy](#numpy)\n",
    "2. [Pandas](#pandas)\n",
    "3. [Matplotlib](#matplotlib)\n",
    "4. [SciPy](#scipy)\n",
    "5. [Scikit-Learn](#scikit-learn)\n",
    "6. [TensorFlow and Keras](#tensorflow-keras)\n",
    "7. [PyTorch](#pytorch)\n",
    "8. [Jupyter Notebook](#jupyter-notebook)"
   ]
  },
  {
   "cell_type": "markdown",
   "metadata": {},
   "source": [
    "Python is a popular language for data science. It has a rich ecosystem of libraries and tools for data analysis, machine learning, and visualization. "
   ]
  },
  {
   "cell_type": "markdown",
   "metadata": {},
   "source": [
    "## 1. NumPy <a id=\"numpy\"></a>\n",
    "\n",
    "[NumPy](https://numpy.org/), which stands for Numerical Python, is a fundamental package for scientific computing in Python. It provides support for large, multi-dimensional array and matrix data structures, along with a collection of mathematical functions to operate on these arrays efficiently. NumPy arrays are more efficient than Python's built-in list data structures, especially for large data sets, because they use much less memory and offer faster processing.\n",
    "\n",
    "_Key Features of NumPy:_\n",
    "\n",
    "- **Efficient Array Storage:** NumPy uses contiguous blocks of memory to store data, which allows for efficient storage and manipulation of large datasets.\n",
    "- **Vectorized Operations:** Operations in NumPy are vectorized, meaning they are optimized to work on entire arrays at once, instead of using loops. This leads to significant performance improvements.\n",
    "- **Broadcasting:** NumPy can perform arithmetic operations on arrays of different shapes and sizes through a feature known as broadcasting, which makes code more readable and efficient.\n",
    "- **Mathematical Functions:** It offers a comprehensive collection of mathematical functions to perform operations such as linear algebra, Fourier transforms, and statistics on arrays.\n",
    "- **Integration:** NumPy can easily integrate with a wide range of databases, file formats, and other libraries like SciPy, Pandas, Matplotlib, etc., making it a foundational library for data science in Python.\n",
    "\n",
    "NumPy is an essential library for anyone working in data science, engineering, or any field that requires efficient mathematical computations. Its ability to handle large datasets and perform complex mathematical operations quickly and with minimal code makes it an indispensable tool in the Python programming ecosystem."
   ]
  },
  {
   "cell_type": "code",
   "execution_count": 2,
   "metadata": {},
   "outputs": [
    {
     "name": "stdout",
     "output_type": "stream",
     "text": [
      "Original array: [1 2 3 4 5]\n",
      "Array + 5: [ 6  7  8  9 10]\n",
      "Array * 2: [ 2  4  6  8 10]\n",
      "Multi-dimensional array:\n",
      " [[1 2 3]\n",
      " [4 5 6]]\n",
      "First row: [1 2 3]\n",
      "Second column: [2 5]\n",
      "Mean of all elements: 3.0\n",
      "Standard deviation: 1.4142135623730951\n",
      "Matrix product:\n",
      " [[19 22]\n",
      " [43 50]]\n"
     ]
    }
   ],
   "source": [
    "import numpy as np\n",
    "\n",
    "# Creating a NumPy array\n",
    "arr = np.array([1, 2, 3, 4, 5])\n",
    "\n",
    "# Basic operations\n",
    "print(\"Original array:\", arr)\n",
    "print(\"Array + 5:\", arr + 5)\n",
    "print(\"Array * 2:\", arr * 2)\n",
    "\n",
    "# Multi-dimensional arrays\n",
    "multi_arr = np.array([[1, 2, 3], [4, 5, 6]])\n",
    "print(\"Multi-dimensional array:\\n\", multi_arr)\n",
    "\n",
    "# Array slicing\n",
    "print(\"First row:\", multi_arr[0])\n",
    "print(\"Second column:\", multi_arr[:, 1])\n",
    "\n",
    "# Statistical operations\n",
    "print(\"Mean of all elements:\", np.mean(arr))\n",
    "print(\"Standard deviation:\", np.std(arr))\n",
    "\n",
    "# Linear algebra\n",
    "a = np.array([[1, 2], [3, 4]])\n",
    "b = np.array([[5, 6], [7, 8]])\n",
    "print(\"Matrix product:\\n\", np.dot(a, b))"
   ]
  },
  {
   "cell_type": "markdown",
   "metadata": {},
   "source": [
    "## 2. Pandas <a id=\"pandas\"></a>\n",
    "\n",
    "[Pandas](https://pandas.pydata.org/) is a highly popular Python library for data manipulation and analysis. It provides powerful, easy-to-use data structures and data analysis tools, making it an indispensable tool for data scientists, analysts, and anyone working with data in Python. The core data structures in Pandas are the DataFrame and the Series, which allow for efficient storage and manipulation of tabular data and time series data, respectively.\n",
    "\n",
    "_Key Features of Pandas:_\n",
    "\n",
    "- **DataFrame and Series:** Pandas introduces two main data structures. The DataFrame is a two-dimensional, size-mutable, potentially heterogeneous tabular data structure with labeled axes (rows and columns). A Series, on the other hand, is a one-dimensional labeled array capable of holding any data type.\n",
    "- **Handling of Missing Data:** Pandas is designed to easily detect and handle missing data (NaN values), allowing for easy dropping or filling of missing values.\n",
    "- **Data Manipulation:** It provides extensive functionality for data manipulation, including merging, reshaping, selecting, as well as data cleaning and filtering.\n",
    "- **File I/O:** Pandas supports a wide range of file formats for reading and writing data, including CSV, Excel, SQL databases, JSON, and more, making data exchange straightforward.\n",
    "- **Time Series Analysis:** With built-in functions for resampling, time shifts, and window statistics, Pandas is well-suited for time series analysis.\n",
    "- **Performance:** Underneath, Pandas is built on top of NumPy, making it incredibly fast and efficient for numerical computations, especially for tabular data.\n",
    "\n",
    "Pandas excels in providing a rich set of functionalities for data manipulation and analysis, making it a core library for data science projects in Python. Its ability to work with large datasets, combined with its intuitive syntax and extensive features, makes it an essential tool for data processing and analysis tasks."
   ]
  },
  {
   "cell_type": "code",
   "execution_count": 3,
   "metadata": {},
   "outputs": [
    {
     "name": "stdout",
     "output_type": "stream",
     "text": [
      "DataFrame:\n",
      "    Name  Age      City\n",
      "0   John   28  New York\n",
      "1   Anna   34     Paris\n",
      "2  Peter   29    Berlin\n",
      "3  Linda   32    London\n",
      "\n",
      "Average Age: 30.75\n",
      "\n",
      "People older than 30:\n",
      "    Name  Age    City\n",
      "1   Anna   34   Paris\n",
      "3  Linda   32  London\n"
     ]
    },
    {
     "name": "stderr",
     "output_type": "stream",
     "text": [
      "/var/folders/6r/27vxsf6512zffvpt__9jvmcc0000gn/T/ipykernel_83487/4177702930.py:1: DeprecationWarning: \n",
      "Pyarrow will become a required dependency of pandas in the next major release of pandas (pandas 3.0),\n",
      "(to allow more performant data types, such as the Arrow string type, and better interoperability with other libraries)\n",
      "but was not found to be installed on your system.\n",
      "If this would cause problems for you,\n",
      "please provide us feedback at https://github.com/pandas-dev/pandas/issues/54466\n",
      "        \n",
      "  import pandas as pd  # pip install pandas\n"
     ]
    }
   ],
   "source": [
    "import pandas as pd  # pip install pandas\n",
    "\n",
    "# Create a DataFrame\n",
    "data = {\n",
    "    \"Name\": [\"John\", \"Anna\", \"Peter\", \"Linda\"],\n",
    "    \"Age\": [28, 34, 29, 32],\n",
    "    \"City\": [\"New York\", \"Paris\", \"Berlin\", \"London\"],\n",
    "}\n",
    "df = pd.DataFrame(data)\n",
    "\n",
    "# Display the DataFrame\n",
    "print(\"DataFrame:\")\n",
    "print(df)\n",
    "\n",
    "# Calculate the average age\n",
    "average_age = df[\"Age\"].mean()\n",
    "print(f\"\\nAverage Age: {average_age}\")\n",
    "\n",
    "# Filter rows where Age > 30\n",
    "older_than_30 = df[df[\"Age\"] > 30]\n",
    "print(\"\\nPeople older than 30:\")\n",
    "print(older_than_30)"
   ]
  },
  {
   "cell_type": "markdown",
   "metadata": {},
   "source": [
    "## 3. Matplotlib <a id=\"matplotlib\"></a>\n",
    "\n",
    "[Matplotlib](https://matplotlib.org/) is a powerful plotting library for Python that offers a wide range of static, animated, and interactive visualizations. It is the most widely used Python library for 2D graphics, providing the ability to create high-quality graphs, charts, figures, and plots for publication purposes. Matplotlib is highly customizable and works well with NumPy and Pandas data structures, making it a central tool for data visualization in the Python data science stack.\n",
    "\n",
    "_Key Features of Matplotlib:_\n",
    "\n",
    "- **Versatility:** Matplotlib can generate a wide variety of plots, including line plots, scatter plots, bar charts, histograms, pie charts, stem plots, contour plots, and 3D plots, among others.\n",
    "- **Customization:** Almost every aspect of a plot can be customized, from colors, sizes, labels, and legends to the very layout of the plot, providing fine control over the presentation of data visualizations.\n",
    "- **Integration:** It integrates well with Pandas and NumPy, allowing for easy plotting of data stored in these structures. It can also be used in Jupyter notebooks, enabling interactive plotting in an exploratory data analysis workflow.\n",
    "- **Backends:** Matplotlib supports multiple backends to work across various platforms and output formats, including interactive environments like Jupyter notebooks and web browsers, as well as static image files like PNG, SVG, and PDF.\n",
    "- **Annotation and LaTeX Integration:** It supports annotations and text rendering using LaTeX, making it suitable for academic and scientific publications that require precise mathematical expressions to be displayed.\n",
    "\n",
    "Matplotlib is a foundational library for data visualization in Python, and its extensive capabilities make it an essential tool for anyone working with data. Whether it's creating simple line plots or complex, interactive visualizations, Matplotlib provides the flexibility and power to produce high-quality graphics for data analysis and presentation."
   ]
  },
  {
   "cell_type": "code",
   "execution_count": 4,
   "metadata": {},
   "outputs": [
    {
     "data": {
      "image/png": "[encoded data removed]",
      "text/plain": [
       "<Figure size 500x300 with 1 Axes>"
      ]
     },
     "metadata": {},
     "output_type": "display_data"
    }
   ],
   "source": [
    "import matplotlib.pyplot as plt\n",
    "import numpy as np\n",
    "\n",
    "# Generate 100 values from 0 to 10\n",
    "x = np.linspace(0, 10, 100)\n",
    "\n",
    "# Calculate functions\n",
    "y_linear = 2 * x\n",
    "y_quadratic = 2 * x**2\n",
    "y_cubic = 2 * x**3\n",
    "\n",
    "# Create line plot\n",
    "plt.figure(figsize=(5, 3))\n",
    "plt.plot(x, y_linear, \"-r\", label=\"Linear\")\n",
    "plt.plot(x, y_quadratic, \"--g\", label=\"Quadratic\")\n",
    "plt.plot(x, y_cubic, \":b\", label=\"Cubic\")\n",
    "\n",
    "# Adding title and labels\n",
    "plt.title(\"Simple Plot of Linear, Quadratic, and Cubic Functions\")\n",
    "plt.xlabel(\"X axis\")\n",
    "plt.ylabel(\"Y axis\")\n",
    "\n",
    "# Showing legend\n",
    "plt.legend()\n",
    "\n",
    "# Display the plot\n",
    "plt.show()"
   ]
  },
  {
   "cell_type": "markdown",
   "metadata": {},
   "source": [
    "## 4. SciPy <a id=\"scipy\"></a>\n",
    "\n",
    "[SciPy](https://scipy.org/), short for Scientific Python, is an open-source Python library used for scientific and technical computing. It builds on the capabilities of NumPy, offering a broader range of advanced mathematical functions and algorithms that are essential in various scientific and engineering domains. SciPy is organized into subpackages covering different scientific computing domains, making it a versatile tool for tasks ranging from optimization, integration, interpolation, eigenvalue problems, algebra, Fourier transforms, signal and image processing, ODE (Ordinary Differential Equations) solvers, and more.\n",
    "\n",
    "_Key Features of SciPy:_\n",
    "\n",
    "- **Multidimensional Image Processing:** Through the `ndimage` subpackage, SciPy provides a comprehensive set of image processing and analysis functions.\n",
    "- **Optimization and Fit:** SciPy's `optimize` subpackage includes algorithms for function minimization, root finding, and curve fitting, making it invaluable for data analysis and model calibration.\n",
    "- **Statistical Functions:** The `stats` subpackage offers a wide array of statistical functions and distributions, including probability distributions, statistical tests, and more, supporting statistical analysis and modeling.\n",
    "- **Signal Processing:** Tools for signal processing are available in the `signal` subpackage, which includes filtering, windowing, and waveform generation.\n",
    "- **Linear Algebra:** The `linalg` subpackage provides access to advanced linear algebra routines that extend beyond those available in NumPy, including decomposition and matrix inverse.\n",
    "- **Integration and Differential Equations:** For numerical integration and solving differential equations, SciPy offers dedicated subpackages (`integrate` and `ode`), which include solvers for both ordinary and partial differential equations.\n",
    "\n",
    "SciPy is a powerful library that complements NumPy and provides a wide range of scientific computing capabilities. It is widely used in scientific research, engineering, and data analysis, and its extensive functionality makes it an essential tool for anyone working in these domains."
   ]
  },
  {
   "cell_type": "code",
   "execution_count": 5,
   "metadata": {},
   "outputs": [
    {
     "name": "stdout",
     "output_type": "stream",
     "text": [
      "Result of minimization:   message: Optimization terminated successfully.\n",
      "  success: True\n",
      "   status: 0\n",
      "      fun: -7.945823375615215\n",
      "        x: [-1.306e+00]\n",
      "      nit: 5\n",
      "      jac: [-1.192e-06]\n",
      " hess_inv: [[ 8.589e-02]]\n",
      "     nfev: 12\n",
      "     njev: 6\n",
      "Minimum value found at x = [-1.30644012]\n",
      "Minimum value of the function: -7.945823375615215\n"
     ]
    }
   ],
   "source": [
    "from scipy.optimize import minimize\n",
    "\n",
    "\n",
    "# Define the function we want to minimize\n",
    "def objective_function(x):\n",
    "    return x**2 + 10 * np.sin(x)\n",
    "\n",
    "\n",
    "# Call minimize, starting from an initial guess of 0\n",
    "result = minimize(objective_function, x0=0)\n",
    "\n",
    "print(\"Result of minimization:\", result)\n",
    "print(\"Minimum value found at x =\", result.x)\n",
    "print(\"Minimum value of the function:\", result.fun)"
   ]
  },
  {
   "cell_type": "markdown",
   "metadata": {},
   "source": [
    "## 5. Scikit-Learn <a id=\"scikit-learn\"></a>\n",
    "\n",
    "[Scikit-learn](https://scikit-learn.org/stable/) is an open-source machine learning library for Python that provides simple and efficient tools for data mining and data analysis. It is built on NumPy, SciPy, and matplotlib, offering a comprehensive range of algorithms for classification, regression, clustering, dimensionality reduction, model selection, and preprocessing. Scikit-learn is designed to be accessible and efficient, making it suitable for machine learning newcomers and experts alike. Its consistent API and its documentation's quality have contributed to its wide adoption in both academia and industry.\n",
    "\n",
    "Key Features of Scikit-learn:\n",
    "\n",
    "- **Wide Range of Machine Learning Algorithms:** It includes support for many state-of-the-art machine learning algorithms, including support vector machines, random forests, gradient boosting, k-means, and DBSCAN, among others.\n",
    "- **Tools for Model Selection:** Features like cross-validation and hyperparameter tuning help in selecting the best model and parameters for your data.\n",
    "- **Preprocessing and Feature Selection:** It provides several tools for feature extraction, normalization, and transformation, which are crucial for preparing raw data for machine learning models.\n",
    "- **Pipeline Creation:** The pipeline feature allows for the creation of a chain of transformations and a final estimator, simplifying the process of building and evaluating models.\n",
    "- **Metrics for Model Evaluation:** Scikit-learn offers a wide array of metrics and scoring methods for regression, classification, and clustering tasks, facilitating model evaluation and comparison."
   ]
  },
  {
   "cell_type": "code",
   "execution_count": 6,
   "metadata": {},
   "outputs": [
    {
     "name": "stdout",
     "output_type": "stream",
     "text": [
      "Model accuracy: 100.00%\n"
     ]
    }
   ],
   "source": [
    "from sklearn.datasets import load_iris  # pip install scikit-learn\n",
    "from sklearn.metrics import accuracy_score\n",
    "from sklearn.model_selection import train_test_split\n",
    "from sklearn.neighbors import KNeighborsClassifier\n",
    "from sklearn.pipeline import make_pipeline\n",
    "from sklearn.preprocessing import StandardScaler\n",
    "\n",
    "# Load the Iris dataset\n",
    "iris = load_iris()\n",
    "X, y = iris.data, iris.target\n",
    "\n",
    "# Split the dataset into training and testing sets\n",
    "X_train, X_test, y_train, y_test = train_test_split(\n",
    "    X, y, test_size=0.2, random_state=42\n",
    ")\n",
    "\n",
    "# Create a pipeline that first standardizes the data then applies a KNN classifier\n",
    "pipeline = make_pipeline(StandardScaler(), KNeighborsClassifier(n_neighbors=3))\n",
    "\n",
    "# Train the classifier on the training set\n",
    "pipeline.fit(X_train, y_train)\n",
    "\n",
    "# Predict the labels of the test set\n",
    "y_pred = pipeline.predict(X_test)\n",
    "\n",
    "# Evaluate the classifier\n",
    "accuracy = accuracy_score(y_test, y_pred)\n",
    "print(f\"Model accuracy: {accuracy*100:.2f}%\")"
   ]
  },
  {
   "cell_type": "markdown",
   "metadata": {},
   "source": [
    "## 6. TensorFlow and Keras <a id=\"tensorflow-keras\"></a>\n",
    "\n",
    "TensorFlow and Keras are two key libraries in the Python ecosystem for building and training machine learning models, particularly in the domains of deep learning and artificial intelligence. TensorFlow, developed by the Google Brain team, is a comprehensive, open-source platform for machine learning. Keras, originally a standalone API, is now integrated into TensorFlow as `tf.keras`, making it the default high-level API for building and training neural network models in TensorFlow. This integration combines TensorFlow's scalability and performance with Keras's ease of use and accessibility.\n",
    "\n",
    "### TensorFlow\n",
    "\n",
    "[TensorFlow](#https://www.tensorflow.org/) is designed for both research and production, offering a flexible platform for the development of machine learning models. It allows users to create complex deep learning architectures, like convolutional neural networks (CNNs), recurrent neural networks (RNNs), and others. TensorFlow's architecture allows computation to be executed efficiently on various computing platforms, including CPUs, GPUs, and TPUs (Tensor Processing Units).\n",
    "\n",
    "_Key Features of TensorFlow:_\n",
    "\n",
    "- **Graph Execution:** TensorFlow models are represented as computational graphs, facilitating efficient computation, parallelism, and portability.\n",
    "- **Eager Execution:** For immediate iteration and debugging, TensorFlow supports eager execution, allowing operations to be executed dynamically.\n",
    "- **Scalability:** It is designed to scale from running on a single device to running across multiple CPUs, GPUs, or TPUs, making it suitable for both research and production.\n",
    "- **Tooling:** TensorFlow provides a rich ecosystem of tools, including TensorBoard for visualization, TensorFlow Extended (TFX) for production pipelines, and TensorFlow Hub for reusable model components.\n",
    "\n",
    "### Keras\n",
    "\n",
    "[Keras](#https://keras.io/) is a high-level neural networks API that is user-friendly, modular, and extensible. It was developed with a focus on enabling fast experimentation, which is crucial in the research domain. By being integrated into TensorFlow as `tf.keras`, it provides a more streamlined API for model design and training while retaining the ability to access TensorFlow's powerful features when needed.\n",
    "\n",
    "_Key Features of Keras:_\n",
    "\n",
    "- **Model Building:** Keras simplifies the process of building neural networks through its Sequential and Functional APIs, allowing for easy stacking of layers and the creation of complex models.\n",
    "- **Prebuilt Layers and Models:** It offers a wide variety of prebuilt layers and model architectures, making it easy to construct common and advanced neural network structures.\n",
    "- **Training and Evaluation:** Keras provides a simple interface for configuring the training process, including setting the optimizer, loss function, and metrics. It also supports callbacks for monitoring the training process and saving model checkpoints.\n",
    "- **Model Deployment:** Models built with Keras can be easily deployed across a variety of platforms and backends."
   ]
  },
  {
   "cell_type": "code",
   "execution_count": 7,
   "metadata": {},
   "outputs": [],
   "source": [
    "from tensorflow.keras.layers import Dense\n",
    "from tensorflow.keras.models import Sequential\n",
    "\n",
    "\n",
    "# Define a simple sequential model\n",
    "def create_model():\n",
    "    model = Sequential(\n",
    "        [\n",
    "            Dense(128, activation=\"relu\", input_shape=(784,)),  # Input layer\n",
    "            Dense(64, activation=\"relu\"),  # Hidden layer\n",
    "            Dense(10, activation=\"softmax\"),  # Output layer\n",
    "        ]\n",
    "    )\n",
    "\n",
    "    model.compile(\n",
    "        optimizer=\"adam\", loss=\"sparse_categorical_crossentropy\", metrics=[\"accuracy\"]\n",
    "    )\n",
    "    return model\n",
    "\n",
    "\n",
    "# Create the model\n",
    "model = create_model()\n",
    "\n",
    "# Assume X_train, y_train, X_test, y_test are preloaded data and labels\n",
    "# model.fit(X_train, y_train, epochs=10)\n",
    "# model.evaluate(X_test, y_test)"
   ]
  },
  {
   "cell_type": "markdown",
   "metadata": {},
   "source": [
    "## 7. PyTorch <a id=\"pytorch\"></a>\n",
    "\n",
    "[PyTorch](https://pytorch.org/) is an open-source machine learning library developed by Facebook's AI Research lab (FAIR) that provides a flexible and intuitive framework for deep learning research and application development. It is particularly known for its ease of use, computational efficiency, and dynamic computational graph that allows for flexible model architecture design. PyTorch has gained widespread popularity in the research community and industry for its simplicity, accessibility, and deep integration with the Python programming language.\n",
    "\n",
    "_Key Features of PyTorch:_\n",
    "\n",
    "- **Dynamic Computational Graph:** PyTorch uses a dynamic computational graph (also known as a define-by-run scheme), which means that the graph is built on the fly as operations are executed. This allows for more intuitive development and debugging, as well as the flexibility to change the graph at runtime.\n",
    "- **Eager Execution:** PyTorch operates in an eager execution mode, which means that operations are executed as they are defined, facilitating interactive computing and simplifying the process of working with dynamic inputs.\n",
    "- **Native Python Integration:** PyTorch is deeply integrated with Python, making it more natural to use for Python developers. It leverages Python's features and libraries, allowing for seamless integration with the Python data science stack.\n",
    "- **Extensive Library Support:** It offers a comprehensive ecosystem of tools and libraries for various tasks such as computer vision (TorchVision), natural language processing (TorchText), and more, providing pre-trained models and utilities to work with different types of data.\n",
    "- **GPU Acceleration:** PyTorch provides straightforward and efficient ways to perform computations on GPUs, significantly speeding up training times for deep learning models.\n",
    "- **Autograd System:** The autograd system in PyTorch automatically calculates gradients, which is essential for backpropagation in neural networks, making it easy to define and train complex models.\n",
    "\n",
    "PyTorch's intuitive design and flexibility make it a favorite tool among researchers and developers for prototyping, developing, and deploying deep learning models. Its dynamic computational graph, combined with the power of GPU acceleration and extensive library ecosystem, enables efficient and effective model development and training."
   ]
  },
  {
   "cell_type": "code",
   "execution_count": 8,
   "metadata": {},
   "outputs": [
    {
     "name": "stdout",
     "output_type": "stream",
     "text": [
      "Loss: 2.289994239807129\n"
     ]
    }
   ],
   "source": [
    "import torch  # pip install torch\n",
    "import torch.nn as nn\n",
    "import torch.optim as optim\n",
    "\n",
    "\n",
    "# Define a simple neural network\n",
    "class SimpleNN(nn.Module):\n",
    "    def __init__(self):\n",
    "        super(SimpleNN, self).__init__()\n",
    "        self.fc1 = nn.Linear(784, 128)  # Input layer to hidden layer\n",
    "        self.fc2 = nn.Linear(128, 64)  # Hidden layer to hidden layer\n",
    "        self.fc3 = nn.Linear(64, 10)  # Hidden layer to output layer\n",
    "\n",
    "    def forward(self, x):\n",
    "        x = torch.relu(self.fc1(x))\n",
    "        x = torch.relu(self.fc2(x))\n",
    "        x = self.fc3(x)\n",
    "        return x\n",
    "\n",
    "\n",
    "# Initialize the neural network\n",
    "model = SimpleNN()\n",
    "\n",
    "# Define the loss function and optimizer\n",
    "criterion = nn.CrossEntropyLoss()\n",
    "optimizer = optim.Adam(model.parameters())\n",
    "\n",
    "# Assume input_tensor and target are preloaded data and labels for training\n",
    "input_tensor = torch.randn(64, 784)  # Example input (batch size of 64)\n",
    "target = torch.randint(0, 10, (64,))  # Example target\n",
    "\n",
    "# Zero the parameter gradients\n",
    "optimizer.zero_grad()\n",
    "\n",
    "# Forward + backward + optimize\n",
    "outputs = model(input_tensor)\n",
    "loss = criterion(outputs, target)\n",
    "loss.backward()\n",
    "optimizer.step()\n",
    "\n",
    "print(f\"Loss: {loss.item()}\")"
   ]
  },
  {
   "cell_type": "markdown",
   "metadata": {},
   "source": [
    "## 7. Jupyter Notebook <a id=\"jupyter-notebook\"></a>\n",
    "\n",
    "_If you are reading this, you are already familiar with Jupyter Notebook! You might have noticed that this notebook is a mix of text and code, and you can run the code and see the output directly in the notebook._\n",
    "\n",
    "[Jupyter Notebook](https://jupyter.org/) is an open-source web application that allows you to create and share documents that contain live code, equations, visualizations, and narrative text. It is widely used in data analysis, scientific research, and machine learning to create and share documents that contain live code, visualizations, and explanatory text. Jupyter Notebooks support over 40 programming languages, including Python, R, Julia, and Scala.\n",
    "\n",
    "_Key Features of Jupyter Notebook:_\n",
    "\n",
    "- **Interactive Computing:** Jupyter Notebooks provide an interactive environment where you can execute code in a step-by-step manner, explore the outcomes, and try different approaches in real-time.\n",
    "- **Rich Media Support:** Notebooks can include rich media elements such as images, videos, LaTeX, and custom HTML. This makes them an excellent tool for creating tutorials, lessons, and lab assignments that are both informative and engaging.\n",
    "- **Extensible:** The Jupyter ecosystem is highly extensible, allowing users to add plug-ins for code completion, themes, widgets, and more. There are also integrations with data science tools and libraries, making it a versatile tool for data analysis.\n",
    "- **Kernel Support:** Jupyter Notebooks run kernels, which are processes that run interactive code in a specific programming language. The ability to use different kernels makes Jupyter a versatile tool for working in multiple programming languages.\n",
    "- **Sharing and Collaboration:** Notebooks can be easily shared using email, Dropbox, GitHub, and the Jupyter Notebook Viewer. This facilitates collaboration between researchers, educators, and data scientists.\n",
    "\n",
    "_How Jupyter Notebooks Work:_\n",
    "\n",
    "A Jupyter Notebook document is structured into a sequence of cells. A cell can contain code, text (using Markdown), mathematics, plots, and rich media. Here's how you typically use Jupyter Notebook:\n",
    "\n",
    "1. **Writing and Executing Code:** You can write code in a cell and execute it, seeing the output of the code directly below the cell. This is particularly useful for data exploration, visualization, and interactive experimentation.\n",
    "2. **Documentation:** Alongside code, you can write explanatory text using Markdown, making your notebook a comprehensive report that explains the rationale behind the code and the conclusions from the data.\n",
    "3. **Visualization:** You can create plots and charts with libraries such as Matplotlib, Plotly, and Seaborn directly within the notebook, allowing for dynamic data visualizations that are integral to the document.\n",
    "4. **Equations:** For scientific computing, Jupyter supports the inclusion of mathematical equations using LaTeX syntax, which is rendered beautifully in the notebook."
   ]
  }
 ],
 "metadata": {
  "kernelspec": {
   "display_name": "Python 3",
   "language": "python",
   "name": "python3"
  },
  "language_info": {
   "codemirror_mode": {
    "name": "ipython",
    "version": 3
   },
   "file_extension": ".py",
   "mimetype": "text/x-python",
   "name": "python",
   "nbconvert_exporter": "python",
   "pygments_lexer": "ipython3",
   "version": "3.11.7"
  }
 },
 "nbformat": 4,
 "nbformat_minor": 2
}
