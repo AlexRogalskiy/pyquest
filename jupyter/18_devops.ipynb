{
 "cells": [
  {
   "cell_type": "markdown",
   "metadata": {},
   "source": [
    "## Part XVIII: DevOps <a id=\"18-devops\"></a>"
   ]
  },
  {
   "cell_type": "markdown",
   "metadata": {},
   "source": [
    "### 1. Git <a id=\"git\"></a>\n",
    "\n",
    "Git is a distributed version control system. It is a tool that helps you to manage your codebase and collaborate with other developers. It is a very powerful tool and is used by many companies and open-source projects. It is a must-have skill for any developer.\n",
    "\n",
    "_Key Concepts:_\n",
    "\n",
    "- **Repository**: A repository is a collection of files and folders that are being tracked by Git. It is a directory that contains all the files and folders that are being tracked by Git. It is also called a repo.\n",
    "- **Commit**: A commit is a snapshot of the repository at a particular point in time. It is a way to save the changes that you have made to the repository. It is like taking a picture of the repository at a particular point in time.\n",
    "- **Branch**: A branch is a way to work on a feature or a bug fix without affecting the main codebase. It is like creating a copy of the repository and working on it separately.\n",
    "- **Merge**: A merge is a way to combine the changes from one branch into another branch. It is like taking the changes from one branch and applying them to another branch.\n",
    "- **Pull Request**: A pull request is a way to ask the owner of a repository to merge your changes into the main codebase. It is like asking the owner of a repository to review your changes and merge them into the main codebase.\n",
    "\n",
    "_Basic Commands:_\n",
    "\n",
    "- `git init`: Initialize a new repository\n",
    "- `git clone`: Clone a repository from a remote server\n",
    "- `git add`: Add files to the staging area\n",
    "- `git commit`: Commit changes to the repository\n",
    "- `git push`: Push changes to a remote server\n",
    "- `git pull`: Pull changes from a remote server\n",
    "- `git branch`: Create a new branch\n",
    "- `git checkout`: Switch to a different branch\n",
    "- `git merge`: Merge changes from one branch into another branch\n",
    "- `git status`: Check the status of the repository\n",
    "- `git log`: View the commit history\n",
    "- `git diff`: View the changes between two commits"
   ]
  },
  {
   "cell_type": "markdown",
   "metadata": {},
   "source": [
    "#### Git Tools <a id=\"git-tools\"></a>\n",
    "\n",
    "1. **GitHub**: A web-based platform for version control and collaboration. It provides a way to host and review code, manage projects, and build software. It is the most popular platform for hosting open-source projects. It is also used by many companies for hosting their private repositories.\n",
    "    \n",
    "    - **GitHub Actions**: A way to automate your workflow. It allows you to build, test, and deploy your code without leaving GitHub.\n",
    "    - **GitHub Pages**: A way to host your website directly from your GitHub repository. It allows you to create a website for your project, documentation, or personal portfolio.\n",
    "    - **GitHub Desktop**: A way to manage your repositories from your desktop. It allows you to clone, commit, and push changes to your repositories without using the command line.\n",
    "\n",
    "2. **GitLab**: A web-based platform for version control and collaboration. It provides a way to host and review code, manage projects, and build software. It is an alternative to GitHub and is used by many companies for hosting their private repositories.\n",
    "    \n",
    "    - **GitLab CI/CD**: A way to automate your workflow. It allows you to build, test, and deploy your code without leaving GitLab.\n",
    "    - **GitLab Pages**: A way to host your website directly from your GitLab repository. It allows you to create a website for your project, documentation, or personal portfolio.\n",
    "\n",
    "3. **Bitbucket**: A web-based platform for version control and collaboration. It provides a way to host and review code, manage projects, and build software. It is an alternative to GitHub and is used by many companies for hosting their private repositories.\n",
    "    \n",
    "    - **Bitbucket Pipelines**: A way to automate your workflow. It allows you to build, test, and deploy your code without leaving Bitbucket.\n",
    "    - **Bitbucket Pages**: A way to host your website directly from your Bitbucket repository. It allows you to create a website for your project, documentation, or personal portfolio."
   ]
  },
  {
   "cell_type": "markdown",
   "metadata": {},
   "source": [
    "#### Branching Models <a id=\"branching-models\"></a>\n",
    "\n",
    "Branching models in Git provide a structured way of managing code development, allowing multiple developers to work on a project simultaneously without interfering with each other’s work. They define how branches are created, used, and integrated back into the main codebase. Here are some of the most widely used Git branching models, each catering to different development workflows and project needs:\n",
    "\n",
    "1. **Feature Branch Workflow**\n",
    "\n",
    "In the feature branch workflow, new features are developed in their own branches instead of the main branch (often called `master` or `main`). This keeps the main branch free from unstable code. Once a feature is complete, it is merged back into the main branch. This model encourages continuous integration practices and is particularly suitable for teams that deploy frequently.\n",
    "\n",
    "2. **Gitflow Workflow**\n",
    "\n",
    "Gitflow is a stricter branching model designed around the project release. This model defines a set of branches for different purposes:\n",
    "- **Main**: Stores the official release history.\n",
    "- **Develop**: Serves as an integration branch for features.\n",
    "- **Feature**: Used to develop new features.\n",
    "- **Release**: Prepares for a new production release, allowing for minor bug fixes and preparation for release.\n",
    "- **Hotfix**: Used to quickly patch production releases.\n",
    "\n",
    "This model is well-suited for projects with scheduled release cycles.\n",
    "\n",
    "3. **Forking Workflow**\n",
    "\n",
    "The forking workflow is often used in open source projects. Contributors do not have direct access to the main repository but can fork the repository, creating their own server-side copy. They can then make changes in their forked repository and submit a pull request to the main repository when they wish to propose changes. This model provides a clean separation between different contributors' changes and the main codebase.\n",
    "\n",
    "4. **Trunk-Based Development**\n",
    "\n",
    "Trunk-based development involves developers working in short-lived branches or directly in the trunk (the main branch) itself. The branches are kept very short-lived, merging back into the trunk often, at least once a day. This encourages a continuous integration environment and reduces the complexity and merge conflicts associated with long-lived branches. It’s suitable for teams emphasizing rapid delivery cycles.\n",
    "\n",
    "5. **Release Flow**\n",
    "\n",
    "Release Flow is a branching strategy optimized for teams using continuous integration and delivery (CI/CD) pipelines. It focuses on creating branches for new features and fixes, which are then merged into a release branch once they’re ready. The release branch is used for final testing before merging into the main branch and deploying to production. It simplifies managing releases while maintaining the flexibility for continuous development.\n",
    "\n",
    "_Choosing the Right Model_\n",
    "\n",
    "The choice of branching model depends on the project's requirements, team size, development practices, and release cycle. Smaller teams might prefer the simplicity of the Feature Branch Workflow or Trunk-Based Development, while larger teams or those with complex release processes might opt for Gitflow or Forking Workflow. It’s important to choose a model that supports your development workflow and enhances your team’s efficiency."
   ]
  },
  {
   "cell_type": "markdown",
   "metadata": {},
   "source": [
    "#### Git Best Practices <a id=\"git-best-practices\"></a>\n",
    "\n",
    "1. **Use Descriptive Commit Messages**: Write clear and descriptive commit messages that explain the purpose of the change. A good commit message helps others understand the context of the change and makes it easier to review and track changes over time.\n",
    "\n",
    "2. **Commit Small and Atomic Changes**: Make small, focused commits that address a single issue or feature. This makes it easier to review and understand the changes. Avoid mixing unrelated changes in a single commit.\n",
    "\n",
    "3. **Use Branches for Feature Development**: Create a new branch for each new feature or bug fix. This keeps the main branch clean and allows you to work on multiple features in parallel without interfering with each other.\n",
    "\n",
    "4. **Rebase Before Merging**: Use `git rebase` to bring your branch up to date with the main branch before merging your changes. This keeps the commit history clean and avoids unnecessary merge commits.\n",
    "\n",
    "5. **Review Code Before Merging**: Use pull requests to review and discuss code changes with your team. Code reviews help catch bugs, improve code quality, and share knowledge among team members.\n",
    "\n",
    "6. **Use Tags for Releases**: Use Git tags to mark specific points in the commit history, such as releases or milestones. This makes it easy to track and reference specific versions of the codebase.\n",
    "\n",
    "7. **Use `.gitignore` to Exclude Unnecessary Files**: Create a `.gitignore` file to exclude unnecessary files and directories from being tracked by Git. This helps keep the repository clean and avoids adding build artifacts, temporary files, and other non-essential files to the repository.\n",
    "\n",
    "8. **Use Git Hooks for Automation**: Git hooks are scripts that run automatically in response to certain events, such as committing, merging, or pushing changes. Use Git hooks to automate tasks such as linting, testing, and formatting code.\n",
    "\n",
    "9. **Document Your Workflow**: Create a `CONTRIBUTING.md` file to document the workflow and guidelines for contributing to the repository. This helps new contributors understand the project's conventions and expectations.\n",
    "\n",
    "10. **Use Git LFS for Large Files**: Git Large File Storage (LFS) is an extension that allows large files to be stored outside the Git repository. Use Git LFS for large binary files, such as images, videos, and datasets, to avoid bloating the repository size."
   ]
  },
  {
   "cell_type": "markdown",
   "metadata": {},
   "source": [
    "### 2. Linux <a id=\"linux\"></a>\n",
    "\n",
    "Linux is a family of open-source Unix-like operating systems based on the Linux kernel. It is widely used in server environments, cloud computing, and embedded systems. Linux is known for its stability, security, and flexibility, and it is the foundation of many popular operating systems, such as Ubuntu, Fedora, and CentOS."
   ]
  },
  {
   "cell_type": "markdown",
   "metadata": {},
   "source": [
    "#### Basic Commands <a id=\"basic-commands\"></a>\n",
    "\n",
    "1. **File and Directory Operations**\n",
    "\n",
    "    - `ls`: List files and directories\n",
    "    - `cd`: Change directory\n",
    "    - `pwd`: Print working directory\n",
    "    - `mkdir`: Create a new directory\n",
    "    - `rmdir`: Remove an empty directory\n",
    "    - `rm`: Remove files or directories\n",
    "    - `cp`: Copy files or directories\n",
    "    - `mv`: Move or rename files or directories\n",
    "\n",
    "2. **File Content Operations**\n",
    "\n",
    "    - `cat`: Concatenate and display file content\n",
    "    - `less`: View file content one page at a time\n",
    "    - `head`: Display the beginning of a file\n",
    "    - `tail`: Display the end of a file\n",
    "    - `grep`: Search for patterns in files\n",
    "\n",
    "3. **File Permission Operations**\n",
    "\n",
    "    - `chmod`: Change file permissions\n",
    "    - `chown`: Change file ownership\n",
    "    - `chgrp`: Change file group ownership\n",
    "\n",
    "4. **Process Management**\n",
    "\n",
    "    - `ps`: Display information about running processes\n",
    "    - `top`: Display real-time system information\n",
    "    - `kill`: Terminate a process\n",
    "    - `killall`: Terminate a process by name\n",
    "\n",
    "5. **User and Group Management**\n",
    "\n",
    "    - `useradd`: Create a new user\n",
    "    - `userdel`: Delete a user\n",
    "    - `usermod`: Modify user account\n",
    "    - `groupadd`: Create a new group\n",
    "    - `groupdel`: Delete a group\n",
    "    - `groupmod`: Modify group account\n",
    "\n",
    "6. **System Information**\n",
    "\n",
    "    - `uname`: Display system information\n",
    "    - `hostname`: Display or set the system's hostname\n",
    "    - `df`: Display disk space usage\n",
    "    - `du`: Display directory space usage\n",
    "\n",
    "7. **Network Operations**\n",
    "\n",
    "    - `ifconfig`: Display or configure network interfaces\n",
    "    - `ping`: Test network connectivity\n",
    "    - `netstat`: Display network statistics\n",
    "    - `ssh`: Secure shell client\n",
    "\n",
    "8. **Package Management**\n",
    "\n",
    "    - `apt`: Advanced Package Tool (Debian-based systems)\n",
    "    - `yum`: Yellowdog Updater Modified (RPM-based systems)\n",
    "    - `dnf`: Dandified Yum (Fedora-based systems)"
   ]
  },
  {
   "cell_type": "markdown",
   "metadata": {},
   "source": [
    "#### File System Hierarchy <a id=\"file-system-hierarchy\"></a>\n",
    "\n",
    "The Linux file system follows a hierarchical structure, with the root directory (`/`) at the top. Here are some of the most important directories in the Linux file system:\n",
    "\n",
    "1. **`/bin`**: Essential command binaries\n",
    "2. **`/boot`**: Boot loader files\n",
    "3. **`/dev`**: Device files\n",
    "4. **`/etc`**: System configuration files\n",
    "5. **`/home`**: User home directories\n",
    "6. **`/lib`**: Shared libraries\n",
    "7. **`/media`**: Removable media\n",
    "8. **`/mnt`**: Mount point for temporary file systems\n",
    "9. **`/opt`**: Optional application software packages\n",
    "10. **`/proc`**: Process information\n",
    "11. **`/root`**: Root user home directory\n",
    "12. **`/run`**: Run-time variable data\n",
    "13. **`/sbin`**: System binaries\n",
    "14. **`/srv`**: Service data\n",
    "15. **`/sys`**: Sysfs file system\n",
    "16. **`/tmp`**: Temporary files\n",
    "17. **`/usr`**: User utilities and applications\n",
    "18. **`/var`**: Variable data"
   ]
  },
  {
   "cell_type": "markdown",
   "metadata": {},
   "source": [
    "#### Shell Scripting <a id=\"shell-scripting\"></a>\n",
    "\n",
    "Shell scripting is a powerful method for automating tasks in Unix-like operating systems, including Linux and macOS. A shell script is a text file containing a sequence of commands that the shell can execute. These scripts can automate repetitive tasks, manage system operations, and more, making them a crucial tool for system administrators and developers.\n",
    "\n",
    "_Basics of Shell Scripting:_\n",
    "\n",
    "- **Shell**: The shell is a command-line interpreter that provides a user interface for the Unix operating system. Common shells include Bash (Bourne Again SHell), Zsh (Z Shell), and Fish, with Bash being the most widely used.\n",
    "\n",
    "- **Script File**: A shell script is written in plain text and must start with a \"shebang\" (`#!`) followed by the path to the shell that should interpret the script. For a Bash script, the first line would be `#!/bin/bash`.\n",
    "\n",
    "- **Executing a Script**: To execute a shell script, you first need to make it executable by running `chmod +x script_name.sh`, and then you can run it by typing `./script_name.sh`.\n",
    "\n",
    "_Key Concepts in Shell Scripting:_\n",
    "\n",
    "- **Variables**: Variables store data that can be used and manipulated within the script. Variables in shell scripting do not require declaration, and they are assigned by simply writing `variable_name=value`.\n",
    "\n",
    "- **Control Structures**: Shell scripts support control structures such as if-else statements, loops (for, while, and until), and case statements, which control the flow of execution based on conditions.\n",
    "\n",
    "- **Functions**: Functions are reusable blocks of code that you can call anywhere in your script. They help in organizing your script and avoiding repetition.\n",
    "\n",
    "- **Parameters and Arguments**: Scripts can accept parameters and arguments from the command line, making them dynamic and flexible. These are accessible inside the script as `$1`, `$2`, ..., with `$0` representing the script's name.\n",
    "\n",
    "- **Input and Output**: Shell scripts can handle input and output operations, redirecting output from a command to a file (`>` or `>>`), reading input from a file (`<`), or using pipes (`|`) to use the output of one command as the input to another."
   ]
  },
  {
   "cell_type": "markdown",
   "metadata": {},
   "source": [
    "```bash\n",
    "#!/bin/bash\n",
    "\n",
    "# Batch file rename\n",
    "\n",
    "PREFIX=\"project_\"\n",
    "DIRECTORY=\"/path/to/directory\"\n",
    "\n",
    "# Loop through all files in the directory\n",
    "for FILE in $DIRECTORY/*\n",
    "do\n",
    "  # Extract the basename of the file\n",
    "  BASENAME=$(basename \"$FILE\")\n",
    "  # Rename the file\n",
    "  mv \"$DIRECTORY/$BASENAME\" \"$DIRECTORY/$PREFIX$BASENAME\"\n",
    "done\n",
    "\n",
    "echo \"All files in $DIRECTORY have been renamed.\"\n",
    "```"
   ]
  },
  {
   "cell_type": "markdown",
   "metadata": {},
   "source": [
    "### 3. Development Lifecycle <a id=\"development-lifecycle\"></a>\n",
    "\n",
    "The development lifecycle refers to the process of building, testing, and deploying software applications. It encompasses various stages, from planning and coding to testing, deployment, and maintenance. DevOps practices aim to streamline and automate the development lifecycle, enabling faster and more reliable software delivery."
   ]
  },
  {
   "cell_type": "markdown",
   "metadata": {},
   "source": [
    "#### SDLC Models <a id=\"sdlc-models\"></a>\n",
    "\n",
    "_Software Development Life Cycle_ (SDLC) models provide a structured approach to software development. Different models cater to various project needs, complexity levels, and team dynamics.\n",
    "\n",
    "_Most Common SDLC Models:_\n",
    "\n",
    "1. **Waterfall Model**: The traditional linear approach to software development, where each phase (requirements, design, implementation, testing, deployment, maintenance) is completed before moving on to the next. It is well-suited for projects with clear and stable requirements.\n",
    "\n",
    "    - **Pros**: Clear and well-defined phases, easy to manage and understand.\n",
    "    - **Cons**: Limited flexibility, late feedback, high risk of failure.\n",
    "\n",
    "2. **Agile Model**: An iterative and incremental approach to software development, where requirements and solutions evolve through the collaborative effort of cross-functional teams. Agile emphasizes flexibility, customer feedback, and continuous improvement.\n",
    "\n",
    "    - **Pros**: Flexibility, customer collaboration, rapid delivery, adaptability to change.\n",
    "    - **Cons**: Lack of predictability, potential for scope creep.\n",
    "\n",
    "The choice of SDLC model depends on the project's requirements, team dynamics, and organizational culture. Agile methodologies are widely adopted due to their flexibility and adaptability to changing requirements. However, some projects, especially those with well-defined and stable requirements, might still benefit from a more traditional approach like the Waterfall model."
   ]
  },
  {
   "cell_type": "markdown",
   "metadata": {},
   "source": [
    "#### Agile <a id=\"agile\"></a>\n",
    "\n",
    "_Agile_ is a set of principles for software development under which requirements and solutions evolve through the collaborative effort of self-organizing and cross-functional teams and their customer/end user. It advocates adaptive planning, evolutionary development, early delivery, and continual improvement, and it encourages flexible responses to change. The Agile Manifesto, introduced in 2001, lays the foundation for Agile software development and consists of four core values and twelve principles.\n",
    "\n",
    "_Four Core Values of Agile_\n",
    "\n",
    "1. **Individuals and interactions** over processes and tools: While processes and tools are important, Agile places a higher value on the people doing the work and how they work together.\n",
    "2. **Working software** over comprehensive documentation: Delivering functional software to the customer is prioritized over detailed documentation.\n",
    "3. **Customer collaboration** over contract negotiation: Agile methodologies favor customer involvement and feedback throughout the development process, rather than negotiation of contract terms at the beginning.\n",
    "4. **Responding to change** over following a plan: Agile methodologies are flexible and responsive to changes, even late in the development process, over following a predetermined plan.\n",
    "\n",
    "_Twelve Principles of Agile Software Development_\n",
    "\n",
    "1. **Customer satisfaction** through early and continuous delivery of valuable software.\n",
    "2. **Welcome changing requirements**, even late in development. Agile processes harness change for the customer's competitive advantage.\n",
    "3. **Deliver working software frequently**, from a couple of weeks to a couple of months, with a preference for the shorter timescale.\n",
    "4. **Business people and developers must work** together daily throughout the project.\n",
    "5. **Build projects around motivated individuals**. Give them the environment and support they need, and trust them to get the job done.\n",
    "6. The most efficient and effective method of conveying information to and within a development team is **face-to-face conversation**.\n",
    "7. **Working software is the primary measure of progress**.\n",
    "8. Agile processes promote **sustainable development**. The sponsors, developers, and users should be able to maintain a constant pace indefinitely.\n",
    "9. **Continuous attention to technical excellence** and good design enhances agility.\n",
    "10. **Simplicity**—the art of maximizing the amount of work not done—is essential.\n",
    "11. The best architectures, requirements, and designs emerge from **self-organizing teams**.\n",
    "12. At regular intervals, the team reflects on how to become **more effective**, then tunes and adjusts its behavior accordingly.\n",
    "\n",
    "_Agile Methodologies:_\n",
    "\n",
    "Several methodologies are associated with Agile, including:\n",
    "\n",
    "- **Scrum**: A framework that divides the project into cycles called Sprints, typically lasting two to four weeks. Scrum employs specific roles (Product Owner, Scrum Master, Development Team), events (Sprint Planning, Daily Stand-up, Sprint Review, Sprint Retrospective), and artifacts (Product Backlog, Sprint Backlog, Increment) to manage the work.\n",
    "\n",
    "- **Kanban**: A visual approach to managing work as it moves through a process. Kanban visualizes both the process (the workflow) and the actual work passing through that process. The goal is to identify potential bottlenecks in your process and fix them so work can flow through it cost-effectively at an optimal speed or throughput.\n",
    "\n",
    "- **Extreme Programming (XP)**: Focuses on customer satisfaction and aims to improve software quality and responsiveness to changing customer requirements. It emphasizes technical practices including continuous integration, automated tests, and pair programming.\n",
    "\n",
    "- **Lean Software Development**: Inspired by lean manufacturing practices and principles, this methodology focuses on delivering value to the customer by eliminating wastage and optimizing the development process.\n",
    "\n",
    "_Benefits of Agile:_\n",
    "\n",
    "- **Flexibility and Adaptivity**: Agile methodologies allow for changes to be made after the initial planning. Re-prioritization and refinements of tasks can be done throughout the project lifecycle.\n",
    "- **Customer Satisfaction**: Continuous delivery of functional software ensures that the product meets the customer's needs more accurately.\n",
    "- **Improved Quality**: By breaking down the project into manageable units, the team can focus on high-quality development, testing, and collaboration.\n",
    "- **Stakeholder Engagement**: Regular check-ins and collaborative planning provide transparency and increase the chances that the final product will meet stakeholders' expectations."
   ]
  },
  {
   "cell_type": "markdown",
   "metadata": {},
   "source": [
    "#### Waterfall <a id=\"waterfall\"></a>\n",
    "\n",
    "The _Waterfall_ model is a sequential and linear approach to software development and project management, where the process flows steadily downwards (like a waterfall) through several distinct phases. This model is one of the earliest methodologies used in software engineering and remains relevant for certain types of projects, particularly those with well-defined requirements and where changes are not expected to occur frequently.\n",
    "\n",
    "_Phases of the Waterfall Model:_\n",
    "\n",
    "The Waterfall model is divided into distinct phases, with each phase having specific deliverables and a review process. The main phases typically include:\n",
    "\n",
    "1. **Requirements Analysis**: This initial phase involves gathering all the detailed requirements for the software from the stakeholders. The requirements are documented thoroughly and serve as the foundation for the subsequent phases.\n",
    "\n",
    "2. **System Design**: Based on the requirements gathered, the system's architecture and design are outlined. This phase defines the overall system architecture and the high-level design of each module.\n",
    "\n",
    "3. **Implementation (Coding)**: During this phase, the actual coding of the software takes place. Developers write code according to the design documents prepared in the previous phase.\n",
    "\n",
    "4. **Integration and Testing**: After coding, the software components are integrated into a complete system, and extensive testing is conducted to find and fix bugs. This phase ensures that the software meets the specified requirements and works as intended.\n",
    "\n",
    "5. **Deployment**: Once the software has been tested and approved for release, it is deployed to the production environment where the end-users can begin to use it.\n",
    "\n",
    "6. **Maintenance**: After deployment, the software enters the maintenance phase, where any necessary updates, patches, and fixes are made to ensure the software continues to operate correctly over time.\n",
    "\n",
    "_Characteristics of the Waterfall Model:_\n",
    "\n",
    "- **Linear and Sequential**: Each phase must be completed before the next one begins, and there is typically no overlap between phases.\n",
    "\n",
    "- **Well-Documented**: The Waterfall model emphasizes thorough documentation at each phase, ensuring that everything from requirements to design specifications is well-documented.\n",
    "\n",
    "- **Easy to Understand and Manage**: The clear, sequential stages make the Waterfall model straightforward to understand and manage, particularly for projects with well-defined requirements.\n",
    "\n",
    "- **Difficult to Incorporate Changes**: Once the project progresses beyond the initial stages, it becomes difficult and costly to go back and make changes.\n",
    "\n",
    "_Advantages:_\n",
    "\n",
    "- Simple and easy to understand and use.\n",
    "- Well-structured and disciplined approach.\n",
    "- Emphasizes documentation and early design clarity.\n",
    "\n",
    "_Disadvantages:_\n",
    "\n",
    "- Inflexible, making it difficult to adapt to changing requirements.\n",
    "- Assumes that all requirements can be identified upfront, which is not always possible.\n",
    "- Late testing phase may lead to the discovery of problems in the requirements or design phases, requiring significant effort to fix.\n",
    "\n",
    "_Ideal Use Cases:_\n",
    "\n",
    "The Waterfall model is best suited for projects where requirements are clear and unlikely to change, the project scope is fixed, and the technology is well-understood. It is often used in construction and manufacturing projects but can also apply to certain types of software development projects where a linear approach is advantageous."
   ]
  },
  {
   "cell_type": "markdown",
   "metadata": {},
   "source": [
    "### 4. CI/CD <a id=\"cicd\"></a>\n"
   ]
  },
  {
   "cell_type": "markdown",
   "metadata": {},
   "source": [
    "#### CI/CD Pipeline <a id=\"cicd-pipeline\"></a>\n"
   ]
  },
  {
   "cell_type": "markdown",
   "metadata": {},
   "source": [
    "#### Jenkins, Travis CI, GitLab CI <a id=\"jenkins-travis-ci-gitlab-ci\"></a>\n"
   ]
  },
  {
   "cell_type": "markdown",
   "metadata": {},
   "source": [
    "### 5. Containers <a id=\"containers\"></a>\n"
   ]
  },
  {
   "cell_type": "markdown",
   "metadata": {},
   "source": [
    "#### Docker <a id=\"docker\"></a>\n"
   ]
  },
  {
   "cell_type": "markdown",
   "metadata": {},
   "source": [
    "#### Kubernetes <a id=\"kubernetes\"></a>\n"
   ]
  },
  {
   "cell_type": "markdown",
   "metadata": {},
   "source": [
    "### 6. Cloud <a id=\"cloud\"></a>\n"
   ]
  },
  {
   "cell_type": "markdown",
   "metadata": {},
   "source": [
    "#### AWS <a id=\"aws\"></a>\n"
   ]
  },
  {
   "cell_type": "markdown",
   "metadata": {},
   "source": [
    "#### Azure <a id=\"azure\"></a>\n"
   ]
  },
  {
   "cell_type": "markdown",
   "metadata": {},
   "source": [
    "#### GCP <a id=\"gcp\"></a>\n"
   ]
  },
  {
   "cell_type": "markdown",
   "metadata": {},
   "source": [
    "#### DigitalOcean <a id=\"digitalocean\"></a>\n"
   ]
  },
  {
   "cell_type": "markdown",
   "metadata": {},
   "source": [
    "### 7. Infrastructure as Code <a id=\"infrastructure-as-code\"></a>\n"
   ]
  },
  {
   "cell_type": "markdown",
   "metadata": {},
   "source": [
    "#### Terraform <a id=\"terraform\"></a>\n"
   ]
  },
  {
   "cell_type": "markdown",
   "metadata": {},
   "source": [
    "#### Ansible <a id=\"ansible\"></a>\n"
   ]
  },
  {
   "cell_type": "markdown",
   "metadata": {},
   "source": [
    "### 8. Monitoring <a id=\"monitoring\"></a>\n"
   ]
  },
  {
   "cell_type": "markdown",
   "metadata": {},
   "source": [
    "#### Prometheus <a id=\"prometheus\"></a>\n"
   ]
  },
  {
   "cell_type": "markdown",
   "metadata": {},
   "source": [
    "#### Grafana <a id=\"grafana\"></a>\n"
   ]
  },
  {
   "cell_type": "markdown",
   "metadata": {},
   "source": [
    "#### ELK Stack <a id=\"elk-stack\"></a>"
   ]
  }
 ],
 "metadata": {
  "kernelspec": {
   "display_name": "Python 3",
   "language": "python",
   "name": "python3"
  },
  "language_info": {
   "codemirror_mode": {
    "name": "ipython",
    "version": 3
   },
   "file_extension": ".py",
   "mimetype": "text/x-python",
   "name": "python",
   "nbconvert_exporter": "python",
   "pygments_lexer": "ipython3",
   "version": "3.11.7"
  }
 },
 "nbformat": 4,
 "nbformat_minor": 2
}
